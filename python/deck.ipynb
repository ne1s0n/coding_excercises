{
 "cells": [
  {
   "cell_type": "markdown",
   "metadata": {},
   "source": [
    "# Foreword\n",
    "\n",
    "In this exercise we'll use [object-oriented programming](https://en.wikipedia.org/wiki/Object-oriented_programming) (OOP). In particular, we'll define and instantiante various [Python classes](https://docs.python.org/3/tutorial/classes.html).\n",
    "\n",
    "These concepts are extensive and it's not possible to explore all aspects of OOP in a single exercise. We'll thus focus on the following key ideas:\n",
    "\n",
    "* a \"class\" is the generic description of an entity. E.g. dogs have age, fur colors, and can bark\n",
    "* an \"object\" is a specific instance of a class. E.g. my dog has an age (3), a fur color (white) and when barks it speaks Italian (\"Bau bau!\")\n",
    "\n",
    "From the Python perspective:\n",
    "\n",
    "* a class is defined via the keyword \"class\"\n",
    "* class data are called **attributes** and are basically variables contained in a class\n",
    "* class capabilities are called **methods** and are basically functions contained in a class"
   ]
  },
  {
   "cell_type": "markdown",
   "metadata": {},
   "source": [
    "# Assignment\n",
    "\n",
    "Implement a functioning deck of cards."
   ]
  },
  {
   "cell_type": "markdown",
   "metadata": {},
   "source": [
    "# Setup\n",
    "\n",
    "A deck of cards is, in fact, a collection of cards, so the first thing we are going to do is to define a single card.\n",
    "\n",
    "We could describe the physical aspects of a card (size, material, name of manufacturer), but for this exercise we focus on only two aspects: suit and rank. For our perspective these are the only two important pieces of information, which will become *class attributes*.\n",
    "\n",
    "Also, the card *does nothing*. In fact a card is a little more than a container for data. We'll need however to define at least one method: the ``__init__()`` constructor defines what happens when an instance of Card is created.\n",
    "\n",
    "Moreover, it's handy to define the ``__str__()`` method, so that if we haver ``print()`` a Card we'll get a nice string representation and not a memory reference (something like ``<__main__.Card at 0x7fd7bc3f0820>``)."
   ]
  },
  {
   "cell_type": "code",
   "execution_count": null,
   "metadata": {},
   "outputs": [],
   "source": [
    "class Card:\n",
    "    \"\"\"A simple playing card\"\"\"\n",
    "    \n",
    "    #these attributes are common to all playing cards\n",
    "    suite = None\n",
    "    rank = None\n",
    "    \n",
    "    #constructor method to create a new instance of Card class\n",
    "    def __init__(self, suite, rank):\n",
    "        self.suite = suite\n",
    "        self.rank = rank\n",
    "    \n",
    "    #we define a string representation of the class\n",
    "    def __str__(self):\n",
    "        return (str(self.rank) + ' of ' + str(self.suite))"
   ]
  },
  {
   "cell_type": "markdown",
   "metadata": {},
   "source": [
    "We are now ready to create our first object! We'll instantiate it and then print it. "
   ]
  },
  {
   "cell_type": "code",
   "execution_count": null,
   "metadata": {},
   "outputs": [],
   "source": [
    "my_card = Card('spades', 5)\n",
    "print(my_card)"
   ]
  },
  {
   "cell_type": "markdown",
   "metadata": {},
   "source": [
    "Works like a charm!  \n",
    "But it also appears that there's very little limitation on the kind of data it can store. In fact we could do something like:"
   ]
  },
  {
   "cell_type": "code",
   "execution_count": null,
   "metadata": {},
   "outputs": [],
   "source": [
    "my_card = Card('coffee', 82)\n",
    "print(my_card)"
   ]
  },
  {
   "cell_type": "markdown",
   "metadata": {},
   "source": [
    "## French cards - a subclass"
   ]
  },
  {
   "cell_type": "markdown",
   "metadata": {},
   "source": [
    "While 82 coffees sound like a good deal we want our card to store only valid values, and raise an error (an [Exception](https://docs.python.org/3/tutorial/errors.html), in Python lingo) if bad values are provided.\n",
    "\n",
    "There are actually many types of playing cards in the world, but for this example we'll focus on the most common [French playing cards](https://en.wikipedia.org/wiki/French_playing_cards).\n",
    "\n",
    "We could write a new class from scratch that allows only the four suits (spades, diamonds, hearts and clubs) and ranks in the 1-13 range (1-10 + jack, queen and king). But we don't want to throw away what we have already done with the ``Card`` class! It's thus a good moment to use another concept in OOP: [inheritance](https://docs.python.org/3/tutorial/classes.html#inheritance). A ``FrenchCard`` will be a subtype of ``Card`` specialized to contain only valid values. In particular, we'll redefine the constructor so that it checks input values:"
   ]
  },
  {
   "cell_type": "code",
   "execution_count": null,
   "metadata": {},
   "outputs": [],
   "source": [
    "#in brackets: the base class name. In this case: \"Card\"\n",
    "class FrenchCard(Card):\n",
    "    \"\"\"Standard French Card, only some suits and ranks are legal\"\"\"\n",
    "    \n",
    "    #constructor method with restrictions on input values\n",
    "    def __init__(self, suite, rank):\n",
    "        #ensuring suite is a legal value (and a lowercase string)\n",
    "        suite = str(suite).lower()\n",
    "        if suite not in ['spades', 'diamonds', 'hearts', 'clubs']:\n",
    "            raise ValueError('Passed suite is not valid')\n",
    "        \n",
    "        #ensuring rank is an integer in the 1-13 range\n",
    "        rank = int(rank)\n",
    "        if rank < 1 or rank > 13:\n",
    "            raise ValueError('Passed rank is not valid')\n",
    "        \n",
    "        #if we get here we received good values\n",
    "        self.suite = suite\n",
    "        self.rank = rank"
   ]
  },
  {
   "cell_type": "markdown",
   "metadata": {},
   "source": [
    "This is the key of *inheritance*: derived classes can redefine methods of the parent class. Everything else is kept the same.\n",
    "\n",
    "I can now create an instance of ``FrenchCard`` with valid values:"
   ]
  },
  {
   "cell_type": "code",
   "execution_count": null,
   "metadata": {},
   "outputs": [],
   "source": [
    "my_card = FrenchCard('spades', 5)\n",
    "print(my_card)"
   ]
  },
  {
   "cell_type": "markdown",
   "metadata": {},
   "source": [
    "But if I try to feed it non legal card values it results in errors:"
   ]
  },
  {
   "cell_type": "code",
   "execution_count": null,
   "metadata": {},
   "outputs": [],
   "source": [
    "#these instruction would cause errors and are not executed\n",
    "if False:    \n",
    "    #bad suit\n",
    "    my_card = FrenchCard('coffe', 2)\n",
    "    \n",
    "    #bad rank\n",
    "    my_card = FrenchCard('hearts', 20)\n",
    "    \n",
    "    #rank not an integer\n",
    "    my_card = FrenchCard('hearts', 'foobar')"
   ]
  },
  {
   "cell_type": "markdown",
   "metadata": {},
   "source": [
    "## A deck\n",
    "\n",
    "We are now ready to build a functioning deck. Let's list its features:\n",
    "\n",
    "* contains many ``FrenchCard`` objects\n",
    "* can be shuffled\n",
    "* when we pick a card from the deck, the card is returned and removed from the deck\n",
    "* at the beginning the deck contains 52 ordered cards (4 suits x 13 ranks)\n",
    "* it is always possible to ask the deck how many cards it contains\n",
    "\n",
    "These requirements will be translated into object ``attributes`` and ``methods``. The cards will be contained in a simple list, and to shuffle them we'll make use of the [random module](https://docs.python.org/3/library/random.html)."
   ]
  },
  {
   "cell_type": "code",
   "execution_count": null,
   "metadata": {},
   "outputs": [],
   "source": [
    "import random\n",
    "\n",
    "class Deck:\n",
    "    \"\"\"A simple deck of french cards\"\"\"\n",
    "    \n",
    "    #constructor method builds the whole deck, ordered\n",
    "    def __init__(self):\n",
    "        #the list of all cards\n",
    "        self.cards = []\n",
    "        \n",
    "        #creating 52 instances of cards\n",
    "        for suite in ['spades', 'diamonds', 'hearts', 'clubs']:\n",
    "            for rank in range(1, 14):\n",
    "                self.cards.append(FrenchCard(suite, rank))\n",
    "    \n",
    "    #this method simply shuffles the available cards, and returns nothing\n",
    "    def shuffle(self):\n",
    "        random.shuffle(self.cards)\n",
    "    \n",
    "    #this method removes the first card from the deck and returns it\n",
    "    #(but if the deck is empty returns None)\n",
    "    def pick(self):\n",
    "        if len(self.cards) > 0:\n",
    "            return(self.cards.pop(0))\n",
    "        else:\n",
    "            return(None)\n",
    "    \n",
    "    #defining this method allows to call len() on a Deck instance\n",
    "    def __len__(self):\n",
    "        return (len(self.cards))"
   ]
  },
  {
   "cell_type": "markdown",
   "metadata": {},
   "source": [
    "We have defined the class and are now ready to instantiate it:"
   ]
  },
  {
   "cell_type": "code",
   "execution_count": null,
   "metadata": {},
   "outputs": [],
   "source": [
    "my_deck = Deck()\n",
    "print(\"Brand new deck contains \" + str(len(my_deck)) + \" cards\")"
   ]
  },
  {
   "cell_type": "markdown",
   "metadata": {},
   "source": [
    "At this point the deck has still all the cards. In fact, cards are still in the original order:"
   ]
  },
  {
   "cell_type": "code",
   "execution_count": null,
   "metadata": {},
   "outputs": [],
   "source": [
    "print(my_deck.pick())\n",
    "print(my_deck.pick())\n",
    "print(my_deck.pick())\n",
    "print(\"After three picks we have \" + str(len(my_deck)) + \" cards left\")"
   ]
  },
  {
   "cell_type": "markdown",
   "metadata": {},
   "source": [
    "We can shuffle the deck so that picked cards will be in random order:"
   ]
  },
  {
   "cell_type": "code",
   "execution_count": null,
   "metadata": {},
   "outputs": [],
   "source": [
    "my_deck.shuffle()\n",
    "print(my_deck.pick())\n",
    "print(my_deck.pick())\n",
    "print(my_deck.pick())\n",
    "print(\"After another three picks we have \" + str(len(my_deck)) + \" cards left\")"
   ]
  },
  {
   "cell_type": "markdown",
   "metadata": {},
   "source": [
    "# Next steps...\n",
    "\n",
    "The deck is complete and able to store the cards as expected. This concludes our first, very small OOP exercise. In this exercise we've touched the concept of Python class, attribute, methods and inheritance. There is way more than that, but this will suffice to have an initial idea.\n",
    "\n",
    "We could for sure add more functionality to our deck of cards, for example:\n",
    "\n",
    "* change the way ``FrenchCard`` objects are printed to care of special names of the cards (e.g. \"1 of spades\" could become \"ace of spades\", \"12 of hearts\" could become \"queen of hearts\", and so forth)\n",
    "* pick more than one card from the deck, which instead of a single ``FrenchCard`` could return a list\n",
    "* have a more complex ``Deck`` constructor that accepts a list of cards as input, so instead of starting always from a full 52 cards deck I could start from a subset of another deck. This could be useful if we want to implement a card game and want to simulate a deck being shuffled and then card being distributed to players\n",
    "* add the capability to add cards to the deck - the opposite of pick() - maybe checking to avoid having duplicated cards"
   ]
  }
 ],
 "metadata": {
  "kernelspec": {
   "display_name": "Python 3",
   "language": "python",
   "name": "python3"
  },
  "language_info": {
   "codemirror_mode": {
    "name": "ipython",
    "version": 3
   },
   "file_extension": ".py",
   "mimetype": "text/x-python",
   "name": "python",
   "nbconvert_exporter": "python",
   "pygments_lexer": "ipython3",
   "version": "3.8.5"
  }
 },
 "nbformat": 4,
 "nbformat_minor": 4
}
