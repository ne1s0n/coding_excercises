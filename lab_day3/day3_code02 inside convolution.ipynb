{
  "nbformat": 4,
  "nbformat_minor": 0,
  "metadata": {
    "kernelspec": {
      "display_name": "Python 3",
      "language": "python",
      "name": "python3"
    },
    "language_info": {
      "codemirror_mode": {
        "name": "ipython",
        "version": 3
      },
      "file_extension": ".py",
      "mimetype": "text/x-python",
      "name": "python",
      "nbconvert_exporter": "python",
      "pygments_lexer": "ipython3",
      "version": "3.8.2"
    },
    "colab": {
      "provenance": [],
      "collapsed_sections": [],
      "toc_visible": true
    }
  },
  "cells": [
    {
      "cell_type": "markdown",
      "metadata": {
        "id": "p5MFtkPqlgEF"
      },
      "source": [
        "#Foreword\n",
        "\n",
        "In this lab we are exploring the concept of 2D convolution in the realm of deep learning (the mathematical definition of convolution is slightly different).\n",
        "\n",
        "A convolution is an operation between an image and a filter. From the code perspective, both entities are matrices, with the image usually being much bigger than the filter, which \"strides around\" the matrix. The filter has a specific geometrical meaning.\n",
        "\n",
        "Filters ara also called \"kernels\" in some deep learning frameworks."
      ]
    },
    {
      "cell_type": "markdown",
      "metadata": {
        "id": "UQc0WgNcLp3Y"
      },
      "source": [
        "# A simple filter (aka kernel)\n",
        "\n",
        "Let's define a simple 3x3 filter and plot it. Remember the concept of [Colormap in pyploy](https://matplotlib.org/stable/tutorials/colors/colormaps.html) and that you can reverse the main maps [adding \"_r\" to the map name](https://matplotlib.org/stable/api/pyplot_summary.html)."
      ]
    },
    {
      "cell_type": "code",
      "metadata": {
        "id": "niRicromLmW1"
      },
      "source": [
        "import numpy\n",
        "from matplotlib import pyplot\n",
        "\n",
        "filter = numpy.array([[-1, 0, 1], [-1, 0, 1], [-1, 0, 1]])\n",
        "print(filter)\n",
        "pyplot.imshow(filter, cmap = 'Greys_r')"
      ],
      "execution_count": null,
      "outputs": []
    },
    {
      "cell_type": "markdown",
      "metadata": {
        "id": "zmavedmeLxX_"
      },
      "source": [
        "# A simple test image\n",
        "\n",
        "We'll start our convolution on a synthetic image: a black field with two white rectangles."
      ]
    },
    {
      "cell_type": "code",
      "metadata": {
        "id": "_bquLW6jnJSx"
      },
      "source": [
        "#define a 50x50 black image\n",
        "img = numpy.zeros((50, 50))\n",
        "\n",
        "#taking a look\n",
        "pyplot.imshow(img, cmap = 'Greys_r')"
      ],
      "execution_count": null,
      "outputs": []
    },
    {
      "cell_type": "markdown",
      "metadata": {
        "id": "K-ppugwBnU6-"
      },
      "source": [
        "A small support function to programmatically add rectangles to the image."
      ]
    },
    {
      "cell_type": "code",
      "metadata": {
        "id": "hSKIRbexnbji"
      },
      "source": [
        "def draw_rectangle(img, x1, y1, x2, y2, color = 255):\n",
        "    img[x1:(x2+1), y1] = color\n",
        "    img[x1:(x2+1), y2] = color\n",
        "    img[x1, y1:(y2+1)] = color\n",
        "    img[x2, y1:(y2+1)] = color\n",
        "\n",
        "    return(img)"
      ],
      "execution_count": null,
      "outputs": []
    },
    {
      "cell_type": "markdown",
      "metadata": {
        "id": "sRRIVrFRnfXs"
      },
      "source": [
        "Let's test the function."
      ]
    },
    {
      "cell_type": "code",
      "metadata": {
        "id": "hXc70SCwLmW_"
      },
      "source": [
        "#adding two rectangles\n",
        "img = draw_rectangle(img, 10, 10, 30, 40)\n",
        "img = draw_rectangle(img, 5,  20, 45, 35)\n",
        "\n",
        "#taking a look\n",
        "pyplot.imshow(img, cmap = 'Greys_r')"
      ],
      "execution_count": null,
      "outputs": []
    },
    {
      "cell_type": "markdown",
      "metadata": {
        "id": "CCIojp1pMAtr"
      },
      "source": [
        "# Convolution, by hand\n",
        "\n",
        "For this first time let's just do the convolution between our image and the known 3x3 filter. Remember the definition of convolution: a striding window of sums of element-wise multiplications."
      ]
    },
    {
      "cell_type": "code",
      "metadata": {
        "id": "HcY3y9YxLmXG"
      },
      "source": [
        "#original image size\n",
        "w_orig, h_orig = img.shape\n",
        "\n",
        "#size after convolution\n",
        "w = w_orig - 2\n",
        "h = h_orig - 2\n",
        "\n",
        "#room for result\n",
        "res = numpy.zeros((w, h))\n",
        "\n",
        "#two for loops that swipe the whole image\n",
        "for i in range(0, w):\n",
        "    for j in range(0, h):\n",
        "        #extract image subset\n",
        "        piece = img[i:(i+3), j:(j+3)]\n",
        "        \n",
        "        #convolute\n",
        "        conv = sum(sum(piece * filter))\n",
        "        \n",
        "        #store the result\n",
        "        res[i, j] = conv\n",
        "\n",
        "#taking a look\n",
        "print(res.shape)\n",
        "pyplot.imshow(res, cmap = 'Greys_r')"
      ],
      "execution_count": null,
      "outputs": []
    },
    {
      "cell_type": "markdown",
      "metadata": {
        "id": "oPg3EUPQMQ6g"
      },
      "source": [
        "# Let's be smart: a convolution function\n",
        "\n",
        "The previous snippet worked only with the known filter, but we want a general solution. Let's define a function that takes in an image and a filter of any size and returns the convolution result."
      ]
    },
    {
      "cell_type": "code",
      "metadata": {
        "id": "qVesiYqZLmXM"
      },
      "source": [
        "def convolve(img, filter):\n",
        "    #original image size\n",
        "    w_orig, h_orig = img.shape\n",
        "    \n",
        "    #filter size\n",
        "    w_filter, h_filter = filter.shape\n",
        "    \n",
        "    #size after convolution\n",
        "    w = w_orig - (w_filter - 1)\n",
        "    h = h_orig - (h_filter - 1)\n",
        "    \n",
        "    #room for result\n",
        "    res = numpy.zeros((w, h))\n",
        "    \n",
        "    #spanning result image width\n",
        "    for i in range(0, w):\n",
        "        #spanning result image heigth\n",
        "        for j in range(0, h):\n",
        "            #extract image subset\n",
        "            piece = img[i:(i+w_filter), j:(j+h_filter)]\n",
        "\n",
        "            #convolve the selected area and the filter\n",
        "            conv = sum(sum(piece * filter))\n",
        "\n",
        "            #store the result\n",
        "            res[i, j] = conv\n",
        "    \n",
        "    #and we are done\n",
        "    return(res)"
      ],
      "execution_count": null,
      "outputs": []
    },
    {
      "cell_type": "code",
      "metadata": {
        "id": "Mt6sGIfALmXP"
      },
      "source": [
        "pyplot.imshow(convolve(img, filter), cmap = 'Greys_r')"
      ],
      "execution_count": null,
      "outputs": []
    },
    {
      "cell_type": "markdown",
      "metadata": {
        "id": "7oeOhoxcMerh"
      },
      "source": [
        "#Let's work with a true image...\n",
        "\n",
        "Our syntetic image it's easy to understand but can only bring us so far. It's time to apply our convolution to a real image."
      ]
    },
    {
      "cell_type": "code",
      "metadata": {
        "id": "njn8I4foLmXU"
      },
      "source": [
        "img_url = 'https://raw.githubusercontent.com/ne1s0n/coding_excercises/master/data/Ripon_Building_panorama.jpg'\n",
        "\n",
        "import requests          #required for remote access via urls\n",
        "from PIL import Image    # PIL is Pillow Module, for image manipulation\n",
        "from numpy import asarray\n",
        "\n",
        "#requests + numpy: fast image loading\n",
        "response = requests.get(img_url, stream=True) #you may want to check response.status_code\n",
        "img = asarray(Image.open(response.raw))\n",
        "\n",
        "#dimensions of the image\n",
        "print(img.shape)\n",
        "\n",
        "#and let's take a look at it\n",
        "pyplot.imshow(img)"
      ],
      "execution_count": null,
      "outputs": []
    },
    {
      "cell_type": "markdown",
      "metadata": {
        "id": "xI8J3kwvNZ-E"
      },
      "source": [
        "#...but let's keep it simple: only black and white\n",
        "\n",
        "We are still starting to play with convolution, and have the right to simplify the problem. Let's just work with black and white images."
      ]
    },
    {
      "cell_type": "code",
      "metadata": {
        "id": "ShpltIolMt0d"
      },
      "source": [
        "#to B/W\n",
        "img = img.mean(2)\n",
        "\n",
        "#dimensions of the image\n",
        "print(img.shape)\n",
        "\n",
        "#and let's take a look at it\n",
        "pyplot.imshow(img, cmap = 'Greys_r')"
      ],
      "execution_count": null,
      "outputs": []
    },
    {
      "cell_type": "markdown",
      "metadata": {
        "id": "uFcvYhM7qC0q"
      },
      "source": [
        "It's time to test our convolution. Let's print the original image, the filter, and the convolved result side by side. "
      ]
    },
    {
      "cell_type": "code",
      "metadata": {
        "id": "i_LafkbzLmXY"
      },
      "source": [
        "#big figure, default size is tiny in this case and we increase it a bit\n",
        "fig=pyplot.figure(figsize=(10, 15))\n",
        "\n",
        "fig.add_subplot(3,1,1)\n",
        "pyplot.imshow(filter, cmap = 'Greys_r')\n",
        "\n",
        "fig.add_subplot(3,1,2)\n",
        "pyplot.imshow(img, cmap = 'Greys_r')\n",
        "\n",
        "fig.add_subplot(3,1,3)\n",
        "pyplot.imshow(convolve(img, filter), cmap = 'Greys_r')\n",
        "\n",
        "pyplot.show()"
      ],
      "execution_count": null,
      "outputs": []
    },
    {
      "cell_type": "markdown",
      "metadata": {
        "id": "esZwUg8fO-iP"
      },
      "source": [
        "#Another filter!"
      ]
    },
    {
      "cell_type": "code",
      "metadata": {
        "id": "b4wntR5NLmXb"
      },
      "source": [
        "filter2 = numpy.array([[-1, -1, -1], [0, 0, 0], [1, 1, 1]])\n",
        "print(filter2)\n",
        "pyplot.imshow(filter2, cmap = 'Greys_r')"
      ],
      "execution_count": null,
      "outputs": []
    },
    {
      "cell_type": "code",
      "metadata": {
        "id": "OEjEMpL_LmXf"
      },
      "source": [
        "fig=pyplot.figure(figsize=(10, 15))\n",
        "pyplot.imshow(convolve(img, filter2), cmap = 'Greys_r')"
      ],
      "execution_count": null,
      "outputs": []
    },
    {
      "cell_type": "markdown",
      "metadata": {
        "id": "d3I_358kqnmF"
      },
      "source": [
        "# And another, bigger one\n",
        "\n",
        "Our function is not limited to 3x3 filters. Let's feed it a bigger one and let's see what happens."
      ]
    },
    {
      "cell_type": "code",
      "metadata": {
        "id": "KVxTNBxIhBvE"
      },
      "source": [
        "#define the filter\n",
        "filter3 = numpy.array([\n",
        "                       [-1, -1, -1, -1, -1], \n",
        "                       [-1, 0, 0, 0, -1], \n",
        "                       [-1, 0, 1, 0, -1], \n",
        "                       [-1, 0, 0, 0, -1], \n",
        "                       [-1, -1, -1, -1, -1]])\n",
        "\n",
        "#multiplot with filter, original image and convolution\n",
        "fig=pyplot.figure(figsize=(10, 15))\n",
        "\n",
        "fig.add_subplot(3,1,1)\n",
        "pyplot.imshow(filter3, cmap = 'Greys_r')\n",
        "\n",
        "fig.add_subplot(3,1,2)\n",
        "pyplot.imshow(img, cmap = 'Greys_r')\n",
        "\n",
        "fig.add_subplot(3,1,3)\n",
        "pyplot.imshow(convolve(img, filter3), cmap = 'Greys_r')\n",
        "\n",
        "pyplot.show()"
      ],
      "execution_count": null,
      "outputs": []
    },
    {
      "cell_type": "markdown",
      "metadata": {
        "id": "-_YVXcdpsSPG"
      },
      "source": [
        "# Open questions\n",
        "\n",
        "* how to expand the `convolve()` function so that it accepts also a `stride` argument?\n",
        "* what is required to convolve a three channel RGB image? What about an arbitrary number of channels?"
      ]
    }
  ]
}