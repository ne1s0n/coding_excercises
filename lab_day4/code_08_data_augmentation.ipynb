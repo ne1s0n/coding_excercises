{
  "nbformat": 4,
  "nbformat_minor": 0,
  "metadata": {
    "colab": {
      "name": "code_08_data augmentation.ipynb",
      "provenance": [],
      "collapsed_sections": []
    },
    "kernelspec": {
      "name": "python3",
      "display_name": "Python 3"
    }
  },
  "cells": [
    {
      "cell_type": "markdown",
      "metadata": {
        "id": "VL2O39aEyJVn"
      },
      "source": [
        "# Image Data Augmentation using Generators \n",
        "\n",
        "This code is heavily borrowed [from here](https://fairyonice.github.io/Learn-about-ImageDataGenerator.html).\n",
        "\n",
        "Please also refer to [Keras tutorial on image data augmentation](https://blog.keras.io/building-powerful-image-classification-models-using-very-little-data.html)"
      ]
    },
    {
      "cell_type": "markdown",
      "metadata": {
        "id": "NxU7bPk024EK"
      },
      "source": [
        "# Setup"
      ]
    },
    {
      "cell_type": "markdown",
      "metadata": {
        "id": "4Oh4teoY__8K"
      },
      "source": [
        "## Some config"
      ]
    },
    {
      "cell_type": "code",
      "metadata": {
        "id": "U0OertoXy2GR"
      },
      "source": [
        "#an image of a chameleon\n",
        "image_url = 'https://raw.githubusercontent.com/ne1s0n/coding_excercises/master/data/800px-Panther_chameleon_(Furcifer_pardalis)_male_Nosy_Be.jpg'\n",
        "\n",
        "#where to save it, locally\n",
        "img_filename = '/content/cham.jpg'\n",
        "\n",
        "#where to create the augmented data\n",
        "dir_augmented_data = '/content/augmented/'"
      ],
      "execution_count": null,
      "outputs": []
    },
    {
      "cell_type": "markdown",
      "metadata": {
        "id": "9MCUw0Wd3EXq"
      },
      "source": [
        "## Support function\n",
        "\n",
        "The next code block defines a function that:\n",
        "\n",
        "* receives in input a [ImageDataGenerator](https://keras.io/api/preprocessing/image/#imagedatagenerator-class) instance and an image (read via [Keras load_img function](https://keras.io/api/preprocessing/image/#loadimg-function))\n",
        "* invokes the generator on the image via the [.flow()](https://keras.io/api/preprocessing/image/#flow-method) method\n",
        "* plots the original image alongside the augmented versions"
      ]
    },
    {
      "cell_type": "code",
      "metadata": {
        "id": "p7b7MGB6x7yp"
      },
      "source": [
        "import os \n",
        "from keras.preprocessing.image import ImageDataGenerator,  img_to_array, load_img\n",
        "from matplotlib import pyplot as plt\n",
        "\n",
        "def generate_plot_pics(datagen,orig_img):\n",
        "    try:\n",
        "        ## if the preview folder does not exist, create\n",
        "        os.mkdir(dir_augmented_data)\n",
        "    except:\n",
        "        ## if the preview folder exists, then remove\n",
        "        ## the contents (pictures) in the folder\n",
        "        for item in os.listdir(dir_augmented_data):\n",
        "            os.remove(dir_augmented_data + \"/\" + item)\n",
        "\n",
        "    ## convert the original image to array\n",
        "    x = img_to_array(orig_img)\n",
        "    ## reshape (Sampke, Nrow, Ncol, 3) 3 = R, G or B\n",
        "    x = x.reshape((1,) + x.shape)\n",
        "    ## -------------------------- ##\n",
        "    ## randomly generate pictures\n",
        "    ## -------------------------- ##\n",
        "    i = 0\n",
        "    Nplot = 8\n",
        "    for batch in datagen.flow(x,batch_size=1,\n",
        "                          save_to_dir=dir_augmented_data,\n",
        "                          save_prefix=\"pic\",\n",
        "                          save_format='jpeg'):\n",
        "        i += 1\n",
        "        if i > Nplot - 1: ## generate 8 pictures \n",
        "            break\n",
        "\n",
        "    ## -------------------------- ##\n",
        "    ##   plot the generated data\n",
        "    ## -------------------------- ##\n",
        "    fig = plt.figure(figsize=(8, 6))\n",
        "    fig.subplots_adjust(hspace=0.02,wspace=0.01,\n",
        "                    left=0,right=1,bottom=0, top=1)\n",
        "\n",
        "    ## original picture\n",
        "    ax = fig.add_subplot(3, 3, 1,xticks=[],yticks=[])        \n",
        "    ax.imshow(orig_img)\n",
        "    ax.set_title(\"original\")\n",
        "\n",
        "    i = 2\n",
        "    for imgnm in os.listdir(dir_augmented_data):\n",
        "        ax = fig.add_subplot(3, 3, i,xticks=[],yticks=[]) \n",
        "        img = load_img(dir_augmented_data + \"/\" + imgnm)\n",
        "        ax.imshow(img)\n",
        "        i += 1\n",
        "    plt.show()"
      ],
      "execution_count": null,
      "outputs": []
    },
    {
      "cell_type": "markdown",
      "metadata": {
        "id": "bta3nSMR4k9t"
      },
      "source": [
        "# Download the data\n",
        "\n",
        "We use the [requests module](https://requests.readthedocs.io/en/master/) to download the image from a web url to a local directory."
      ]
    },
    {
      "cell_type": "code",
      "metadata": {
        "id": "7YAJtZ-fys4J"
      },
      "source": [
        "import requests\n",
        "\n",
        "#let's create a response object...\n",
        "response = requests.get(image_url, stream=True)\n",
        "\n",
        "#...and do a little check on the available meta-data\n",
        "print(response.status_code)\n",
        "print(response.headers['content-type'])\n",
        "print(response.url)"
      ],
      "execution_count": null,
      "outputs": []
    },
    {
      "cell_type": "markdown",
      "metadata": {
        "id": "MyX1rt6B5gnM"
      },
      "source": [
        "If all went well we should see a 200 status code (= OK). If you see something different (especially codes starting with a 4, such as 404) something bad may have happened and you may want to check the list of [HTTP status codes](https://en.wikipedia.org/wiki/List_of_HTTP_status_codes).\n",
        "\n",
        "It's now time to write the data to local storage."
      ]
    },
    {
      "cell_type": "code",
      "metadata": {
        "id": "S-CmXzCB5Awr"
      },
      "source": [
        "with open(img_filename, 'wb') as f:\n",
        "  #the actual data payload is accessed via .content field\n",
        "  f.write(response.content)"
      ],
      "execution_count": null,
      "outputs": []
    },
    {
      "cell_type": "markdown",
      "metadata": {
        "id": "F7I8Nxw55x0Q"
      },
      "source": [
        "We can now finally load the data via Keras (it actually returns [a PIL object](https://pillow.readthedocs.io/en/3.0.x/handbook/tutorial.html)):"
      ]
    },
    {
      "cell_type": "code",
      "metadata": {
        "id": "PTs1DgYo018C"
      },
      "source": [
        "orig_img = load_img(img_filename)"
      ],
      "execution_count": null,
      "outputs": []
    },
    {
      "cell_type": "markdown",
      "metadata": {
        "id": "noWqIC_QARY6"
      },
      "source": [
        "# Data augmentations"
      ]
    },
    {
      "cell_type": "markdown",
      "metadata": {
        "id": "cXjaJ4rg6JpE"
      },
      "source": [
        "## Flips\n",
        "\n",
        "We instantiate an ImageDataGenerator object with only two active transformations: flips. Feel free to deactivate one (or both) \n"
      ]
    },
    {
      "cell_type": "code",
      "metadata": {
        "id": "HUPVfkPo2D4B"
      },
      "source": [
        "datagen = ImageDataGenerator(horizontal_flip=True, vertical_flip=True)\n",
        "generate_plot_pics(datagen,orig_img)"
      ],
      "execution_count": null,
      "outputs": []
    },
    {
      "cell_type": "markdown",
      "metadata": {
        "id": "UmEknwBSCM1P"
      },
      "source": [
        "## Height shift - fill: constant\n",
        "\n",
        "The image is shifted vertically by a fraction of the height, specified via the parameter `height_shift_range`:\n",
        "\n",
        "* if in [0, 1] : fraction of the image (e.g. 0.3 -> maximum shift in [-30%, +30%] of the image height)\n",
        "* if > 1 : amount of pixels to shift (e.g. 60 -> maximum shift of [-60, +60] pixels)\n",
        "\n",
        "There is an equivalent for horizonal shift, called `width_shift_range`.\n",
        "\n",
        "There are four modes for filling the new area: \"constant\", \"nearest\", \"reflect\" or \"wrap\". In \"constant\" mode the new area is filled with black pixels (or a grey tone, specified via `cval`)."
      ]
    },
    {
      "cell_type": "code",
      "metadata": {
        "id": "8CUUSdUl1Y7e"
      },
      "source": [
        "datagen = ImageDataGenerator(height_shift_range=0.6,fill_mode=\"constant\")\n",
        "generate_plot_pics(datagen,orig_img)"
      ],
      "execution_count": null,
      "outputs": []
    },
    {
      "cell_type": "markdown",
      "metadata": {
        "id": "P3oEoiOcFiHc"
      },
      "source": [
        "## Height shift - fill: nearest"
      ]
    },
    {
      "cell_type": "code",
      "metadata": {
        "id": "0WjDtGAs1lL0"
      },
      "source": [
        "datagen = ImageDataGenerator(height_shift_range=0.6,fill_mode=\"nearest\")\n",
        "generate_plot_pics(datagen,orig_img)"
      ],
      "execution_count": null,
      "outputs": []
    },
    {
      "cell_type": "markdown",
      "metadata": {
        "id": "np-V0bWDFpff"
      },
      "source": [
        "## Height shift - fill: reflect"
      ]
    },
    {
      "cell_type": "code",
      "metadata": {
        "id": "gU61qT2Y1qyg"
      },
      "source": [
        "datagen = ImageDataGenerator(height_shift_range=0.6,fill_mode=\"reflect\")\n",
        "generate_plot_pics(datagen,orig_img)"
      ],
      "execution_count": null,
      "outputs": []
    },
    {
      "cell_type": "markdown",
      "metadata": {
        "id": "hgitxIt_Fw2a"
      },
      "source": [
        "## Height shift - fill: wrap"
      ]
    },
    {
      "cell_type": "code",
      "metadata": {
        "id": "BFJ5bGYk10PE"
      },
      "source": [
        "datagen = ImageDataGenerator(height_shift_range=0.6,fill_mode=\"wrap\")\n",
        "generate_plot_pics(datagen,orig_img)"
      ],
      "execution_count": null,
      "outputs": []
    },
    {
      "cell_type": "markdown",
      "metadata": {
        "id": "IsDbcl-DF8X0"
      },
      "source": [
        "## Rotation"
      ]
    },
    {
      "cell_type": "markdown",
      "metadata": {
        "id": "d7T30PNcGE40"
      },
      "source": [
        "Can you guess the default fill mode?"
      ]
    },
    {
      "cell_type": "code",
      "metadata": {
        "id": "bKOKe4IsF7yv"
      },
      "source": [
        "# rotation_range: Int. Degree range for random rotations.\n",
        "datagen = ImageDataGenerator(rotation_range=180)\n",
        "generate_plot_pics(datagen,orig_img)"
      ],
      "execution_count": null,
      "outputs": []
    },
    {
      "cell_type": "markdown",
      "metadata": {
        "id": "xsF7zydJGZOL"
      },
      "source": [
        "## Shear\n",
        "\n",
        "Shear takes an image like this:\n",
        "\n",
        "```\n",
        "+---------+\n",
        "|         |\n",
        "+---------+\n",
        "```\n",
        "and makes it look like this:\n",
        "\n",
        "```\n",
        "  +---------+\n",
        " /         /\n",
        "+---------+\n",
        "```\n",
        "(plus an extra rotation to keep the most of it into the image boundary)"
      ]
    },
    {
      "cell_type": "code",
      "metadata": {
        "id": "mxWmpVzT12v0"
      },
      "source": [
        "# shear_range, in degrees (0-360). Here we show an extreme example\n",
        "datagen = ImageDataGenerator(shear_range=60)\n",
        "generate_plot_pics(datagen,orig_img)"
      ],
      "execution_count": null,
      "outputs": []
    },
    {
      "cell_type": "markdown",
      "metadata": {
        "id": "rZrI1g5XGTF2"
      },
      "source": [
        "## Zoom\n",
        "\n",
        "Random zoom in the [1-zoom_range, 1+zoom_range] interval. Can be different in the x/y axis."
      ]
    },
    {
      "cell_type": "code",
      "metadata": {
        "id": "EM2QpGSK19Y6"
      },
      "source": [
        "datagen = ImageDataGenerator(zoom_range=0.6)\n",
        "generate_plot_pics(datagen,orig_img)"
      ],
      "execution_count": null,
      "outputs": []
    },
    {
      "cell_type": "markdown",
      "metadata": {
        "id": "Gyi43wlhJKyx"
      },
      "source": [
        "## Brightness adjust: lighter"
      ]
    },
    {
      "cell_type": "markdown",
      "metadata": {
        "id": "oU7XZruHJQH8"
      },
      "source": [
        "Values less than 1.0 darken the image, e.g. [0.5, 1.0], whereas values larger than 1.0 brighten the image, e.g. [1.0, 1.5], where 1.0 has no effect on brightness."
      ]
    },
    {
      "cell_type": "code",
      "metadata": {
        "id": "0tiW0OLDGhOe"
      },
      "source": [
        "datagen = ImageDataGenerator(brightness_range=[1.0, 3.0])\n",
        "generate_plot_pics(datagen,orig_img)"
      ],
      "execution_count": null,
      "outputs": []
    },
    {
      "cell_type": "markdown",
      "metadata": {
        "id": "EiDcNIG1JUOf"
      },
      "source": [
        "## Brightness adjust: darker"
      ]
    },
    {
      "cell_type": "code",
      "metadata": {
        "id": "Fn5usIH-IqoA"
      },
      "source": [
        "datagen = ImageDataGenerator(brightness_range=[0.0, 0.2])\n",
        "generate_plot_pics(datagen,orig_img)"
      ],
      "execution_count": null,
      "outputs": []
    },
    {
      "cell_type": "markdown",
      "metadata": {
        "id": "ZvQExPL_K4Rn"
      },
      "source": [
        "## Putting all together\n",
        "\n",
        "All the previous configs can be activated independently."
      ]
    },
    {
      "cell_type": "code",
      "metadata": {
        "id": "XJCXipncJZWv"
      },
      "source": [
        "datagen = ImageDataGenerator(\n",
        "    horizontal_flip=True,\n",
        "    vertical_flip=True,\n",
        "    fill_mode=\"constant\",\n",
        "    height_shift_range=0.6,\n",
        "    width_shift_range = 0.6,\n",
        "    rotation_range=180,\n",
        "    shear_range=60,\n",
        "    zoom_range=0.6,\n",
        "    brightness_range=[0.1, 3.0])\n",
        "generate_plot_pics(datagen,orig_img)"
      ],
      "execution_count": null,
      "outputs": []
    }
  ]
}