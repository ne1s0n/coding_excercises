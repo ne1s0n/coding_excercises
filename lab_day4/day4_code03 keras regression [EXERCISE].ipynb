{
  "nbformat": 4,
  "nbformat_minor": 0,
  "metadata": {
    "colab": {
      "name": "day4_code03 keras regression [EXERCISE].ipynb",
      "provenance": [],
      "collapsed_sections": [],
      "toc_visible": true
    },
    "kernelspec": {
      "name": "python3",
      "display_name": "Python 3"
    }
  },
  "cells": [
    {
      "cell_type": "markdown",
      "metadata": {
        "id": "l0nH5XpufRUJ"
      },
      "source": [
        "# A neural network model for regression problems\n",
        "\n",
        "We will see here how to use Keras to implement a simple neural network model for a **regression problem** (continuous target variable). \n",
        "For this practical session we are using the [Boston house princing dataset](https://www.cs.toronto.edu/~delve/data/boston/bostonDetail.html), exploring the relationship between house prices (in thousands of dollars) and a series of thirteen numerical properties of houses in Boston suburbs.\n",
        "\n",
        "Fortunately for us, is a very well known dataset, handily included in the [sklearn library](https://scikit-learn.org/stable/modules/generated/sklearn.datasets.load_boston.html)."
      ]
    },
    {
      "cell_type": "markdown",
      "metadata": {
        "id": "lwtDeoiyuo-X"
      },
      "source": [
        "# The usual seed priming"
      ]
    },
    {
      "cell_type": "code",
      "metadata": {
        "id": "1HI3hUEIundz"
      },
      "source": [
        "#general random seed\n",
        "from numpy.random import seed\n",
        "seed(10)\n",
        "\n",
        "#tensorflow-specific seed. If you want to know why\n",
        "#we need to set two separate random seeds see\n",
        "#https://blog.cmgresearch.com/2020/09/04/tensorflow-has-to-random-seeds.html\n",
        "import tensorflow\n",
        "tensorflow.random.set_seed(10)"
      ],
      "execution_count": null,
      "outputs": []
    },
    {
      "cell_type": "markdown",
      "metadata": {
        "id": "S1iAUVwiDd_Z"
      },
      "source": [
        "# Loading libraries and getting the data\n",
        "\n",
        "We first load some necessary libraries and get the data from the `github` repository"
      ]
    },
    {
      "cell_type": "code",
      "metadata": {
        "id": "h2HnsV5C2iXS"
      },
      "source": [
        "import numpy as np\n",
        "import pandas as pd\n",
        "from sklearn import datasets\n",
        "import matplotlib.pyplot as plt\n",
        "\n",
        "#(features, target_variable) = datasets.load_boston(return_X_y=True)\n",
        "boston = datasets.load_boston(return_X_y=False)\n",
        "#for data description and manipulation a pandas dataframe is handier\n",
        "#than a numpy matrix. Moreover, you can always go back using .to_numpy()\n",
        "#method\n",
        "#https://pandas.pydata.org/pandas-docs/stable/reference/api/pandas.DataFrame.to_numpy.html\n",
        "features = pd.DataFrame(boston.data, columns=boston.feature_names)"
      ],
      "execution_count": null,
      "outputs": []
    },
    {
      "cell_type": "markdown",
      "metadata": {
        "id": "p7NeZtClA40o"
      },
      "source": [
        "# Data description"
      ]
    },
    {
      "cell_type": "code",
      "metadata": {
        "id": "PVW7p73eflWH",
        "colab": {
          "base_uri": "https://localhost:8080/",
          "height": 202
        },
        "outputId": "dd581b32-c01e-4308-ae7c-ca883278a06e"
      },
      "source": [
        "features.head()"
      ],
      "execution_count": null,
      "outputs": [
        {
          "output_type": "execute_result",
          "data": {
            "text/html": [
              "<div>\n",
              "<style scoped>\n",
              "    .dataframe tbody tr th:only-of-type {\n",
              "        vertical-align: middle;\n",
              "    }\n",
              "\n",
              "    .dataframe tbody tr th {\n",
              "        vertical-align: top;\n",
              "    }\n",
              "\n",
              "    .dataframe thead th {\n",
              "        text-align: right;\n",
              "    }\n",
              "</style>\n",
              "<table border=\"1\" class=\"dataframe\">\n",
              "  <thead>\n",
              "    <tr style=\"text-align: right;\">\n",
              "      <th></th>\n",
              "      <th>CRIM</th>\n",
              "      <th>ZN</th>\n",
              "      <th>INDUS</th>\n",
              "      <th>CHAS</th>\n",
              "      <th>NOX</th>\n",
              "      <th>RM</th>\n",
              "      <th>AGE</th>\n",
              "      <th>DIS</th>\n",
              "      <th>RAD</th>\n",
              "      <th>TAX</th>\n",
              "      <th>PTRATIO</th>\n",
              "      <th>B</th>\n",
              "      <th>LSTAT</th>\n",
              "    </tr>\n",
              "  </thead>\n",
              "  <tbody>\n",
              "    <tr>\n",
              "      <th>0</th>\n",
              "      <td>0.00632</td>\n",
              "      <td>18.0</td>\n",
              "      <td>2.31</td>\n",
              "      <td>0.0</td>\n",
              "      <td>0.538</td>\n",
              "      <td>6.575</td>\n",
              "      <td>65.2</td>\n",
              "      <td>4.0900</td>\n",
              "      <td>1.0</td>\n",
              "      <td>296.0</td>\n",
              "      <td>15.3</td>\n",
              "      <td>396.90</td>\n",
              "      <td>4.98</td>\n",
              "    </tr>\n",
              "    <tr>\n",
              "      <th>1</th>\n",
              "      <td>0.02731</td>\n",
              "      <td>0.0</td>\n",
              "      <td>7.07</td>\n",
              "      <td>0.0</td>\n",
              "      <td>0.469</td>\n",
              "      <td>6.421</td>\n",
              "      <td>78.9</td>\n",
              "      <td>4.9671</td>\n",
              "      <td>2.0</td>\n",
              "      <td>242.0</td>\n",
              "      <td>17.8</td>\n",
              "      <td>396.90</td>\n",
              "      <td>9.14</td>\n",
              "    </tr>\n",
              "    <tr>\n",
              "      <th>2</th>\n",
              "      <td>0.02729</td>\n",
              "      <td>0.0</td>\n",
              "      <td>7.07</td>\n",
              "      <td>0.0</td>\n",
              "      <td>0.469</td>\n",
              "      <td>7.185</td>\n",
              "      <td>61.1</td>\n",
              "      <td>4.9671</td>\n",
              "      <td>2.0</td>\n",
              "      <td>242.0</td>\n",
              "      <td>17.8</td>\n",
              "      <td>392.83</td>\n",
              "      <td>4.03</td>\n",
              "    </tr>\n",
              "    <tr>\n",
              "      <th>3</th>\n",
              "      <td>0.03237</td>\n",
              "      <td>0.0</td>\n",
              "      <td>2.18</td>\n",
              "      <td>0.0</td>\n",
              "      <td>0.458</td>\n",
              "      <td>6.998</td>\n",
              "      <td>45.8</td>\n",
              "      <td>6.0622</td>\n",
              "      <td>3.0</td>\n",
              "      <td>222.0</td>\n",
              "      <td>18.7</td>\n",
              "      <td>394.63</td>\n",
              "      <td>2.94</td>\n",
              "    </tr>\n",
              "    <tr>\n",
              "      <th>4</th>\n",
              "      <td>0.06905</td>\n",
              "      <td>0.0</td>\n",
              "      <td>2.18</td>\n",
              "      <td>0.0</td>\n",
              "      <td>0.458</td>\n",
              "      <td>7.147</td>\n",
              "      <td>54.2</td>\n",
              "      <td>6.0622</td>\n",
              "      <td>3.0</td>\n",
              "      <td>222.0</td>\n",
              "      <td>18.7</td>\n",
              "      <td>396.90</td>\n",
              "      <td>5.33</td>\n",
              "    </tr>\n",
              "  </tbody>\n",
              "</table>\n",
              "</div>"
            ],
            "text/plain": [
              "      CRIM    ZN  INDUS  CHAS    NOX  ...  RAD    TAX  PTRATIO       B  LSTAT\n",
              "0  0.00632  18.0   2.31   0.0  0.538  ...  1.0  296.0     15.3  396.90   4.98\n",
              "1  0.02731   0.0   7.07   0.0  0.469  ...  2.0  242.0     17.8  396.90   9.14\n",
              "2  0.02729   0.0   7.07   0.0  0.469  ...  2.0  242.0     17.8  392.83   4.03\n",
              "3  0.03237   0.0   2.18   0.0  0.458  ...  3.0  222.0     18.7  394.63   2.94\n",
              "4  0.06905   0.0   2.18   0.0  0.458  ...  3.0  222.0     18.7  396.90   5.33\n",
              "\n",
              "[5 rows x 13 columns]"
            ]
          },
          "metadata": {},
          "execution_count": 186
        }
      ]
    },
    {
      "cell_type": "code",
      "metadata": {
        "id": "mOeaRofAA_yr",
        "colab": {
          "base_uri": "https://localhost:8080/",
          "height": 294
        },
        "outputId": "9924d372-d836-44b9-c2c6-760a32351a1a"
      },
      "source": [
        "#taking a look at the features\n",
        "features.describe()"
      ],
      "execution_count": null,
      "outputs": [
        {
          "output_type": "execute_result",
          "data": {
            "text/html": [
              "<div>\n",
              "<style scoped>\n",
              "    .dataframe tbody tr th:only-of-type {\n",
              "        vertical-align: middle;\n",
              "    }\n",
              "\n",
              "    .dataframe tbody tr th {\n",
              "        vertical-align: top;\n",
              "    }\n",
              "\n",
              "    .dataframe thead th {\n",
              "        text-align: right;\n",
              "    }\n",
              "</style>\n",
              "<table border=\"1\" class=\"dataframe\">\n",
              "  <thead>\n",
              "    <tr style=\"text-align: right;\">\n",
              "      <th></th>\n",
              "      <th>CRIM</th>\n",
              "      <th>ZN</th>\n",
              "      <th>INDUS</th>\n",
              "      <th>CHAS</th>\n",
              "      <th>NOX</th>\n",
              "      <th>RM</th>\n",
              "      <th>AGE</th>\n",
              "      <th>DIS</th>\n",
              "      <th>RAD</th>\n",
              "      <th>TAX</th>\n",
              "      <th>PTRATIO</th>\n",
              "      <th>B</th>\n",
              "      <th>LSTAT</th>\n",
              "    </tr>\n",
              "  </thead>\n",
              "  <tbody>\n",
              "    <tr>\n",
              "      <th>count</th>\n",
              "      <td>506.000000</td>\n",
              "      <td>506.000000</td>\n",
              "      <td>506.000000</td>\n",
              "      <td>506.000000</td>\n",
              "      <td>506.000000</td>\n",
              "      <td>506.000000</td>\n",
              "      <td>506.000000</td>\n",
              "      <td>506.000000</td>\n",
              "      <td>506.000000</td>\n",
              "      <td>506.000000</td>\n",
              "      <td>506.000000</td>\n",
              "      <td>506.000000</td>\n",
              "      <td>506.000000</td>\n",
              "    </tr>\n",
              "    <tr>\n",
              "      <th>mean</th>\n",
              "      <td>3.613524</td>\n",
              "      <td>11.363636</td>\n",
              "      <td>11.136779</td>\n",
              "      <td>0.069170</td>\n",
              "      <td>0.554695</td>\n",
              "      <td>6.284634</td>\n",
              "      <td>68.574901</td>\n",
              "      <td>3.795043</td>\n",
              "      <td>9.549407</td>\n",
              "      <td>408.237154</td>\n",
              "      <td>18.455534</td>\n",
              "      <td>356.674032</td>\n",
              "      <td>12.653063</td>\n",
              "    </tr>\n",
              "    <tr>\n",
              "      <th>std</th>\n",
              "      <td>8.601545</td>\n",
              "      <td>23.322453</td>\n",
              "      <td>6.860353</td>\n",
              "      <td>0.253994</td>\n",
              "      <td>0.115878</td>\n",
              "      <td>0.702617</td>\n",
              "      <td>28.148861</td>\n",
              "      <td>2.105710</td>\n",
              "      <td>8.707259</td>\n",
              "      <td>168.537116</td>\n",
              "      <td>2.164946</td>\n",
              "      <td>91.294864</td>\n",
              "      <td>7.141062</td>\n",
              "    </tr>\n",
              "    <tr>\n",
              "      <th>min</th>\n",
              "      <td>0.006320</td>\n",
              "      <td>0.000000</td>\n",
              "      <td>0.460000</td>\n",
              "      <td>0.000000</td>\n",
              "      <td>0.385000</td>\n",
              "      <td>3.561000</td>\n",
              "      <td>2.900000</td>\n",
              "      <td>1.129600</td>\n",
              "      <td>1.000000</td>\n",
              "      <td>187.000000</td>\n",
              "      <td>12.600000</td>\n",
              "      <td>0.320000</td>\n",
              "      <td>1.730000</td>\n",
              "    </tr>\n",
              "    <tr>\n",
              "      <th>25%</th>\n",
              "      <td>0.082045</td>\n",
              "      <td>0.000000</td>\n",
              "      <td>5.190000</td>\n",
              "      <td>0.000000</td>\n",
              "      <td>0.449000</td>\n",
              "      <td>5.885500</td>\n",
              "      <td>45.025000</td>\n",
              "      <td>2.100175</td>\n",
              "      <td>4.000000</td>\n",
              "      <td>279.000000</td>\n",
              "      <td>17.400000</td>\n",
              "      <td>375.377500</td>\n",
              "      <td>6.950000</td>\n",
              "    </tr>\n",
              "    <tr>\n",
              "      <th>50%</th>\n",
              "      <td>0.256510</td>\n",
              "      <td>0.000000</td>\n",
              "      <td>9.690000</td>\n",
              "      <td>0.000000</td>\n",
              "      <td>0.538000</td>\n",
              "      <td>6.208500</td>\n",
              "      <td>77.500000</td>\n",
              "      <td>3.207450</td>\n",
              "      <td>5.000000</td>\n",
              "      <td>330.000000</td>\n",
              "      <td>19.050000</td>\n",
              "      <td>391.440000</td>\n",
              "      <td>11.360000</td>\n",
              "    </tr>\n",
              "    <tr>\n",
              "      <th>75%</th>\n",
              "      <td>3.677083</td>\n",
              "      <td>12.500000</td>\n",
              "      <td>18.100000</td>\n",
              "      <td>0.000000</td>\n",
              "      <td>0.624000</td>\n",
              "      <td>6.623500</td>\n",
              "      <td>94.075000</td>\n",
              "      <td>5.188425</td>\n",
              "      <td>24.000000</td>\n",
              "      <td>666.000000</td>\n",
              "      <td>20.200000</td>\n",
              "      <td>396.225000</td>\n",
              "      <td>16.955000</td>\n",
              "    </tr>\n",
              "    <tr>\n",
              "      <th>max</th>\n",
              "      <td>88.976200</td>\n",
              "      <td>100.000000</td>\n",
              "      <td>27.740000</td>\n",
              "      <td>1.000000</td>\n",
              "      <td>0.871000</td>\n",
              "      <td>8.780000</td>\n",
              "      <td>100.000000</td>\n",
              "      <td>12.126500</td>\n",
              "      <td>24.000000</td>\n",
              "      <td>711.000000</td>\n",
              "      <td>22.000000</td>\n",
              "      <td>396.900000</td>\n",
              "      <td>37.970000</td>\n",
              "    </tr>\n",
              "  </tbody>\n",
              "</table>\n",
              "</div>"
            ],
            "text/plain": [
              "             CRIM          ZN       INDUS  ...     PTRATIO           B       LSTAT\n",
              "count  506.000000  506.000000  506.000000  ...  506.000000  506.000000  506.000000\n",
              "mean     3.613524   11.363636   11.136779  ...   18.455534  356.674032   12.653063\n",
              "std      8.601545   23.322453    6.860353  ...    2.164946   91.294864    7.141062\n",
              "min      0.006320    0.000000    0.460000  ...   12.600000    0.320000    1.730000\n",
              "25%      0.082045    0.000000    5.190000  ...   17.400000  375.377500    6.950000\n",
              "50%      0.256510    0.000000    9.690000  ...   19.050000  391.440000   11.360000\n",
              "75%      3.677083   12.500000   18.100000  ...   20.200000  396.225000   16.955000\n",
              "max     88.976200  100.000000   27.740000  ...   22.000000  396.900000   37.970000\n",
              "\n",
              "[8 rows x 13 columns]"
            ]
          },
          "metadata": {},
          "execution_count": 187
        }
      ]
    },
    {
      "cell_type": "code",
      "metadata": {
        "id": "-sIQEGu0Ak2E",
        "colab": {
          "base_uri": "https://localhost:8080/",
          "height": 264
        },
        "outputId": "c39ee2ff-f337-4e7f-9475-05f99adddef4"
      },
      "source": [
        "#taking a look at the target variable\n",
        "target_variable = pd.Series(boston.target)\n",
        "plt.hist(target_variable, bins = 15)\n",
        "plt.show()"
      ],
      "execution_count": null,
      "outputs": [
        {
          "output_type": "display_data",
          "data": {
            "image/png": "[encoded data removed]",
            "text/plain": [
              "<Figure size 432x288 with 1 Axes>"
            ]
          },
          "metadata": {}
        }
      ]
    },
    {
      "cell_type": "markdown",
      "metadata": {
        "id": "qKnMwA7ATyFv"
      },
      "source": [
        "# Data preprocessing"
      ]
    },
    {
      "cell_type": "markdown",
      "metadata": {
        "id": "BlxbDIHCr6oJ"
      },
      "source": [
        "## Missing values removal"
      ]
    },
    {
      "cell_type": "markdown",
      "metadata": {
        "id": "Ju6OFDkYpaNu"
      },
      "source": [
        "It's always useful to check if something is missing, since usually regression models don't like missing values."
      ]
    },
    {
      "cell_type": "code",
      "metadata": {
        "id": "0ZSvuQnWr5K5",
        "colab": {
          "base_uri": "https://localhost:8080/"
        },
        "outputId": "d094b80a-06c8-47c3-898d-dea0017b487d"
      },
      "source": [
        "features.isnull().sum()"
      ],
      "execution_count": null,
      "outputs": [
        {
          "output_type": "execute_result",
          "data": {
            "text/plain": [
              "CRIM       0\n",
              "ZN         0\n",
              "INDUS      0\n",
              "CHAS       0\n",
              "NOX        0\n",
              "RM         0\n",
              "AGE        0\n",
              "DIS        0\n",
              "RAD        0\n",
              "TAX        0\n",
              "PTRATIO    0\n",
              "B          0\n",
              "LSTAT      0\n",
              "dtype: int64"
            ]
          },
          "metadata": {},
          "execution_count": 189
        }
      ]
    },
    {
      "cell_type": "markdown",
      "metadata": {
        "id": "SLg360RiM5nj"
      },
      "source": [
        "No values are missing, but just in case the code belows takes care of holes in the features data frame."
      ]
    },
    {
      "cell_type": "code",
      "metadata": {
        "id": "Y0TJQDZPC--D",
        "colab": {
          "base_uri": "https://localhost:8080/"
        },
        "outputId": "98038aca-661c-415e-eb30-1baf671dbb12"
      },
      "source": [
        "#fast way, but only for one data frame...\n",
        "#features = features.dropna()\n",
        "\n",
        "#finding features with at least one missing data point\n",
        "missing = features.isnull().sum(axis = 1) > 0\n",
        "\n",
        "#you cannot simply use the \"not\" operator on a series\n",
        "#it's ambigous. We need to pass through a proper\n",
        "#negation function from numpy\n",
        "not_missing = np.logical_not(missing)\n",
        "\n",
        "#subsetting\n",
        "features = features.loc[not_missing, :]\n",
        "target_variable = target_variable[not_missing]\n",
        "\n",
        "#just checking\n",
        "print(\"Size of target variable: \", target_variable.shape)\n",
        "print(\"Size of feature matrix: \", features.shape)"
      ],
      "execution_count": null,
      "outputs": [
        {
          "output_type": "stream",
          "name": "stdout",
          "text": [
            "Size of target variable:  (506,)\n",
            "Size of feature matrix:  (506, 13)\n"
          ]
        }
      ]
    },
    {
      "cell_type": "markdown",
      "metadata": {
        "id": "B8UGOPjRNPuS"
      },
      "source": [
        "## Discussion: what if we are missing target values?\n",
        "\n",
        "The code above shows us how to remove samples with missing values in the `features` data frame. What if we have missing values in the target array?\n",
        "\n",
        "Pay attention: `target_variable` is a NumPy array. What kind of data should we expect?"
      ]
    },
    {
      "cell_type": "markdown",
      "metadata": {
        "id": "DR0PzRTZC1x0"
      },
      "source": [
        "## Discussion: outliers removal?\n",
        "\n",
        "Should we remove outliers data? If yes, do it in the space below. If no, tell us why."
      ]
    },
    {
      "cell_type": "code",
      "metadata": {
        "id": "z-XcGq-oge2s"
      },
      "source": [
        "######## YOUR CODE HERE ########\n",
        "\n",
        "################################"
      ],
      "execution_count": null,
      "outputs": []
    },
    {
      "cell_type": "markdown",
      "metadata": {
        "id": "r99y-Y0zk6KK"
      },
      "source": [
        "## Discussion/Exercise: data normalization?\n",
        "\n",
        "Should we normalize the features? If yes, do it in the space below. If no, tell us why."
      ]
    },
    {
      "cell_type": "code",
      "metadata": {
        "id": "EwoVhYDvlXmz"
      },
      "source": [
        "######## YOUR CODE HERE ########\n",
        "if False:\n",
        "  #getting mean and standard deviation for train set\n",
        "  avg = features.mean()\n",
        "  std = features.std()\n",
        "\n",
        "  #normalizing\n",
        "  features = (features - avg)/std\n",
        "\n",
        "  #checking if we are doing everything fine\n",
        "  print(pd.DataFrame(features).describe())\n",
        "################################"
      ],
      "execution_count": null,
      "outputs": []
    },
    {
      "cell_type": "markdown",
      "metadata": {
        "id": "m_a2pcQcJ-o5"
      },
      "source": [
        "# Training and validation sets\n",
        "\n",
        "We have a resonable-sized dataset, we can go with one of the standard split-validation cuts, e.g. 10% \n",
        "\n",
        "> **[PRO TIP]** In very small dataset you may be forced to do \"leave one out\" crossvalidation. For N samples you cycle selecting one sample for predictions (this would be your validation set) and keeping N-1 for training. Unfortunately in this case you cannot compute correlations (can you guess why?) and must use error-related metrics like Mean Squared Error.\n",
        "\n",
        "\n"
      ]
    },
    {
      "cell_type": "code",
      "metadata": {
        "id": "PgI8cFrlhwNK",
        "colab": {
          "base_uri": "https://localhost:8080/"
        },
        "outputId": "a69990fe-f131-4fd1-999e-cc5535a717d9"
      },
      "source": [
        "#we import a function to perform the split\n",
        "from sklearn.model_selection import train_test_split\n",
        "\n",
        "features_train, features_val, target_train, target_val = train_test_split(features, target_variable, test_size=0.10)\n",
        "    \n",
        "#let's print some shapes to get an idea of the resulting data structure\n",
        "print(features_train.shape)\n",
        "print(features_val.shape)\n",
        "print(target_train.shape)\n",
        "print(target_val.shape)"
      ],
      "execution_count": null,
      "outputs": [
        {
          "output_type": "stream",
          "name": "stdout",
          "text": [
            "(455, 13)\n",
            "(51, 13)\n",
            "(455,)\n",
            "(51,)\n"
          ]
        }
      ]
    },
    {
      "cell_type": "markdown",
      "metadata": {
        "id": "o93lPZozLjrz"
      },
      "source": [
        "# Building the neural networks model\n",
        "\n",
        "We are now ready to build our neural networks model for regression. First, we set some hyperparameters:\n",
        "\n",
        "- the activation function in the output layer in this case is **linear**: we get directly the results from $\\sum wx + b$ \n",
        "- the loss function is MSE (**Mean Squared Error**)"
      ]
    },
    {
      "cell_type": "code",
      "metadata": {
        "id": "BHjBOQDRLJD1"
      },
      "source": [
        "# Configuration options\n",
        "\n",
        "#Keras wants the data shape as a tuple. In case of images is something \n",
        "#like (image width, image height, number of channels). \n",
        "#In our case data is tabular so each data point is an \n",
        "#array (a row in the table) and we just need to specify \n",
        "#a single number, i.e. the number of columns. However, we still need\n",
        "#to input a tuple, so...\n",
        "input_shape = (features.shape[1],) \n",
        "\n",
        "#other standard features describing our network\n",
        "hidden_nodes = 16\n",
        "hidden_activation = 'relu'\n",
        "output_activation = 'linear'\n",
        "loss_function = 'mean_squared_error'\n",
        "optimizer_used = 'rmsprop'\n",
        "num_epochs = 10"
      ],
      "execution_count": null,
      "outputs": []
    },
    {
      "cell_type": "code",
      "metadata": {
        "id": "VMyVxYiDMINV",
        "colab": {
          "base_uri": "https://localhost:8080/"
        },
        "outputId": "ddfe28e3-6a1a-4f5b-b794-8795d3242035"
      },
      "source": [
        "print(input_shape)"
      ],
      "execution_count": null,
      "outputs": [
        {
          "output_type": "stream",
          "name": "stdout",
          "text": [
            "(13,)\n"
          ]
        }
      ]
    },
    {
      "cell_type": "markdown",
      "metadata": {
        "id": "Q5Hiz909JIRn"
      },
      "source": [
        "As we learnt to do throughout the course, we now use `keras` to build our sequential neural networks model:"
      ]
    },
    {
      "cell_type": "code",
      "metadata": {
        "id": "JI2dJT2AMPSq"
      },
      "source": [
        "#we are building a \"sequential\" model, meaning that the data will \n",
        "#flow like INPUT -> ELABORATION -> OUTPUT.\n",
        "from keras.models import Sequential\n",
        "\n",
        "#a \"dense\" layer is a layer were all the data coming in are connected\n",
        "#to all nodes.\n",
        "from keras.layers import Dense\n",
        "\n",
        "#adding the hidden layer with the required number of nodes, plus the final\n",
        "#layer with a single node (since we want to output a single number)\n",
        "model = Sequential()\n",
        "model.add(Dense(units=hidden_nodes, input_shape=input_shape, activation=hidden_activation))\n",
        "model.add(Dense(1, activation=output_activation))\n",
        "\n",
        "#the model is declared, but we still need to compile it to actually\n",
        "#build all the data structures\n",
        "model.compile(optimizer=optimizer_used, loss=loss_function)"
      ],
      "execution_count": null,
      "outputs": []
    },
    {
      "cell_type": "code",
      "metadata": {
        "id": "KJ5agM7JMVsE",
        "colab": {
          "base_uri": "https://localhost:8080/"
        },
        "outputId": "86a23270-f144-46c2-a4da-bcff78c25120"
      },
      "source": [
        "print(model.summary())"
      ],
      "execution_count": null,
      "outputs": [
        {
          "output_type": "stream",
          "name": "stdout",
          "text": [
            "Model: \"sequential_8\"\n",
            "_________________________________________________________________\n",
            "Layer (type)                 Output Shape              Param #   \n",
            "=================================================================\n",
            "dense_16 (Dense)             (None, 16)                224       \n",
            "_________________________________________________________________\n",
            "dense_17 (Dense)             (None, 1)                 17        \n",
            "=================================================================\n",
            "Total params: 241\n",
            "Trainable params: 241\n",
            "Non-trainable params: 0\n",
            "_________________________________________________________________\n",
            "None\n"
          ]
        }
      ]
    },
    {
      "cell_type": "markdown",
      "metadata": {
        "id": "t0FwozHIJakU"
      },
      "source": [
        "The `model.summary()` tells us that we now have 145 model parameters to learn: \n",
        "\n",
        "- hidden layer: 7 feature weights x 16 units + 16 bias terms $\\rightarrow$ 128 parameters\n",
        "- output layer: 16 unit weights + 1 bias term $\\rightarrow$ 17 parameters  \n",
        "- 128 + 17 = 145 parameters"
      ]
    },
    {
      "cell_type": "markdown",
      "metadata": {
        "id": "KhXMeMyyMbAd"
      },
      "source": [
        "# Training the neural network model"
      ]
    },
    {
      "cell_type": "code",
      "metadata": {
        "id": "2rFoY_ehMf7g"
      },
      "source": [
        "history = model.fit(\n",
        "    features_train, target_train, \n",
        "    epochs=num_epochs, validation_data=(features_val, target_val), verbose = 0)"
      ],
      "execution_count": null,
      "outputs": []
    },
    {
      "cell_type": "code",
      "metadata": {
        "id": "CwVjN65mMo6f",
        "colab": {
          "base_uri": "https://localhost:8080/",
          "height": 298
        },
        "outputId": "fef27c07-513f-4ca4-93b2-e84823c93067"
      },
      "source": [
        "def plot_loss_history(h, title):\n",
        "    plt.plot(h.history['loss'], label = \"Train loss\")\n",
        "    plt.plot(h.history['val_loss'], label = \"Validation loss\")\n",
        "    plt.xlabel('Epochs')\n",
        "    plt.title(title)\n",
        "    plt.legend()\n",
        "    plt.show()\n",
        "\n",
        "plot_loss_history(history, 'Logistic ({} epochs)'.format(num_epochs))"
      ],
      "execution_count": null,
      "outputs": [
        {
          "output_type": "display_data",
          "data": {
            "image/png": "[encoded data removed]",
            "text/plain": [
              "<Figure size 432x288 with 1 Axes>"
            ]
          },
          "metadata": {}
        }
      ]
    },
    {
      "cell_type": "markdown",
      "metadata": {
        "id": "I9cZN6G9MvTc"
      },
      "source": [
        "# Predictions\n",
        "\n",
        "We can now see the predictions our neural networks model produced for the house prices. Below we report also the known target values from the test set "
      ]
    },
    {
      "cell_type": "code",
      "metadata": {
        "id": "3YrKJ0sYMxFK",
        "colab": {
          "base_uri": "https://localhost:8080/"
        },
        "outputId": "4667a656-2f32-42ec-f3cd-42aee1d82875"
      },
      "source": [
        "#predicting, and reporting the shape of the obtained object (also known as y hat)\n",
        "predictions = model.predict(features_val)\n",
        "print(predictions.shape)"
      ],
      "execution_count": null,
      "outputs": [
        {
          "output_type": "stream",
          "name": "stdout",
          "text": [
            "(51, 1)\n"
          ]
        }
      ]
    },
    {
      "cell_type": "code",
      "metadata": {
        "id": "p-l-44KDm_Pq",
        "colab": {
          "base_uri": "https://localhost:8080/"
        },
        "outputId": "f4c1427b-f408-4740-8e49-29a8e3bcb26f"
      },
      "source": [
        "#a couple of print on true target values (also known as y)\n",
        "print(target_val)\n",
        "print(target_val.shape)"
      ],
      "execution_count": null,
      "outputs": [
        {
          "output_type": "stream",
          "name": "stdout",
          "text": [
            "305    28.4\n",
            "193    31.1\n",
            "65     23.5\n",
            "349    26.6\n",
            "151    19.6\n",
            "433    14.3\n",
            "161    50.0\n",
            "129    14.3\n",
            "269    20.7\n",
            "226    37.6\n",
            "107    20.4\n",
            "222    27.5\n",
            "181    36.2\n",
            "275    32.0\n",
            "277    33.1\n",
            "262    48.8\n",
            "325    24.6\n",
            "184    26.4\n",
            "176    23.2\n",
            "154    17.0\n",
            "157    41.3\n",
            "446    14.9\n",
            "114    18.5\n",
            "324    25.0\n",
            "192    36.4\n",
            "336    19.5\n",
            "7      27.1\n",
            "458    14.9\n",
            "282    46.0\n",
            "412    17.9\n",
            "197    30.3\n",
            "227    31.6\n",
            "347    23.1\n",
            "43     24.7\n",
            "476    16.7\n",
            "497    18.3\n",
            "438     8.4\n",
            "291    37.3\n",
            "311    22.1\n",
            "91     22.0\n",
            "228    46.7\n",
            "223    30.1\n",
            "402    12.1\n",
            "194    29.1\n",
            "47     16.6\n",
            "343    23.9\n",
            "361    19.9\n",
            "479    21.4\n",
            "280    45.4\n",
            "24     15.6\n",
            "164    22.7\n",
            "dtype: float64\n",
            "(51,)\n"
          ]
        }
      ]
    },
    {
      "cell_type": "markdown",
      "metadata": {
        "id": "3Jb_stcJLaR7"
      },
      "source": [
        "In regression problems you can not use the same accuracy metrics as in classification problems (e.g. error rate, confusion matrix, etc.): in stead, other metrics are used like:\n",
        "\n",
        "- **Pearson linear correlation**\n",
        "- **Spearman rank correlation**\n",
        "- **RMSE** (root mean squared error)\n",
        "- **MAE** (mean absolute error)\n",
        "- etc. (there are many more)"
      ]
    },
    {
      "cell_type": "code",
      "metadata": {
        "id": "Qhs_MUYANn_r",
        "colab": {
          "base_uri": "https://localhost:8080/"
        },
        "outputId": "ec0c648f-e2b3-4dc1-eddf-cfffc5e7da92"
      },
      "source": [
        "#changing forma to pandas Series, for handiness\n",
        "y_pred = pd.Series(predictions[:,0])\n",
        "y = pd.Series(target_val)\n",
        "\n",
        "#computing correlation\n",
        "accuracy = y.corr(y_pred, method='pearson')\n",
        "print(\"accuracy (measured as Pearson's correlation) is: \", accuracy)"
      ],
      "execution_count": null,
      "outputs": [
        {
          "output_type": "stream",
          "name": "stdout",
          "text": [
            "accuracy (measured as Pearson's correlation) is:  0.582136321905432\n"
          ]
        }
      ]
    },
    {
      "cell_type": "markdown",
      "metadata": {
        "id": "DgMMwGmYC31l"
      },
      "source": [
        "\n",
        "A scatter plot of predicted vs true values can also be useful to visualise the result of the model:\n",
        "\n"
      ]
    },
    {
      "cell_type": "code",
      "metadata": {
        "id": "4UDWONAIO2Ly",
        "colab": {
          "base_uri": "https://localhost:8080/",
          "height": 282
        },
        "outputId": "88930f3c-a364-461d-87a2-520e5e24c3fb"
      },
      "source": [
        "plt.style.use('ggplot')\n",
        "\n",
        "plt.scatter(y, y_pred)\n",
        "#equivalent: plt.plot(y, y_pred, \"o\")\n",
        "\n",
        "# draw the main diagonal, for reference\n",
        "plt.plot([0, 50], [0, 50], color='b')\n",
        "\n",
        "#labelling the axis\n",
        "plt.xlabel(\"observed values\")\n",
        "plt.ylabel(\"predicted values\")\n",
        "\n",
        "plt.show()"
      ],
      "execution_count": null,
      "outputs": [
        {
          "output_type": "display_data",
          "data": {
            "image/png": "[encoded data removed]",
            "text/plain": [
              "<Figure size 432x288 with 1 Axes>"
            ]
          },
          "metadata": {}
        }
      ]
    },
    {
      "cell_type": "code",
      "metadata": {
        "id": "zihYASJUcVgr",
        "colab": {
          "base_uri": "https://localhost:8080/"
        },
        "outputId": "bfc77867-1ad5-4654-9b7e-a5b2e2e90aa6"
      },
      "source": [
        "#Root Mean Square Error\n",
        "print('Root Mean Square Error : ' + str(np.sqrt(sum((y-y_pred)**2)/len(y))))\n",
        "print('Target mean            : ' + str(y.mean()))\n",
        "print('Predictions mean       : ' + str(y_pred.mean()))"
      ],
      "execution_count": null,
      "outputs": [
        {
          "output_type": "stream",
          "name": "stdout",
          "text": [
            "Root Mean Square Error : nan\n",
            "Target mean            : 26.172549019607843\n",
            "Predictions mean       : 17.884374618530273\n"
          ]
        }
      ]
    },
    {
      "cell_type": "code",
      "metadata": {
        "colab": {
          "base_uri": "https://localhost:8080/"
        },
        "id": "IsrK72XNrmno",
        "outputId": "977aa3bb-4261-410b-842f-9f0219b898c0"
      },
      "source": [
        "len(model.layers[0].get_weights()[0])"
      ],
      "execution_count": null,
      "outputs": [
        {
          "output_type": "execute_result",
          "data": {
            "text/plain": [
              "13"
            ]
          },
          "metadata": {},
          "execution_count": 205
        }
      ]
    },
    {
      "cell_type": "markdown",
      "metadata": {
        "id": "7CK3scgQuT6A"
      },
      "source": [
        "# Exercise: improve the network\n",
        "\n",
        "The predictions are not terrible but for sure not excellent. How to improve the performances?"
      ]
    },
    {
      "cell_type": "markdown",
      "metadata": {
        "id": "NKLCA1Vz_pyB"
      },
      "source": [
        "# Extra: first layer weights\n",
        "\n",
        "Explore the weights the network assigns to the first layer, and try to understand if it implements some kind of feature selection.\n",
        "\n",
        "Remember: our network has 16 nodes in the first layer, and 13 input features."
      ]
    },
    {
      "cell_type": "code",
      "metadata": {
        "id": "9wc3wL0d_0-6"
      },
      "source": [
        "#extracting weights and biases\n",
        "first_layer_weights = model.layers[0].get_weights()[0]\n",
        "first_layer_biases  = model.layers[0].get_weights()[1]\n",
        "\n",
        "#and now?"
      ],
      "execution_count": null,
      "outputs": []
    }
  ]
}