{
  "nbformat": 4,
  "nbformat_minor": 0,
  "metadata": {
    "colab": {
      "name": "day4_code03 keras regression [SOLVED].ipynb",
      "provenance": [],
      "collapsed_sections": [
        "BlxbDIHCr6oJ",
        "DR0PzRTZC1x0"
      ],
      "toc_visible": true
    },
    "kernelspec": {
      "name": "python3",
      "display_name": "Python 3"
    },
    "accelerator": "GPU"
  },
  "cells": [
    {
      "cell_type": "markdown",
      "metadata": {
        "id": "l0nH5XpufRUJ"
      },
      "source": [
        "# A neural network model for regression problems\n",
        "\n",
        "We will see here how to use Keras to implement a simple neural network model for a **regression problem** (continuous target variable). \n",
        "For this practical session we are using the [Boston house princing dataset](https://www.cs.toronto.edu/~delve/data/boston/bostonDetail.html), exploring the relationship between house prices (in thousands of dollars) and a series of thirteen numerical properties of houses in Boston suburbs.\n",
        "\n",
        "Fortunately for us, is a very well known dataset, handily included in the [sklearn library](https://scikit-learn.org/stable/modules/generated/sklearn.datasets.load_boston.html)."
      ]
    },
    {
      "cell_type": "markdown",
      "metadata": {
        "id": "lwtDeoiyuo-X"
      },
      "source": [
        "# The usual seed priming"
      ]
    },
    {
      "cell_type": "code",
      "metadata": {
        "id": "1HI3hUEIundz"
      },
      "source": [
        "#general random seed\n",
        "from numpy.random import seed\n",
        "seed(10)\n",
        "\n",
        "#tensorflow-specific seed. If you want to know why\n",
        "#we need to set two separate random seeds see\n",
        "#https://blog.cmgresearch.com/2020/09/04/tensorflow-has-to-random-seeds.html\n",
        "import tensorflow\n",
        "tensorflow.random.set_seed(10)"
      ],
      "execution_count": null,
      "outputs": []
    },
    {
      "cell_type": "markdown",
      "metadata": {
        "id": "S1iAUVwiDd_Z"
      },
      "source": [
        "# Loading libraries and getting the data\n",
        "\n",
        "We first load some necessary libraries and get the data from the `github` repository"
      ]
    },
    {
      "cell_type": "code",
      "metadata": {
        "id": "h2HnsV5C2iXS"
      },
      "source": [
        "import numpy as np\n",
        "import pandas as pd\n",
        "from sklearn import datasets\n",
        "import matplotlib.pyplot as plt\n",
        "\n",
        "(features, target_variable) = datasets.load_boston(return_X_y=True)\n",
        "\n",
        "#for data description and manipulation a pandas dataframe is handier\n",
        "#than a numpy matrix. Moreover, you can always go back using .to_numpy()\n",
        "#method\n",
        "#https://pandas.pydata.org/pandas-docs/stable/reference/api/pandas.DataFrame.to_numpy.html\n",
        "features = pd.DataFrame(features)"
      ],
      "execution_count": null,
      "outputs": []
    },
    {
      "cell_type": "markdown",
      "metadata": {
        "id": "p7NeZtClA40o"
      },
      "source": [
        "# Data description"
      ]
    },
    {
      "cell_type": "code",
      "metadata": {
        "colab": {
          "base_uri": "https://localhost:8080/",
          "height": 320
        },
        "id": "mOeaRofAA_yr",
        "outputId": "f9f582af-712e-405a-b803-1bf8361aca8d"
      },
      "source": [
        "#taking a look at the features\n",
        "features.describe()"
      ],
      "execution_count": null,
      "outputs": [
        {
          "output_type": "execute_result",
          "data": {
            "text/html": [
              "<div>\n",
              "<style scoped>\n",
              "    .dataframe tbody tr th:only-of-type {\n",
              "        vertical-align: middle;\n",
              "    }\n",
              "\n",
              "    .dataframe tbody tr th {\n",
              "        vertical-align: top;\n",
              "    }\n",
              "\n",
              "    .dataframe thead th {\n",
              "        text-align: right;\n",
              "    }\n",
              "</style>\n",
              "<table border=\"1\" class=\"dataframe\">\n",
              "  <thead>\n",
              "    <tr style=\"text-align: right;\">\n",
              "      <th></th>\n",
              "      <th>0</th>\n",
              "      <th>1</th>\n",
              "      <th>2</th>\n",
              "      <th>3</th>\n",
              "      <th>4</th>\n",
              "      <th>5</th>\n",
              "      <th>6</th>\n",
              "      <th>7</th>\n",
              "      <th>8</th>\n",
              "      <th>9</th>\n",
              "      <th>10</th>\n",
              "      <th>11</th>\n",
              "      <th>12</th>\n",
              "    </tr>\n",
              "  </thead>\n",
              "  <tbody>\n",
              "    <tr>\n",
              "      <th>count</th>\n",
              "      <td>506.000000</td>\n",
              "      <td>506.000000</td>\n",
              "      <td>506.000000</td>\n",
              "      <td>506.000000</td>\n",
              "      <td>506.000000</td>\n",
              "      <td>506.000000</td>\n",
              "      <td>506.000000</td>\n",
              "      <td>506.000000</td>\n",
              "      <td>506.000000</td>\n",
              "      <td>506.000000</td>\n",
              "      <td>506.000000</td>\n",
              "      <td>506.000000</td>\n",
              "      <td>506.000000</td>\n",
              "    </tr>\n",
              "    <tr>\n",
              "      <th>mean</th>\n",
              "      <td>3.613524</td>\n",
              "      <td>11.363636</td>\n",
              "      <td>11.136779</td>\n",
              "      <td>0.069170</td>\n",
              "      <td>0.554695</td>\n",
              "      <td>6.284634</td>\n",
              "      <td>68.574901</td>\n",
              "      <td>3.795043</td>\n",
              "      <td>9.549407</td>\n",
              "      <td>408.237154</td>\n",
              "      <td>18.455534</td>\n",
              "      <td>356.674032</td>\n",
              "      <td>12.653063</td>\n",
              "    </tr>\n",
              "    <tr>\n",
              "      <th>std</th>\n",
              "      <td>8.601545</td>\n",
              "      <td>23.322453</td>\n",
              "      <td>6.860353</td>\n",
              "      <td>0.253994</td>\n",
              "      <td>0.115878</td>\n",
              "      <td>0.702617</td>\n",
              "      <td>28.148861</td>\n",
              "      <td>2.105710</td>\n",
              "      <td>8.707259</td>\n",
              "      <td>168.537116</td>\n",
              "      <td>2.164946</td>\n",
              "      <td>91.294864</td>\n",
              "      <td>7.141062</td>\n",
              "    </tr>\n",
              "    <tr>\n",
              "      <th>min</th>\n",
              "      <td>0.006320</td>\n",
              "      <td>0.000000</td>\n",
              "      <td>0.460000</td>\n",
              "      <td>0.000000</td>\n",
              "      <td>0.385000</td>\n",
              "      <td>3.561000</td>\n",
              "      <td>2.900000</td>\n",
              "      <td>1.129600</td>\n",
              "      <td>1.000000</td>\n",
              "      <td>187.000000</td>\n",
              "      <td>12.600000</td>\n",
              "      <td>0.320000</td>\n",
              "      <td>1.730000</td>\n",
              "    </tr>\n",
              "    <tr>\n",
              "      <th>25%</th>\n",
              "      <td>0.082045</td>\n",
              "      <td>0.000000</td>\n",
              "      <td>5.190000</td>\n",
              "      <td>0.000000</td>\n",
              "      <td>0.449000</td>\n",
              "      <td>5.885500</td>\n",
              "      <td>45.025000</td>\n",
              "      <td>2.100175</td>\n",
              "      <td>4.000000</td>\n",
              "      <td>279.000000</td>\n",
              "      <td>17.400000</td>\n",
              "      <td>375.377500</td>\n",
              "      <td>6.950000</td>\n",
              "    </tr>\n",
              "    <tr>\n",
              "      <th>50%</th>\n",
              "      <td>0.256510</td>\n",
              "      <td>0.000000</td>\n",
              "      <td>9.690000</td>\n",
              "      <td>0.000000</td>\n",
              "      <td>0.538000</td>\n",
              "      <td>6.208500</td>\n",
              "      <td>77.500000</td>\n",
              "      <td>3.207450</td>\n",
              "      <td>5.000000</td>\n",
              "      <td>330.000000</td>\n",
              "      <td>19.050000</td>\n",
              "      <td>391.440000</td>\n",
              "      <td>11.360000</td>\n",
              "    </tr>\n",
              "    <tr>\n",
              "      <th>75%</th>\n",
              "      <td>3.677083</td>\n",
              "      <td>12.500000</td>\n",
              "      <td>18.100000</td>\n",
              "      <td>0.000000</td>\n",
              "      <td>0.624000</td>\n",
              "      <td>6.623500</td>\n",
              "      <td>94.075000</td>\n",
              "      <td>5.188425</td>\n",
              "      <td>24.000000</td>\n",
              "      <td>666.000000</td>\n",
              "      <td>20.200000</td>\n",
              "      <td>396.225000</td>\n",
              "      <td>16.955000</td>\n",
              "    </tr>\n",
              "    <tr>\n",
              "      <th>max</th>\n",
              "      <td>88.976200</td>\n",
              "      <td>100.000000</td>\n",
              "      <td>27.740000</td>\n",
              "      <td>1.000000</td>\n",
              "      <td>0.871000</td>\n",
              "      <td>8.780000</td>\n",
              "      <td>100.000000</td>\n",
              "      <td>12.126500</td>\n",
              "      <td>24.000000</td>\n",
              "      <td>711.000000</td>\n",
              "      <td>22.000000</td>\n",
              "      <td>396.900000</td>\n",
              "      <td>37.970000</td>\n",
              "    </tr>\n",
              "  </tbody>\n",
              "</table>\n",
              "</div>"
            ],
            "text/plain": [
              "               0           1           2   ...          10          11          12\n",
              "count  506.000000  506.000000  506.000000  ...  506.000000  506.000000  506.000000\n",
              "mean     3.613524   11.363636   11.136779  ...   18.455534  356.674032   12.653063\n",
              "std      8.601545   23.322453    6.860353  ...    2.164946   91.294864    7.141062\n",
              "min      0.006320    0.000000    0.460000  ...   12.600000    0.320000    1.730000\n",
              "25%      0.082045    0.000000    5.190000  ...   17.400000  375.377500    6.950000\n",
              "50%      0.256510    0.000000    9.690000  ...   19.050000  391.440000   11.360000\n",
              "75%      3.677083   12.500000   18.100000  ...   20.200000  396.225000   16.955000\n",
              "max     88.976200  100.000000   27.740000  ...   22.000000  396.900000   37.970000\n",
              "\n",
              "[8 rows x 13 columns]"
            ]
          },
          "metadata": {},
          "execution_count": 3
        }
      ]
    },
    {
      "cell_type": "code",
      "metadata": {
        "colab": {
          "base_uri": "https://localhost:8080/",
          "height": 265
        },
        "id": "-sIQEGu0Ak2E",
        "outputId": "1edfb588-2676-4973-b58d-dd3c145e7963"
      },
      "source": [
        "#taking a look at the target variable\n",
        "plt.hist(target_variable, bins = 15)\n",
        "plt.show()"
      ],
      "execution_count": null,
      "outputs": [
        {
          "output_type": "display_data",
          "data": {
            "image/png": "[encoded data removed]",
            "text/plain": [
              "<Figure size 432x288 with 1 Axes>"
            ]
          },
          "metadata": {
            "needs_background": "light"
          }
        }
      ]
    },
    {
      "cell_type": "markdown",
      "metadata": {
        "id": "qKnMwA7ATyFv"
      },
      "source": [
        "# Data preprocessing"
      ]
    },
    {
      "cell_type": "markdown",
      "metadata": {
        "id": "BlxbDIHCr6oJ"
      },
      "source": [
        "## Missing values removal"
      ]
    },
    {
      "cell_type": "markdown",
      "metadata": {
        "id": "Ju6OFDkYpaNu"
      },
      "source": [
        "It's always useful to check if something is missing, since usually regression models don't like missing values."
      ]
    },
    {
      "cell_type": "code",
      "metadata": {
        "id": "0ZSvuQnWr5K5",
        "colab": {
          "base_uri": "https://localhost:8080/"
        },
        "outputId": "b28ec926-e5a7-4794-e150-0b51b830e7f6"
      },
      "source": [
        "features.isnull().sum()"
      ],
      "execution_count": null,
      "outputs": [
        {
          "output_type": "execute_result",
          "data": {
            "text/plain": [
              "0     0\n",
              "1     0\n",
              "2     0\n",
              "3     0\n",
              "4     0\n",
              "5     0\n",
              "6     0\n",
              "7     0\n",
              "8     0\n",
              "9     0\n",
              "10    0\n",
              "11    0\n",
              "12    0\n",
              "dtype: int64"
            ]
          },
          "metadata": {},
          "execution_count": 5
        }
      ]
    },
    {
      "cell_type": "markdown",
      "metadata": {
        "id": "SLg360RiM5nj"
      },
      "source": [
        "No values are missing, but just in case the code belows takes care of holes in the features data frame."
      ]
    },
    {
      "cell_type": "code",
      "metadata": {
        "colab": {
          "base_uri": "https://localhost:8080/"
        },
        "id": "Y0TJQDZPC--D",
        "outputId": "0eedb9a5-b7d1-4368-99bf-755b5ec97f17"
      },
      "source": [
        "#fast way, but only for one data frame...\n",
        "#features = features.dropna()\n",
        "\n",
        "#finding features with at least one missing data point\n",
        "missing = features.isnull().sum(axis = 1) > 0\n",
        "\n",
        "#you cannot simply use the \"not\" operator on a series\n",
        "#it's ambigous. We need to pass through a proper\n",
        "#negation function from numpy\n",
        "not_missing = np.logical_not(missing)\n",
        "\n",
        "#subsetting\n",
        "features = features.loc[not_missing, :]\n",
        "target_variable = target_variable[not_missing]\n",
        "\n",
        "#just checking\n",
        "print(\"Size of target variable: \", target_variable.shape)\n",
        "print(\"Size of feature matrix: \", features.shape)"
      ],
      "execution_count": null,
      "outputs": [
        {
          "output_type": "stream",
          "name": "stdout",
          "text": [
            "Size of target variable:  (506,)\n",
            "Size of feature matrix:  (506, 13)\n"
          ]
        }
      ]
    },
    {
      "cell_type": "markdown",
      "metadata": {
        "id": "B8UGOPjRNPuS"
      },
      "source": [
        "## Discussion: what if we are missing target values?\n",
        "\n",
        "The code above shows us how to remove samples with missing values in the `features` data frame. What if we have missing values in the target array?\n",
        "\n",
        "Pay attention: `target_variable` is a NumPy array. What kind of data should we expect?"
      ]
    },
    {
      "cell_type": "markdown",
      "metadata": {
        "id": "DR0PzRTZC1x0"
      },
      "source": [
        "## Discussion: outliers removal?\n",
        "\n",
        "Should we remove outliers data? If yes, do it in the space below. If no, tell us why."
      ]
    },
    {
      "cell_type": "code",
      "metadata": {
        "id": "z-XcGq-oge2s"
      },
      "source": [
        "######## YOUR CODE HERE ########\n",
        "if False:\n",
        "  #some very refined logic...\n",
        "  outlier = target_variable > 40\n",
        "\n",
        "  #subsetting\n",
        "  features = features.loc[np.logical_not(outlier), :]\n",
        "  target_variable = target_variable[np.logical_not(outlier)]\n",
        "\n",
        "  #just checking\n",
        "  print(\"Size of target variable: \", target_variable.shape)\n",
        "  print(\"Size of feature matrix: \", features.shape)\n",
        "################################"
      ],
      "execution_count": null,
      "outputs": []
    },
    {
      "cell_type": "markdown",
      "metadata": {
        "id": "r99y-Y0zk6KK"
      },
      "source": [
        "## Discussion/Exercise: data normalization?\n",
        "\n",
        "Should we normalize the features? If yes, do it in the space below. If no, tell us why."
      ]
    },
    {
      "cell_type": "code",
      "metadata": {
        "id": "EwoVhYDvlXmz",
        "colab": {
          "base_uri": "https://localhost:8080/"
        },
        "outputId": "93f72431-fba2-4975-ad5e-7808f7daa69c"
      },
      "source": [
        "######## YOUR CODE HERE ########\n",
        "if True:\n",
        "  #getting mean and standard deviation for train set\n",
        "  avg = features.mean()\n",
        "  std = features.std()\n",
        "\n",
        "  #normalizing\n",
        "  features = (features - avg)/std\n",
        "\n",
        "  #checking if we are doing everything fine\n",
        "  print(pd.DataFrame(features).describe())\n",
        "################################"
      ],
      "execution_count": null,
      "outputs": [
        {
          "output_type": "stream",
          "name": "stdout",
          "text": [
            "                 0             1   ...            11            12\n",
            "count  5.060000e+02  5.060000e+02  ...  5.060000e+02  5.060000e+02\n",
            "mean   8.326673e-17  3.466704e-16  ...  8.117354e-15 -6.494585e-16\n",
            "std    1.000000e+00  1.000000e+00  ...  1.000000e+00  1.000000e+00\n",
            "min   -4.193669e-01 -4.872402e-01  ... -3.903331e+00 -1.529613e+00\n",
            "25%   -4.105633e-01 -4.872402e-01  ...  2.048688e-01 -7.986296e-01\n",
            "50%   -3.902803e-01 -4.872402e-01  ...  3.808097e-01 -1.810744e-01\n",
            "75%    7.389247e-03  4.872402e-02  ...  4.332223e-01  6.024226e-01\n",
            "max    9.924110e+00  3.800473e+00  ...  4.406159e-01  3.545262e+00\n",
            "\n",
            "[8 rows x 13 columns]\n"
          ]
        }
      ]
    },
    {
      "cell_type": "markdown",
      "metadata": {
        "id": "m_a2pcQcJ-o5"
      },
      "source": [
        "# Training and validation sets\n",
        "\n",
        "We have a resonable-sized dataset, we can go with one of the standard split-validation cuts, e.g. 10% \n",
        "\n",
        "> **[PRO TIP]** In very small dataset you may be forced to do \"leave one out\" crossvalidation. For N samples you cycle selecting one sample for predictions (this would be your validation set) and keeping N-1 for training. Unfortunately in this case you cannot compute correlations (can you guess why?) and must use error-related metrics like Mean Squared Error.\n",
        "\n",
        "\n"
      ]
    },
    {
      "cell_type": "code",
      "metadata": {
        "id": "PgI8cFrlhwNK",
        "colab": {
          "base_uri": "https://localhost:8080/"
        },
        "outputId": "622624f3-1773-49c5-9d3b-c7fc91fe24de"
      },
      "source": [
        "#we import a function to perform the split\n",
        "from sklearn.model_selection import train_test_split\n",
        "\n",
        "features_train, features_val, target_train, target_val = train_test_split(features, target_variable, test_size=0.10)\n",
        "    \n",
        "#let's print some shapes to get an idea of the resulting data structure\n",
        "print(features_train.shape)\n",
        "print(features_val.shape)\n",
        "print(target_train.shape)\n",
        "print(target_val.shape)"
      ],
      "execution_count": null,
      "outputs": [
        {
          "output_type": "stream",
          "name": "stdout",
          "text": [
            "(455, 13)\n",
            "(51, 13)\n",
            "(455,)\n",
            "(51,)\n"
          ]
        }
      ]
    },
    {
      "cell_type": "markdown",
      "metadata": {
        "id": "o93lPZozLjrz"
      },
      "source": [
        "# Building the neural networks model\n",
        "\n",
        "We are now ready to build our neural networks model for regression. First, we set some hyperparameters:\n",
        "\n",
        "- the activation function in the output layer in this case is **linear**: we get directly the results from $\\sum wx + b$ \n",
        "- the loss function is MSE (**Mean Squared Error**)"
      ]
    },
    {
      "cell_type": "code",
      "metadata": {
        "id": "BHjBOQDRLJD1"
      },
      "source": [
        "# Configuration options\n",
        "\n",
        "#Keras wants the data shape as a tuple. In case of images is something \n",
        "#like (image width, image height, number of channels). \n",
        "#In our case data is tabular so each data point is an \n",
        "#array (a row in the table) and we just need to specify \n",
        "#a single number, i.e. the number of columns. However, we still need\n",
        "#to input a tuple, so...\n",
        "input_shape = (features.shape[1],) \n",
        "\n",
        "#other standard features describing our network\n",
        "hidden_nodes = 16\n",
        "hidden_activation = 'relu'\n",
        "output_activation = 'linear'\n",
        "loss_function = 'mean_squared_error'\n",
        "optimizer_used = 'rmsprop'\n",
        "num_epochs = 10"
      ],
      "execution_count": null,
      "outputs": []
    },
    {
      "cell_type": "code",
      "metadata": {
        "id": "VMyVxYiDMINV",
        "colab": {
          "base_uri": "https://localhost:8080/"
        },
        "outputId": "01e41842-8bfb-4c8a-ba46-726dd85aeaf2"
      },
      "source": [
        "print(input_shape)"
      ],
      "execution_count": null,
      "outputs": [
        {
          "output_type": "stream",
          "name": "stdout",
          "text": [
            "(13,)\n"
          ]
        }
      ]
    },
    {
      "cell_type": "markdown",
      "metadata": {
        "id": "Q5Hiz909JIRn"
      },
      "source": [
        "As we learnt to do throughout the course, we now use `keras` to build our sequential neural networks model:"
      ]
    },
    {
      "cell_type": "code",
      "metadata": {
        "id": "JI2dJT2AMPSq"
      },
      "source": [
        "#we are building a \"sequential\" model, meaning that the data will \n",
        "#flow like INPUT -> ELABORATION -> OUTPUT.\n",
        "from keras.models import Sequential\n",
        "\n",
        "#a \"dense\" layer is a layer were all the data coming in are connected\n",
        "#to all nodes.\n",
        "from keras.layers import Dense\n",
        "\n",
        "#adding the hidden layer with the required number of nodes, plus the final\n",
        "#layer with a single node (since we want to output a single number)\n",
        "model = Sequential()\n",
        "model.add(Dense(units=hidden_nodes, input_shape=input_shape, activation=hidden_activation))\n",
        "model.add(Dense(1, activation=output_activation))\n",
        "\n",
        "#the model is declared, but we still need to compile it to actually\n",
        "#build all the data structures\n",
        "model.compile(optimizer=optimizer_used, loss=loss_function)"
      ],
      "execution_count": null,
      "outputs": []
    },
    {
      "cell_type": "code",
      "metadata": {
        "id": "KJ5agM7JMVsE",
        "colab": {
          "base_uri": "https://localhost:8080/"
        },
        "outputId": "a5c34253-8e21-46b5-90df-f55a59b76816"
      },
      "source": [
        "print(model.summary())"
      ],
      "execution_count": null,
      "outputs": [
        {
          "output_type": "stream",
          "name": "stdout",
          "text": [
            "Model: \"sequential\"\n",
            "_________________________________________________________________\n",
            "Layer (type)                 Output Shape              Param #   \n",
            "=================================================================\n",
            "dense (Dense)                (None, 16)                224       \n",
            "_________________________________________________________________\n",
            "dense_1 (Dense)              (None, 1)                 17        \n",
            "=================================================================\n",
            "Total params: 241\n",
            "Trainable params: 241\n",
            "Non-trainable params: 0\n",
            "_________________________________________________________________\n",
            "None\n"
          ]
        }
      ]
    },
    {
      "cell_type": "markdown",
      "metadata": {
        "id": "t0FwozHIJakU"
      },
      "source": [
        "The `model.summary()` tells us that we now have 145 model parameters to learn: \n",
        "\n",
        "- hidden layer: 7 feature weights x 16 units + 16 bias terms $\\rightarrow$ 128 parameters\n",
        "- output layer: 16 unit weights + 1 bias term $\\rightarrow$ 17 parameters  \n",
        "- 128 + 17 = 145 parameters"
      ]
    },
    {
      "cell_type": "markdown",
      "metadata": {
        "id": "KhXMeMyyMbAd"
      },
      "source": [
        "# Training the neural network model"
      ]
    },
    {
      "cell_type": "code",
      "metadata": {
        "id": "2rFoY_ehMf7g"
      },
      "source": [
        "num_epochs = 100\n",
        "history = model.fit(\n",
        "    features_train, target_train, \n",
        "    epochs=num_epochs, validation_data=(features_val, target_val), verbose = 0)"
      ],
      "execution_count": null,
      "outputs": []
    },
    {
      "cell_type": "code",
      "metadata": {
        "id": "CwVjN65mMo6f",
        "colab": {
          "base_uri": "https://localhost:8080/",
          "height": 295
        },
        "outputId": "aa612d7f-55d7-4394-e16c-8a3ade0ac220"
      },
      "source": [
        "def plot_loss_history(h, title):\n",
        "    plt.plot(h.history['loss'], label = \"Train loss\")\n",
        "    plt.plot(h.history['val_loss'], label = \"Validation loss\")\n",
        "    plt.xlabel('Epochs')\n",
        "    plt.title(title)\n",
        "    plt.legend()\n",
        "    plt.show()\n",
        "\n",
        "plot_loss_history(history, 'Logistic ({} epochs)'.format(num_epochs))"
      ],
      "execution_count": null,
      "outputs": [
        {
          "output_type": "display_data",
          "data": {
            "image/png": "[encoded data removed]",
            "text/plain": [
              "<Figure size 432x288 with 1 Axes>"
            ]
          },
          "metadata": {
            "needs_background": "light"
          }
        }
      ]
    },
    {
      "cell_type": "markdown",
      "metadata": {
        "id": "I9cZN6G9MvTc"
      },
      "source": [
        "# Predictions\n",
        "\n",
        "We can now see the predictions our neural networks model produced for the house prices. Below we report also the known target values from the test set "
      ]
    },
    {
      "cell_type": "code",
      "metadata": {
        "id": "3YrKJ0sYMxFK",
        "colab": {
          "base_uri": "https://localhost:8080/"
        },
        "outputId": "e416ea26-a399-44aa-a88f-ef992ed442b3"
      },
      "source": [
        "#predicting, and reporting the shape of the obtained object (also known as y hat)\n",
        "predictions = model.predict(features_val)\n",
        "print(predictions.shape)"
      ],
      "execution_count": null,
      "outputs": [
        {
          "output_type": "stream",
          "name": "stdout",
          "text": [
            "(51, 1)\n"
          ]
        }
      ]
    },
    {
      "cell_type": "code",
      "metadata": {
        "id": "p-l-44KDm_Pq",
        "colab": {
          "base_uri": "https://localhost:8080/"
        },
        "outputId": "4a7dea1e-795e-474e-f025-38383674ddc8"
      },
      "source": [
        "#a couple of print on true target values (also known as y)\n",
        "print(target_val)\n",
        "print(target_val.shape)"
      ],
      "execution_count": null,
      "outputs": [
        {
          "output_type": "stream",
          "name": "stdout",
          "text": [
            "[28.4 31.1 23.5 26.6 19.6 14.3 50.  14.3 20.7 37.6 20.4 27.5 36.2 32.\n",
            " 33.1 48.8 24.6 26.4 23.2 17.  41.3 14.9 18.5 25.  36.4 19.5 27.1 14.9\n",
            " 46.  17.9 30.3 31.6 23.1 24.7 16.7 18.3  8.4 37.3 22.1 22.  46.7 30.1\n",
            " 12.1 29.1 16.6 23.9 19.9 21.4 45.4 15.6 22.7]\n",
            "(51,)\n"
          ]
        }
      ]
    },
    {
      "cell_type": "markdown",
      "metadata": {
        "id": "3Jb_stcJLaR7"
      },
      "source": [
        "In regression problems you can not use the same accuracy metrics as in classification problems (e.g. error rate, confusion matrix, etc.): in stead, other metrics are used like:\n",
        "\n",
        "- **Pearson linear correlation**\n",
        "- **Spearman rank correlation**\n",
        "- **RMSE** (root mean squared error)\n",
        "- **MAE** (mean absolute error)\n",
        "- etc. (there are many more)"
      ]
    },
    {
      "cell_type": "code",
      "metadata": {
        "id": "Qhs_MUYANn_r",
        "colab": {
          "base_uri": "https://localhost:8080/"
        },
        "outputId": "c9856839-8181-4441-c446-a6c624d08978"
      },
      "source": [
        "#changing forma to pandas Series, for handiness\n",
        "y_pred = pd.Series(predictions[:,0])\n",
        "y = pd.Series(target_val)\n",
        "\n",
        "#computing correlation\n",
        "accuracy = y.corr(y_pred, method='pearson')\n",
        "print(\"accuracy (measured as Pearson's correlation) is: \", accuracy)"
      ],
      "execution_count": null,
      "outputs": [
        {
          "output_type": "stream",
          "name": "stdout",
          "text": [
            "accuracy (measured as Pearson's correlation) is:  0.9144658450895198\n"
          ]
        }
      ]
    },
    {
      "cell_type": "markdown",
      "metadata": {
        "id": "DgMMwGmYC31l"
      },
      "source": [
        "\n",
        "A scatter plot of predicted vs true values can also be useful to visualise the result of the model:\n",
        "\n"
      ]
    },
    {
      "cell_type": "code",
      "metadata": {
        "id": "4UDWONAIO2Ly",
        "colab": {
          "base_uri": "https://localhost:8080/",
          "height": 282
        },
        "outputId": "ae8aa18c-eba4-4016-9509-b0f75322e5b2"
      },
      "source": [
        "plt.style.use('ggplot')\n",
        "\n",
        "plt.scatter(y, y_pred)\n",
        "#equivalent: plt.plot(y, y_pred, \"o\")\n",
        "\n",
        "# draw the main diagonal, for reference\n",
        "plt.plot([0, 50], [0, 50], color='b')\n",
        "\n",
        "#labelling the axis\n",
        "plt.xlabel(\"observed values\")\n",
        "plt.ylabel(\"predicted values\")\n",
        "\n",
        "plt.show()"
      ],
      "execution_count": null,
      "outputs": [
        {
          "output_type": "display_data",
          "data": {
            "image/png": "[encoded data removed]",
            "text/plain": [
              "<Figure size 432x288 with 1 Axes>"
            ]
          },
          "metadata": {}
        }
      ]
    },
    {
      "cell_type": "code",
      "metadata": {
        "id": "zihYASJUcVgr",
        "colab": {
          "base_uri": "https://localhost:8080/"
        },
        "outputId": "e57c5b53-209e-45de-b9e9-26114aa1f4f5"
      },
      "source": [
        "#Root Mean Square Error\n",
        "print('Root Mean Square Error : ' + str(np.sqrt(sum((y-y_pred)**2)/len(y))))\n",
        "print('Target mean            : ' + str(y.mean()))\n",
        "print('Predictions mean       : ' + str(y_pred.mean()))"
      ],
      "execution_count": null,
      "outputs": [
        {
          "output_type": "stream",
          "name": "stdout",
          "text": [
            "Root Mean Square Error : 4.115160645432852\n",
            "Target mean            : 26.172549019607843\n",
            "Predictions mean       : 25.631776809692383\n"
          ]
        }
      ]
    },
    {
      "cell_type": "markdown",
      "metadata": {
        "id": "7CK3scgQuT6A"
      },
      "source": [
        "# Exercise: improve the network\n",
        "\n",
        "The predictions are not terrible but for sure not excellent. How to improve the performances?"
      ]
    },
    {
      "cell_type": "markdown",
      "metadata": {
        "id": "jl7azwVjz_-R"
      },
      "source": [
        "# Extra: first layer weights\n",
        "\n",
        "Explore the weights the network assigns to the first layer, and try to understand if it implements some kind of feature selection.\n",
        "\n",
        "Remember: our network has 16 nodes in the first layer, and 13 input features."
      ]
    },
    {
      "cell_type": "code",
      "metadata": {
        "id": "fqG1lrde09ye"
      },
      "source": [
        "#extracting weights and biases\n",
        "first_layer_weights = model.layers[0].get_weights()[0]\n",
        "first_layer_biases = model.layers[0].get_weights()[1]"
      ],
      "execution_count": null,
      "outputs": []
    },
    {
      "cell_type": "code",
      "metadata": {
        "colab": {
          "base_uri": "https://localhost:8080/"
        },
        "id": "Uq2MfG6H1Pfe",
        "outputId": "9fd34787-42f2-4eca-a52b-1ea6c8c34eb6"
      },
      "source": [
        "#taking a look at the shape of the weights matrix\n",
        "print(first_layer_weights.shape)"
      ],
      "execution_count": null,
      "outputs": [
        {
          "output_type": "stream",
          "name": "stdout",
          "text": [
            "(13, 16)\n"
          ]
        }
      ]
    },
    {
      "cell_type": "code",
      "metadata": {
        "id": "4gfpPUBK5Oce"
      },
      "source": [
        "#IMPORTANT we are interested in absolute values of the weights\n",
        "#since a -15 is way more important than a +0.1\n",
        "first_layer_weights = np.absolute(first_layer_weights) "
      ],
      "execution_count": null,
      "outputs": []
    },
    {
      "cell_type": "code",
      "metadata": {
        "id": "apj5isHT1zDI"
      },
      "source": [
        "#It's handy to have a pandas dataframe for data exploration and \n",
        "#description\n",
        "w = pd.DataFrame(first_layer_weights)\n",
        "\n",
        "#it's also better to have features as columns and\n",
        "#nodes as rows, since many statistics are available out of the\n",
        "#box on a by-column basis\n",
        "w = w.transpose()"
      ],
      "execution_count": null,
      "outputs": []
    },
    {
      "cell_type": "code",
      "metadata": {
        "colab": {
          "base_uri": "https://localhost:8080/"
        },
        "id": "wmnGtZlP3b3E",
        "outputId": "93bd6802-d3fe-491f-e27e-f820936007f5"
      },
      "source": [
        "#taking a look at the raw weights\n",
        "print(w)"
      ],
      "execution_count": null,
      "outputs": [
        {
          "output_type": "stream",
          "name": "stdout",
          "text": [
            "          0         1         2   ...        10        11        12\n",
            "0   0.799892  0.265596  0.233227  ...  0.924435  0.294333  0.158073\n",
            "1   0.162244  1.275239  0.779537  ...  0.466767  0.607485  0.051039\n",
            "2   0.632052  0.167374  0.220075  ...  0.120854  0.033961  0.603665\n",
            "3   0.162838  0.150600  0.394560  ...  0.422450  0.538558  1.149420\n",
            "4   0.483702  0.393508  0.369496  ...  0.764609  0.165547  0.588818\n",
            "5   0.288023  0.622720  0.784089  ...  0.027848  0.321956  0.268315\n",
            "6   0.502131  0.477210  0.302369  ...  0.514626  0.164271  0.432964\n",
            "7   1.327950  0.287902  0.324533  ...  0.834971  0.953587  0.364946\n",
            "8   0.367334  0.119785  0.225622  ...  0.143470  0.086861  0.604454\n",
            "9   0.090558  1.200999  0.919577  ...  0.483234  0.248139  0.255336\n",
            "10  1.348775  0.137326  1.124533  ...  0.306856  0.706804  0.017343\n",
            "11  0.512942  0.072570  0.349062  ...  0.156922  0.152195  0.639788\n",
            "12  0.983900  1.329018  0.116792  ...  0.032418  0.577915  0.871716\n",
            "13  1.304445  0.131519  0.251647  ...  0.297089  0.230389  0.500816\n",
            "14  0.415789  0.136333  0.181220  ...  0.051746  0.164769  0.591202\n",
            "15  1.246566  0.258534  0.259945  ...  0.354168  1.033926  0.142092\n",
            "\n",
            "[16 rows x 13 columns]\n"
          ]
        }
      ]
    },
    {
      "cell_type": "code",
      "metadata": {
        "colab": {
          "base_uri": "https://localhost:8080/",
          "height": 320
        },
        "id": "VRyGf_1f3i2J",
        "outputId": "9180350f-3bb9-4c2f-b114-4884879207a1"
      },
      "source": [
        "#summary statistics\n",
        "w.describe()"
      ],
      "execution_count": null,
      "outputs": [
        {
          "output_type": "execute_result",
          "data": {
            "text/html": [
              "<div>\n",
              "<style scoped>\n",
              "    .dataframe tbody tr th:only-of-type {\n",
              "        vertical-align: middle;\n",
              "    }\n",
              "\n",
              "    .dataframe tbody tr th {\n",
              "        vertical-align: top;\n",
              "    }\n",
              "\n",
              "    .dataframe thead th {\n",
              "        text-align: right;\n",
              "    }\n",
              "</style>\n",
              "<table border=\"1\" class=\"dataframe\">\n",
              "  <thead>\n",
              "    <tr style=\"text-align: right;\">\n",
              "      <th></th>\n",
              "      <th>0</th>\n",
              "      <th>1</th>\n",
              "      <th>2</th>\n",
              "      <th>3</th>\n",
              "      <th>4</th>\n",
              "      <th>5</th>\n",
              "      <th>6</th>\n",
              "      <th>7</th>\n",
              "      <th>8</th>\n",
              "      <th>9</th>\n",
              "      <th>10</th>\n",
              "      <th>11</th>\n",
              "      <th>12</th>\n",
              "    </tr>\n",
              "  </thead>\n",
              "  <tbody>\n",
              "    <tr>\n",
              "      <th>count</th>\n",
              "      <td>16.000000</td>\n",
              "      <td>16.000000</td>\n",
              "      <td>16.000000</td>\n",
              "      <td>16.000000</td>\n",
              "      <td>16.000000</td>\n",
              "      <td>16.000000</td>\n",
              "      <td>16.000000</td>\n",
              "      <td>16.000000</td>\n",
              "      <td>16.000000</td>\n",
              "      <td>16.000000</td>\n",
              "      <td>16.000000</td>\n",
              "      <td>16.000000</td>\n",
              "      <td>16.000000</td>\n",
              "    </tr>\n",
              "    <tr>\n",
              "      <th>mean</th>\n",
              "      <td>0.664321</td>\n",
              "      <td>0.439140</td>\n",
              "      <td>0.427268</td>\n",
              "      <td>0.193738</td>\n",
              "      <td>0.362388</td>\n",
              "      <td>0.519126</td>\n",
              "      <td>0.372075</td>\n",
              "      <td>0.386439</td>\n",
              "      <td>0.475303</td>\n",
              "      <td>0.486324</td>\n",
              "      <td>0.368904</td>\n",
              "      <td>0.392544</td>\n",
              "      <td>0.452499</td>\n",
              "    </tr>\n",
              "    <tr>\n",
              "      <th>std</th>\n",
              "      <td>0.446123</td>\n",
              "      <td>0.437043</td>\n",
              "      <td>0.300406</td>\n",
              "      <td>0.235055</td>\n",
              "      <td>0.194498</td>\n",
              "      <td>0.394957</td>\n",
              "      <td>0.294482</td>\n",
              "      <td>0.350463</td>\n",
              "      <td>0.330947</td>\n",
              "      <td>0.346332</td>\n",
              "      <td>0.285868</td>\n",
              "      <td>0.308098</td>\n",
              "      <td>0.305181</td>\n",
              "    </tr>\n",
              "    <tr>\n",
              "      <th>min</th>\n",
              "      <td>0.090558</td>\n",
              "      <td>0.072570</td>\n",
              "      <td>0.116792</td>\n",
              "      <td>0.016587</td>\n",
              "      <td>0.020108</td>\n",
              "      <td>0.001273</td>\n",
              "      <td>0.041395</td>\n",
              "      <td>0.013772</td>\n",
              "      <td>0.006793</td>\n",
              "      <td>0.025098</td>\n",
              "      <td>0.027848</td>\n",
              "      <td>0.033961</td>\n",
              "      <td>0.017343</td>\n",
              "    </tr>\n",
              "    <tr>\n",
              "      <th>25%</th>\n",
              "      <td>0.347506</td>\n",
              "      <td>0.137077</td>\n",
              "      <td>0.231326</td>\n",
              "      <td>0.029495</td>\n",
              "      <td>0.218630</td>\n",
              "      <td>0.248065</td>\n",
              "      <td>0.152120</td>\n",
              "      <td>0.148201</td>\n",
              "      <td>0.254437</td>\n",
              "      <td>0.215960</td>\n",
              "      <td>0.137816</td>\n",
              "      <td>0.164645</td>\n",
              "      <td>0.231021</td>\n",
              "    </tr>\n",
              "    <tr>\n",
              "      <th>50%</th>\n",
              "      <td>0.507537</td>\n",
              "      <td>0.262065</td>\n",
              "      <td>0.313451</td>\n",
              "      <td>0.068502</td>\n",
              "      <td>0.399445</td>\n",
              "      <td>0.457182</td>\n",
              "      <td>0.239517</td>\n",
              "      <td>0.289765</td>\n",
              "      <td>0.465258</td>\n",
              "      <td>0.478176</td>\n",
              "      <td>0.330512</td>\n",
              "      <td>0.271236</td>\n",
              "      <td>0.466890</td>\n",
              "    </tr>\n",
              "    <tr>\n",
              "      <th>75%</th>\n",
              "      <td>1.049566</td>\n",
              "      <td>0.513588</td>\n",
              "      <td>0.490804</td>\n",
              "      <td>0.280291</td>\n",
              "      <td>0.533259</td>\n",
              "      <td>0.798773</td>\n",
              "      <td>0.656367</td>\n",
              "      <td>0.533666</td>\n",
              "      <td>0.583462</td>\n",
              "      <td>0.678623</td>\n",
              "      <td>0.491082</td>\n",
              "      <td>0.585307</td>\n",
              "      <td>0.603862</td>\n",
              "    </tr>\n",
              "    <tr>\n",
              "      <th>max</th>\n",
              "      <td>1.348775</td>\n",
              "      <td>1.329018</td>\n",
              "      <td>1.124533</td>\n",
              "      <td>0.708680</td>\n",
              "      <td>0.586358</td>\n",
              "      <td>1.224366</td>\n",
              "      <td>0.935506</td>\n",
              "      <td>1.148860</td>\n",
              "      <td>1.124871</td>\n",
              "      <td>1.079295</td>\n",
              "      <td>0.924435</td>\n",
              "      <td>1.033926</td>\n",
              "      <td>1.149420</td>\n",
              "    </tr>\n",
              "  </tbody>\n",
              "</table>\n",
              "</div>"
            ],
            "text/plain": [
              "              0          1          2   ...         10         11         12\n",
              "count  16.000000  16.000000  16.000000  ...  16.000000  16.000000  16.000000\n",
              "mean    0.664321   0.439140   0.427268  ...   0.368904   0.392544   0.452499\n",
              "std     0.446123   0.437043   0.300406  ...   0.285868   0.308098   0.305181\n",
              "min     0.090558   0.072570   0.116792  ...   0.027848   0.033961   0.017343\n",
              "25%     0.347506   0.137077   0.231326  ...   0.137816   0.164645   0.231021\n",
              "50%     0.507537   0.262065   0.313451  ...   0.330512   0.271236   0.466890\n",
              "75%     1.049566   0.513588   0.490804  ...   0.491082   0.585307   0.603862\n",
              "max     1.348775   1.329018   1.124533  ...   0.924435   1.033926   1.149420\n",
              "\n",
              "[8 rows x 13 columns]"
            ]
          },
          "metadata": {},
          "execution_count": 26
        }
      ]
    },
    {
      "cell_type": "code",
      "metadata": {
        "colab": {
          "base_uri": "https://localhost:8080/",
          "height": 265
        },
        "id": "IaHbGwqh7MDX",
        "outputId": "1745d966-7212-4299-b9c5-b0837aac6f70"
      },
      "source": [
        "plt.hist(w.mean())\n",
        "plt.show()"
      ],
      "execution_count": null,
      "outputs": [
        {
          "output_type": "display_data",
          "data": {
            "image/png": "[encoded data removed]",
            "text/plain": [
              "<Figure size 432x288 with 1 Axes>"
            ]
          },
          "metadata": {}
        }
      ]
    },
    {
      "cell_type": "markdown",
      "metadata": {
        "id": "YFhD1Ja6-sRw"
      },
      "source": [
        "Plotting the weights"
      ]
    },
    {
      "cell_type": "code",
      "metadata": {
        "colab": {
          "base_uri": "https://localhost:8080/",
          "height": 267
        },
        "id": "_kw3TmjQ3-LR",
        "outputId": "aa4be363-5df6-4ca4-dca6-810014b56f77"
      },
      "source": [
        "#looping over nodes, adding one line at a time\n",
        "for n in range(w.shape[0]):\n",
        "  plt.plot(w.iloc[n, :], label = \"node \" + str(n))\n",
        "\n",
        "#showing the plot\n",
        "plt.show()"
      ],
      "execution_count": null,
      "outputs": [
        {
          "output_type": "display_data",
          "data": {
            "image/png": "[encoded data removed]",
            "text/plain": [
              "<Figure size 432x288 with 1 Axes>"
            ]
          },
          "metadata": {}
        }
      ]
    }
  ]
}