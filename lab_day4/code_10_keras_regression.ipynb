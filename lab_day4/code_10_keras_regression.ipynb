{
  "nbformat": 4,
  "nbformat_minor": 0,
  "metadata": {
    "colab": {
      "name": "code_10_keras_regression.ipynb",
      "provenance": [],
      "collapsed_sections": []
    },
    "kernelspec": {
      "name": "python3",
      "display_name": "Python 3"
    }
  },
  "cells": [
    {
      "cell_type": "markdown",
      "metadata": {
        "id": "l0nH5XpufRUJ"
      },
      "source": [
        "# A neural network model for regression problems\n",
        "\n",
        "We will see here how to use Keras to implement a simple neural network model for a **regression problem** (continuous target variable). \n",
        "For this practical session we are using a dataset on the relationship between the age of **wild bats** and **DNA methylation** at specific **CpG sites** \n",
        "\n",
        "The original data are available on Dryad: <a href='https://datadryad.org/stash/dataset/doi:10.5061/dryad.rn0198d'>here</a>\n",
        "The corresponding paper is: <a href='https://onlinelibrary.wiley.com/doi/abs/10.1111/1755-0998.12925'>here</a>"
      ]
    },
    {
      "cell_type": "code",
      "metadata": {
        "id": "Ngqw09SDD3u4"
      },
      "source": [
        "DATASET_URL = 'https://raw.githubusercontent.com/ne1s0n/coding_excercises/master/data/DNA_methylation_data.csv'"
      ],
      "execution_count": 85,
      "outputs": []
    },
    {
      "cell_type": "markdown",
      "metadata": {
        "id": "S1iAUVwiDd_Z"
      },
      "source": [
        "### Loading libraries and getting the data\n",
        "\n",
        "We first load some necessary libraries and get the data from the `github` repository"
      ]
    },
    {
      "cell_type": "code",
      "metadata": {
        "id": "YCCzMzYQf5W_",
        "outputId": "54a4b248-708c-41ae-d96d-ec76cb1c5d1d",
        "colab": {
          "base_uri": "https://localhost:8080/",
          "height": 269
        }
      },
      "source": [
        "import numpy as np\n",
        "import pandas as pd\n",
        "import matplotlib.pyplot as plt\n",
        "\n",
        "#pandas can read a csv directly from a url\n",
        "bat_data = pd.read_csv(DATASET_URL)\n",
        "print(bat_data)"
      ],
      "execution_count": 86,
      "outputs": [
        {
          "output_type": "stream",
          "text": [
            "             Sample  Age Age category  ...  CpG GRIA2 1  CpG GRIA2 2  ASPA 1\n",
            "0     BabyBechs_SHW    0      Age 0-3  ...          2.0          2.0    61.0\n",
            "1   Dd_Juv_Hamgreen    0      Age 0-3  ...          1.0          2.0    59.0\n",
            "2             A2402    1      Age 0-3  ...          1.0          5.0    48.0\n",
            "3        A2414-2014    1      Age 0-3  ...          1.0          2.0    53.0\n",
            "4        A8481-2014    1      Age 0-3  ...          2.0          2.0    41.0\n",
            "..              ...  ...          ...  ...          ...          ...     ...\n",
            "57       U5857_2014   12     Age 9-14  ...          8.0          4.0    61.0\n",
            "58       U5870-2015   12     Age 9-14  ...          7.0         10.0    54.0\n",
            "59       T7324_2014   14     Age 9-14  ...          7.0          5.0    22.0\n",
            "60       T7326_2014   14     Age 9-14  ...          NaN          NaN     NaN\n",
            "61       T7358-2014   14     Age 9-14  ...          5.0          7.0    50.0\n",
            "\n",
            "[62 rows x 10 columns]\n"
          ],
          "name": "stdout"
        }
      ]
    },
    {
      "cell_type": "markdown",
      "metadata": {
        "id": "4Wwx5BxjnlSA"
      },
      "source": [
        "The dataset contains the **age of bats in years** (target variable) and the **percentage methylation** at **7 CpG sites** (epigenetic modifications: features).\n",
        "\n",
        "## Data description and preprocessing"
      ]
    },
    {
      "cell_type": "code",
      "metadata": {
        "id": "deXP_uDZnX_t",
        "outputId": "bf953bcb-4ceb-4018-8000-e7de7eeb6b46",
        "colab": {
          "base_uri": "https://localhost:8080/",
          "height": 197
        }
      },
      "source": [
        "for col in bat_data.columns: \n",
        "    print(col)"
      ],
      "execution_count": 87,
      "outputs": [
        {
          "output_type": "stream",
          "text": [
            "Sample\n",
            "Age\n",
            "Age category\n",
            "CpG 1 TET2\n",
            "CpG 2 TET2\n",
            "CpG 3 TET2\n",
            "CpG 4 TET2\n",
            "CpG GRIA2 1\n",
            "CpG GRIA2 2\n",
            "ASPA 1\n"
          ],
          "name": "stdout"
        }
      ]
    },
    {
      "cell_type": "markdown",
      "metadata": {
        "id": "IMkrHTRXoWQ_"
      },
      "source": [
        "There are 10 columns in the dataframe: we don't need the columns `Sample` and `Age category`, therefore we select the others into a cleaner dataframe:"
      ]
    },
    {
      "cell_type": "code",
      "metadata": {
        "id": "lN5doGrbn32A",
        "outputId": "8a58de13-3203-451a-afa8-72df34e48193",
        "colab": {
          "base_uri": "https://localhost:8080/",
          "height": 179
        }
      },
      "source": [
        "bat_data = bat_data.iloc[:,[1,3,4,5,6,7,8,9]]\n",
        "print(bat_data.head())\n",
        "print(\"N. of records is: \",len(bat_data))"
      ],
      "execution_count": 88,
      "outputs": [
        {
          "output_type": "stream",
          "text": [
            "   Age  CpG 1 TET2  CpG 2 TET2  ...  CpG GRIA2 1  CpG GRIA2 2  ASPA 1\n",
            "0    0        29.0        21.0  ...          2.0          2.0    61.0\n",
            "1    0        30.0        21.0  ...          1.0          2.0    59.0\n",
            "2    1        44.0        38.0  ...          1.0          5.0    48.0\n",
            "3    1        48.0        36.0  ...          1.0          2.0    53.0\n",
            "4    1         NaN         NaN  ...          2.0          2.0    41.0\n",
            "\n",
            "[5 rows x 8 columns]\n",
            "N. of records is:  62\n"
          ],
          "name": "stdout"
        }
      ]
    },
    {
      "cell_type": "markdown",
      "metadata": {
        "id": "eUdJpKB-o4WZ"
      },
      "source": [
        "We now describe the dataset, by producing some summary statistics on the entire dataframe:"
      ]
    },
    {
      "cell_type": "code",
      "metadata": {
        "id": "uORCWsiKjU9e",
        "outputId": "60bb875d-0a7f-4802-ded5-fce47d933d1a",
        "colab": {
          "base_uri": "https://localhost:8080/",
          "height": 297
        }
      },
      "source": [
        "bat_data.describe()"
      ],
      "execution_count": 89,
      "outputs": [
        {
          "output_type": "execute_result",
          "data": {
            "text/html": [
              "<div>\n",
              "<style scoped>\n",
              "    .dataframe tbody tr th:only-of-type {\n",
              "        vertical-align: middle;\n",
              "    }\n",
              "\n",
              "    .dataframe tbody tr th {\n",
              "        vertical-align: top;\n",
              "    }\n",
              "\n",
              "    .dataframe thead th {\n",
              "        text-align: right;\n",
              "    }\n",
              "</style>\n",
              "<table border=\"1\" class=\"dataframe\">\n",
              "  <thead>\n",
              "    <tr style=\"text-align: right;\">\n",
              "      <th></th>\n",
              "      <th>Age</th>\n",
              "      <th>CpG 1 TET2</th>\n",
              "      <th>CpG 2 TET2</th>\n",
              "      <th>CpG 3 TET2</th>\n",
              "      <th>CpG 4 TET2</th>\n",
              "      <th>CpG GRIA2 1</th>\n",
              "      <th>CpG GRIA2 2</th>\n",
              "      <th>ASPA 1</th>\n",
              "    </tr>\n",
              "  </thead>\n",
              "  <tbody>\n",
              "    <tr>\n",
              "      <th>count</th>\n",
              "      <td>62.000000</td>\n",
              "      <td>61.000000</td>\n",
              "      <td>61.000000</td>\n",
              "      <td>61.000000</td>\n",
              "      <td>61.000000</td>\n",
              "      <td>60.000000</td>\n",
              "      <td>60.000000</td>\n",
              "      <td>59.000000</td>\n",
              "    </tr>\n",
              "    <tr>\n",
              "      <th>mean</th>\n",
              "      <td>5.612903</td>\n",
              "      <td>57.114754</td>\n",
              "      <td>47.311475</td>\n",
              "      <td>60.885246</td>\n",
              "      <td>53.442623</td>\n",
              "      <td>2.933333</td>\n",
              "      <td>3.866667</td>\n",
              "      <td>49.949153</td>\n",
              "    </tr>\n",
              "    <tr>\n",
              "      <th>std</th>\n",
              "      <td>3.672471</td>\n",
              "      <td>9.259407</td>\n",
              "      <td>8.883582</td>\n",
              "      <td>10.264986</td>\n",
              "      <td>6.614440</td>\n",
              "      <td>1.903313</td>\n",
              "      <td>1.836233</td>\n",
              "      <td>8.398324</td>\n",
              "    </tr>\n",
              "    <tr>\n",
              "      <th>min</th>\n",
              "      <td>0.000000</td>\n",
              "      <td>29.000000</td>\n",
              "      <td>21.000000</td>\n",
              "      <td>24.000000</td>\n",
              "      <td>31.000000</td>\n",
              "      <td>0.000000</td>\n",
              "      <td>1.000000</td>\n",
              "      <td>22.000000</td>\n",
              "    </tr>\n",
              "    <tr>\n",
              "      <th>25%</th>\n",
              "      <td>3.000000</td>\n",
              "      <td>52.000000</td>\n",
              "      <td>42.000000</td>\n",
              "      <td>57.000000</td>\n",
              "      <td>51.000000</td>\n",
              "      <td>1.000000</td>\n",
              "      <td>2.000000</td>\n",
              "      <td>44.500000</td>\n",
              "    </tr>\n",
              "    <tr>\n",
              "      <th>50%</th>\n",
              "      <td>5.000000</td>\n",
              "      <td>59.000000</td>\n",
              "      <td>49.000000</td>\n",
              "      <td>62.000000</td>\n",
              "      <td>54.000000</td>\n",
              "      <td>3.000000</td>\n",
              "      <td>4.000000</td>\n",
              "      <td>52.000000</td>\n",
              "    </tr>\n",
              "    <tr>\n",
              "      <th>75%</th>\n",
              "      <td>7.750000</td>\n",
              "      <td>64.000000</td>\n",
              "      <td>53.000000</td>\n",
              "      <td>68.000000</td>\n",
              "      <td>58.000000</td>\n",
              "      <td>4.000000</td>\n",
              "      <td>5.000000</td>\n",
              "      <td>56.000000</td>\n",
              "    </tr>\n",
              "    <tr>\n",
              "      <th>max</th>\n",
              "      <td>14.000000</td>\n",
              "      <td>71.000000</td>\n",
              "      <td>62.000000</td>\n",
              "      <td>74.000000</td>\n",
              "      <td>70.000000</td>\n",
              "      <td>8.000000</td>\n",
              "      <td>10.000000</td>\n",
              "      <td>63.000000</td>\n",
              "    </tr>\n",
              "  </tbody>\n",
              "</table>\n",
              "</div>"
            ],
            "text/plain": [
              "             Age  CpG 1 TET2  CpG 2 TET2  ...  CpG GRIA2 1  CpG GRIA2 2     ASPA 1\n",
              "count  62.000000   61.000000   61.000000  ...    60.000000    60.000000  59.000000\n",
              "mean    5.612903   57.114754   47.311475  ...     2.933333     3.866667  49.949153\n",
              "std     3.672471    9.259407    8.883582  ...     1.903313     1.836233   8.398324\n",
              "min     0.000000   29.000000   21.000000  ...     0.000000     1.000000  22.000000\n",
              "25%     3.000000   52.000000   42.000000  ...     1.000000     2.000000  44.500000\n",
              "50%     5.000000   59.000000   49.000000  ...     3.000000     4.000000  52.000000\n",
              "75%     7.750000   64.000000   53.000000  ...     4.000000     5.000000  56.000000\n",
              "max    14.000000   71.000000   62.000000  ...     8.000000    10.000000  63.000000\n",
              "\n",
              "[8 rows x 8 columns]"
            ]
          },
          "metadata": {
            "tags": []
          },
          "execution_count": 89
        }
      ]
    },
    {
      "cell_type": "markdown",
      "metadata": {
        "id": "Ju6OFDkYpaNu"
      },
      "source": [
        "We see that there are 62 records, but for some variables (columns) there are some missing datapoints. We can see below the distribution of missing datapoints per variable:"
      ]
    },
    {
      "cell_type": "code",
      "metadata": {
        "id": "0ZSvuQnWr5K5",
        "outputId": "61090d63-3fb3-4e8c-baab-8d76fa861691",
        "colab": {
          "base_uri": "https://localhost:8080/",
          "height": 179
        }
      },
      "source": [
        "bat_data.isnull().sum()"
      ],
      "execution_count": 90,
      "outputs": [
        {
          "output_type": "execute_result",
          "data": {
            "text/plain": [
              "Age            0\n",
              "CpG 1 TET2     1\n",
              "CpG 2 TET2     1\n",
              "CpG 3 TET2     1\n",
              "CpG 4 TET2     1\n",
              "CpG GRIA2 1    2\n",
              "CpG GRIA2 2    2\n",
              "ASPA 1         3\n",
              "dtype: int64"
            ]
          },
          "metadata": {
            "tags": []
          },
          "execution_count": 90
        }
      ]
    },
    {
      "cell_type": "markdown",
      "metadata": {
        "id": "_eQ4aDXxKri7"
      },
      "source": [
        " We only keep complete (no missing datapoints) records:"
      ]
    },
    {
      "cell_type": "code",
      "metadata": {
        "id": "RBlj6tTesbpL",
        "outputId": "a66fe173-2bc9-415f-8f34-97663035b73e",
        "colab": {
          "base_uri": "https://localhost:8080/",
          "height": 53
        }
      },
      "source": [
        "bat_data = bat_data.dropna()\n",
        "target_variable = bat_data[[\"Age\"]]\n",
        "features = bat_data.loc[:, bat_data.columns != 'Age']\n",
        "print(\"Size of target variable: \", target_variable.shape)\n",
        "print(\"Size of feature matrix: \", features.shape)"
      ],
      "execution_count": 91,
      "outputs": [
        {
          "output_type": "stream",
          "text": [
            "Size of target variable:  (58, 1)\n",
            "Size of feature matrix:  (58, 7)\n"
          ],
          "name": "stdout"
        }
      ]
    },
    {
      "cell_type": "markdown",
      "metadata": {
        "id": "Ep3LgercE3Dx"
      },
      "source": [
        "## Visualizing the data\n",
        "\n",
        "### Histogram of the target variable"
      ]
    },
    {
      "cell_type": "code",
      "metadata": {
        "id": "NGEjnWgDEzTT",
        "outputId": "902d90fc-bf67-4f2e-e84d-961da7736aa1",
        "colab": {
          "base_uri": "https://localhost:8080/",
          "height": 265
        }
      },
      "source": [
        "plt.hist(target_variable.to_numpy(), bins = 15)\n",
        "plt.show()"
      ],
      "execution_count": 92,
      "outputs": [
        {
          "output_type": "display_data",
          "data": {
            "image/png": "[encoded data removed]",
            "text/plain": [
              "<Figure size 432x288 with 1 Axes>"
            ]
          },
          "metadata": {
            "tags": []
          }
        }
      ]
    },
    {
      "cell_type": "markdown",
      "metadata": {
        "id": "m_a2pcQcJ-o5"
      },
      "source": [
        "## Training and test sets\n",
        "\n",
        "We have a smaller dataset, and therefore we choose a different split for the size of the training and test sets: e.g. 12% "
      ]
    },
    {
      "cell_type": "code",
      "metadata": {
        "id": "PgI8cFrlhwNK",
        "outputId": "459cd26e-efc9-438a-e304-6ec32f228a13",
        "colab": {
          "base_uri": "https://localhost:8080/",
          "height": 89
        }
      },
      "source": [
        "#we import a function to perform the split\n",
        "from sklearn.model_selection import train_test_split\n",
        "\n",
        "features_train, features_test, target_train, target_test = train_test_split(features, target_variable, test_size=0.12)\n",
        "    \n",
        "#let's print some shapes to get an idea of the resulting data structure\n",
        "print(features_train.shape)\n",
        "print(features_test.shape)\n",
        "print(target_train.shape)\n",
        "print(target_test.shape)"
      ],
      "execution_count": 93,
      "outputs": [
        {
          "output_type": "stream",
          "text": [
            "(51, 7)\n",
            "(7, 7)\n",
            "(51, 1)\n",
            "(7, 1)\n"
          ],
          "name": "stdout"
        }
      ]
    },
    {
      "cell_type": "code",
      "metadata": {
        "id": "0V5VlblvLCZw",
        "outputId": "aeffee3d-e97a-4109-fbca-e19e6f719b6f",
        "colab": {
          "base_uri": "https://localhost:8080/",
          "height": 341
        }
      },
      "source": [
        "print(features_test)\n",
        "print(target_test)"
      ],
      "execution_count": 94,
      "outputs": [
        {
          "output_type": "stream",
          "text": [
            "    CpG 1 TET2  CpG 2 TET2  CpG 3 TET2  ...  CpG GRIA2 1  CpG GRIA2 2  ASPA 1\n",
            "35        66.0        51.0        68.0  ...          3.0          3.0    53.0\n",
            "34        47.0        42.0        59.0  ...          3.0          2.0    51.0\n",
            "9         53.0        41.0        60.0  ...          1.0          2.0    42.0\n",
            "56        50.0        46.0        54.0  ...          3.0          2.0    43.0\n",
            "31        58.0        48.0        62.0  ...          4.0          5.0    40.0\n",
            "26        67.0        57.0        69.0  ...          4.0          4.0    47.0\n",
            "7         61.0        47.0        69.0  ...          1.0          2.0    24.0\n",
            "\n",
            "[7 rows x 7 columns]\n",
            "    Age\n",
            "35    5\n",
            "34    5\n",
            "9     2\n",
            "56   12\n",
            "31    5\n",
            "26    5\n",
            "7     2\n"
          ],
          "name": "stdout"
        }
      ]
    },
    {
      "cell_type": "markdown",
      "metadata": {
        "id": "o93lPZozLjrz"
      },
      "source": [
        "## Building the neural networks model\n",
        "\n",
        "We are now ready to build our neural networks model for regression. First, we set some hyperparameters:\n",
        "\n",
        "- the activation function in the output layer in this case is **linear** (we get directly the results from $\\sum wx + b$\n",
        "- the loss function is MSE (**mean squared error**)"
      ]
    },
    {
      "cell_type": "code",
      "metadata": {
        "id": "BHjBOQDRLJD1"
      },
      "source": [
        "## # Configuration options\n",
        "input_shape = (features.shape[1],) ## tuple that specifies the number of features \n",
        "hidden_nodes = 16\n",
        "hidden_activation = 'relu'\n",
        "output_activation = 'linear'\n",
        "loss_function = 'mean_squared_error'\n",
        "optimizer_used = 'rmsprop' ## or keras.optimizers.adam(lr=0.001)? maybe for softmax regression?\n",
        "num_epochs = 100"
      ],
      "execution_count": 105,
      "outputs": []
    },
    {
      "cell_type": "code",
      "metadata": {
        "id": "VMyVxYiDMINV",
        "outputId": "8f70ccc5-3e36-4fff-a9f3-6fff7d2005e8",
        "colab": {
          "base_uri": "https://localhost:8080/",
          "height": 35
        }
      },
      "source": [
        "print(input_shape)"
      ],
      "execution_count": 96,
      "outputs": [
        {
          "output_type": "stream",
          "text": [
            "(7,)\n"
          ],
          "name": "stdout"
        }
      ]
    },
    {
      "cell_type": "markdown",
      "metadata": {
        "id": "Q5Hiz909JIRn"
      },
      "source": [
        "As we learnt to do throughout the course, we now use `keras` to build our sequential neural networks model:"
      ]
    },
    {
      "cell_type": "code",
      "metadata": {
        "id": "JI2dJT2AMPSq"
      },
      "source": [
        "#we are building a \"sequential\" model, meaning that the data will \n",
        "#flow like INPUT -> ELABORATION -> OUTPUT.\n",
        "from keras.models import Sequential\n",
        "\n",
        "#a \"dense\" layer is a layer were all the data coming in are connected\n",
        "#to all nodes.\n",
        "from keras.layers import Dense\n",
        "\n",
        "# binary classification shallow neural network model in Keras\n",
        "model = Sequential()\n",
        "model.add(Dense(units=hidden_nodes, input_shape=input_shape, activation=hidden_activation))\n",
        "model.add(Dense(1, activation=output_activation))\n",
        "\n",
        "#the model is declared, but we still need to compile it to actually\n",
        "#build all the data structures\n",
        "model.compile(optimizer=optimizer_used, loss=loss_function)"
      ],
      "execution_count": 97,
      "outputs": []
    },
    {
      "cell_type": "code",
      "metadata": {
        "id": "KJ5agM7JMVsE",
        "outputId": "c28395fe-f68b-42ce-ce09-1a989c404017",
        "colab": {
          "base_uri": "https://localhost:8080/",
          "height": 251
        }
      },
      "source": [
        "print(model.summary())"
      ],
      "execution_count": 98,
      "outputs": [
        {
          "output_type": "stream",
          "text": [
            "Model: \"sequential_4\"\n",
            "_________________________________________________________________\n",
            "Layer (type)                 Output Shape              Param #   \n",
            "=================================================================\n",
            "dense_8 (Dense)              (None, 16)                128       \n",
            "_________________________________________________________________\n",
            "dense_9 (Dense)              (None, 1)                 17        \n",
            "=================================================================\n",
            "Total params: 145\n",
            "Trainable params: 145\n",
            "Non-trainable params: 0\n",
            "_________________________________________________________________\n",
            "None\n"
          ],
          "name": "stdout"
        }
      ]
    },
    {
      "cell_type": "markdown",
      "metadata": {
        "id": "t0FwozHIJakU"
      },
      "source": [
        "The `model.summary()` tells us that we now have 145 model parameters to learn: \n",
        "\n",
        "- hidden layer: 7 feature weights x 16 units + 16 b terms $\\rightarrow$ 128 parameters\n",
        "- output layer: 16 unit weights + 1 bias term = 17 parameters  "
      ]
    },
    {
      "cell_type": "markdown",
      "metadata": {
        "id": "KhXMeMyyMbAd"
      },
      "source": [
        "### Training the neural network model"
      ]
    },
    {
      "cell_type": "code",
      "metadata": {
        "id": "2rFoY_ehMf7g"
      },
      "source": [
        "history = model.fit(features_train, target_train, epochs=num_epochs, validation_data=(features_test, target_test), verbose = 0)"
      ],
      "execution_count": 99,
      "outputs": []
    },
    {
      "cell_type": "code",
      "metadata": {
        "id": "CwVjN65mMo6f",
        "outputId": "0bfe960b-3151-4a77-92b6-ebb9ba35a242",
        "colab": {
          "base_uri": "https://localhost:8080/",
          "height": 299
        }
      },
      "source": [
        "def plot_loss_history(h, title):\n",
        "    plt.plot(h.history['loss'], label = \"Train loss\")\n",
        "    plt.plot(h.history['val_loss'], label = \"Validation loss\")\n",
        "    plt.xlabel('Epochs')\n",
        "    plt.title(title)\n",
        "    plt.legend()\n",
        "    plt.show()\n",
        "\n",
        "plot_loss_history(history, 'Logistic ({} epochs)'.format(num_epochs))"
      ],
      "execution_count": 100,
      "outputs": [
        {
          "output_type": "display_data",
          "data": {
            "image/png": "[encoded data removed]",
            "text/plain": [
              "<Figure size 432x288 with 1 Axes>"
            ]
          },
          "metadata": {
            "tags": []
          }
        }
      ]
    },
    {
      "cell_type": "markdown",
      "metadata": {
        "id": "I9cZN6G9MvTc"
      },
      "source": [
        "## Predictions\n",
        "\n",
        "We can now see the predictions our neural networks model produced for the age of bats based on epigenetics marks; below we report also the known target values (ages) from the test set "
      ]
    },
    {
      "cell_type": "code",
      "metadata": {
        "id": "3YrKJ0sYMxFK",
        "outputId": "f42cf192-5f13-4dac-ad6f-cd2b49f5413d",
        "colab": {
          "base_uri": "https://localhost:8080/",
          "height": 181
        }
      },
      "source": [
        "predictions = model.predict(features_test)\n",
        "print(predictions)"
      ],
      "execution_count": 101,
      "outputs": [
        {
          "output_type": "stream",
          "text": [
            "WARNING:tensorflow:5 out of the last 5 calls to <function Model.make_predict_function.<locals>.predict_function at 0x7f44239972f0> triggered tf.function retracing. Tracing is expensive and the excessive number of tracings could be due to (1) creating @tf.function repeatedly in a loop, (2) passing tensors with different shapes, (3) passing Python objects instead of tensors. For (1), please define your @tf.function outside of the loop. For (2), @tf.function has experimental_relax_shapes=True option that relaxes argument shapes that can avoid unnecessary retracing. For (3), please refer to https://www.tensorflow.org/tutorials/customization/performance#python_or_tensor_args and https://www.tensorflow.org/api_docs/python/tf/function for  more details.\n",
            "[[5.0069795]\n",
            " [4.557696 ]\n",
            " [3.7248402]\n",
            " [5.116004 ]\n",
            " [7.418764 ]\n",
            " [7.2927427]\n",
            " [6.0645685]]\n"
          ],
          "name": "stdout"
        }
      ]
    },
    {
      "cell_type": "code",
      "metadata": {
        "id": "p-l-44KDm_Pq",
        "outputId": "07269a21-95e5-4c6a-843c-2797dc78172a",
        "colab": {
          "base_uri": "https://localhost:8080/",
          "height": 161
        }
      },
      "source": [
        "print(target_test)"
      ],
      "execution_count": 102,
      "outputs": [
        {
          "output_type": "stream",
          "text": [
            "    Age\n",
            "35    5\n",
            "34    5\n",
            "9     2\n",
            "56   12\n",
            "31    5\n",
            "26    5\n",
            "7     2\n"
          ],
          "name": "stdout"
        }
      ]
    },
    {
      "cell_type": "markdown",
      "metadata": {
        "id": "3Jb_stcJLaR7"
      },
      "source": [
        "In regression problems you can not use the same accuracy metrics as in classification problems (e.g. error rate, confusion matrix, etc.): in stead, other metrics are used like:\n",
        "\n",
        "- **Pearson linear correlation**\n",
        "- **Spearman rank correlation**\n",
        "- **RMSE** (root mean squared error)\n",
        "- **MAE** (mean absolute error)\n",
        "- etc. (there are many more)"
      ]
    },
    {
      "cell_type": "code",
      "metadata": {
        "id": "Qhs_MUYANn_r",
        "outputId": "9b477e98-f023-4732-8867-6de35ca259e6",
        "colab": {
          "base_uri": "https://localhost:8080/",
          "height": 35
        }
      },
      "source": [
        "y_pred = pd.Series(predictions[:,0])\n",
        "y = pd.Series(target_test.iloc[:,0].to_numpy().astype(float))\n",
        "accuracy = y.corr(y_pred, method='pearson')\n",
        "print(\"accuracy (measured as Pearson's correlation) is: \", accuracy)"
      ],
      "execution_count": 103,
      "outputs": [
        {
          "output_type": "stream",
          "text": [
            "accuracy (measured as Pearson's correlation) is:  0.030423445815369658\n"
          ],
          "name": "stdout"
        }
      ]
    },
    {
      "cell_type": "markdown",
      "metadata": {
        "id": "DgMMwGmYC31l"
      },
      "source": [
        "\n",
        "A scatter plot of predicted vs true values can also be useful to visualise the result of the model:\n",
        "\n"
      ]
    },
    {
      "cell_type": "code",
      "metadata": {
        "id": "4UDWONAIO2Ly",
        "outputId": "e32ccfb7-b60c-4b4d-f6ed-6d2bace39283",
        "colab": {
          "base_uri": "https://localhost:8080/",
          "height": 282
        }
      },
      "source": [
        "plt.style.use('ggplot')\n",
        "\n",
        "plt.scatter(predictions, y)\n",
        "plt.xlabel(\"predicted age\")\n",
        "plt.ylabel(\"observed age\")\n",
        "plt.show()"
      ],
      "execution_count": 104,
      "outputs": [
        {
          "output_type": "display_data",
          "data": {
            "image/png": "[encoded data removed]",
            "text/plain": [
              "<Figure size 432x288 with 1 Axes>"
            ]
          },
          "metadata": {
            "tags": []
          }
        }
      ]
    }
  ]
}