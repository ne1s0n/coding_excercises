{
  "nbformat": 4,
  "nbformat_minor": 0,
  "metadata": {
    "colab": {
      "name": "code_02_keras_basics.ipynb",
      "provenance": [],
      "collapsed_sections": []
    },
    "kernelspec": {
      "name": "python3",
      "display_name": "Python 3"
    }
  },
  "cells": [
    {
      "cell_type": "markdown",
      "metadata": {
        "id": "4DXwxt9r1bx_"
      },
      "source": [
        "## A first (actually second) encounter with Keras\n",
        "\n",
        "`Keras` is a high-level Python library for **deep learning**: Keras is an API wrapper for `TensorFlow`, which is the **backend engine** that performs low-level computations (e.g. tensor products, convolutions, etc.).\n",
        "\n",
        "[Don't worry if there are many terms that you don't fully understand now: we will go over these concepts repeatedly during the course, with increasing levels of detail]\n",
        "\n",
        "Keras allows easy and fast deployment of neural networks models: the code chunk below imports `Keras` functions that define a specific neural network architecture:\n",
        "\n",
        "- `Sequential()`: a network made up of a sequence of successive layers\n",
        "- `Dense()`: fully-connected (dense) layers\n",
        "- the type of **activation functions** to be used in each layer\n",
        "- the number of units in each layer\n"
      ]
    },
    {
      "cell_type": "code",
      "metadata": {
        "id": "-uUdGW-D1ayA"
      },
      "source": [
        "from keras.models import Sequential\n",
        "from keras.layers import Dense, Activation,Conv2D,MaxPooling2D,Flatten,Dropout"
      ],
      "execution_count": null,
      "outputs": []
    },
    {
      "cell_type": "code",
      "metadata": {
        "id": "iV5ShyTb98uU"
      },
      "source": [
        "model = Sequential()\n",
        "model.add(Dense(64, activation='relu', input_dim=50)) #input shape of 50\n",
        "model.add(Dense(28, activation='relu')) #input shape of 50\n",
        "model.add(Dense(10, activation='softmax'))"
      ],
      "execution_count": null,
      "outputs": []
    },
    {
      "cell_type": "markdown",
      "metadata": {
        "id": "6wsTLk6GEqNR"
      },
      "source": [
        "## Model definition\n",
        "\n",
        "As we saw above, the first step is to choose the neural network architecture and define the deep learning model.\n",
        "\n",
        "We first use the `Sequential()` function to select the Keras API for the construction of deep learning models. Sequential models are a stack of layers, each with one input and one output tensor.\n",
        "\n",
        "The function `add()` will then allow us to add subsequent layers to our deep learning model, by specifying the type of layer"
      ]
    },
    {
      "cell_type": "code",
      "metadata": {
        "id": "6AkjMRyaNK8Y"
      },
      "source": [
        "model = Sequential()"
      ],
      "execution_count": null,
      "outputs": []
    },
    {
      "cell_type": "markdown",
      "metadata": {
        "id": "ZuZ5apaYPhCM"
      },
      "source": [
        "### Dense layer\n",
        "\n",
        "The first very common type of layer is the **Fully Connected** (dense) layer: we can specify the number of units in the layer and the activation function to use."
      ]
    },
    {
      "cell_type": "code",
      "metadata": {
        "id": "_81JIwrxPgQX"
      },
      "source": [
        "model.add(Dense(units = 32, activation='relu', input_shape=(12,12,3))) ##input shape: tensor size e.g. 12 x 12 pixels x 3 channels (RGB)"
      ],
      "execution_count": null,
      "outputs": []
    },
    {
      "cell_type": "markdown",
      "metadata": {
        "id": "4vjeG4RIPaK8"
      },
      "source": [
        "### Convolutional layer\n",
        "\n",
        "Another common type of layers is the **convolutional layer** where we specify the number of filters, the size of the filter (kernel) and the activation function.\n"
      ]
    },
    {
      "cell_type": "code",
      "metadata": {
        "id": "CFQbEniLPYS7"
      },
      "source": [
        "model.add(Conv2D(filters = 8, kernel_size = (3, 3), activation='relu'))"
      ],
      "execution_count": null,
      "outputs": []
    },
    {
      "cell_type": "markdown",
      "metadata": {
        "id": "mraG7PM1S0Ea"
      },
      "source": [
        "### MaxPooling layer\n",
        "\n",
        "MaxPooling layers downsample the input representation by taking the maximum value over the window defined by pool size for each dimension along the features axis ($\\rightarrow$ dimensionality reduction)\n"
      ]
    },
    {
      "cell_type": "code",
      "metadata": {
        "id": "pkJ0AGASSzHZ"
      },
      "source": [
        "model.add(MaxPooling2D(pool_size=(2, 2)))"
      ],
      "execution_count": null,
      "outputs": []
    },
    {
      "cell_type": "markdown",
      "metadata": {
        "id": "gxsTd-EyVy24"
      },
      "source": [
        "### Dropout layer\n",
        "\n",
        "The **dropout layer** randomly sets input units to 0 with a specified frequency (`rate` argument) at each step during training, which helps prevent overfitting. "
      ]
    },
    {
      "cell_type": "code",
      "metadata": {
        "id": "d_Vtwu-3VcwA"
      },
      "source": [
        "model.add(Dropout(rate = 0.5))"
      ],
      "execution_count": null,
      "outputs": []
    },
    {
      "cell_type": "markdown",
      "metadata": {
        "id": "hF2wo-KpeOhp"
      },
      "source": [
        "We can get an overview of the defined deep learning model by using the `model.summary()` function:"
      ]
    },
    {
      "cell_type": "code",
      "metadata": {
        "id": "JJrocEIkZBPU",
        "outputId": "1ae39225-aecc-4638-cf66-726eb2698369",
        "colab": {
          "base_uri": "https://localhost:8080/",
          "height": 312
        }
      },
      "source": [
        "print(model.summary())"
      ],
      "execution_count": null,
      "outputs": [
        {
          "output_type": "stream",
          "text": [
            "Model: \"sequential_1\"\n",
            "_________________________________________________________________\n",
            "Layer (type)                 Output Shape              Param #   \n",
            "=================================================================\n",
            "dense_3 (Dense)              (None, 12, 12, 32)        128       \n",
            "_________________________________________________________________\n",
            "conv2d (Conv2D)              (None, 10, 10, 8)         2312      \n",
            "_________________________________________________________________\n",
            "max_pooling2d (MaxPooling2D) (None, 5, 5, 8)           0         \n",
            "_________________________________________________________________\n",
            "dropout (Dropout)            (None, 5, 5, 8)           0         \n",
            "=================================================================\n",
            "Total params: 2,440\n",
            "Trainable params: 2,440\n",
            "Non-trainable params: 0\n",
            "_________________________________________________________________\n",
            "None\n"
          ],
          "name": "stdout"
        }
      ]
    },
    {
      "cell_type": "markdown",
      "metadata": {
        "id": "u1jau0_BeY5B"
      },
      "source": [
        "We see that we have a large number of parameters to train in this model: \n",
        "\n",
        "- 4 parameters (3 channels + bias term) per 32 units in the Dense layer $\\rightarrow$ 128 parameters\n",
        "- for convolutional layer number of parameter is computed as:\n",
        "    - number_parameters = out_channels * (in_channels * kernel_h * kernel_w + 1)\n",
        "    - the \"+ 1\" is for bias term\n",
        "    - `out_channels` = number of units in current layers = 8\n",
        "    - `in_channels` = number of units in previous layer = 32\n",
        "    - `kernel_h` = `kernel_w` = 3\n",
        "    - 8 * (32 * 3 * 3 + 1) = 2312\n"
      ]
    },
    {
      "cell_type": "markdown",
      "metadata": {
        "id": "CmhJQx3OXs6d"
      },
      "source": [
        "## Compiling the model\n",
        "\n",
        "Once the model architecture has been defined, you go on compiling the model by setting up relevant configurations: **loss function**, **optimizer**, etc. "
      ]
    },
    {
      "cell_type": "code",
      "metadata": {
        "id": "4h2t5ivJEI6J"
      },
      "source": [
        "model.compile(loss='mean_squared_error', optimizer='adam')"
      ],
      "execution_count": null,
      "outputs": []
    },
    {
      "cell_type": "markdown",
      "metadata": {
        "id": "BoSoa-PphdjJ"
      },
      "source": [
        "The next steps would be to:\n",
        "\n",
        "- fit the built and compiled model\n",
        "- evaluate the model performance\n",
        "\n",
        "You can find the Keras code for these two steps below: since we currently haven't loaded any data to work on, we commented out these lines of code, for us to see and discuss the syntax "
      ]
    },
    {
      "cell_type": "code",
      "metadata": {
        "id": "ObGoYi48hqMa"
      },
      "source": [
        "# model.fit(X_train, X_train, batch_size=32, epochs=10, validation_data=(x_val, y_val))\n",
        "# score = model.evaluate(x_test, y_test, batch_size=32)"
      ],
      "execution_count": null,
      "outputs": []
    },
    {
      "cell_type": "markdown",
      "metadata": {
        "id": "3y4cx-02hm6T"
      },
      "source": [
        "## An example with simple linear regression\n",
        "\n",
        "We now use Keras to fit a simple linear regression model:\n",
        "\n",
        "$$\n",
        "y = \\mu + \\beta x + e\n",
        "$$\n",
        "\n",
        "we start by generating data for the feature *x* and the target variable *y* (continuous)"
      ]
    },
    {
      "cell_type": "code",
      "metadata": {
        "id": "MF_wy4MciQHA",
        "outputId": "a9ce4328-0d00-4c53-abd2-c9e381661b26",
        "colab": {
          "base_uri": "https://localhost:8080/",
          "height": 35
        }
      },
      "source": [
        "import numpy as np\n",
        "import matplotlib.pyplot as plt \n",
        " \n",
        "x = np.linspace(1,2,200) ## generate 200 samples with values between 1 and 2\n",
        "print(x.shape)\n",
        "y = x*4 + np.random.randn(*x.shape) * 0.3 ## *x.shape is the number of random numbers to generate (* because x.shape is a tuple)"
      ],
      "execution_count": null,
      "outputs": [
        {
          "output_type": "stream",
          "text": [
            "(200,)\n"
          ],
          "name": "stdout"
        }
      ]
    },
    {
      "cell_type": "markdown",
      "metadata": {
        "id": "WwVguveFkz4A"
      },
      "source": [
        "We now build the neural networks model by specifying one Dense layer with one single unit. The activation function is `linear` (identity function). the input dimension is 1 (one feature)"
      ]
    },
    {
      "cell_type": "code",
      "metadata": {
        "id": "2IIPVkGMkuua"
      },
      "source": [
        "model = Sequential()\n",
        "model.add(Dense(1, input_dim=1, activation='linear'))"
      ],
      "execution_count": null,
      "outputs": []
    },
    {
      "cell_type": "markdown",
      "metadata": {
        "id": "8NTEzG-SlTyi"
      },
      "source": [
        "We then compile the model, selecting *stochastic gradient descent* as optimizer and *mean square error* as loss function"
      ]
    },
    {
      "cell_type": "code",
      "metadata": {
        "id": "ZarF5DOTkxKU"
      },
      "source": [
        "model.compile(optimizer='sgd', loss='mse', metrics=['mse'])"
      ],
      "execution_count": null,
      "outputs": []
    },
    {
      "cell_type": "code",
      "metadata": {
        "id": "0ZxIjWMdlY63",
        "outputId": "df6c2a37-ff8a-48b2-f926-2394a42b6542",
        "colab": {
          "base_uri": "https://localhost:8080/",
          "height": 215
        }
      },
      "source": [
        "print(model.summary())"
      ],
      "execution_count": null,
      "outputs": [
        {
          "output_type": "stream",
          "text": [
            "Model: \"sequential\"\n",
            "_________________________________________________________________\n",
            "Layer (type)                 Output Shape              Param #   \n",
            "=================================================================\n",
            "dense (Dense)                (None, 1)                 2         \n",
            "=================================================================\n",
            "Total params: 2\n",
            "Trainable params: 2\n",
            "Non-trainable params: 0\n",
            "_________________________________________________________________\n",
            "None\n"
          ],
          "name": "stdout"
        }
      ]
    },
    {
      "cell_type": "markdown",
      "metadata": {
        "id": "_0LqhG-UlbsP"
      },
      "source": [
        "We here have two parameters to train: the intercept $\\mu$ and the slope $\\beta$"
      ]
    },
    {
      "cell_type": "markdown",
      "metadata": {
        "id": "-08cpPgbmrla"
      },
      "source": [
        "We are now ready to fit our simple linear regression model with Keras. We define epochs=30 (30 iterations of optimization)"
      ]
    },
    {
      "cell_type": "code",
      "metadata": {
        "id": "SBYLRGn3lsNX",
        "outputId": "9e97fdbc-5652-4c37-f6a5-05b2bc57f2b1",
        "colab": {
          "base_uri": "https://localhost:8080/",
          "height": 1000
        }
      },
      "source": [
        "history = model.fit(x,y, epochs=30, shuffle=False)"
      ],
      "execution_count": null,
      "outputs": [
        {
          "output_type": "stream",
          "text": [
            "Epoch 1/30\n",
            "7/7 [==============================] - 0s 1ms/step - loss: 54.5232 - mse: 54.5232\n",
            "Epoch 2/30\n",
            "7/7 [==============================] - 0s 1ms/step - loss: 19.5862 - mse: 19.5862\n",
            "Epoch 3/30\n",
            "7/7 [==============================] - 0s 970us/step - loss: 7.0698 - mse: 7.0698\n",
            "Epoch 4/30\n",
            "7/7 [==============================] - 0s 981us/step - loss: 2.6281 - mse: 2.6281\n",
            "Epoch 5/30\n",
            "7/7 [==============================] - 0s 994us/step - loss: 1.0774 - mse: 1.0774\n",
            "Epoch 6/30\n",
            "7/7 [==============================] - 0s 1ms/step - loss: 0.5513 - mse: 0.5513\n",
            "Epoch 7/30\n",
            "7/7 [==============================] - 0s 1ms/step - loss: 0.3821 - mse: 0.3821\n",
            "Epoch 8/30\n",
            "7/7 [==============================] - 0s 1ms/step - loss: 0.3333 - mse: 0.3333\n",
            "Epoch 9/30\n",
            "7/7 [==============================] - 0s 1ms/step - loss: 0.3227 - mse: 0.3227\n",
            "Epoch 10/30\n",
            "7/7 [==============================] - 0s 1ms/step - loss: 0.3226 - mse: 0.3226\n",
            "Epoch 11/30\n",
            "7/7 [==============================] - 0s 1ms/step - loss: 0.3243 - mse: 0.3243\n",
            "Epoch 12/30\n",
            "7/7 [==============================] - 0s 1ms/step - loss: 0.3255 - mse: 0.3255\n",
            "Epoch 13/30\n",
            "7/7 [==============================] - 0s 1ms/step - loss: 0.3258 - mse: 0.3258\n",
            "Epoch 14/30\n",
            "7/7 [==============================] - 0s 1ms/step - loss: 0.3254 - mse: 0.3254\n",
            "Epoch 15/30\n",
            "7/7 [==============================] - 0s 2ms/step - loss: 0.3244 - mse: 0.3244\n",
            "Epoch 16/30\n",
            "7/7 [==============================] - 0s 1ms/step - loss: 0.3231 - mse: 0.3231\n",
            "Epoch 17/30\n",
            "7/7 [==============================] - 0s 1ms/step - loss: 0.3216 - mse: 0.3216\n",
            "Epoch 18/30\n",
            "7/7 [==============================] - 0s 1ms/step - loss: 0.3200 - mse: 0.3200\n",
            "Epoch 19/30\n",
            "7/7 [==============================] - 0s 1ms/step - loss: 0.3183 - mse: 0.3183\n",
            "Epoch 20/30\n",
            "7/7 [==============================] - 0s 1ms/step - loss: 0.3165 - mse: 0.3165\n",
            "Epoch 21/30\n",
            "7/7 [==============================] - 0s 1ms/step - loss: 0.3148 - mse: 0.3148\n",
            "Epoch 22/30\n",
            "7/7 [==============================] - 0s 1ms/step - loss: 0.3130 - mse: 0.3130\n",
            "Epoch 23/30\n",
            "7/7 [==============================] - 0s 1ms/step - loss: 0.3112 - mse: 0.3112\n",
            "Epoch 24/30\n",
            "7/7 [==============================] - 0s 1ms/step - loss: 0.3095 - mse: 0.3095\n",
            "Epoch 25/30\n",
            "7/7 [==============================] - 0s 1ms/step - loss: 0.3077 - mse: 0.3077\n",
            "Epoch 26/30\n",
            "7/7 [==============================] - 0s 2ms/step - loss: 0.3060 - mse: 0.3060\n",
            "Epoch 27/30\n",
            "7/7 [==============================] - 0s 2ms/step - loss: 0.3043 - mse: 0.3043\n",
            "Epoch 28/30\n",
            "7/7 [==============================] - 0s 1ms/step - loss: 0.3026 - mse: 0.3026\n",
            "Epoch 29/30\n",
            "7/7 [==============================] - 0s 1ms/step - loss: 0.3009 - mse: 0.3009\n",
            "Epoch 30/30\n",
            "7/7 [==============================] - 0s 2ms/step - loss: 0.2992 - mse: 0.2992\n"
          ],
          "name": "stdout"
        }
      ]
    },
    {
      "cell_type": "markdown",
      "metadata": {
        "id": "XjqiaLe0pbEB"
      },
      "source": [
        "Finally, we are ready to evaluate the fitted deep learning model.\n",
        "First, we look at predicted vs observed values: using the fitted model, we predict values for our 200 generated samples"
      ]
    },
    {
      "cell_type": "code",
      "metadata": {
        "id": "9JCA-6JgoV8R",
        "outputId": "39542844-13db-41c3-a51b-55f8c6884c7b",
        "colab": {
          "base_uri": "https://localhost:8080/",
          "height": 89
        }
      },
      "source": [
        "predict = model.predict(x)\n",
        "y_hat = predict.reshape(200,)\n",
        "print(y.shape)\n",
        "print(y_hat.shape)\n",
        "np.corrcoef(y,y_hat)"
      ],
      "execution_count": null,
      "outputs": [
        {
          "output_type": "stream",
          "text": [
            "(200,)\n",
            "(200,)\n"
          ],
          "name": "stdout"
        },
        {
          "output_type": "execute_result",
          "data": {
            "text/plain": [
              "array([[1.        , 0.97027588],\n",
              "       [0.97027588, 1.        ]])"
            ]
          },
          "metadata": {
            "tags": []
          },
          "execution_count": 7
        }
      ]
    },
    {
      "cell_type": "markdown",
      "metadata": {
        "id": "twrvpVMRzgw_"
      },
      "source": [
        "### Question\n",
        "\n",
        "Why do you think that we have such high predictive accuracy?"
      ]
    },
    {
      "cell_type": "code",
      "metadata": {
        "id": "K1JchT4zhlFE",
        "outputId": "1b463f2e-7ae4-4c99-aafe-225a4d723ac7",
        "colab": {
          "base_uri": "https://localhost:8080/",
          "height": 265
        }
      },
      "source": [
        "plt.scatter(y_hat, y)\n",
        "plt.show()"
      ],
      "execution_count": null,
      "outputs": [
        {
          "output_type": "display_data",
          "data": {
            "image/png": "[encoded data removed]",
            "text/plain": [
              "<Figure size 432x288 with 1 Axes>"
            ]
          },
          "metadata": {
            "tags": [],
            "needs_background": "light"
          }
        }
      ]
    },
    {
      "cell_type": "markdown",
      "metadata": {
        "id": "_Seiszuwq3A5"
      },
      "source": [
        "We can plot the decay of the loss over epochs, using results saved in the `history` object"
      ]
    },
    {
      "cell_type": "code",
      "metadata": {
        "id": "GvtM5m56mX3n",
        "outputId": "c6d6d445-f65a-4230-cfcb-b3b5734ac4cf",
        "colab": {
          "base_uri": "https://localhost:8080/",
          "height": 283
        }
      },
      "source": [
        "plt.plot(history.history['loss'])"
      ],
      "execution_count": null,
      "outputs": [
        {
          "output_type": "execute_result",
          "data": {
            "text/plain": [
              "[<matplotlib.lines.Line2D at 0x7f068abd2fd0>]"
            ]
          },
          "metadata": {
            "tags": []
          },
          "execution_count": 9
        },
        {
          "output_type": "display_data",
          "data": {
            "image/png": "[encoded data removed]",
            "text/plain": [
              "<Figure size 432x288 with 1 Axes>"
            ]
          },
          "metadata": {
            "tags": [],
            "needs_background": "light"
          }
        }
      ]
    },
    {
      "cell_type": "markdown",
      "metadata": {
        "id": "RDdf-AQ5q-cT"
      },
      "source": [
        "We can also retrieve the weights (coefficients) estimated in the final layer:"
      ]
    },
    {
      "cell_type": "code",
      "metadata": {
        "id": "MDY2BIpgoQdL",
        "outputId": "2d9fd978-eb9a-4783-d299-edd029007ae4",
        "colab": {
          "base_uri": "https://localhost:8080/",
          "height": 35
        }
      },
      "source": [
        "model.get_weights()"
      ],
      "execution_count": null,
      "outputs": [
        {
          "output_type": "execute_result",
          "data": {
            "text/plain": [
              "[array([[3.6237211]], dtype=float32), array([0.64003026], dtype=float32)]"
            ]
          },
          "metadata": {
            "tags": []
          },
          "execution_count": 103
        }
      ]
    },
    {
      "cell_type": "markdown",
      "metadata": {
        "id": "huMD0ZmkoygY"
      },
      "source": [
        "## Exercise 2.1 [optional]\n",
        "\n",
        "Using the `scikitlearn` dataset `diabetes`, you should fit a simple linear regression model with **Keras**:\n",
        "\n",
        "- select one feature from the data (age, sex, bmi etc.)\n",
        "- build your Keras model\n",
        "- compile the model\n",
        "- fit the model\n",
        "- evaluate the model\n",
        "\n",
        "We have prepared the data loading step for you:"
      ]
    },
    {
      "cell_type": "code",
      "metadata": {
        "id": "CypetAKGrUwq"
      },
      "source": [
        "import pandas as pd\n",
        "import sklearn.datasets\n",
        "\n",
        "diabetes = sklearn.datasets.load_diabetes()\n",
        "diabetes.data = pd.DataFrame(diabetes.data, columns=diabetes.feature_names) #converting numpy array -> pandas DataFrame\n",
        "diabetes.target = pd.Series(diabetes.target)"
      ],
      "execution_count": null,
      "outputs": []
    },
    {
      "cell_type": "code",
      "metadata": {
        "id": "bnUXPvVUryGn",
        "outputId": "b0c840c9-a53b-4a63-8ef2-3231d0f11496",
        "colab": {
          "base_uri": "https://localhost:8080/",
          "height": 721
        }
      },
      "source": [
        "print(diabetes.DESCR)"
      ],
      "execution_count": null,
      "outputs": [
        {
          "output_type": "stream",
          "text": [
            ".. _diabetes_dataset:\n",
            "\n",
            "Diabetes dataset\n",
            "----------------\n",
            "\n",
            "Ten baseline variables, age, sex, body mass index, average blood\n",
            "pressure, and six blood serum measurements were obtained for each of n =\n",
            "442 diabetes patients, as well as the response of interest, a\n",
            "quantitative measure of disease progression one year after baseline.\n",
            "\n",
            "**Data Set Characteristics:**\n",
            "\n",
            "  :Number of Instances: 442\n",
            "\n",
            "  :Number of Attributes: First 10 columns are numeric predictive values\n",
            "\n",
            "  :Target: Column 11 is a quantitative measure of disease progression one year after baseline\n",
            "\n",
            "  :Attribute Information:\n",
            "      - Age\n",
            "      - Sex\n",
            "      - Body mass index\n",
            "      - Average blood pressure\n",
            "      - S1\n",
            "      - S2\n",
            "      - S3\n",
            "      - S4\n",
            "      - S5\n",
            "      - S6\n",
            "\n",
            "Note: Each of these 10 feature variables have been mean centered and scaled by the standard deviation times `n_samples` (i.e. the sum of squares of each column totals 1).\n",
            "\n",
            "Source URL:\n",
            "https://www4.stat.ncsu.edu/~boos/var.select/diabetes.html\n",
            "\n",
            "For more information see:\n",
            "Bradley Efron, Trevor Hastie, Iain Johnstone and Robert Tibshirani (2004) \"Least Angle Regression,\" Annals of Statistics (with discussion), 407-499.\n",
            "(https://web.stanford.edu/~hastie/Papers/LARS/LeastAngle_2002.pdf)\n"
          ],
          "name": "stdout"
        }
      ]
    },
    {
      "cell_type": "code",
      "metadata": {
        "id": "bi7iWJJTrqLd",
        "outputId": "616abfe3-6f56-4aaf-e2df-432d498a0bed",
        "colab": {
          "base_uri": "https://localhost:8080/",
          "height": 419
        }
      },
      "source": [
        "diabetes.data ## features"
      ],
      "execution_count": null,
      "outputs": [
        {
          "output_type": "execute_result",
          "data": {
            "text/html": [
              "<div>\n",
              "<style scoped>\n",
              "    .dataframe tbody tr th:only-of-type {\n",
              "        vertical-align: middle;\n",
              "    }\n",
              "\n",
              "    .dataframe tbody tr th {\n",
              "        vertical-align: top;\n",
              "    }\n",
              "\n",
              "    .dataframe thead th {\n",
              "        text-align: right;\n",
              "    }\n",
              "</style>\n",
              "<table border=\"1\" class=\"dataframe\">\n",
              "  <thead>\n",
              "    <tr style=\"text-align: right;\">\n",
              "      <th></th>\n",
              "      <th>age</th>\n",
              "      <th>sex</th>\n",
              "      <th>bmi</th>\n",
              "      <th>bp</th>\n",
              "      <th>s1</th>\n",
              "      <th>s2</th>\n",
              "      <th>s3</th>\n",
              "      <th>s4</th>\n",
              "      <th>s5</th>\n",
              "      <th>s6</th>\n",
              "    </tr>\n",
              "  </thead>\n",
              "  <tbody>\n",
              "    <tr>\n",
              "      <th>0</th>\n",
              "      <td>0.038076</td>\n",
              "      <td>0.050680</td>\n",
              "      <td>0.061696</td>\n",
              "      <td>0.021872</td>\n",
              "      <td>-0.044223</td>\n",
              "      <td>-0.034821</td>\n",
              "      <td>-0.043401</td>\n",
              "      <td>-0.002592</td>\n",
              "      <td>0.019908</td>\n",
              "      <td>-0.017646</td>\n",
              "    </tr>\n",
              "    <tr>\n",
              "      <th>1</th>\n",
              "      <td>-0.001882</td>\n",
              "      <td>-0.044642</td>\n",
              "      <td>-0.051474</td>\n",
              "      <td>-0.026328</td>\n",
              "      <td>-0.008449</td>\n",
              "      <td>-0.019163</td>\n",
              "      <td>0.074412</td>\n",
              "      <td>-0.039493</td>\n",
              "      <td>-0.068330</td>\n",
              "      <td>-0.092204</td>\n",
              "    </tr>\n",
              "    <tr>\n",
              "      <th>2</th>\n",
              "      <td>0.085299</td>\n",
              "      <td>0.050680</td>\n",
              "      <td>0.044451</td>\n",
              "      <td>-0.005671</td>\n",
              "      <td>-0.045599</td>\n",
              "      <td>-0.034194</td>\n",
              "      <td>-0.032356</td>\n",
              "      <td>-0.002592</td>\n",
              "      <td>0.002864</td>\n",
              "      <td>-0.025930</td>\n",
              "    </tr>\n",
              "    <tr>\n",
              "      <th>3</th>\n",
              "      <td>-0.089063</td>\n",
              "      <td>-0.044642</td>\n",
              "      <td>-0.011595</td>\n",
              "      <td>-0.036656</td>\n",
              "      <td>0.012191</td>\n",
              "      <td>0.024991</td>\n",
              "      <td>-0.036038</td>\n",
              "      <td>0.034309</td>\n",
              "      <td>0.022692</td>\n",
              "      <td>-0.009362</td>\n",
              "    </tr>\n",
              "    <tr>\n",
              "      <th>4</th>\n",
              "      <td>0.005383</td>\n",
              "      <td>-0.044642</td>\n",
              "      <td>-0.036385</td>\n",
              "      <td>0.021872</td>\n",
              "      <td>0.003935</td>\n",
              "      <td>0.015596</td>\n",
              "      <td>0.008142</td>\n",
              "      <td>-0.002592</td>\n",
              "      <td>-0.031991</td>\n",
              "      <td>-0.046641</td>\n",
              "    </tr>\n",
              "    <tr>\n",
              "      <th>...</th>\n",
              "      <td>...</td>\n",
              "      <td>...</td>\n",
              "      <td>...</td>\n",
              "      <td>...</td>\n",
              "      <td>...</td>\n",
              "      <td>...</td>\n",
              "      <td>...</td>\n",
              "      <td>...</td>\n",
              "      <td>...</td>\n",
              "      <td>...</td>\n",
              "    </tr>\n",
              "    <tr>\n",
              "      <th>437</th>\n",
              "      <td>0.041708</td>\n",
              "      <td>0.050680</td>\n",
              "      <td>0.019662</td>\n",
              "      <td>0.059744</td>\n",
              "      <td>-0.005697</td>\n",
              "      <td>-0.002566</td>\n",
              "      <td>-0.028674</td>\n",
              "      <td>-0.002592</td>\n",
              "      <td>0.031193</td>\n",
              "      <td>0.007207</td>\n",
              "    </tr>\n",
              "    <tr>\n",
              "      <th>438</th>\n",
              "      <td>-0.005515</td>\n",
              "      <td>0.050680</td>\n",
              "      <td>-0.015906</td>\n",
              "      <td>-0.067642</td>\n",
              "      <td>0.049341</td>\n",
              "      <td>0.079165</td>\n",
              "      <td>-0.028674</td>\n",
              "      <td>0.034309</td>\n",
              "      <td>-0.018118</td>\n",
              "      <td>0.044485</td>\n",
              "    </tr>\n",
              "    <tr>\n",
              "      <th>439</th>\n",
              "      <td>0.041708</td>\n",
              "      <td>0.050680</td>\n",
              "      <td>-0.015906</td>\n",
              "      <td>0.017282</td>\n",
              "      <td>-0.037344</td>\n",
              "      <td>-0.013840</td>\n",
              "      <td>-0.024993</td>\n",
              "      <td>-0.011080</td>\n",
              "      <td>-0.046879</td>\n",
              "      <td>0.015491</td>\n",
              "    </tr>\n",
              "    <tr>\n",
              "      <th>440</th>\n",
              "      <td>-0.045472</td>\n",
              "      <td>-0.044642</td>\n",
              "      <td>0.039062</td>\n",
              "      <td>0.001215</td>\n",
              "      <td>0.016318</td>\n",
              "      <td>0.015283</td>\n",
              "      <td>-0.028674</td>\n",
              "      <td>0.026560</td>\n",
              "      <td>0.044528</td>\n",
              "      <td>-0.025930</td>\n",
              "    </tr>\n",
              "    <tr>\n",
              "      <th>441</th>\n",
              "      <td>-0.045472</td>\n",
              "      <td>-0.044642</td>\n",
              "      <td>-0.073030</td>\n",
              "      <td>-0.081414</td>\n",
              "      <td>0.083740</td>\n",
              "      <td>0.027809</td>\n",
              "      <td>0.173816</td>\n",
              "      <td>-0.039493</td>\n",
              "      <td>-0.004220</td>\n",
              "      <td>0.003064</td>\n",
              "    </tr>\n",
              "  </tbody>\n",
              "</table>\n",
              "<p>442 rows × 10 columns</p>\n",
              "</div>"
            ],
            "text/plain": [
              "          age       sex       bmi  ...        s4        s5        s6\n",
              "0    0.038076  0.050680  0.061696  ... -0.002592  0.019908 -0.017646\n",
              "1   -0.001882 -0.044642 -0.051474  ... -0.039493 -0.068330 -0.092204\n",
              "2    0.085299  0.050680  0.044451  ... -0.002592  0.002864 -0.025930\n",
              "3   -0.089063 -0.044642 -0.011595  ...  0.034309  0.022692 -0.009362\n",
              "4    0.005383 -0.044642 -0.036385  ... -0.002592 -0.031991 -0.046641\n",
              "..        ...       ...       ...  ...       ...       ...       ...\n",
              "437  0.041708  0.050680  0.019662  ... -0.002592  0.031193  0.007207\n",
              "438 -0.005515  0.050680 -0.015906  ...  0.034309 -0.018118  0.044485\n",
              "439  0.041708  0.050680 -0.015906  ... -0.011080 -0.046879  0.015491\n",
              "440 -0.045472 -0.044642  0.039062  ...  0.026560  0.044528 -0.025930\n",
              "441 -0.045472 -0.044642 -0.073030  ... -0.039493 -0.004220  0.003064\n",
              "\n",
              "[442 rows x 10 columns]"
            ]
          },
          "metadata": {
            "tags": []
          },
          "execution_count": 12
        }
      ]
    },
    {
      "cell_type": "code",
      "metadata": {
        "id": "L2OfxaI6ru_5",
        "outputId": "a43fe6cf-5b71-4be3-a7e8-0c6285cf3c8a",
        "colab": {
          "base_uri": "https://localhost:8080/",
          "height": 233
        }
      },
      "source": [
        "diabetes.target ## quantitative measure of disease progression"
      ],
      "execution_count": null,
      "outputs": [
        {
          "output_type": "execute_result",
          "data": {
            "text/plain": [
              "0      151.0\n",
              "1       75.0\n",
              "2      141.0\n",
              "3      206.0\n",
              "4      135.0\n",
              "       ...  \n",
              "437    178.0\n",
              "438    104.0\n",
              "439    132.0\n",
              "440    220.0\n",
              "441     57.0\n",
              "Length: 442, dtype: float64"
            ]
          },
          "metadata": {
            "tags": []
          },
          "execution_count": 13
        }
      ]
    },
    {
      "cell_type": "markdown",
      "metadata": {
        "id": "lYSoICBFswA7"
      },
      "source": [
        "Now it's your turn to play a bit with basic Keras: enjoy!"
      ]
    },
    {
      "cell_type": "code",
      "metadata": {
        "id": "naLiR2Twrwdy"
      },
      "source": [
        "## your code here"
      ],
      "execution_count": null,
      "outputs": []
    }
  ]
}