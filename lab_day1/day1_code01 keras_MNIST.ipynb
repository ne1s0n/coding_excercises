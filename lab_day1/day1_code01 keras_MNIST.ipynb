{
  "cells": [
    {
      "cell_type": "markdown",
      "metadata": {
        "id": "tUy9M38H59ta"
      },
      "source": [
        "# A deep-learning neural network for image recognition\n",
        "We present here a `Python Keras` implementation of a deep learning neural network for image recognition.\n",
        "\n",
        "This is a high-level implementation with the code organised in blocks that resemble the main logical steps involved in developing a deep learning model.\n",
        "\n",
        "In the next session we'll se the detailed (lower level) implementation, to get a good peek at the code!\n",
        "\n",
        "The publicly available `MNIST` dataset is used.\n",
        "\n",
        "`Keras` is a popular `Python` library for deep learning models:\n",
        "- wrapper for `TensorFlow`\n",
        "- minimalistic\n",
        "- modular\n",
        "- easy to implement\n",
        "\n",
        "The `MNIST` database (Modified National Institute of Standards and Technology database) is a large database of hand-written digits (details and data [here](http://yann.lecun.com/exdb/mnist/)):\n",
        "\n",
        "![mnist](https://drive.google.com/uc?id=1KNK3-8qahQixvL-StpDAs6GoOUAHKSDy)\n",
        "\n",
        "Deep learning consists of neural networks with multiple hidden layers that learn increasingly abstract and complex representations of the input data.\n",
        "For instance, if we train a deep learning model to recognize hand-written digits (images):\n",
        "\n",
        "- the first hidden layers might only learn local edge patterns;\n",
        "- subsequent layers learns more complex representations of the data;\n",
        "- the last layer will classify the image as one of ten digits.\n",
        "\n",
        "For image recognition we use a specific deep learning architecture: **convolutional neural networks** (*CNN*), which assume that input data are images, thereby greatly reducing the number of model parameters to be tuned (more on *CNN's* later in the course).\n"
      ]
    },
    {
      "cell_type": "markdown",
      "metadata": {
        "id": "EG18PhUOLMFk"
      },
      "source": [
        "## 1. SET UP\n",
        "\n",
        "- import libraries\n",
        "- set seed (for reproducibility)\n",
        "\n",
        "We use a `Python` script (`support_code.py`) that contains functions used to do these operations transparently for us (behind the scene)"
      ]
    },
    {
      "cell_type": "code",
      "execution_count": 34,
      "metadata": {
        "id": "qkYYv-WU3lbG",
        "colab": {
          "base_uri": "https://localhost:8080/",
          "height": 295
        },
        "outputId": "a730a627-05b2-4c0b-f176-7829c0110021"
      },
      "outputs": [
        {
          "output_type": "stream",
          "name": "stdout",
          "text": [
            "--2023-10-03 08:36:11--  https://raw.githubusercontent.com/ne1s0n/coding_excercises/master/lab_day1/support_code.py\n",
            "Resolving raw.githubusercontent.com (raw.githubusercontent.com)... 185.199.108.133, 185.199.109.133, 185.199.110.133, ...\n",
            "Connecting to raw.githubusercontent.com (raw.githubusercontent.com)|185.199.108.133|:443... connected.\n",
            "HTTP request sent, awaiting response... 200 OK\n",
            "Length: 5680 (5.5K) [text/plain]\n",
            "Saving to: ‘support_code.py’\n",
            "\n",
            "\rsupport_code.py       0%[                    ]       0  --.-KB/s               \rsupport_code.py     100%[===================>]   5.55K  --.-KB/s    in 0s      \n",
            "\n",
            "2023-10-03 08:36:11 (72.7 MB/s) - ‘support_code.py’ saved [5680/5680]\n",
            "\n",
            "Import all libraries: yes\n",
            "importing libraries\n",
            "Defining functions\n",
            "DONE!\n"
          ]
        },
        {
          "output_type": "display_data",
          "data": {
            "text/plain": [
              "<Figure size 640x480 with 0 Axes>"
            ]
          },
          "metadata": {}
        }
      ],
      "source": [
        "!wget -O support_code.py https://raw.githubusercontent.com/ne1s0n/coding_excercises/master/lab_day1/support_code.py\n",
        "%run support_code.py"
      ]
    },
    {
      "cell_type": "markdown",
      "source": [
        "The next call to the `set_seeds()` function does two things:\n",
        "\n",
        "* set three random seeds (python, tensorflow and numpy)\n",
        "* make TensorFlow ops as deterministic as possible, at the cost of affecting the\n",
        "  overall performance"
      ],
      "metadata": {
        "id": "uyDuLh43rxkQ"
      }
    },
    {
      "cell_type": "code",
      "execution_count": 35,
      "metadata": {
        "id": "_QNtsrFaVgR7"
      },
      "outputs": [],
      "source": [
        "n = 132\n",
        "set_seeds(n)"
      ]
    },
    {
      "cell_type": "markdown",
      "metadata": {
        "id": "OO1GZwrVdFgg"
      },
      "source": [
        "## 2. LOAD THE DATA: `load_data()`\n",
        "\n",
        "- choose how many training and test examples to load from the MNIST dataset"
      ]
    },
    {
      "cell_type": "markdown",
      "metadata": {
        "id": "rG7RUXrA52gj"
      },
      "source": [
        "We load the data from the MNIST dataset, and assign them to the training and testing sets.\n",
        "\n",
        "Image data is generally harder to work with than flat relational data. The MNIST dataset is a beginner-friendly intoduction to working with image data: it contains $70\\,000$ labeled images of handwritten digits. These are grey-scale images, 28 x 28 pixels.\n",
        "\n",
        "The MNIST dataset comprises $60\\,000$ training observations and $10\\,000$ test observations: the function `load_data()` automatically assigns these to the training and testing sets."
      ]
    },
    {
      "cell_type": "code",
      "execution_count": 36,
      "metadata": {
        "id": "Pwqk_z1svIDC"
      },
      "outputs": [],
      "source": [
        "ntrain = 20000\n",
        "ntest = 5000\n",
        "(X_train, y_train, X_test, y_test) = load_data(ntrain,ntest)"
      ]
    },
    {
      "cell_type": "markdown",
      "metadata": {
        "id": "2vJ80YMTdhXk"
      },
      "source": [
        "A little sanity check"
      ]
    },
    {
      "cell_type": "code",
      "execution_count": 37,
      "metadata": {
        "id": "3LyPp6hFvVlX",
        "colab": {
          "base_uri": "https://localhost:8080/"
        },
        "outputId": "aeaa3c7b-c1e8-49e7-fb34-55c8ef2d34c6"
      },
      "outputs": [
        {
          "output_type": "stream",
          "name": "stdout",
          "text": [
            "Size of the training set\n",
            "(20000, 28, 28)\n",
            "Size of the test set\n",
            "(5000, 28, 28)\n"
          ]
        }
      ],
      "source": [
        "print(\"Size of the training set\")\n",
        "print(X_train.shape)\n",
        "print(\"Size of the test set\")\n",
        "print(X_test.shape)"
      ]
    },
    {
      "cell_type": "markdown",
      "metadata": {
        "id": "rgVK5wI4GetE"
      },
      "source": [
        "Data have been split into a **training** and a **testing set**, and within these into a **three-dimensional array** $X$ of **features** (samples x pixels x pixels) and a vector $y$ of labels (0-9 digits).\n",
        "\n",
        "Each record in the 3-D array $X$ is a 28 x 28 matrix of grayscale intensities (1 byte = 8 bits = 0 - 255 values). Grayscale (black-n-white) images only use one color channel. Colour images use three channels (e.g. RGB) and each image (record) is therefore a 3-D matrix (pixels x pixels x 3)."
      ]
    },
    {
      "cell_type": "markdown",
      "metadata": {
        "id": "OGzaheMHeIk2"
      },
      "source": [
        "Let's have a look at one such image:"
      ]
    },
    {
      "cell_type": "code",
      "execution_count": 38,
      "metadata": {
        "id": "uaLJe1Vn0lXI",
        "colab": {
          "base_uri": "https://localhost:8080/",
          "height": 465
        },
        "outputId": "e347bd09-46e9-4bb7-e6df-dec19b9633df"
      },
      "outputs": [
        {
          "output_type": "stream",
          "name": "stdout",
          "text": [
            "First training label:  4\n"
          ]
        },
        {
          "output_type": "execute_result",
          "data": {
            "text/plain": [
              "<matplotlib.image.AxesImage at 0x79c2cd21a560>"
            ]
          },
          "metadata": {},
          "execution_count": 38
        },
        {
          "output_type": "display_data",
          "data": {
            "text/plain": [
              "<Figure size 640x480 with 1 Axes>"
            ],
            "image/png": "[encoded data removed]"
          },
          "metadata": {}
        }
      ],
      "source": [
        "i = 2\n",
        "print(\"First training label: \",y_train[i])\n",
        "plt.imshow(X_train[i, :, :])"
      ]
    },
    {
      "cell_type": "markdown",
      "metadata": {
        "id": "4_o9JYptl9q5"
      },
      "source": [
        "By default the matplotlib function `imshow()` uses pseudocolors to plot grayscale images; if you want to display the actual grayscale image, you can specify the color mapping parameters:"
      ]
    },
    {
      "cell_type": "code",
      "execution_count": 39,
      "metadata": {
        "id": "du5B0HEDl5ni",
        "colab": {
          "base_uri": "https://localhost:8080/",
          "height": 447
        },
        "outputId": "df7b3452-f961-4093-9825-9ab216f4d65b"
      },
      "outputs": [
        {
          "output_type": "execute_result",
          "data": {
            "text/plain": [
              "<matplotlib.image.AxesImage at 0x79c2ac755f60>"
            ]
          },
          "metadata": {},
          "execution_count": 39
        },
        {
          "output_type": "display_data",
          "data": {
            "text/plain": [
              "<Figure size 640x480 with 1 Axes>"
            ],
            "image/png": "[encoded data removed]"
          },
          "metadata": {}
        }
      ],
      "source": [
        "plt.imshow(X_train[0], cmap='gray', vmin=0, vmax=255)"
      ]
    },
    {
      "cell_type": "markdown",
      "source": [
        "What about the labels?"
      ],
      "metadata": {
        "id": "oXoM_zjzoqew"
      }
    },
    {
      "cell_type": "code",
      "source": [
        "y_train[0:10]"
      ],
      "metadata": {
        "id": "exP6LIiZnmZo",
        "colab": {
          "base_uri": "https://localhost:8080/"
        },
        "outputId": "0def702f-759e-472c-e99b-476a35e79e58"
      },
      "execution_count": 40,
      "outputs": [
        {
          "output_type": "execute_result",
          "data": {
            "text/plain": [
              "array([5, 0, 4, 1, 9, 2, 1, 3, 1, 4], dtype=uint8)"
            ]
          },
          "metadata": {},
          "execution_count": 40
        }
      ]
    },
    {
      "cell_type": "markdown",
      "metadata": {
        "id": "MbGoAqrV55W5"
      },
      "source": [
        "## 3. CONFIGURE THE PARAMETERS: `set_parameters()`\n",
        "\n",
        "Define model parameters:\n",
        "\n",
        "- input shape\n",
        "- n. of classes: n. of classes to predict (10 digits, in the MNIST problem)\n",
        "- batch size: DL models typically do not process the entire dataset at once, rather break it in **batches**\n",
        "- n. of epochs: n. of **iterations** over the entire dataset"
      ]
    },
    {
      "cell_type": "code",
      "execution_count": 41,
      "metadata": {
        "id": "wljzYJtfbxji"
      },
      "outputs": [],
      "source": [
        "(img_rows,img_cols,n_classes,batch_size,n_epochs) = set_parameters(28,28,10,64,20)"
      ]
    },
    {
      "cell_type": "markdown",
      "metadata": {
        "id": "_1i4lpSr9IbD"
      },
      "source": [
        "## 4. DATA PREPROCESSING: `preprocess()`\n",
        "\n",
        "- first, we need to explicitly declare the **depth of the image representation** array: in the case of grayscale images there is only one channel, and this dimension is 1\n",
        "- we then **convert the input data type to `float32`** and **normalize the data** values to the range $[0, 1]$. These are operational modifications necessary to speed up and optimize the calculations.\n",
        "- finally, **label vectors are converted to class matrices**. This serves to convert a vector of numerical digits to a matrix of ten classes per observation, which is a better suited representation for a classification problem."
      ]
    },
    {
      "cell_type": "code",
      "execution_count": 42,
      "metadata": {
        "id": "Y0iC2KdoCyGv",
        "colab": {
          "base_uri": "https://localhost:8080/"
        },
        "outputId": "01072586-23b6-4e45-cf6c-29384fc9d7c4"
      },
      "outputs": [
        {
          "output_type": "stream",
          "name": "stdout",
          "text": [
            "declare the correct depth of the image (channels)\n",
            "normalize input data\n",
            "prepare the categorical output matrix\n"
          ]
        }
      ],
      "source": [
        "(X_train,X_test,y_train,y_test,input_shape) = preprocess(X_train,X_test,y_train,y_test,img_rows,img_cols,n_classes)"
      ]
    },
    {
      "cell_type": "code",
      "execution_count": 43,
      "metadata": {
        "id": "IxFIiH5Pf4cX",
        "colab": {
          "base_uri": "https://localhost:8080/"
        },
        "outputId": "357dd45e-f379-4c96-e956-846ce6923ad8"
      },
      "outputs": [
        {
          "output_type": "stream",
          "name": "stdout",
          "text": [
            "Modified array dimensions:\n",
            "(20000, 28, 28, 1)\n",
            "(28, 28, 1)\n"
          ]
        }
      ],
      "source": [
        "print(\"Modified array dimensions:\")\n",
        "print(X_train.shape)\n",
        "print(input_shape)"
      ]
    },
    {
      "cell_type": "markdown",
      "metadata": {
        "id": "05kzgtxDgdpP"
      },
      "source": [
        "Let's take a look at the labels matrix (the 'answers'): the first four training examples(labels)"
      ]
    },
    {
      "cell_type": "code",
      "execution_count": 44,
      "metadata": {
        "id": "8pg9tUjtQX2d",
        "colab": {
          "base_uri": "https://localhost:8080/"
        },
        "outputId": "28de0cbb-d0fd-47bb-95db-065e02f0a832"
      },
      "outputs": [
        {
          "output_type": "stream",
          "name": "stdout",
          "text": [
            "[[0. 0. 0. 0. 0. 1. 0. 0. 0. 0.]\n",
            " [1. 0. 0. 0. 0. 0. 0. 0. 0. 0.]\n",
            " [0. 0. 0. 0. 1. 0. 0. 0. 0. 0.]\n",
            " [0. 1. 0. 0. 0. 0. 0. 0. 0. 0.]]\n"
          ]
        }
      ],
      "source": [
        "print(y_train[0:4])"
      ]
    },
    {
      "cell_type": "markdown",
      "metadata": {
        "id": "m8B_bBPVmgOK"
      },
      "source": [
        "**Your turn! QUESTION: which digits are these?**"
      ]
    },
    {
      "cell_type": "markdown",
      "metadata": {
        "id": "KlUJzLw46FvK"
      },
      "source": [
        "## 5. BUILD THE MODEL: `build_model()`\n",
        "\n",
        "We now define our deep-learning **neural network architecture**, and start building our model for image recognition.\n"
      ]
    },
    {
      "cell_type": "code",
      "execution_count": 45,
      "metadata": {
        "id": "udCTMi2JWaY3"
      },
      "outputs": [],
      "source": [
        "model = build_model(input_shape, n_classes)"
      ]
    },
    {
      "cell_type": "markdown",
      "metadata": {
        "id": "3UJeoYOshfHB"
      },
      "source": [
        "## 6. COMPILE THE MODEL: `compile_model()`\n",
        "\n",
        "The compilation is the final step in creating a model. Once the compilation is done, we can move on to training phase:\n",
        "\n",
        "- loss function (objective of the optimizer)\n",
        "- optimizer (core machinery used to find the weights of the model: learning)\n",
        "- metrics (used to evaluate the model)\n",
        "\n",
        "All this pieces are put together (+ the specified network architecture) in the model compilation step."
      ]
    },
    {
      "cell_type": "code",
      "execution_count": 46,
      "metadata": {
        "id": "YReQveVpRVKg",
        "colab": {
          "base_uri": "https://localhost:8080/"
        },
        "outputId": "f7fc66e3-d793-4e02-8322-df27279ecf06"
      },
      "outputs": [
        {
          "output_type": "stream",
          "name": "stdout",
          "text": [
            "model compiled!\n"
          ]
        }
      ],
      "source": [
        "model = compile_model(model)"
      ]
    },
    {
      "cell_type": "code",
      "execution_count": 47,
      "metadata": {
        "id": "d6NuAj6U0RFd",
        "colab": {
          "base_uri": "https://localhost:8080/"
        },
        "outputId": "c900d618-d7eb-4510-9fbe-c85d76bfd450"
      },
      "outputs": [
        {
          "output_type": "stream",
          "name": "stdout",
          "text": [
            "Model: \"sequential_2\"\n",
            "_________________________________________________________________\n",
            " Layer (type)                Output Shape              Param #   \n",
            "=================================================================\n",
            " conv2d_4 (Conv2D)           (None, 26, 26, 32)        320       \n",
            "                                                                 \n",
            " conv2d_5 (Conv2D)           (None, 24, 24, 64)        18496     \n",
            "                                                                 \n",
            " max_pooling2d_2 (MaxPoolin  (None, 12, 12, 64)        0         \n",
            " g2D)                                                            \n",
            "                                                                 \n",
            " dropout_4 (Dropout)         (None, 12, 12, 64)        0         \n",
            "                                                                 \n",
            " flatten_2 (Flatten)         (None, 9216)              0         \n",
            "                                                                 \n",
            " dense_4 (Dense)             (None, 128)               1179776   \n",
            "                                                                 \n",
            " dropout_5 (Dropout)         (None, 128)               0         \n",
            "                                                                 \n",
            " dense_5 (Dense)             (None, 10)                1290      \n",
            "                                                                 \n",
            "=================================================================\n",
            "Total params: 1199882 (4.58 MB)\n",
            "Trainable params: 1199882 (4.58 MB)\n",
            "Non-trainable params: 0 (0.00 Byte)\n",
            "_________________________________________________________________\n",
            "None\n"
          ]
        }
      ],
      "source": [
        "print(model.summary())"
      ]
    },
    {
      "cell_type": "markdown",
      "metadata": {
        "id": "FKeXuJK86QCJ"
      },
      "source": [
        "## 7. TRAIN THE MODEL: `train_model()`\n",
        "\n",
        "We then fit the model on the training data, specifying:\n",
        "\n",
        "- the batch size\n",
        "- the number of epochs to train the model"
      ]
    },
    {
      "cell_type": "code",
      "execution_count": 48,
      "metadata": {
        "id": "u0i35-QmSHav",
        "colab": {
          "base_uri": "https://localhost:8080/"
        },
        "outputId": "21ee272b-8cf6-406c-9edc-395d188c85b6"
      },
      "outputs": [
        {
          "output_type": "stream",
          "name": "stdout",
          "text": [
            "Epoch 1/20\n",
            "313/313 [==============================] - 4s 7ms/step - loss: 2.2971 - accuracy: 0.1211\n",
            "Epoch 2/20\n",
            "313/313 [==============================] - 2s 6ms/step - loss: 2.2636 - accuracy: 0.1938\n",
            "Epoch 3/20\n",
            "313/313 [==============================] - 2s 6ms/step - loss: 2.2270 - accuracy: 0.2680\n",
            "Epoch 4/20\n",
            "313/313 [==============================] - 2s 6ms/step - loss: 2.1873 - accuracy: 0.3320\n",
            "Epoch 5/20\n",
            "313/313 [==============================] - 2s 6ms/step - loss: 2.1418 - accuracy: 0.3847\n",
            "Epoch 6/20\n",
            "313/313 [==============================] - 2s 6ms/step - loss: 2.0892 - accuracy: 0.4225\n",
            "Epoch 7/20\n",
            "313/313 [==============================] - 2s 7ms/step - loss: 2.0266 - accuracy: 0.4579\n",
            "Epoch 8/20\n",
            "313/313 [==============================] - 2s 6ms/step - loss: 1.9561 - accuracy: 0.4895\n",
            "Epoch 9/20\n",
            "313/313 [==============================] - 2s 6ms/step - loss: 1.8742 - accuracy: 0.5174\n",
            "Epoch 10/20\n",
            "313/313 [==============================] - 2s 6ms/step - loss: 1.7940 - accuracy: 0.5379\n",
            "Epoch 11/20\n",
            "313/313 [==============================] - 2s 6ms/step - loss: 1.7085 - accuracy: 0.5568\n",
            "Epoch 12/20\n",
            "313/313 [==============================] - 2s 6ms/step - loss: 1.6200 - accuracy: 0.5775\n",
            "Epoch 13/20\n",
            "313/313 [==============================] - 2s 7ms/step - loss: 1.5398 - accuracy: 0.5940\n",
            "Epoch 14/20\n",
            "313/313 [==============================] - 2s 6ms/step - loss: 1.4483 - accuracy: 0.6130\n",
            "Epoch 15/20\n",
            "313/313 [==============================] - 2s 6ms/step - loss: 1.3727 - accuracy: 0.6266\n",
            "Epoch 16/20\n",
            "313/313 [==============================] - 2s 6ms/step - loss: 1.3081 - accuracy: 0.6367\n",
            "Epoch 17/20\n",
            "313/313 [==============================] - 2s 6ms/step - loss: 1.2462 - accuracy: 0.6511\n",
            "Epoch 18/20\n",
            "313/313 [==============================] - 2s 6ms/step - loss: 1.1850 - accuracy: 0.6688\n",
            "Epoch 19/20\n",
            "313/313 [==============================] - 2s 6ms/step - loss: 1.1445 - accuracy: 0.6714\n",
            "Epoch 20/20\n",
            "313/313 [==============================] - 2s 7ms/step - loss: 1.0892 - accuracy: 0.6869\n"
          ]
        }
      ],
      "source": [
        "trained_model = train_model(model,X_train,y_train,batch_size,n_epochs,1)"
      ]
    },
    {
      "cell_type": "markdown",
      "metadata": {
        "id": "eGl-EKfQjwif"
      },
      "source": [
        "## 8. TEST THE MODEL: `evaluate_model()`\n",
        "\n",
        "We can now measure the performance (in terms of prediction accuracy) of the trained deep-learning model for image recognition.\n",
        "To measure the performance, we applied our trained model to independent test data."
      ]
    },
    {
      "cell_type": "code",
      "execution_count": 49,
      "metadata": {
        "id": "1U3vgLaETLQI",
        "colab": {
          "base_uri": "https://localhost:8080/"
        },
        "outputId": "0b9ac590-6f57-4fd6-b347-2f102329b5e4"
      },
      "outputs": [
        {
          "output_type": "stream",
          "name": "stdout",
          "text": [
            "157/157 [==============================] - 0s 2ms/step\n",
            "model evaluated\n"
          ]
        }
      ],
      "source": [
        "(score, confusion_matrix) = evaluate_model(trained_model, X_test, y_test)"
      ]
    },
    {
      "cell_type": "markdown",
      "metadata": {
        "id": "BN8i_Waij785"
      },
      "source": [
        "Let's look at the eaccuracy of the model:"
      ]
    },
    {
      "cell_type": "code",
      "execution_count": 50,
      "metadata": {
        "id": "i_PUvRKga0WU",
        "colab": {
          "base_uri": "https://localhost:8080/"
        },
        "outputId": "f75edf94-ac36-4fa8-c2d0-6a401237e071"
      },
      "outputs": [
        {
          "output_type": "stream",
          "name": "stdout",
          "text": [
            "0.775\n"
          ]
        }
      ],
      "source": [
        "print(round(score[1],4))"
      ]
    },
    {
      "cell_type": "markdown",
      "metadata": {
        "id": "AOaSAhBhkAQg"
      },
      "source": [
        "And the **confusion matrix**"
      ]
    },
    {
      "cell_type": "code",
      "execution_count": 51,
      "metadata": {
        "id": "24oSLKTsUh5n",
        "colab": {
          "base_uri": "https://localhost:8080/"
        },
        "outputId": "1adb41e3-ffc7-4dfe-a5c4-5997b36e632b"
      },
      "outputs": [
        {
          "output_type": "stream",
          "name": "stdout",
          "text": [
            "[[432   1   1   4   0   1  12   0   8   1]\n",
            " [  0 550   2   7   0   0   4   0   5   3]\n",
            " [ 12  16 417  19   2   0  23  21  18   2]\n",
            " [  1  12   4 434   0   3   8  19  14   5]\n",
            " [  5   9   6   0 322   0  20  11   6 121]\n",
            " [ 20  12   3 115  14 221  18  11  31  11]\n",
            " [ 20  19  24   0   8   9 381   0   1   0]\n",
            " [  2  36  15   1  14   0   2 419   4  19]\n",
            " [ 13  32  12  76   6   6  12  20 295  17]\n",
            " [ 12  18   9  12  33   0   1  28   3 404]]\n"
          ]
        }
      ],
      "source": [
        "print(confusion_matrix)"
      ]
    },
    {
      "cell_type": "markdown",
      "metadata": {
        "id": "k3Rx5ww3ZfsO"
      },
      "source": [
        "### Confusion matrix\n",
        "\n",
        "A [confusion matrix](https://en.wikipedia.org/wiki/Confusion_matrix) is another way to express the accuracy of your predictions. It's a square matrix, with as many rows (and columns) as your classes. Rows represent *true values* and columns represent *predicted values*. On the main diagonal are thus reported the correct predictions, while off-diagonal elements represent errors.\n",
        "\n",
        "We use the [confusion_matrix()](https://scikit-learn.org/stable/modules/generated/sklearn.metrics.confusion_matrix.html) function part of [scikit-learn library](https://scikit-learn.org/stable/)."
      ]
    },
    {
      "cell_type": "markdown",
      "metadata": {
        "id": "FSFXg6obcHl4"
      },
      "source": [
        "**Your turn! QUESTION: Can you spot the most ambiguous, often confounded classes?**"
      ]
    }
  ],
  "metadata": {
    "colab": {
      "provenance": [],
      "gpuType": "T4"
    },
    "kernelspec": {
      "display_name": "Python 3",
      "name": "python3"
    },
    "accelerator": "GPU"
  },
  "nbformat": 4,
  "nbformat_minor": 0
}