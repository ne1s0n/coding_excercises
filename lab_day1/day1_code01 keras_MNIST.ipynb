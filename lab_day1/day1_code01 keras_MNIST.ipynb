{
  "nbformat": 4,
  "nbformat_minor": 0,
  "metadata": {
    "colab": {
      "name": "day1_code01 keras_MNIST.ipynb",
      "provenance": [],
      "collapsed_sections": []
    },
    "kernelspec": {
      "name": "python3",
      "display_name": "Python 3"
    },
    "accelerator": "GPU"
  },
  "cells": [
    {
      "cell_type": "markdown",
      "metadata": {
        "id": "tUy9M38H59ta"
      },
      "source": [
        "# A deep-learning neural network for image recognition\n",
        "We present here a `Python Keras` implementation of a deep learning neural network for image recognition.\n",
        "\n",
        "This is a high-level implementation with the code organised in blocks that resemble the main logical steps involved in developing a deep learning model. \n",
        "\n",
        "In the next session we'll se the detailed (lower level) implementation, to get a good peek at the code!\n",
        "\n",
        "The publicly available `MNIST` dataset is used.\n",
        "\n",
        "`Keras` is a popular `Python` library for deep learning models:\n",
        "- wrapper for `TensorFlow`\n",
        "- minimalistic\n",
        "- modular\n",
        "- easy to implement\n",
        "\n",
        "The `MNIST` database (Modified National Institute of Standards and Technology database) is a large database of hand-written digits (details and data [here](http://yann.lecun.com/exdb/mnist/)):\n",
        "\n",
        "![mnist](https://drive.google.com/uc?id=1KNK3-8qahQixvL-StpDAs6GoOUAHKSDy)\n",
        "\n",
        "Deep learning consists of neural networks with multiple hidden layers that learn increasingly abstract and complex representations of the input data.\n",
        "For instance, if we train a deep learning model to recognize hand-written digits (images):\n",
        "\n",
        "- the first hidden layers might only learn local edge patterns;\n",
        "- subsequent layers learns more complex representations of the data;\n",
        "- the last layer will classify the image as one of ten digits.\n",
        "\n",
        "For image recognition we use a specific deep learning architecture: **convolutional neural networks** (*CNN*), which assume that input data are images, thereby greatly reducing the number of model parameters to be tuned (more on *CNN's* later in the course).\n"
      ]
    },
    {
      "cell_type": "markdown",
      "metadata": {
        "id": "EG18PhUOLMFk"
      },
      "source": [
        "## 1. SET UP\n",
        "\n",
        "- import libraries\n",
        "- set seed (for reproducibility)"
      ]
    },
    {
      "cell_type": "code",
      "source": [
        "!wget -O support_code.py https://raw.githubusercontent.com/ne1s0n/coding_excercises/master/lab_day1/support_code.py\n",
        "%run support_code.py"
      ],
      "metadata": {
        "colab": {
          "base_uri": "https://localhost:8080/"
        },
        "id": "qkYYv-WU3lbG",
        "outputId": "9a58b690-2920-49df-929d-d30697813e36"
      },
      "execution_count": null,
      "outputs": [
        {
          "output_type": "stream",
          "name": "stdout",
          "text": [
            "--2022-08-25 15:19:35--  https://raw.githubusercontent.com/ne1s0n/coding_excercises/master/lab_day1/support_code.py\n",
            "Resolving raw.githubusercontent.com (raw.githubusercontent.com)... 185.199.108.133, 185.199.109.133, 185.199.110.133, ...\n",
            "Connecting to raw.githubusercontent.com (raw.githubusercontent.com)|185.199.108.133|:443... connected.\n",
            "HTTP request sent, awaiting response... 200 OK\n",
            "Length: 5160 (5.0K) [text/plain]\n",
            "Saving to: ‘support_code.py’\n",
            "\n",
            "support_code.py     100%[===================>]   5.04K  --.-KB/s    in 0s      \n",
            "\n",
            "2022-08-25 15:19:36 (59.8 MB/s) - ‘support_code.py’ saved [5160/5160]\n",
            "\n",
            "Import all libraries: yes\n",
            "importing libraries\n",
            "Defining functions\n",
            "DONE!\n"
          ]
        }
      ]
    },
    {
      "cell_type": "code",
      "metadata": {
        "id": "_QNtsrFaVgR7"
      },
      "source": [
        "n = 132\n",
        "set_seeds(n)"
      ],
      "execution_count": null,
      "outputs": []
    },
    {
      "cell_type": "markdown",
      "source": [
        "## 2. LOAD THE DATA\n",
        "\n",
        "- choose how many training and test examples to load from the MNIST dataset"
      ],
      "metadata": {
        "id": "OO1GZwrVdFgg"
      }
    },
    {
      "cell_type": "markdown",
      "metadata": {
        "id": "rG7RUXrA52gj"
      },
      "source": [
        "We load the data from the MNIST dataset, and assign them to the training and testing sets. \n",
        "\n",
        "Image data is generally harder to work with than flat relational data. The MNIST dataset is a beginner-friendly intoduction to working with image data: it contains $70\\,000$ labeled images of handwritten digits. These are grey-scale images, 28 x 28 pixels.\n",
        "\n",
        "The MNIST dataset comprises $60\\,000$ training observations and $10\\,000$ test observations: the function `load_data()` automatically assigns these to the training and testing sets."
      ]
    },
    {
      "cell_type": "code",
      "source": [
        "ntrain = 40000\n",
        "ntest = 10000\n",
        "(X_train, y_train, X_test, y_test) = load_data(ntrain,ntest)"
      ],
      "metadata": {
        "id": "Pwqk_z1svIDC"
      },
      "execution_count": null,
      "outputs": []
    },
    {
      "cell_type": "markdown",
      "source": [
        "A little sanity check"
      ],
      "metadata": {
        "id": "2vJ80YMTdhXk"
      }
    },
    {
      "cell_type": "code",
      "source": [
        "print(\"Size of the training set\")\n",
        "print(X_train.shape)\n",
        "print(\"Size of the test set\")\n",
        "print(X_test.shape)"
      ],
      "metadata": {
        "colab": {
          "base_uri": "https://localhost:8080/"
        },
        "id": "3LyPp6hFvVlX",
        "outputId": "9c86783e-bfbb-4f3d-b9d6-2fdcdd7626fe"
      },
      "execution_count": null,
      "outputs": [
        {
          "output_type": "stream",
          "name": "stdout",
          "text": [
            "Size of the training set\n",
            "(40000, 28, 28)\n",
            "Size of the test set\n",
            "(10000, 28, 28)\n"
          ]
        }
      ]
    },
    {
      "cell_type": "markdown",
      "source": [
        "Let's have a look at one such image:"
      ],
      "metadata": {
        "id": "OGzaheMHeIk2"
      }
    },
    {
      "cell_type": "code",
      "metadata": {
        "id": "uaLJe1Vn0lXI",
        "colab": {
          "base_uri": "https://localhost:8080/",
          "height": 300
        },
        "outputId": "84ff2ed5-f225-44be-90fb-7f190015e6d3"
      },
      "source": [
        "i = 2\n",
        "print(\"First training label: \",y_train[i])\n",
        "plt.imshow(X_train[i, :, :])"
      ],
      "execution_count": null,
      "outputs": [
        {
          "output_type": "stream",
          "name": "stdout",
          "text": [
            "First training label:  4\n"
          ]
        },
        {
          "output_type": "execute_result",
          "data": {
            "text/plain": [
              "<matplotlib.image.AxesImage at 0x7f7f62a2cb50>"
            ]
          },
          "metadata": {},
          "execution_count": 122
        },
        {
          "output_type": "display_data",
          "data": {
            "text/plain": [
              "<Figure size 432x288 with 1 Axes>"
            ],
            "image/png": "[encoded data removed]"
          },
          "metadata": {
            "needs_background": "light"
          }
        }
      ]
    },
    {
      "cell_type": "markdown",
      "source": [
        "By default the matplotlib function `imshow()` uses pseudocolors to plot grayscale images; if you want to display the actual grayscale image, you can specify the color mapping parameters:"
      ],
      "metadata": {
        "id": "4_o9JYptl9q5"
      }
    },
    {
      "cell_type": "code",
      "source": [
        "plt.imshow(X_train[i], cmap='gray', vmin=0, vmax=255)"
      ],
      "metadata": {
        "colab": {
          "base_uri": "https://localhost:8080/",
          "height": 282
        },
        "id": "du5B0HEDl5ni",
        "outputId": "da8e122b-d47d-4c25-de65-939ddf8aea23"
      },
      "execution_count": null,
      "outputs": [
        {
          "output_type": "execute_result",
          "data": {
            "text/plain": [
              "<matplotlib.image.AxesImage at 0x7f7f629e2c50>"
            ]
          },
          "metadata": {},
          "execution_count": 124
        },
        {
          "output_type": "display_data",
          "data": {
            "text/plain": [
              "<Figure size 432x288 with 1 Axes>"
            ],
            "image/png": "[encoded data removed]"
          },
          "metadata": {
            "needs_background": "light"
          }
        }
      ]
    },
    {
      "cell_type": "markdown",
      "metadata": {
        "id": "MbGoAqrV55W5"
      },
      "source": [
        "## 3. CONFIGURE THE PARAMETERS\n",
        "\n",
        "Define model parameters:\n",
        "\n",
        "- input shape\n",
        "- n. of classes: n. of classes to predict (10 digits, in the MNIST problem)\n",
        "- batch size: DL models typically do not process the entire dataset at once, rather break it in **batches**\n",
        "- n. of epochs: n. of **iterations** over the entire dataset"
      ]
    },
    {
      "cell_type": "code",
      "metadata": {
        "id": "wljzYJtfbxji"
      },
      "source": [
        "(img_rows,img_cols,n_classes,batch_size,n_epochs) = set_parameters(28,28,10,64,20)"
      ],
      "execution_count": null,
      "outputs": []
    },
    {
      "cell_type": "markdown",
      "metadata": {
        "id": "rgVK5wI4GetE"
      },
      "source": [
        "Data have been split into a **training** and a **testing set**, and within these into a **three-dimensional array** $X$ of **features** (samples x pixels x pixels) and a vector $y$ of labels (0-9 digits).\n",
        "\n",
        "Each record in the 3-D array $X$ is a 28 x 28 matrix of grayscale intensities (1 byte = 8 bits = 0 - 255 values). Grayscale (black-n-white) images only use one color channel. Colour images use three channels (e.g. RGB) and each image (record) is therefore a 3-D matrix (pixels x pixels x 3)."
      ]
    },
    {
      "cell_type": "markdown",
      "metadata": {
        "id": "_1i4lpSr9IbD"
      },
      "source": [
        "## 4. DATA PREPROCESSING\n",
        "\n",
        "- first, we need to explicitly declare the **depth of the image representation** array: in the case of grayscale images there is only one channel, and this dimension is 1\n",
        "- we then **convert the input data type to `float32`** and **normalize the data** values to the range $[0, 1]$. These are operational modifications necessary to speed up and optimize the calculations.\n",
        "- finally, **label vectors are converted to class matrices**. This serves to convert a vector of numerical digits to a matrix of ten classes per observation, which is a better suited representation for a classification problem."
      ]
    },
    {
      "cell_type": "code",
      "metadata": {
        "id": "Y0iC2KdoCyGv",
        "colab": {
          "base_uri": "https://localhost:8080/"
        },
        "outputId": "a8c3b234-0bfe-467f-c9a8-f2fcdf1d51c0"
      },
      "source": [
        "(X_train,X_test,y_train,y_test,input_shape) = preprocess(X_train,X_test,y_train,y_test,img_rows,img_cols,n_classes)"
      ],
      "execution_count": null,
      "outputs": [
        {
          "output_type": "stream",
          "name": "stdout",
          "text": [
            "declare the correct depth of the image (channels)\n",
            "normalize input data\n",
            "prepare the categorical output matrix\n"
          ]
        }
      ]
    },
    {
      "cell_type": "code",
      "source": [
        "print(\"Modified array dimensions:\")\n",
        "print(X_train.shape) \n",
        "print(input_shape)  "
      ],
      "metadata": {
        "colab": {
          "base_uri": "https://localhost:8080/"
        },
        "id": "IxFIiH5Pf4cX",
        "outputId": "b997284b-b47a-4819-8647-a4fa378a3feb"
      },
      "execution_count": null,
      "outputs": [
        {
          "output_type": "stream",
          "name": "stdout",
          "text": [
            "Modified array dimensions:\n",
            "(40000, 28, 28, 1)\n",
            "(28, 28, 1)\n"
          ]
        }
      ]
    },
    {
      "cell_type": "markdown",
      "source": [
        "Let's take a look at the output matrix: the first four training examples(labels)"
      ],
      "metadata": {
        "id": "05kzgtxDgdpP"
      }
    },
    {
      "cell_type": "code",
      "metadata": {
        "id": "8pg9tUjtQX2d",
        "colab": {
          "base_uri": "https://localhost:8080/"
        },
        "outputId": "58341502-7e4b-4798-aace-81ab7f4d12a0"
      },
      "source": [
        "print(y_train[0:4]) "
      ],
      "execution_count": null,
      "outputs": [
        {
          "output_type": "stream",
          "name": "stdout",
          "text": [
            "[[0. 0. 0. 0. 0. 1. 0. 0. 0. 0.]\n",
            " [1. 0. 0. 0. 0. 0. 0. 0. 0. 0.]\n",
            " [0. 0. 0. 0. 1. 0. 0. 0. 0. 0.]\n",
            " [0. 1. 0. 0. 0. 0. 0. 0. 0. 0.]]\n"
          ]
        }
      ]
    },
    {
      "cell_type": "markdown",
      "source": [
        "**Your turn! QUESTION: which digits are these?**"
      ],
      "metadata": {
        "id": "m8B_bBPVmgOK"
      }
    },
    {
      "cell_type": "markdown",
      "metadata": {
        "id": "KlUJzLw46FvK"
      },
      "source": [
        "## 5. BUILD THE MODEL\n",
        "\n",
        "We now define our deep-learning **neural network architecture**, and start building our model for image recognition.\n",
        "\n",
        "First, we declare a [sequential model](https://keras.io/guides/sequential_model/), that is a sequence of layers each with one input tensor and one output tensor. \n",
        "Then we add a first convolutional layer ([Conv2D](https://keras.io/api/layers/convolution_layers/convolution2d/)) to our model; parameters are:\n",
        "\n",
        "- number of convolution filters (n. of kernels to convolve with the input data)\n",
        "- number of rows and columns in each convolution kernel\n",
        "- type of activation function\n",
        "- shape of the input array\n"
      ]
    },
    {
      "cell_type": "code",
      "metadata": {
        "id": "udCTMi2JWaY3"
      },
      "source": [
        "model = build_model(input_shape, n_classes)"
      ],
      "execution_count": null,
      "outputs": []
    },
    {
      "cell_type": "code",
      "source": [
        "print(model.summary())"
      ],
      "metadata": {
        "colab": {
          "base_uri": "https://localhost:8080/"
        },
        "id": "2li65hs4R5jz",
        "outputId": "6b0e7843-1253-4863-f8f4-0e6d60582f40"
      },
      "execution_count": null,
      "outputs": [
        {
          "output_type": "stream",
          "name": "stdout",
          "text": [
            "Model: \"sequential_3\"\n",
            "_________________________________________________________________\n",
            " Layer (type)                Output Shape              Param #   \n",
            "=================================================================\n",
            " conv2d_6 (Conv2D)           (None, 26, 26, 32)        320       \n",
            "                                                                 \n",
            " conv2d_7 (Conv2D)           (None, 24, 24, 64)        18496     \n",
            "                                                                 \n",
            " max_pooling2d_3 (MaxPooling  (None, 12, 12, 64)       0         \n",
            " 2D)                                                             \n",
            "                                                                 \n",
            " dropout_6 (Dropout)         (None, 12, 12, 64)        0         \n",
            "                                                                 \n",
            " flatten_3 (Flatten)         (None, 9216)              0         \n",
            "                                                                 \n",
            " dense_5 (Dense)             (None, 128)               1179776   \n",
            "                                                                 \n",
            " dropout_7 (Dropout)         (None, 128)               0         \n",
            "                                                                 \n",
            " dense_6 (Dense)             (None, 10)                1290      \n",
            "                                                                 \n",
            "=================================================================\n",
            "Total params: 1,199,882\n",
            "Trainable params: 1,199,882\n",
            "Non-trainable params: 0\n",
            "_________________________________________________________________\n",
            "None\n"
          ]
        }
      ]
    },
    {
      "cell_type": "markdown",
      "source": [
        "## 6. COMPILE THE MODEL\n",
        "\n",
        "The compilation is the final step in creating a model. Once the compilation is done, we can move on to training phase:\n",
        "\n",
        "- loss function (objective of the optimizer)\n",
        "- optimizer (core machinery used to find the weights of the model: learning) \n",
        "- metrics (used to evaluate the model)\n",
        "\n",
        "All this pieces are put together (+ the specified network architecture) in the model compilation step."
      ],
      "metadata": {
        "id": "3UJeoYOshfHB"
      }
    },
    {
      "cell_type": "code",
      "source": [
        "model = compile_model(model)"
      ],
      "metadata": {
        "colab": {
          "base_uri": "https://localhost:8080/"
        },
        "id": "YReQveVpRVKg",
        "outputId": "d1b4752d-2878-4988-dcde-c9da7658c132"
      },
      "execution_count": null,
      "outputs": [
        {
          "output_type": "stream",
          "name": "stdout",
          "text": [
            "model compiled!\n"
          ]
        }
      ]
    },
    {
      "cell_type": "markdown",
      "metadata": {
        "id": "FKeXuJK86QCJ"
      },
      "source": [
        "## 7. TRAIN THE MODEL\n",
        "\n",
        "We then fit the model on the training data, specifying:\n",
        "\n",
        "- the batch size\n",
        "- the number of epochs to train the model"
      ]
    },
    {
      "cell_type": "code",
      "source": [
        "trained_model = train_model(model,X_train,y_train,batch_size,n_epochs,1)"
      ],
      "metadata": {
        "colab": {
          "base_uri": "https://localhost:8080/"
        },
        "id": "u0i35-QmSHav",
        "outputId": "8b4d0b93-1686-4f96-e2d9-dfe7eb1e2bec"
      },
      "execution_count": null,
      "outputs": [
        {
          "output_type": "stream",
          "name": "stdout",
          "text": [
            "Epoch 1/20\n",
            "625/625 [==============================] - 4s 5ms/step - loss: 2.2774 - accuracy: 0.1317\n",
            "Epoch 2/20\n",
            "625/625 [==============================] - 3s 5ms/step - loss: 2.2029 - accuracy: 0.2278\n",
            "Epoch 3/20\n",
            "625/625 [==============================] - 3s 5ms/step - loss: 2.1075 - accuracy: 0.3249\n",
            "Epoch 4/20\n",
            "625/625 [==============================] - 3s 5ms/step - loss: 1.9881 - accuracy: 0.4097\n",
            "Epoch 5/20\n",
            "625/625 [==============================] - 3s 5ms/step - loss: 1.8457 - accuracy: 0.4810\n",
            "Epoch 6/20\n",
            "625/625 [==============================] - 3s 5ms/step - loss: 1.6892 - accuracy: 0.5415\n",
            "Epoch 7/20\n",
            "625/625 [==============================] - 3s 5ms/step - loss: 1.5274 - accuracy: 0.5913\n",
            "Epoch 8/20\n",
            "625/625 [==============================] - 3s 5ms/step - loss: 1.3741 - accuracy: 0.6278\n",
            "Epoch 9/20\n",
            "625/625 [==============================] - 3s 5ms/step - loss: 1.2464 - accuracy: 0.6543\n",
            "Epoch 10/20\n",
            "625/625 [==============================] - 3s 5ms/step - loss: 1.1364 - accuracy: 0.6789\n",
            "Epoch 11/20\n",
            "625/625 [==============================] - 3s 5ms/step - loss: 1.0535 - accuracy: 0.6933\n",
            "Epoch 12/20\n",
            "625/625 [==============================] - 3s 5ms/step - loss: 0.9845 - accuracy: 0.7092\n",
            "Epoch 13/20\n",
            "625/625 [==============================] - 3s 5ms/step - loss: 0.9229 - accuracy: 0.7251\n",
            "Epoch 14/20\n",
            "625/625 [==============================] - 3s 5ms/step - loss: 0.8782 - accuracy: 0.7365\n",
            "Epoch 15/20\n",
            "625/625 [==============================] - 3s 5ms/step - loss: 0.8378 - accuracy: 0.7478\n",
            "Epoch 16/20\n",
            "625/625 [==============================] - 3s 5ms/step - loss: 0.8003 - accuracy: 0.7580\n",
            "Epoch 17/20\n",
            "625/625 [==============================] - 3s 5ms/step - loss: 0.7653 - accuracy: 0.7694\n",
            "Epoch 18/20\n",
            "625/625 [==============================] - 3s 5ms/step - loss: 0.7413 - accuracy: 0.7732\n",
            "Epoch 19/20\n",
            "625/625 [==============================] - 3s 5ms/step - loss: 0.7199 - accuracy: 0.7794\n",
            "Epoch 20/20\n",
            "625/625 [==============================] - 3s 5ms/step - loss: 0.6946 - accuracy: 0.7870\n"
          ]
        }
      ]
    },
    {
      "cell_type": "markdown",
      "source": [
        "## 8. TEST THE MODEL\n",
        "\n",
        "We can now measure the performance (in terms of prediction accuracy) of the trained deep-learning model for image recognition. \n",
        "To measure the performance, we applied our trained model to independent test data."
      ],
      "metadata": {
        "id": "eGl-EKfQjwif"
      }
    },
    {
      "cell_type": "code",
      "source": [
        "(score, confusion_matrix) = evaluate_model(trained_model, X_test, y_test)"
      ],
      "metadata": {
        "id": "1U3vgLaETLQI",
        "colab": {
          "base_uri": "https://localhost:8080/"
        },
        "outputId": "3a7aa43b-bf76-4f9f-e5a2-2a10e736c932"
      },
      "execution_count": null,
      "outputs": [
        {
          "output_type": "stream",
          "name": "stdout",
          "text": [
            "model evaluated\n"
          ]
        }
      ]
    },
    {
      "cell_type": "markdown",
      "source": [
        "Let's look at the eaccuracy of the model:"
      ],
      "metadata": {
        "id": "BN8i_Waij785"
      }
    },
    {
      "cell_type": "code",
      "source": [
        "print(round(score[1],4))"
      ],
      "metadata": {
        "colab": {
          "base_uri": "https://localhost:8080/"
        },
        "id": "i_PUvRKga0WU",
        "outputId": "c5c780ae-6424-4fef-a6a3-0f1c441e4bae"
      },
      "execution_count": null,
      "outputs": [
        {
          "output_type": "stream",
          "name": "stdout",
          "text": [
            "0.8803\n"
          ]
        }
      ]
    },
    {
      "cell_type": "markdown",
      "source": [
        "And the **confusion matrix**"
      ],
      "metadata": {
        "id": "AOaSAhBhkAQg"
      }
    },
    {
      "cell_type": "code",
      "source": [
        "print(confusion_matrix)"
      ],
      "metadata": {
        "colab": {
          "base_uri": "https://localhost:8080/"
        },
        "id": "24oSLKTsUh5n",
        "outputId": "4404c588-8a1d-475c-fd3d-05c25d89ee35"
      },
      "execution_count": null,
      "outputs": [
        {
          "output_type": "stream",
          "name": "stdout",
          "text": [
            "[[ 953    0    2    2    0    2   12    1    8    0]\n",
            " [   0 1099   13    6    1    2    3    0   10    1]\n",
            " [  17    7  885   16   15    0   26   25   41    0]\n",
            " [   2    9   24  897    0   18    2   21   28    9]\n",
            " [   2    4    5    0  849    0   29    2    7   84]\n",
            " [  25   12    5   78   31  666   19    6   41    9]\n",
            " [  18   13    8    0   12   20  881    2    4    0]\n",
            " [   1   23   27    5    9    0    2  890    8   63]\n",
            " [  13   21   11   44   14   28   13   14  799   17]\n",
            " [  17   11    8   12   34    6    1   28    8  884]]\n"
          ]
        }
      ]
    },
    {
      "cell_type": "markdown",
      "metadata": {
        "id": "k3Rx5ww3ZfsO"
      },
      "source": [
        "### Confusion matrix\n",
        "\n",
        "A [confusion matrix](https://en.wikipedia.org/wiki/Confusion_matrix) is another way to express the accuracy of your predictions. It's a square matrix, with as many rows (and columns) as your classes. Rows represent *true values* and columns represent *predicted values*. On the main diagonal are thus reported the correct predictions, while off-diagonal elements represent errors.\n",
        "\n",
        "We use the [confusion_matrix()](https://scikit-learn.org/stable/modules/generated/sklearn.metrics.confusion_matrix.html) function part of [scikit-learn library](https://scikit-learn.org/stable/)."
      ]
    },
    {
      "cell_type": "markdown",
      "metadata": {
        "id": "FSFXg6obcHl4"
      },
      "source": [
        "**Your turn! QUESTION: Can you spot the most ambiguous, often confounded classes?**"
      ]
    }
  ]
}