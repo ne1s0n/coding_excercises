{
  "nbformat": 4,
  "nbformat_minor": 0,
  "metadata": {
    "colab": {
      "provenance": [],
      "collapsed_sections": []
    },
    "kernelspec": {
      "name": "python3",
      "display_name": "Python 3"
    }
  },
  "cells": [
    {
      "cell_type": "markdown",
      "metadata": {
        "id": "oYvC99Qgqt6L"
      },
      "source": [
        "\n",
        "\n",
        "# Multiclass classification using Softmax\n",
        "\n",
        "We now extend logistic regression to multiclas classification using [softmax](https://en.wikipedia.org/wiki/Softmax_function).\n",
        "\n",
        "The problem requires us to do three-classes classification using a Softmax function, which can be easily considered as an extension of logistic regression over three (or more) classes. We use the neural network-like implementation as with binary classification.\n",
        "\n",
        "Luckily, Keras provides a [softmax activation function](https://keras.io/api/layers/activations/#softmax-function), which we will use instead of the logistic we previously used.\n",
        "\n",
        "The structure of our network will be similar, but the output goes from a single number to **three** numbers, one per class, and we thus need three nodes:\n",
        "\n",
        "<img src=\"https://raw.githubusercontent.com/ne1s0n/coding_excercises/master/data/softmax_neuron.png\">\n",
        "\n",
        "As a result, the loss function will need to change. Remember, loss represents a measure of how good the predictions are. Previously we used binary_crossentropy, but since now predictions are multiclass we need to change function. Luckily Keras provides a natural extension for the multiclass case with [CategoricalCrossentropy](https://keras.io/api/losses/probabilistic_losses/#categoricalcrossentropy-class)\n"
      ]
    },
    {
      "cell_type": "markdown",
      "metadata": {
        "id": "mV7d3uTErn8z"
      },
      "source": [
        "## Categorical data\n",
        "\n",
        "As usual, we first import some necessary libraries and load the data: as we did with binary classification, we first take only two features from the dataset."
      ]
    },
    {
      "cell_type": "code",
      "metadata": {
        "id": "IPv0zhcYsMgV"
      },
      "source": [
        "## import libraries\n",
        "import numpy as np\n",
        "import tensorflow as tf\n",
        "import pandas as pd\n",
        "import sklearn.datasets\n",
        "import matplotlib.pyplot as plt"
      ],
      "execution_count": 240,
      "outputs": []
    },
    {
      "cell_type": "code",
      "metadata": {
        "id": "YROzh8LRrxpk"
      },
      "source": [
        "iris = sklearn.datasets.load_iris()\n",
        "iris.data = pd.DataFrame(iris.data, columns=iris.feature_names) #converting numpy array -> pandas DataFrame\n",
        "iris.target = pd.Series(iris.target) #converting numpy array -> pandas Series\n",
        "iris.target = iris.target.to_frame() #converting Pandas series to dataframe\n",
        "\n",
        "features = iris.data.iloc[:,0:2]\n",
        "target = iris.target\n",
        "\n",
        "feature_x = 0\n",
        "feature_y = 1"
      ],
      "execution_count": 241,
      "outputs": []
    },
    {
      "cell_type": "markdown",
      "metadata": {
        "id": "VxsFtmDp8yC3"
      },
      "source": [
        "We can re-plot the data to check their distribution in the two-feature space:"
      ]
    },
    {
      "cell_type": "code",
      "metadata": {
        "id": "bHepzfwF8oTx",
        "colab": {
          "base_uri": "https://localhost:8080/",
          "height": 282
        },
        "outputId": "73b4e24a-6bc1-4876-f733-3d625e47d39b"
      },
      "source": [
        "#starting a new plot\n",
        "fig, ax = plt.subplots()\n",
        "\n",
        "#adding data in three bunches of 50, once per class\n",
        "ax.scatter(x=iris.data.iloc[0:50,feature_x],    y=iris.data.iloc[0:50,feature_y],    c='red',   label=iris.target_names[0])\n",
        "ax.scatter(x=iris.data.iloc[50:100,feature_x],  y=iris.data.iloc[50:100,feature_y],  c='green', label=iris.target_names[1])\n",
        "ax.scatter(x=iris.data.iloc[100:150,feature_x], y=iris.data.iloc[100:150,feature_y], c='blue',  label=iris.target_names[2])\n",
        "\n",
        "#the axis names are taken from feature names\n",
        "ax.set_xlabel(iris.feature_names[feature_x])\n",
        "ax.set_ylabel(iris.feature_names[feature_y])\n",
        "\n",
        "#adding the legend and printing the plot\n",
        "ax.legend()\n",
        "plt.show()"
      ],
      "execution_count": 242,
      "outputs": [
        {
          "output_type": "display_data",
          "data": {
            "text/plain": [
              "<Figure size 432x288 with 1 Axes>"
            ],
            "image/png": "[encoded data removed]"
          },
          "metadata": {
            "needs_background": "light"
          }
        }
      ]
    },
    {
      "cell_type": "markdown",
      "metadata": {
        "id": "UrkgfuYx9CwZ"
      },
      "source": [
        "We now check the dimensions of our input arrays (a sanity check which is important with neural networks and deep learning):"
      ]
    },
    {
      "cell_type": "code",
      "metadata": {
        "id": "KOCu4sUD8wRM",
        "colab": {
          "base_uri": "https://localhost:8080/"
        },
        "outputId": "7f17f80c-ccca-4836-94ee-e236a546b62b"
      },
      "source": [
        "print('Shape of the feature table: ' + str(features.shape))\n",
        "print('Shape of the target array: ' + str(target.shape))"
      ],
      "execution_count": 243,
      "outputs": [
        {
          "output_type": "stream",
          "name": "stdout",
          "text": [
            "Shape of the feature table: (150, 2)\n",
            "Shape of the target array: (150, 1)\n"
          ]
        }
      ]
    },
    {
      "cell_type": "markdown",
      "metadata": {
        "id": "1VX1jVMWsmwq"
      },
      "source": [
        "The problem is that our target array `iris.target` is a numeric array. But those numbers we used (0, 1, and 2) do not represent real values. In other words, \"virginica\" is not twice \"versicolor\". Numbers here are used as labels, not as quantities.\n",
        "\n",
        "In fact, to properly train a model the structure of the target array must change to [one-hot encoding](https://en.wikipedia.org/wiki/One-hot). In simple terms, it needs to become a table with one row per sample (150 in total) and one column per class (three in total). Something like:\n",
        "\n",
        "| Setosa | Versicolor | Virginica |\n",
        "|------|------|------|\n",
        "|   0  |   1  |   0  |\n",
        "|   1  |   0  |   0  |\n",
        "|   1  |   0  |   0  |\n",
        "|   0  |   0  |   1  |\n",
        "\n",
        "As you can see the first sample is Versicolor, the second and third are Setosa, the last one is Virginica. Note that there is only a single \"one\" per row.\n",
        "\n",
        "Luckily, it's easy to pass to one-hot encoding using keras function [to_categorical](https://keras.io/api/utils/python_utils/#to_categorical-function):\n"
      ]
    },
    {
      "cell_type": "code",
      "metadata": {
        "id": "fnoxh-5vs7_F",
        "colab": {
          "base_uri": "https://localhost:8080/"
        },
        "outputId": "e9b80088-6ad9-42ba-bd3b-98e1ae320f1d"
      },
      "source": [
        "#the \"utils\" subpackage is very useful, take a look to it when you have time\n",
        "from tensorflow.keras.utils import to_categorical\n",
        "\n",
        "#converting to categorical\n",
        "target_multi_cat = tf.keras.utils.to_categorical(target)\n",
        "\n",
        "#since everything else is a Pandas dataframe, let's stick to the format\n",
        "#for consistency\n",
        "target_multi_cat = pd.DataFrame(target_multi_cat)\n",
        "\n",
        "#let's take a look\n",
        "print(target_multi_cat)"
      ],
      "execution_count": 244,
      "outputs": [
        {
          "output_type": "stream",
          "name": "stdout",
          "text": [
            "       0    1    2\n",
            "0    1.0  0.0  0.0\n",
            "1    1.0  0.0  0.0\n",
            "2    1.0  0.0  0.0\n",
            "3    1.0  0.0  0.0\n",
            "4    1.0  0.0  0.0\n",
            "..   ...  ...  ...\n",
            "145  0.0  0.0  1.0\n",
            "146  0.0  0.0  1.0\n",
            "147  0.0  0.0  1.0\n",
            "148  0.0  0.0  1.0\n",
            "149  0.0  0.0  1.0\n",
            "\n",
            "[150 rows x 3 columns]\n"
          ]
        }
      ]
    },
    {
      "cell_type": "markdown",
      "metadata": {
        "id": "ITSVqAr7tQyF"
      },
      "source": [
        "## Training and validation sets\n",
        "\n",
        "We are now ready to create our training and validation sets, as done above:"
      ]
    },
    {
      "cell_type": "code",
      "metadata": {
        "id": "9u_Io-6ftVUc"
      },
      "source": [
        "#we want to have the same proportion of classes in both train and validation sets\n",
        "from sklearn.model_selection import StratifiedShuffleSplit\n",
        "\n",
        "test_pct = 0.2\n",
        "\n",
        "#building a StratifiedShuffleSplit object (sss among friends) with 20% data\n",
        "#assigned to validation set (here called \"test\")\n",
        "#random_state is used to control class balance between training and test sets (None to switch to random behavior)\n",
        "sss = StratifiedShuffleSplit(n_splits=1, test_size= test_pct, random_state=0)\n",
        "\n",
        "for train_index, val_index in sss.split(features, target_multi_cat):\n",
        "    features_train = features.iloc[train_index, :]\n",
        "    features_val   = features.iloc[val_index, :]\n",
        "    target_train   = target_multi_cat.iloc[train_index, :]\n",
        "    target_val     = target_multi_cat.iloc[val_index, :]"
      ],
      "execution_count": 245,
      "outputs": []
    },
    {
      "cell_type": "markdown",
      "metadata": {
        "id": "a7FWwIxGt1a1"
      },
      "source": [
        "Just a little check:"
      ]
    },
    {
      "cell_type": "code",
      "metadata": {
        "id": "tWYIPsoDt3cv",
        "colab": {
          "base_uri": "https://localhost:8080/"
        },
        "outputId": "7ead1850-a4ca-453c-9c55-ad8f924e2c5a"
      },
      "source": [
        "#shapes\n",
        "print(features_train.shape)\n",
        "print(features_val.shape)\n",
        "print(target_train.shape)\n",
        "print(target_val.shape)\n",
        "\n",
        "#number of classes per split\n",
        "print('\\nClasses in train set:')\n",
        "print(target_train.sum())\n",
        "print('\\nClasses in validation set:')\n",
        "print(target_val.sum())"
      ],
      "execution_count": 246,
      "outputs": [
        {
          "output_type": "stream",
          "name": "stdout",
          "text": [
            "(120, 2)\n",
            "(30, 2)\n",
            "(120, 3)\n",
            "(30, 3)\n",
            "\n",
            "Classes in train set:\n",
            "0    40.0\n",
            "1    40.0\n",
            "2    40.0\n",
            "dtype: float32\n",
            "\n",
            "Classes in validation set:\n",
            "0    10.0\n",
            "1    10.0\n",
            "2    10.0\n",
            "dtype: float32\n"
          ]
        }
      ]
    },
    {
      "cell_type": "markdown",
      "metadata": {
        "id": "5EQXmDHjuJ_C"
      },
      "source": [
        "We have now a balanced dataset, with 40 instances for each class in the training set and 10 in the validation set."
      ]
    },
    {
      "cell_type": "markdown",
      "metadata": {
        "id": "MMYSgINdNGHI"
      },
      "source": [
        "## Set up\n",
        "\n",
        "We define here the hyperparameters of the model"
      ]
    },
    {
      "cell_type": "code",
      "metadata": {
        "id": "B88ql-inMRxE"
      },
      "source": [
        "num_classes = 3\n",
        "input_shape = features_train.shape[1]\n",
        "activation_function = 'softmax'\n",
        "optimising_method = 'rmsprop'\n",
        "loss_function = 'categorical_crossentropy'\n",
        "num_epochs = 200"
      ],
      "execution_count": 247,
      "outputs": []
    },
    {
      "cell_type": "markdown",
      "metadata": {
        "id": "kVZZ1dFarX10"
      },
      "source": [
        "## A multiclass model\n",
        "\n",
        "We are now ready to declare our multiclass classification model: we use `Keras`, but this is equivalent to multiclass logistic regression (only with neural networks-like representation). The output layer has three units, corresponding to the three classes:"
      ]
    },
    {
      "cell_type": "code",
      "metadata": {
        "id": "fic85viHqtVB"
      },
      "source": [
        "from keras.models import Sequential\n",
        "from keras.layers import Dense\n",
        "\n",
        "# 3-class softmax regression in Keras\n",
        "model_multi = Sequential()\n",
        "model_multi.add(Dense(units = num_classes, activation=activation_function, input_dim=input_shape))\n",
        "\n",
        "#compile the model specifying the new multiclass loss\n",
        "model_multi.compile(optimizer=optimising_method, loss=loss_function)"
      ],
      "execution_count": 248,
      "outputs": []
    },
    {
      "cell_type": "markdown",
      "metadata": {
        "id": "qVDzz9Hnrh8W"
      },
      "source": [
        "Let's take a look under the hood:"
      ]
    },
    {
      "cell_type": "code",
      "metadata": {
        "id": "VcP7R4JrrbKr",
        "colab": {
          "base_uri": "https://localhost:8080/"
        },
        "outputId": "8663ca63-ebd3-478f-873a-96b89fff2e5a"
      },
      "source": [
        "print(model_multi.summary())"
      ],
      "execution_count": 249,
      "outputs": [
        {
          "output_type": "stream",
          "name": "stdout",
          "text": [
            "Model: \"sequential_6\"\n",
            "_________________________________________________________________\n",
            " Layer (type)                Output Shape              Param #   \n",
            "=================================================================\n",
            " dense_8 (Dense)             (None, 3)                 9         \n",
            "                                                                 \n",
            "=================================================================\n",
            "Total params: 9\n",
            "Trainable params: 9\n",
            "Non-trainable params: 0\n",
            "_________________________________________________________________\n",
            "None\n"
          ]
        }
      ]
    },
    {
      "cell_type": "markdown",
      "metadata": {
        "id": "GX2raO_-rl3F"
      },
      "source": [
        "We now have to train 9 parameters: 3 coefficients (W1, W2 B) times three nodes."
      ]
    },
    {
      "cell_type": "markdown",
      "metadata": {
        "id": "XT912ksQuUxf"
      },
      "source": [
        "## Fitting the model \n",
        "\n",
        "We are ready to fit the model. This time we go directly to 500 epochs, trained in silent mode. We then plot the loss function evolution."
      ]
    },
    {
      "cell_type": "code",
      "metadata": {
        "id": "DvtbANHaulJl"
      },
      "source": [
        "history_multi = model_multi.fit(features_train, target_train, epochs=num_epochs, validation_data=(features_val, target_val), verbose=0)"
      ],
      "execution_count": 250,
      "outputs": []
    },
    {
      "cell_type": "code",
      "metadata": {
        "id": "OUiWK0hxvX3V",
        "colab": {
          "base_uri": "https://localhost:8080/",
          "height": 295
        },
        "outputId": "51bd3c6e-5fd9-481b-8c80-4ccbce7d9d1b"
      },
      "source": [
        "#function to take a look at losses evolution\n",
        "def plot_loss_history(h, title):\n",
        "    plt.plot(h.history['loss'], label = \"Train loss\")\n",
        "    plt.plot(h.history['val_loss'], label = \"Validation loss\")\n",
        "    plt.xlabel('Epochs')\n",
        "    plt.title(title)\n",
        "    plt.legend()\n",
        "    plt.show()\n",
        "\n",
        "plot_loss_history(history_multi, 'Softmax multiclass ({} epochs)'.format(num_epochs))"
      ],
      "execution_count": 251,
      "outputs": [
        {
          "output_type": "display_data",
          "data": {
            "text/plain": [
              "<Figure size 432x288 with 1 Axes>"
            ],
            "image/png": "[encoded data removed]"
          },
          "metadata": {
            "needs_background": "light"
          }
        }
      ]
    },
    {
      "cell_type": "markdown",
      "metadata": {
        "id": "hH_hiUKttHqo"
      },
      "source": [
        "This looks promising. There's the clear same pattern we saw with logistic regression, with a strong improvement in the first hundred epochs (and then things become slow...)"
      ]
    },
    {
      "cell_type": "markdown",
      "metadata": {
        "id": "WwJcq2WytQcH"
      },
      "source": [
        "## Decision boundary\n",
        "\n",
        "We want now to plot again the decision boundary. Unfortunately `plot_decision_regions` function from [mlxtend](http://rasbt.github.io/mlxtend/) module does not support one-hot encoded multiclasses natively. Luckily [there's a quick workaround](https://www.machinecurve.com/index.php/2019/10/17/how-to-use-categorical-multiclass-hinge-with-keras/#visualizing-the-decision-boundary), but if you get lost in the code don't worry and just look at the plot :) "
      ]
    },
    {
      "cell_type": "code",
      "metadata": {
        "id": "ySRsRvoktXdc",
        "colab": {
          "base_uri": "https://localhost:8080/",
          "height": 330
        },
        "outputId": "af3201fe-0029-4a74-f8c2-9ad1e6707615"
      },
      "source": [
        "#we define a class to take the Keras model and convert its predictions\n",
        "#from \"one probability per iris type\" to \"just the iris type with the highest probability\"\n",
        "class Onehot2Int(object):\n",
        "    def __init__(self, model):\n",
        "        self.model = model\n",
        "\n",
        "    def predict(self, X):\n",
        "        y_pred = self.model.predict(X)\n",
        "        return np.argmax(y_pred, axis=1)\n",
        "\n",
        "#we wrap our trained model, instantiating a new object\n",
        "keras_model_no_ohe = Onehot2Int(model_multi)\n",
        "\n",
        "#and we can now plot the decision boundary safely (we still need to convert\n",
        "#the target one-hot-encoded matrix to int, though)\n",
        "from mlxtend.plotting import plot_decision_regions\n",
        "\n",
        "plot_decision_regions(features_train.to_numpy(), np.argmax(target_train.to_numpy(), axis=1), \n",
        "                      clf=keras_model_no_ohe)\n",
        "plt.title('Decision boundary for 0 (setosa) vs 1 (versicolor) vs 2 (virginica)')\n",
        "plt.xlabel(iris.feature_names[feature_x])\n",
        "plt.ylabel(iris.feature_names[feature_y])\n",
        "plt.show()"
      ],
      "execution_count": 252,
      "outputs": [
        {
          "output_type": "stream",
          "name": "stderr",
          "text": [
            "/usr/local/lib/python3.7/dist-packages/mlxtend/plotting/decision_regions.py:244: MatplotlibDeprecationWarning: Passing unsupported keyword arguments to axis() will raise a TypeError in 3.3.\n",
            "  ax.axis(xmin=xx.min(), xmax=xx.max(), y_min=yy.min(), y_max=yy.max())\n"
          ]
        },
        {
          "output_type": "display_data",
          "data": {
            "text/plain": [
              "<Figure size 432x288 with 1 Axes>"
            ],
            "image/png": "[encoded data removed]"
          },
          "metadata": {
            "needs_background": "light"
          }
        }
      ]
    },
    {
      "cell_type": "markdown",
      "metadata": {
        "id": "BOZHtkJ3vid2"
      },
      "source": [
        "### Predictions\n",
        "\n",
        "We now look at predictions in the **test set**: each test sample is assigned to the class with the highest probability.\n",
        "\n",
        "Predicted classes are then compared to true classes in a confusion matrix"
      ]
    },
    {
      "cell_type": "code",
      "metadata": {
        "id": "Eh5rmApBvkxQ",
        "colab": {
          "base_uri": "https://localhost:8080/"
        },
        "outputId": "6c8f4450-8582-46ac-972b-7b6b513f2a18"
      },
      "source": [
        "from sklearn.metrics import confusion_matrix\n",
        "\n",
        "predictions = model_multi.predict(features_val)\n",
        "print(predictions)\n",
        "\n",
        "predicted_classes = np.argmax(predictions,axis=1)\n",
        "predicted_classes = predicted_classes.reshape(len(predicted_classes),1)\n",
        "\n",
        "target_classes = target.iloc[val_index].to_numpy()\n",
        "\n",
        "### for later use ###\n",
        "predicted_classes_logistic = predicted_classes\n",
        "target_classes_logistic = target_classes\n",
        "### --- ###\n",
        "\n",
        "con_mat_df = confusion_matrix(target_classes, predicted_classes, labels = [0,1,2])\n",
        "print(\"\\nConfusion matrix:\")\n",
        "print(con_mat_df)"
      ],
      "execution_count": 257,
      "outputs": [
        {
          "output_type": "stream",
          "name": "stdout",
          "text": [
            "[[0.34934065 0.32161567 0.32904372]\n",
            " [0.29572114 0.3310894  0.3731894 ]\n",
            " [0.32043535 0.29121926 0.38834542]\n",
            " [0.3547035  0.39804903 0.2472475 ]\n",
            " [0.28510934 0.2666857  0.44820493]\n",
            " [0.27884126 0.33323044 0.38792825]\n",
            " [0.37164912 0.41865695 0.209694  ]\n",
            " [0.28950474 0.28752038 0.42297494]\n",
            " [0.28503424 0.2951391  0.41982663]\n",
            " [0.25534785 0.31984285 0.4248093 ]\n",
            " [0.38619927 0.3735289  0.24027178]\n",
            " [0.32349777 0.34871584 0.32778636]\n",
            " [0.2639857  0.27479574 0.46121857]\n",
            " [0.3838577  0.39419222 0.2219501 ]\n",
            " [0.27986774 0.31788474 0.40224752]\n",
            " [0.37490532 0.4300857  0.19500898]\n",
            " [0.3557922  0.43171853 0.21248922]\n",
            " [0.29395983 0.280017   0.42602316]\n",
            " [0.29389215 0.26608083 0.44002706]\n",
            " [0.23563956 0.26804715 0.4963133 ]\n",
            " [0.21310991 0.2673339  0.5195562 ]\n",
            " [0.41681144 0.39888927 0.1842993 ]\n",
            " [0.36097446 0.41630352 0.222722  ]\n",
            " [0.36983398 0.41283616 0.21732989]\n",
            " [0.29926524 0.33812183 0.3626129 ]\n",
            " [0.29395983 0.280017   0.42602316]\n",
            " [0.29572114 0.3310894  0.3731894 ]\n",
            " [0.39497322 0.39618418 0.20884262]\n",
            " [0.33641323 0.3170804  0.3465064 ]\n",
            " [0.3395601  0.2747899  0.38564992]]\n",
            "\n",
            "Confusion matrix:\n",
            "[[2 8 0]\n",
            " [0 1 9]\n",
            " [1 0 9]]\n"
          ]
        }
      ]
    },
    {
      "cell_type": "code",
      "metadata": {
        "id": "2O6Qmf3L7y6a",
        "colab": {
          "base_uri": "https://localhost:8080/",
          "height": 599
        },
        "outputId": "3a65d866-8822-473d-bcd0-0ba1866e3a55"
      },
      "source": [
        "import seaborn as sn\n",
        "\n",
        "figure = plt.figure(figsize=(8, 8))\n",
        "sn.heatmap(con_mat_df, annot=True,cmap=plt.cm.Blues)\n",
        "plt.tight_layout()\n",
        "plt.ylabel('True label')\n",
        "plt.xlabel('Predicted label')\n",
        "plt.show()"
      ],
      "execution_count": 254,
      "outputs": [
        {
          "output_type": "display_data",
          "data": {
            "text/plain": [
              "<Figure size 576x576 with 2 Axes>"
            ],
            "image/png": "[encoded data removed]"
          },
          "metadata": {
            "needs_background": "light"
          }
        }
      ]
    },
    {
      "cell_type": "code",
      "metadata": {
        "id": "_yn965L876q-",
        "colab": {
          "base_uri": "https://localhost:8080/"
        },
        "outputId": "1d52042d-a259-4cdf-b9cd-d2fb076d01ce"
      },
      "source": [
        "from sklearn.metrics import accuracy_score\n",
        "accuracy = accuracy_score(target_classes_logistic, predicted_classes_logistic)\n",
        "print(\"Overall accuracy is: \", accuracy)\n",
        "\n",
        "confusion_matrix(target_classes_logistic, predicted_classes_logistic, normalize='true', labels=[0,1,2])"
      ],
      "execution_count": 258,
      "outputs": [
        {
          "output_type": "stream",
          "name": "stdout",
          "text": [
            "Overall accuracy is:  0.4\n"
          ]
        },
        {
          "output_type": "execute_result",
          "data": {
            "text/plain": [
              "array([[0.2, 0.8, 0. ],\n",
              "       [0. , 0.1, 0.9],\n",
              "       [0.1, 0. , 0.9]])"
            ]
          },
          "metadata": {},
          "execution_count": 258
        }
      ]
    },
    {
      "cell_type": "markdown",
      "metadata": {
        "id": "95rhqPISbszq"
      },
      "source": [
        "# Shallow neural networks for softmax regression\n",
        "\n",
        "We now move on from multinomial logistic regression to softmax regression with neural networks: again, we start by implementing a shallow neural netowrk model.\n",
        "\n",
        "First, we select all four features from the dataset and configure some basic parameters:"
      ]
    },
    {
      "cell_type": "code",
      "metadata": {
        "id": "dTXwA5oBflKf"
      },
      "source": [
        "## select all 4 features\n",
        "features = iris.data.iloc[:,:]"
      ],
      "execution_count": 259,
      "outputs": []
    },
    {
      "cell_type": "code",
      "metadata": {
        "id": "3dKMvwggcGe0"
      },
      "source": [
        "## # Configuration options\n",
        "num_classes = 3\n",
        "input_shape = (features.shape[1],)\n",
        "hidden_nodes = 8\n",
        "hidden_activation = 'relu'\n",
        "output_activation = 'softmax'\n",
        "loss_function = 'categorical_crossentropy'\n",
        "optimizer_used = 'rmsprop' ## or keras.optimizers.adam(lr=0.001)? maybe for softmax regression?"
      ],
      "execution_count": 262,
      "outputs": []
    },
    {
      "cell_type": "code",
      "metadata": {
        "id": "mSPBwa-FfdmB"
      },
      "source": [
        "# 3-class softmax regression in Keras\n",
        "model_multi = Sequential()\n",
        "model_multi.add(Dense(units=hidden_nodes, input_shape=input_shape, activation=hidden_activation))\n",
        "model_multi.add(Dense(num_classes, activation='softmax'))\n",
        "\n",
        "#compile the model specifying the new multiclass loss\n",
        "model_multi.compile(optimizer='rmsprop', loss=loss_function)"
      ],
      "execution_count": 263,
      "outputs": []
    },
    {
      "cell_type": "code",
      "metadata": {
        "id": "5ARQwD-DfgHj",
        "colab": {
          "base_uri": "https://localhost:8080/"
        },
        "outputId": "48c8983b-e4c0-4700-a156-767d6e189362"
      },
      "source": [
        "print(model_multi.summary())"
      ],
      "execution_count": 264,
      "outputs": [
        {
          "output_type": "stream",
          "name": "stdout",
          "text": [
            "Model: \"sequential_8\"\n",
            "_________________________________________________________________\n",
            " Layer (type)                Output Shape              Param #   \n",
            "=================================================================\n",
            " dense_11 (Dense)            (None, 8)                 40        \n",
            "                                                                 \n",
            " dense_12 (Dense)            (None, 3)                 27        \n",
            "                                                                 \n",
            "=================================================================\n",
            "Total params: 67\n",
            "Trainable params: 67\n",
            "Non-trainable params: 0\n",
            "_________________________________________________________________\n",
            "None\n"
          ]
        }
      ]
    },
    {
      "cell_type": "markdown",
      "metadata": {
        "id": "FJRXmm9YglNd"
      },
      "source": [
        "We see that we have 67 parameters to train: 5 parameters (w1 ... w4, b) times 8 nodes in the hidden layer; 9 parameters (8 units + b) times three nodes in the output layer.\n",
        "\n",
        "## Training and test sets\n",
        "\n",
        "We split the data in the training and test sets:"
      ]
    },
    {
      "cell_type": "code",
      "metadata": {
        "id": "u8yMNyp3gkNJ",
        "colab": {
          "base_uri": "https://localhost:8080/"
        },
        "outputId": "e23821d5-65f1-4f84-bad7-97589172d996"
      },
      "source": [
        "#building a StratifiedShuffleSplit object (sss among friends) with 20% data\n",
        "#assigned to validation set (here called \"test\")\n",
        "sss = StratifiedShuffleSplit(n_splits=1, test_size=0.2, random_state=0)\n",
        "\n",
        "#the .split() method returns (an iterable over) two lists which can be\n",
        "#used to index the samples that go into train and validation sets\n",
        "for train_index, val_index in sss.split(features, target_multi_cat):\n",
        "    features_train = features.iloc[train_index, :]\n",
        "    features_val   = features.iloc[val_index, :]\n",
        "    target_train   = target_multi_cat.iloc[train_index,:]\n",
        "    target_val     = target_multi_cat.iloc[val_index,:]\n",
        "    \n",
        "#let's print some shapes to get an idea of the resulting data structure\n",
        "print(\"Training features size: \", features_train.shape)\n",
        "print(\"Test features size: \", features_val.shape)\n",
        "print(\"Training targets size: \", target_train.shape)\n",
        "print(\"Test targets size: \", target_val.shape)\n",
        "\n",
        "print(\"Type of the training features object: \", type(features_train))\n",
        "print(\"Type of the training targets object: \", type(target_train))"
      ],
      "execution_count": 265,
      "outputs": [
        {
          "output_type": "stream",
          "name": "stdout",
          "text": [
            "Training features size:  (120, 4)\n",
            "Test features size:  (30, 4)\n",
            "Training targets size:  (120, 3)\n",
            "Test targets size:  (30, 3)\n",
            "Type of the training features object:  <class 'pandas.core.frame.DataFrame'>\n",
            "Type of the training targets object:  <class 'pandas.core.frame.DataFrame'>\n"
          ]
        }
      ]
    },
    {
      "cell_type": "code",
      "metadata": {
        "id": "rRG3rxbnhFPm",
        "colab": {
          "base_uri": "https://localhost:8080/"
        },
        "outputId": "7f3cc995-05ce-4886-8114-129129f568da"
      },
      "source": [
        "#number of classes per split\n",
        "print('\\nClasses in train set:')\n",
        "print(target_train.sum())\n",
        "print('\\nClasses in validation set:')\n",
        "print(target_val.sum())"
      ],
      "execution_count": 266,
      "outputs": [
        {
          "output_type": "stream",
          "name": "stdout",
          "text": [
            "\n",
            "Classes in train set:\n",
            "0    40.0\n",
            "1    40.0\n",
            "2    40.0\n",
            "dtype: float32\n",
            "\n",
            "Classes in validation set:\n",
            "0    10.0\n",
            "1    10.0\n",
            "2    10.0\n",
            "dtype: float32\n"
          ]
        }
      ]
    },
    {
      "cell_type": "code",
      "metadata": {
        "id": "Vp4EALtwhfUL",
        "colab": {
          "base_uri": "https://localhost:8080/",
          "height": 295
        },
        "outputId": "9b198a95-1465-4198-8311-1fac0347653a"
      },
      "source": [
        "history_multi = model_multi.fit(features_train, target_train, epochs=100, \n",
        "                     validation_data=(features_val, target_val), verbose=0)\n",
        "\n",
        "plot_loss_history(history_multi, 'Softmax multiclass (100 epochs)')"
      ],
      "execution_count": 267,
      "outputs": [
        {
          "output_type": "display_data",
          "data": {
            "text/plain": [
              "<Figure size 432x288 with 1 Axes>"
            ],
            "image/png": "[encoded data removed]"
          },
          "metadata": {
            "needs_background": "light"
          }
        }
      ]
    },
    {
      "cell_type": "code",
      "metadata": {
        "id": "GZJG_vlRhlwa",
        "colab": {
          "base_uri": "https://localhost:8080/"
        },
        "outputId": "6ed47cf9-e257-49c6-b8e1-eeeae03075cf"
      },
      "source": [
        "from sklearn.metrics import confusion_matrix\n",
        "\n",
        "predictions = model_multi.predict(features_val)\n",
        "print(predictions)\n",
        "\n",
        "predicted_classes = np.argmax(predictions,axis=1)\n",
        "target_classes = target.iloc[val_index,:].to_numpy()\n",
        "con_mat_df = confusion_matrix(target_classes, predicted_classes, labels=[0,1,2])\n",
        "print(con_mat_df)"
      ],
      "execution_count": 268,
      "outputs": [
        {
          "output_type": "stream",
          "name": "stdout",
          "text": [
            "[[0.00822053 0.34839794 0.64338154]\n",
            " [0.04770271 0.46349916 0.4887982 ]\n",
            " [0.00742373 0.34708616 0.6454901 ]\n",
            " [0.8493173  0.12250747 0.02817521]\n",
            " [0.01544287 0.40349796 0.5810592 ]\n",
            " [0.0471374  0.46121004 0.4916525 ]\n",
            " [0.8577943  0.11557457 0.02663114]\n",
            " [0.0171019  0.4050123  0.57788575]\n",
            " [0.00959697 0.36671007 0.623693  ]\n",
            " [0.11915538 0.49722114 0.38362345]\n",
            " [0.9166258  0.07120366 0.01217052]\n",
            " [0.08795998 0.4876627  0.42437726]\n",
            " [0.05138621 0.4783559  0.47025788]\n",
            " [0.88096505 0.09862166 0.02041328]\n",
            " [0.09897323 0.49846122 0.40256554]\n",
            " [0.8632424  0.11113557 0.02562203]\n",
            " [0.87747073 0.10054683 0.02198251]\n",
            " [0.09521369 0.5063686  0.39841774]\n",
            " [0.07878792 0.50565547 0.41555655]\n",
            " [0.015748   0.39864317 0.58560884]\n",
            " [0.01537106 0.3978578  0.58677113]\n",
            " [0.8856193  0.09476467 0.0196161 ]\n",
            " [0.8327731  0.13425441 0.0329726 ]\n",
            " [0.8295501  0.1368197  0.03363023]\n",
            " [0.01461888 0.38044    0.60494107]\n",
            " [0.06000194 0.48860294 0.4513951 ]\n",
            " [0.0808964  0.48705214 0.43205142]\n",
            " [0.89949936 0.08415742 0.01634315]\n",
            " [0.00387454 0.30084407 0.69528145]\n",
            " [0.00662151 0.34693173 0.64644676]]\n",
            "[[10  0  0]\n",
            " [ 0  8  2]\n",
            " [ 0  0 10]]\n"
          ]
        }
      ]
    },
    {
      "cell_type": "code",
      "metadata": {
        "id": "Nl1XGbfHh4jS",
        "colab": {
          "base_uri": "https://localhost:8080/",
          "height": 599
        },
        "outputId": "32e01fec-f594-4198-eb7f-b24fbe252582"
      },
      "source": [
        "import seaborn as sn\n",
        "\n",
        "figure = plt.figure(figsize=(8, 8))\n",
        "sn.heatmap(con_mat_df, annot=True,cmap=plt.cm.Blues)\n",
        "plt.tight_layout()\n",
        "plt.ylabel('True label')\n",
        "plt.xlabel('Predicted label')\n",
        "plt.show()"
      ],
      "execution_count": 269,
      "outputs": [
        {
          "output_type": "display_data",
          "data": {
            "text/plain": [
              "<Figure size 576x576 with 2 Axes>"
            ],
            "image/png": "[encoded data removed]"
          },
          "metadata": {
            "needs_background": "light"
          }
        }
      ]
    },
    {
      "cell_type": "code",
      "metadata": {
        "id": "5af7Zgdch8ED",
        "colab": {
          "base_uri": "https://localhost:8080/"
        },
        "outputId": "cc987629-5193-49f6-c07a-5f509bfbd80e"
      },
      "source": [
        "accuracy = accuracy_score(target_classes, predicted_classes)\n",
        "print(\"Overall accuracy is: \", accuracy)\n",
        "\n",
        "confusion_matrix(target_classes, predicted_classes, normalize='true', labels=[0,1,2])"
      ],
      "execution_count": 270,
      "outputs": [
        {
          "output_type": "stream",
          "name": "stdout",
          "text": [
            "Overall accuracy is:  0.9333333333333333\n"
          ]
        },
        {
          "output_type": "execute_result",
          "data": {
            "text/plain": [
              "array([[1. , 0. , 0. ],\n",
              "       [0. , 0.8, 0.2],\n",
              "       [0. , 0. , 1. ]])"
            ]
          },
          "metadata": {},
          "execution_count": 270
        }
      ]
    },
    {
      "cell_type": "markdown",
      "source": [
        "## Cohen's k (snippet)\n",
        "\n",
        "We briefly introduce one additional metric to evaluate multiclass classification models\n",
        "\n",
        "For multiclass classification problems we can also use other metrics to measure performance, like for instance `Cohen's kappa` (or `k` coefficient) (more info <a href='https://en.wikipedia.org/wiki/Cohen%27s_kappa'>here</a>).\n",
        "\n",
        "We start from the results of our model:"
      ],
      "metadata": {
        "id": "4XpoVUv341RN"
      }
    },
    {
      "cell_type": "code",
      "source": [
        "predicted_classes_logistic = predicted_classes_logistic.reshape(len(predicted_classes_logistic))\n",
        "target_classes_logistic = target_classes_logistic.reshape(len(target_classes_logistic))\n",
        "df = pd.DataFrame({'obs':target_classes_logistic, 'preds':predicted_classes_logistic})\n",
        "df['result'] = df.apply(lambda row: row.obs == row.preds, axis=1)\n",
        "df.head()"
      ],
      "metadata": {
        "id": "tN8OWZ4jcX6k",
        "colab": {
          "base_uri": "https://localhost:8080/",
          "height": 206
        },
        "outputId": "3a039beb-4547-45de-e5d8-5408373250b6"
      },
      "execution_count": 271,
      "outputs": [
        {
          "output_type": "execute_result",
          "data": {
            "text/plain": [
              "   obs  preds  result\n",
              "0    2      0   False\n",
              "1    1      2   False\n",
              "2    2      2    True\n",
              "3    0      1   False\n",
              "4    2      2    True"
            ],
            "text/html": [
              "\n",
              "  <div id=\"df-13bbf153-0a16-4c09-9438-4c7ccdb8ecfd\">\n",
              "    <div class=\"colab-df-container\">\n",
              "      <div>\n",
              "<style scoped>\n",
              "    .dataframe tbody tr th:only-of-type {\n",
              "        vertical-align: middle;\n",
              "    }\n",
              "\n",
              "    .dataframe tbody tr th {\n",
              "        vertical-align: top;\n",
              "    }\n",
              "\n",
              "    .dataframe thead th {\n",
              "        text-align: right;\n",
              "    }\n",
              "</style>\n",
              "<table border=\"1\" class=\"dataframe\">\n",
              "  <thead>\n",
              "    <tr style=\"text-align: right;\">\n",
              "      <th></th>\n",
              "      <th>obs</th>\n",
              "      <th>preds</th>\n",
              "      <th>result</th>\n",
              "    </tr>\n",
              "  </thead>\n",
              "  <tbody>\n",
              "    <tr>\n",
              "      <th>0</th>\n",
              "      <td>2</td>\n",
              "      <td>0</td>\n",
              "      <td>False</td>\n",
              "    </tr>\n",
              "    <tr>\n",
              "      <th>1</th>\n",
              "      <td>1</td>\n",
              "      <td>2</td>\n",
              "      <td>False</td>\n",
              "    </tr>\n",
              "    <tr>\n",
              "      <th>2</th>\n",
              "      <td>2</td>\n",
              "      <td>2</td>\n",
              "      <td>True</td>\n",
              "    </tr>\n",
              "    <tr>\n",
              "      <th>3</th>\n",
              "      <td>0</td>\n",
              "      <td>1</td>\n",
              "      <td>False</td>\n",
              "    </tr>\n",
              "    <tr>\n",
              "      <th>4</th>\n",
              "      <td>2</td>\n",
              "      <td>2</td>\n",
              "      <td>True</td>\n",
              "    </tr>\n",
              "  </tbody>\n",
              "</table>\n",
              "</div>\n",
              "      <button class=\"colab-df-convert\" onclick=\"convertToInteractive('df-13bbf153-0a16-4c09-9438-4c7ccdb8ecfd')\"\n",
              "              title=\"Convert this dataframe to an interactive table.\"\n",
              "              style=\"display:none;\">\n",
              "        \n",
              "  <svg xmlns=\"http://www.w3.org/2000/svg\" height=\"24px\"viewBox=\"0 0 24 24\"\n",
              "       width=\"24px\">\n",
              "    <path d=\"M0 0h24v24H0V0z\" fill=\"none\"/>\n",
              "    <path d=\"M18.56 5.44l.94 2.06.94-2.06 2.06-.94-2.06-.94-.94-2.06-.94 2.06-2.06.94zm-11 1L8.5 8.5l.94-2.06 2.06-.94-2.06-.94L8.5 2.5l-.94 2.06-2.06.94zm10 10l.94 2.06.94-2.06 2.06-.94-2.06-.94-.94-2.06-.94 2.06-2.06.94z\"/><path d=\"M17.41 7.96l-1.37-1.37c-.4-.4-.92-.59-1.43-.59-.52 0-1.04.2-1.43.59L10.3 9.45l-7.72 7.72c-.78.78-.78 2.05 0 2.83L4 21.41c.39.39.9.59 1.41.59.51 0 1.02-.2 1.41-.59l7.78-7.78 2.81-2.81c.8-.78.8-2.07 0-2.86zM5.41 20L4 18.59l7.72-7.72 1.47 1.35L5.41 20z\"/>\n",
              "  </svg>\n",
              "      </button>\n",
              "      \n",
              "  <style>\n",
              "    .colab-df-container {\n",
              "      display:flex;\n",
              "      flex-wrap:wrap;\n",
              "      gap: 12px;\n",
              "    }\n",
              "\n",
              "    .colab-df-convert {\n",
              "      background-color: #E8F0FE;\n",
              "      border: none;\n",
              "      border-radius: 50%;\n",
              "      cursor: pointer;\n",
              "      display: none;\n",
              "      fill: #1967D2;\n",
              "      height: 32px;\n",
              "      padding: 0 0 0 0;\n",
              "      width: 32px;\n",
              "    }\n",
              "\n",
              "    .colab-df-convert:hover {\n",
              "      background-color: #E2EBFA;\n",
              "      box-shadow: 0px 1px 2px rgba(60, 64, 67, 0.3), 0px 1px 3px 1px rgba(60, 64, 67, 0.15);\n",
              "      fill: #174EA6;\n",
              "    }\n",
              "\n",
              "    [theme=dark] .colab-df-convert {\n",
              "      background-color: #3B4455;\n",
              "      fill: #D2E3FC;\n",
              "    }\n",
              "\n",
              "    [theme=dark] .colab-df-convert:hover {\n",
              "      background-color: #434B5C;\n",
              "      box-shadow: 0px 1px 3px 1px rgba(0, 0, 0, 0.15);\n",
              "      filter: drop-shadow(0px 1px 2px rgba(0, 0, 0, 0.3));\n",
              "      fill: #FFFFFF;\n",
              "    }\n",
              "  </style>\n",
              "\n",
              "      <script>\n",
              "        const buttonEl =\n",
              "          document.querySelector('#df-13bbf153-0a16-4c09-9438-4c7ccdb8ecfd button.colab-df-convert');\n",
              "        buttonEl.style.display =\n",
              "          google.colab.kernel.accessAllowed ? 'block' : 'none';\n",
              "\n",
              "        async function convertToInteractive(key) {\n",
              "          const element = document.querySelector('#df-13bbf153-0a16-4c09-9438-4c7ccdb8ecfd');\n",
              "          const dataTable =\n",
              "            await google.colab.kernel.invokeFunction('convertToInteractive',\n",
              "                                                     [key], {});\n",
              "          if (!dataTable) return;\n",
              "\n",
              "          const docLinkHtml = 'Like what you see? Visit the ' +\n",
              "            '<a target=\"_blank\" href=https://colab.research.google.com/notebooks/data_table.ipynb>data table notebook</a>'\n",
              "            + ' to learn more about interactive tables.';\n",
              "          element.innerHTML = '';\n",
              "          dataTable['output_type'] = 'display_data';\n",
              "          await google.colab.output.renderOutput(dataTable, element);\n",
              "          const docLink = document.createElement('div');\n",
              "          docLink.innerHTML = docLinkHtml;\n",
              "          element.appendChild(docLink);\n",
              "        }\n",
              "      </script>\n",
              "    </div>\n",
              "  </div>\n",
              "  "
            ]
          },
          "metadata": {},
          "execution_count": 271
        }
      ]
    },
    {
      "cell_type": "markdown",
      "source": [
        "Remember that:\n",
        "\n",
        "- `0` = `setosa`\n",
        "- `1` = `versicolor`\n",
        "- `2` = `virginica`"
      ],
      "metadata": {
        "id": "PMAcQWrh5KD4"
      }
    },
    {
      "cell_type": "code",
      "source": [
        "tbl = df.drop(columns = ['preds']).groupby('obs').sum('result')\n",
        "tbl"
      ],
      "metadata": {
        "id": "bH6GK05_gxMr",
        "colab": {
          "base_uri": "https://localhost:8080/",
          "height": 175
        },
        "outputId": "cb71b6bc-beb3-4203-fad6-dc6a3f5b334d"
      },
      "execution_count": 272,
      "outputs": [
        {
          "output_type": "execute_result",
          "data": {
            "text/plain": [
              "     result\n",
              "obs        \n",
              "0         2\n",
              "1         1\n",
              "2         9"
            ],
            "text/html": [
              "\n",
              "  <div id=\"df-aa6af34e-b5f9-4f7a-9b76-edd25a9415c0\">\n",
              "    <div class=\"colab-df-container\">\n",
              "      <div>\n",
              "<style scoped>\n",
              "    .dataframe tbody tr th:only-of-type {\n",
              "        vertical-align: middle;\n",
              "    }\n",
              "\n",
              "    .dataframe tbody tr th {\n",
              "        vertical-align: top;\n",
              "    }\n",
              "\n",
              "    .dataframe thead th {\n",
              "        text-align: right;\n",
              "    }\n",
              "</style>\n",
              "<table border=\"1\" class=\"dataframe\">\n",
              "  <thead>\n",
              "    <tr style=\"text-align: right;\">\n",
              "      <th></th>\n",
              "      <th>result</th>\n",
              "    </tr>\n",
              "    <tr>\n",
              "      <th>obs</th>\n",
              "      <th></th>\n",
              "    </tr>\n",
              "  </thead>\n",
              "  <tbody>\n",
              "    <tr>\n",
              "      <th>0</th>\n",
              "      <td>2</td>\n",
              "    </tr>\n",
              "    <tr>\n",
              "      <th>1</th>\n",
              "      <td>1</td>\n",
              "    </tr>\n",
              "    <tr>\n",
              "      <th>2</th>\n",
              "      <td>9</td>\n",
              "    </tr>\n",
              "  </tbody>\n",
              "</table>\n",
              "</div>\n",
              "      <button class=\"colab-df-convert\" onclick=\"convertToInteractive('df-aa6af34e-b5f9-4f7a-9b76-edd25a9415c0')\"\n",
              "              title=\"Convert this dataframe to an interactive table.\"\n",
              "              style=\"display:none;\">\n",
              "        \n",
              "  <svg xmlns=\"http://www.w3.org/2000/svg\" height=\"24px\"viewBox=\"0 0 24 24\"\n",
              "       width=\"24px\">\n",
              "    <path d=\"M0 0h24v24H0V0z\" fill=\"none\"/>\n",
              "    <path d=\"M18.56 5.44l.94 2.06.94-2.06 2.06-.94-2.06-.94-.94-2.06-.94 2.06-2.06.94zm-11 1L8.5 8.5l.94-2.06 2.06-.94-2.06-.94L8.5 2.5l-.94 2.06-2.06.94zm10 10l.94 2.06.94-2.06 2.06-.94-2.06-.94-.94-2.06-.94 2.06-2.06.94z\"/><path d=\"M17.41 7.96l-1.37-1.37c-.4-.4-.92-.59-1.43-.59-.52 0-1.04.2-1.43.59L10.3 9.45l-7.72 7.72c-.78.78-.78 2.05 0 2.83L4 21.41c.39.39.9.59 1.41.59.51 0 1.02-.2 1.41-.59l7.78-7.78 2.81-2.81c.8-.78.8-2.07 0-2.86zM5.41 20L4 18.59l7.72-7.72 1.47 1.35L5.41 20z\"/>\n",
              "  </svg>\n",
              "      </button>\n",
              "      \n",
              "  <style>\n",
              "    .colab-df-container {\n",
              "      display:flex;\n",
              "      flex-wrap:wrap;\n",
              "      gap: 12px;\n",
              "    }\n",
              "\n",
              "    .colab-df-convert {\n",
              "      background-color: #E8F0FE;\n",
              "      border: none;\n",
              "      border-radius: 50%;\n",
              "      cursor: pointer;\n",
              "      display: none;\n",
              "      fill: #1967D2;\n",
              "      height: 32px;\n",
              "      padding: 0 0 0 0;\n",
              "      width: 32px;\n",
              "    }\n",
              "\n",
              "    .colab-df-convert:hover {\n",
              "      background-color: #E2EBFA;\n",
              "      box-shadow: 0px 1px 2px rgba(60, 64, 67, 0.3), 0px 1px 3px 1px rgba(60, 64, 67, 0.15);\n",
              "      fill: #174EA6;\n",
              "    }\n",
              "\n",
              "    [theme=dark] .colab-df-convert {\n",
              "      background-color: #3B4455;\n",
              "      fill: #D2E3FC;\n",
              "    }\n",
              "\n",
              "    [theme=dark] .colab-df-convert:hover {\n",
              "      background-color: #434B5C;\n",
              "      box-shadow: 0px 1px 3px 1px rgba(0, 0, 0, 0.15);\n",
              "      filter: drop-shadow(0px 1px 2px rgba(0, 0, 0, 0.3));\n",
              "      fill: #FFFFFF;\n",
              "    }\n",
              "  </style>\n",
              "\n",
              "      <script>\n",
              "        const buttonEl =\n",
              "          document.querySelector('#df-aa6af34e-b5f9-4f7a-9b76-edd25a9415c0 button.colab-df-convert');\n",
              "        buttonEl.style.display =\n",
              "          google.colab.kernel.accessAllowed ? 'block' : 'none';\n",
              "\n",
              "        async function convertToInteractive(key) {\n",
              "          const element = document.querySelector('#df-aa6af34e-b5f9-4f7a-9b76-edd25a9415c0');\n",
              "          const dataTable =\n",
              "            await google.colab.kernel.invokeFunction('convertToInteractive',\n",
              "                                                     [key], {});\n",
              "          if (!dataTable) return;\n",
              "\n",
              "          const docLinkHtml = 'Like what you see? Visit the ' +\n",
              "            '<a target=\"_blank\" href=https://colab.research.google.com/notebooks/data_table.ipynb>data table notebook</a>'\n",
              "            + ' to learn more about interactive tables.';\n",
              "          element.innerHTML = '';\n",
              "          dataTable['output_type'] = 'display_data';\n",
              "          await google.colab.output.renderOutput(dataTable, element);\n",
              "          const docLink = document.createElement('div');\n",
              "          docLink.innerHTML = docLinkHtml;\n",
              "          element.appendChild(docLink);\n",
              "        }\n",
              "      </script>\n",
              "    </div>\n",
              "  </div>\n",
              "  "
            ]
          },
          "metadata": {},
          "execution_count": 272
        }
      ]
    },
    {
      "cell_type": "code",
      "source": [
        "true_setosa = tbl.loc[[0]]['result'].item()\n",
        "true_versicolor = tbl.loc[[1]]['result'].item()\n",
        "true_virginica = tbl.loc[[2]]['result'].item()"
      ],
      "metadata": {
        "id": "GZ7ropitibsU"
      },
      "execution_count": 273,
      "outputs": []
    },
    {
      "cell_type": "markdown",
      "source": [
        "We can now calculate the total accuracy (n. of correct predictions over total number of predictions):"
      ],
      "metadata": {
        "id": "TaSo6_j_7m-e"
      }
    },
    {
      "cell_type": "code",
      "source": [
        "accuracy = (true_setosa + true_versicolor + true_virginica)/len(predicted_classes)\n",
        "print(accuracy)"
      ],
      "metadata": {
        "id": "5eM-9o05buQY",
        "colab": {
          "base_uri": "https://localhost:8080/"
        },
        "outputId": "5d9af54f-51d7-408a-f22b-05aa26c1fa97"
      },
      "execution_count": 274,
      "outputs": [
        {
          "output_type": "stream",
          "name": "stdout",
          "text": [
            "0.4\n"
          ]
        }
      ]
    },
    {
      "cell_type": "markdown",
      "source": [
        "Is this the best metric to evaluate the performance of multiclass classification models?\n",
        "\n",
        "We already saw with binary classification that it is important also to look at **TPR** and **TNR**:\n",
        "- unbalanced data\n",
        "- specific classes may be more relevant\n",
        "\n",
        "Furthermore, the total (\"raw\") accuracy does not consider that correct predictions may also be obtained by **chance**!\n",
        "In binary classification, we know that (if data are balanced) the chance accuracy is 0.5. \n",
        "\n",
        "But what about multiclass classification? This is where **Cohen's kappa** comes into play.\n",
        "The `kappa coefficient` tries to consider how much better the predictive performance is over chance accuracy.\n",
        "\n",
        "To do so, we need to get some measure of the expected value for chance accuracy.\n"
      ],
      "metadata": {
        "id": "h5zukZuX9fNP"
      }
    },
    {
      "cell_type": "markdown",
      "source": [
        "#### Let's calculate chance accuracy!\n",
        "\n",
        "We use the frequentist definition of probabilities:\n",
        "\n",
        "- chance predictions (correct predictios over total predictions, per class)\n",
        "- chance observations (relative class frequencies from the observed values)"
      ],
      "metadata": {
        "id": "6CBsfHdoPxFa"
      }
    },
    {
      "cell_type": "code",
      "source": [
        "chance_preds_setosa = true_setosa/len(df) \n",
        "chance_preds_versicolor = true_versicolor/len(df) \n",
        "chance_preds_virginica = true_virginica/len(df) "
      ],
      "metadata": {
        "id": "6hH1ZFGAR9mG"
      },
      "execution_count": 275,
      "outputs": []
    },
    {
      "cell_type": "code",
      "source": [
        "print(chance_preds_setosa)\n",
        "print(chance_preds_versicolor)\n",
        "print(chance_preds_virginica)"
      ],
      "metadata": {
        "colab": {
          "base_uri": "https://localhost:8080/"
        },
        "id": "T6JpDzwdWzUA",
        "outputId": "7ce66c23-fc41-4cf6-a3c3-43ce77afc1da"
      },
      "execution_count": 276,
      "outputs": [
        {
          "output_type": "stream",
          "name": "stdout",
          "text": [
            "0.06666666666666667\n",
            "0.03333333333333333\n",
            "0.3\n"
          ]
        }
      ]
    },
    {
      "cell_type": "markdown",
      "source": [
        "We see that the test dataset is balanced, and all three classes have equal size (10 examples each): therefore chance observations are the same for all classes ($1/3$):"
      ],
      "metadata": {
        "id": "iNXm2fGocLd-"
      }
    },
    {
      "cell_type": "code",
      "source": [
        "df.groupby('obs').size()"
      ],
      "metadata": {
        "colab": {
          "base_uri": "https://localhost:8080/"
        },
        "id": "L8hEo-WuYl7a",
        "outputId": "5c5b0126-2549-4a61-d3e4-7e87571e9db7"
      },
      "execution_count": 277,
      "outputs": [
        {
          "output_type": "execute_result",
          "data": {
            "text/plain": [
              "obs\n",
              "0    10\n",
              "1    10\n",
              "2    10\n",
              "dtype: int64"
            ]
          },
          "metadata": {},
          "execution_count": 277
        }
      ]
    },
    {
      "cell_type": "code",
      "source": [
        "chance_obs_setosa = 10/len(df)\n",
        "chance_obs_versicolor = 10/len(df)\n",
        "chance_obs_virginica = 10/len(df)"
      ],
      "metadata": {
        "id": "PYY78YkqYKYC"
      },
      "execution_count": 278,
      "outputs": []
    },
    {
      "cell_type": "markdown",
      "source": [
        "We are now all set to calculate **chance accuracy**"
      ],
      "metadata": {
        "id": "Bsls5dQvdI6y"
      }
    },
    {
      "cell_type": "code",
      "source": [
        "chance_accuracy = chance_preds_setosa*chance_obs_setosa + chance_preds_versicolor*chance_obs_versicolor + chance_preds_virginica*chance_obs_virginica\n",
        "print(chance_accuracy)"
      ],
      "metadata": {
        "id": "9uCIbkvtrE6q"
      },
      "execution_count": 279,
      "outputs": []
    },
    {
      "cell_type": "markdown",
      "source": [
        "#### Cohen's k\n",
        "\n",
        "$$\n",
        "k = \\frac{\\text{accuracy} - \\text{chance_accuracy}}{1 - \\text{chance_accuracy}}\n",
        "$$"
      ],
      "metadata": {
        "id": "gARn04CKdPWC"
      }
    },
    {
      "cell_type": "code",
      "source": [
        "kappa = (accuracy-chance_accuracy) / (1 - chance_accuracy)\n",
        "print(kappa)"
      ],
      "metadata": {
        "id": "oai36DhrvPIj",
        "colab": {
          "base_uri": "https://localhost:8080/"
        },
        "outputId": "eb67f7a3-e3dc-49d7-e9bd-6e3aa8d4ebf0"
      },
      "execution_count": 281,
      "outputs": [
        {
          "output_type": "stream",
          "name": "stdout",
          "text": [
            "0.30769230769230776\n"
          ]
        }
      ]
    },
    {
      "cell_type": "markdown",
      "source": [
        "- the numerator calculates the difference between accuracy and chance accuracy\n",
        "- if accuracy = 1, we have perfect predictive performance (the confusion matrix is diagonal) $\\rightarrow$ $ k = 1$, regardless of chance accuracy\n",
        "- if accuracy = chance accuracy, $k=0$ $\\rightarrow$ correct predictions are by chance. \n",
        "- if accuracy < chance accuracy, $k < 0$ (negative) $\\rightarrow$ accuracy is lower than what it would be by chance."
      ],
      "metadata": {
        "id": "VaJA2ZEngyb1"
      }
    },
    {
      "cell_type": "code",
      "source": [
        "from sklearn.metrics import cohen_kappa_score\n",
        "\n",
        "## test set\n",
        "k_test = cohen_kappa_score(predicted_classes_logistic,target_classes_logistic)\n",
        "print(\"Cohen kappa in the test set is: \", k_test)"
      ],
      "metadata": {
        "id": "xNBseyzX4-PL",
        "colab": {
          "base_uri": "https://localhost:8080/"
        },
        "outputId": "30bd24ae-3ea8-4768-e171-49b9565577c9"
      },
      "execution_count": 282,
      "outputs": [
        {
          "output_type": "stream",
          "name": "stdout",
          "text": [
            "Cohen kappa in the test set is:  0.09999999999999998\n"
          ]
        }
      ]
    },
    {
      "cell_type": "markdown",
      "source": [
        "#### What about the (shallow) neural network model?"
      ],
      "metadata": {
        "id": "YYfRkKrlkO2I"
      }
    },
    {
      "cell_type": "code",
      "source": [
        "from sklearn.metrics import cohen_kappa_score\n",
        "\n",
        "## test set\n",
        "k_test = cohen_kappa_score(predicted_classes,target_classes)\n",
        "print(\"Cohen kappa in the test set is: \", k_test)"
      ],
      "metadata": {
        "colab": {
          "base_uri": "https://localhost:8080/"
        },
        "id": "TG8LGTuRj_aC",
        "outputId": "eeac044a-cb1b-4bde-ac60-39a8bd149642"
      },
      "execution_count": 283,
      "outputs": [
        {
          "output_type": "stream",
          "name": "stdout",
          "text": [
            "Cohen kappa in the test set is:  0.9\n"
          ]
        }
      ]
    },
    {
      "cell_type": "code",
      "source": [
        "predicted_classes = predicted_classes.reshape(len(predicted_classes))\n",
        "target_classes = target_classes.reshape(len(target_classes_logistic))\n",
        "df = pd.DataFrame({'obs':target_classes, 'preds':predicted_classes})\n",
        "df['result'] = df.apply(lambda row: row.obs == row.preds, axis=1)\n",
        "df.head()"
      ],
      "metadata": {
        "colab": {
          "base_uri": "https://localhost:8080/",
          "height": 206
        },
        "id": "tmo8vqgumH7d",
        "outputId": "2f170088-e890-4c09-9d24-0496f3d46270"
      },
      "execution_count": 284,
      "outputs": [
        {
          "output_type": "execute_result",
          "data": {
            "text/plain": [
              "   obs  preds  result\n",
              "0    2      2    True\n",
              "1    1      2   False\n",
              "2    2      2    True\n",
              "3    0      0    True\n",
              "4    2      2    True"
            ],
            "text/html": [
              "\n",
              "  <div id=\"df-90cc4ef7-0bec-4a45-b034-277db98ff08a\">\n",
              "    <div class=\"colab-df-container\">\n",
              "      <div>\n",
              "<style scoped>\n",
              "    .dataframe tbody tr th:only-of-type {\n",
              "        vertical-align: middle;\n",
              "    }\n",
              "\n",
              "    .dataframe tbody tr th {\n",
              "        vertical-align: top;\n",
              "    }\n",
              "\n",
              "    .dataframe thead th {\n",
              "        text-align: right;\n",
              "    }\n",
              "</style>\n",
              "<table border=\"1\" class=\"dataframe\">\n",
              "  <thead>\n",
              "    <tr style=\"text-align: right;\">\n",
              "      <th></th>\n",
              "      <th>obs</th>\n",
              "      <th>preds</th>\n",
              "      <th>result</th>\n",
              "    </tr>\n",
              "  </thead>\n",
              "  <tbody>\n",
              "    <tr>\n",
              "      <th>0</th>\n",
              "      <td>2</td>\n",
              "      <td>2</td>\n",
              "      <td>True</td>\n",
              "    </tr>\n",
              "    <tr>\n",
              "      <th>1</th>\n",
              "      <td>1</td>\n",
              "      <td>2</td>\n",
              "      <td>False</td>\n",
              "    </tr>\n",
              "    <tr>\n",
              "      <th>2</th>\n",
              "      <td>2</td>\n",
              "      <td>2</td>\n",
              "      <td>True</td>\n",
              "    </tr>\n",
              "    <tr>\n",
              "      <th>3</th>\n",
              "      <td>0</td>\n",
              "      <td>0</td>\n",
              "      <td>True</td>\n",
              "    </tr>\n",
              "    <tr>\n",
              "      <th>4</th>\n",
              "      <td>2</td>\n",
              "      <td>2</td>\n",
              "      <td>True</td>\n",
              "    </tr>\n",
              "  </tbody>\n",
              "</table>\n",
              "</div>\n",
              "      <button class=\"colab-df-convert\" onclick=\"convertToInteractive('df-90cc4ef7-0bec-4a45-b034-277db98ff08a')\"\n",
              "              title=\"Convert this dataframe to an interactive table.\"\n",
              "              style=\"display:none;\">\n",
              "        \n",
              "  <svg xmlns=\"http://www.w3.org/2000/svg\" height=\"24px\"viewBox=\"0 0 24 24\"\n",
              "       width=\"24px\">\n",
              "    <path d=\"M0 0h24v24H0V0z\" fill=\"none\"/>\n",
              "    <path d=\"M18.56 5.44l.94 2.06.94-2.06 2.06-.94-2.06-.94-.94-2.06-.94 2.06-2.06.94zm-11 1L8.5 8.5l.94-2.06 2.06-.94-2.06-.94L8.5 2.5l-.94 2.06-2.06.94zm10 10l.94 2.06.94-2.06 2.06-.94-2.06-.94-.94-2.06-.94 2.06-2.06.94z\"/><path d=\"M17.41 7.96l-1.37-1.37c-.4-.4-.92-.59-1.43-.59-.52 0-1.04.2-1.43.59L10.3 9.45l-7.72 7.72c-.78.78-.78 2.05 0 2.83L4 21.41c.39.39.9.59 1.41.59.51 0 1.02-.2 1.41-.59l7.78-7.78 2.81-2.81c.8-.78.8-2.07 0-2.86zM5.41 20L4 18.59l7.72-7.72 1.47 1.35L5.41 20z\"/>\n",
              "  </svg>\n",
              "      </button>\n",
              "      \n",
              "  <style>\n",
              "    .colab-df-container {\n",
              "      display:flex;\n",
              "      flex-wrap:wrap;\n",
              "      gap: 12px;\n",
              "    }\n",
              "\n",
              "    .colab-df-convert {\n",
              "      background-color: #E8F0FE;\n",
              "      border: none;\n",
              "      border-radius: 50%;\n",
              "      cursor: pointer;\n",
              "      display: none;\n",
              "      fill: #1967D2;\n",
              "      height: 32px;\n",
              "      padding: 0 0 0 0;\n",
              "      width: 32px;\n",
              "    }\n",
              "\n",
              "    .colab-df-convert:hover {\n",
              "      background-color: #E2EBFA;\n",
              "      box-shadow: 0px 1px 2px rgba(60, 64, 67, 0.3), 0px 1px 3px 1px rgba(60, 64, 67, 0.15);\n",
              "      fill: #174EA6;\n",
              "    }\n",
              "\n",
              "    [theme=dark] .colab-df-convert {\n",
              "      background-color: #3B4455;\n",
              "      fill: #D2E3FC;\n",
              "    }\n",
              "\n",
              "    [theme=dark] .colab-df-convert:hover {\n",
              "      background-color: #434B5C;\n",
              "      box-shadow: 0px 1px 3px 1px rgba(0, 0, 0, 0.15);\n",
              "      filter: drop-shadow(0px 1px 2px rgba(0, 0, 0, 0.3));\n",
              "      fill: #FFFFFF;\n",
              "    }\n",
              "  </style>\n",
              "\n",
              "      <script>\n",
              "        const buttonEl =\n",
              "          document.querySelector('#df-90cc4ef7-0bec-4a45-b034-277db98ff08a button.colab-df-convert');\n",
              "        buttonEl.style.display =\n",
              "          google.colab.kernel.accessAllowed ? 'block' : 'none';\n",
              "\n",
              "        async function convertToInteractive(key) {\n",
              "          const element = document.querySelector('#df-90cc4ef7-0bec-4a45-b034-277db98ff08a');\n",
              "          const dataTable =\n",
              "            await google.colab.kernel.invokeFunction('convertToInteractive',\n",
              "                                                     [key], {});\n",
              "          if (!dataTable) return;\n",
              "\n",
              "          const docLinkHtml = 'Like what you see? Visit the ' +\n",
              "            '<a target=\"_blank\" href=https://colab.research.google.com/notebooks/data_table.ipynb>data table notebook</a>'\n",
              "            + ' to learn more about interactive tables.';\n",
              "          element.innerHTML = '';\n",
              "          dataTable['output_type'] = 'display_data';\n",
              "          await google.colab.output.renderOutput(dataTable, element);\n",
              "          const docLink = document.createElement('div');\n",
              "          docLink.innerHTML = docLinkHtml;\n",
              "          element.appendChild(docLink);\n",
              "        }\n",
              "      </script>\n",
              "    </div>\n",
              "  </div>\n",
              "  "
            ]
          },
          "metadata": {},
          "execution_count": 284
        }
      ]
    },
    {
      "cell_type": "code",
      "source": [
        "tbl = df.drop(columns = ['preds']).groupby('obs').sum('result')\n",
        "\n",
        "true_setosa = tbl.loc[[0]]['result'].item()\n",
        "true_versicolor = tbl.loc[[1]]['result'].item()\n",
        "true_virginica = tbl.loc[[2]]['result'].item()\n",
        "\n",
        "accuracy = (true_setosa + true_versicolor + true_virginica)/len(predicted_classes)\n",
        "\n",
        "chance_preds_setosa = true_setosa/len(df) \n",
        "chance_preds_versicolor = true_versicolor/len(df) \n",
        "chance_preds_virginica = true_virginica/len(df) \n",
        "\n",
        "chance_obs_setosa = 10/len(df)\n",
        "chance_obs_versicolor = 10/len(df)\n",
        "chance_obs_virginica = 10/len(df)\n",
        "\n",
        "chance_accuracy = chance_preds_setosa*chance_obs_setosa + chance_preds_versicolor*chance_obs_versicolor + chance_preds_virginica*chance_obs_virginica\n",
        "print(chance_accuracy)"
      ],
      "metadata": {
        "colab": {
          "base_uri": "https://localhost:8080/"
        },
        "id": "5K2O-kAUmaZ_",
        "outputId": "d023d394-e4b4-416c-c832-a5b12e2a944f"
      },
      "execution_count": 287,
      "outputs": [
        {
          "output_type": "stream",
          "name": "stdout",
          "text": [
            "0.3111111111111111\n"
          ]
        }
      ]
    },
    {
      "cell_type": "code",
      "source": [
        "kappa = (accuracy-chance_accuracy) / (1 - chance_accuracy)\n",
        "print(kappa)"
      ],
      "metadata": {
        "colab": {
          "base_uri": "https://localhost:8080/"
        },
        "id": "WOkCHL9mm3HC",
        "outputId": "56d8eb4d-3dbd-4fb6-f1cd-db30abdb5016"
      },
      "execution_count": 288,
      "outputs": [
        {
          "output_type": "stream",
          "name": "stdout",
          "text": [
            "0.9032258064516129\n"
          ]
        }
      ]
    },
    {
      "cell_type": "code",
      "source": [
        "## test set\n",
        "k_test = cohen_kappa_score(predicted_classes,target_classes)\n",
        "print(\"Cohen kappa in the test set is: \", k_test)"
      ],
      "metadata": {
        "colab": {
          "base_uri": "https://localhost:8080/"
        },
        "id": "Sk9Taj4Am7XI",
        "outputId": "67a1da92-09c0-4107-dcdf-02c4fa8a454e"
      },
      "execution_count": 289,
      "outputs": [
        {
          "output_type": "stream",
          "name": "stdout",
          "text": [
            "Cohen kappa in the test set is:  0.9\n"
          ]
        }
      ]
    }
  ]
}