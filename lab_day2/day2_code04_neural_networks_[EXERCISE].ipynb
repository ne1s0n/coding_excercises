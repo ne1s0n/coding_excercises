{
  "nbformat": 4,
  "nbformat_minor": 0,
  "metadata": {
    "colab": {
      "provenance": [],
      "collapsed_sections": []
    },
    "kernelspec": {
      "name": "python3",
      "display_name": "Python 3"
    }
  },
  "cells": [
    {
      "cell_type": "markdown",
      "metadata": {
        "id": "Yt_A6nW4nnWl"
      },
      "source": [
        "## Neural networks models: practicals\n",
        "\n",
        "In this notebook you will practice simple neural networks models for classification. \n",
        "We will be using the `breast cancer` dataset:\n",
        "\n",
        "- binary classification problem: breast cancer diagnosis, `0`: `malignant`, `1`: `benign`\n",
        "- EDA: look at the data\n",
        "- split between the training and the test sets\n",
        "- number of hidden layers\n",
        "- number of nodes within layers\n",
        "- type of activation functions in the hidden layers\n",
        "- number of epochs\n",
        "- number of features to include in the model\n",
        "- etc.\n",
        "\n",
        "Let's start by importing some basic libraries and the data:"
      ]
    },
    {
      "cell_type": "code",
      "metadata": {
        "id": "zec9A2Dzm6QO"
      },
      "source": [
        "## import libraries\n",
        "import numpy as np\n",
        "import tensorflow as tf\n",
        "import pandas as pd\n",
        "import sklearn.datasets\n",
        "import matplotlib.pyplot as plt"
      ],
      "execution_count": null,
      "outputs": []
    },
    {
      "cell_type": "code",
      "metadata": {
        "id": "xBOQi0uFoTbO"
      },
      "source": [
        "from sklearn.datasets import load_breast_cancer\n",
        "bcancer = load_breast_cancer()\n",
        "y = bcancer.target\n",
        "X = bcancer.data\n",
        "y.shape"
      ],
      "execution_count": null,
      "outputs": []
    },
    {
      "cell_type": "code",
      "metadata": {
        "id": "7J4XGVk7r2JX"
      },
      "source": [
        "from collections import Counter\n",
        "print(Counter(y))"
      ],
      "execution_count": null,
      "outputs": []
    },
    {
      "cell_type": "code",
      "metadata": {
        "id": "S9AU65sTF9Pn"
      },
      "source": [
        "print(bcancer.DESCR)"
      ],
      "execution_count": null,
      "outputs": []
    },
    {
      "cell_type": "markdown",
      "metadata": {
        "id": "8NqJqw5OGIgc"
      },
      "source": [
        "It's now your turn to go on with the exercise:\n",
        "\n",
        "1. explore the data\n",
        "2. prepare the data (e.g. should we normalize the data?)\n",
        "3. split the data into training and validation sets\n",
        "4. define the neural network model\n",
        "5. train the model\n",
        "6. evaluate model performance"
      ]
    },
    {
      "cell_type": "code",
      "metadata": {
        "id": "9pkijw8ksdF5"
      },
      "source": [
        "## write your own code here"
      ],
      "execution_count": null,
      "outputs": []
    }
  ]
}