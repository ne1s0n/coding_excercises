{
  "nbformat": 4,
  "nbformat_minor": 0,
  "metadata": {
    "colab": {
      "name": "code_04b_keras_shallow_neural_networks.ipynb",
      "provenance": [],
      "collapsed_sections": []
    },
    "kernelspec": {
      "name": "python3",
      "display_name": "Python 3"
    }
  },
  "cells": [
    {
      "cell_type": "markdown",
      "metadata": {
        "id": "xXVGYykpZXPp"
      },
      "source": [
        "## Shallow neural network models\n",
        "\n",
        "We revise here the classification exercises on the `iris` dataset moving from logistic regression to shallow neural networks.\n",
        "Initially, we'll address binary classification.\n",
        "\n",
        "We first import some libraries and the dataset:"
      ]
    },
    {
      "cell_type": "code",
      "metadata": {
        "id": "HPlZ98cNOJne"
      },
      "source": [
        "## import libraries\n",
        "import numpy as np\n",
        "import tensorflow\n",
        "import pandas as pd\n",
        "import sklearn.datasets\n",
        "import matplotlib.pyplot as plt\n"
      ],
      "execution_count": null,
      "outputs": []
    },
    {
      "cell_type": "code",
      "metadata": {
        "id": "jCFcGq29OWV9",
        "outputId": "7a27eab7-d9fa-4154-901e-bada0998ecd1",
        "colab": {
          "base_uri": "https://localhost:8080/",
          "height": 53
        }
      },
      "source": [
        "iris = sklearn.datasets.load_iris()\n",
        "iris.data = pd.DataFrame(iris.data, columns=iris.feature_names) #converting numpy array -> pandas DataFrame\n",
        "iris.target = pd.Series(iris.target) #converting numpy array -> pandas Series\n",
        "iris.target = iris.target.to_frame() #converting Pandas series to dataframe\n",
        "print('Shape of the feature table: ' + str(iris.data.shape))\n",
        "print('Shape of the target array: ' + str(iris.target.shape))"
      ],
      "execution_count": null,
      "outputs": [
        {
          "output_type": "stream",
          "text": [
            "Shape of the feature table: (150, 4)\n",
            "Shape of the target array: (150, 1)\n"
          ],
          "name": "stdout"
        }
      ]
    },
    {
      "cell_type": "markdown",
      "metadata": {
        "id": "dOWIuMHigcdQ"
      },
      "source": [
        "We are now using all four features of the `iris` dataset: `sepal length (cm)`, `sepal width (cm)`, `petal length (cm)` and `petal width (cm)`. As before, we first reduce the problem to binary classification, by merging two classes together"
      ]
    },
    {
      "cell_type": "code",
      "metadata": {
        "id": "ai_XE2gkOd5z",
        "outputId": "2405987e-ad9e-4e37-b14d-5776e19e0aad",
        "colab": {
          "base_uri": "https://localhost:8080/",
          "height": 71
        }
      },
      "source": [
        "features = iris.data.iloc[:,:]\n",
        "target = iris.target\n",
        "\n",
        "#updating class labels. To makes things difficult we put together old classes 0 and 1\n",
        "#in a new class (non virginica) and keep old class 2 (virginica) as new class 1.\n",
        "#For an easier problems put together versicolor and virginica and keep setosa by itself\n",
        "n1 = 100 ## split: 50 for setosa vs versicolor+virginica, 100 for setos+versicolor vs virginica\n",
        "target[0:n1] = 0 \n",
        "target[n1:150] = 1\n",
        "\n",
        "print(iris.target.iloc[:,0].value_counts())"
      ],
      "execution_count": null,
      "outputs": [
        {
          "output_type": "stream",
          "text": [
            "0    100\n",
            "1     50\n",
            "Name: 0, dtype: int64\n"
          ],
          "name": "stdout"
        }
      ]
    },
    {
      "cell_type": "markdown",
      "metadata": {
        "id": "XJCWlvUNtR7d"
      },
      "source": [
        "As before, a visual check of the two classes:"
      ]
    },
    {
      "cell_type": "code",
      "metadata": {
        "id": "1BPh7_4vOgW5",
        "outputId": "004082d3-7a5c-470b-e29e-3e873b5af0df",
        "colab": {
          "base_uri": "https://localhost:8080/",
          "height": 282
        }
      },
      "source": [
        "feature_x = 0\n",
        "feature_y = 1\n",
        "\n",
        "#starting a new plot\n",
        "fig, ax = plt.subplots()\n",
        "\n",
        "#adding data in two bunches\n",
        "ax.scatter(x=features.iloc[0:n1,0],   y=features.iloc[0:n1,1],   c='red',  label='Not virginica')\n",
        "ax.scatter(x=features.iloc[n1:150,0], y=features.iloc[n1:150,1], c='blue', label='virginica')\n",
        "\n",
        "#the axis names are taken from feature names\n",
        "ax.set_xlabel(iris.feature_names[feature_x])\n",
        "ax.set_ylabel(iris.feature_names[feature_y])\n",
        "\n",
        "#adding the legend and printing the plot\n",
        "ax.legend()\n",
        "plt.show()"
      ],
      "execution_count": null,
      "outputs": [
        {
          "output_type": "display_data",
          "data": {
            "image/png": "[encoded data removed]",
            "text/plain": [
              "<Figure size 432x288 with 1 Axes>"
            ]
          },
          "metadata": {
            "tags": [],
            "needs_background": "light"
          }
        }
      ]
    },
    {
      "cell_type": "markdown",
      "metadata": {
        "id": "kAOwHJmxO1-D"
      },
      "source": [
        "### Neural Network model\n",
        "\n",
        "In the previous exercise we used logistic regression implemented as a simple neural network model with just the output layer: this output layer had only one node (binary classification) which performed both the regression and sigmoid activation steps:\n",
        "\n",
        "<img src=\"https://drive.google.com/uc?export=view&id=1PRc719uT1kOUuCMbpHML2sEk7qp6UJnm\">\n",
        "\n",
        "We are now building a **shallow neural network model**, by adding **one hidden layer** with **u nodes** (units):\n",
        "\n",
        "<img src=\"https://drive.google.com/uc?export=view&id=1QROz9pFnMoqTeqrFbele8pFz8qXDSckq\">\n",
        "\n",
        "We now have to set a number of `hyperparameters` (the **building blocks** -or 'ingredients'- of a neural network model):\n",
        "\n",
        "- the **number of hidden nodes** (number of units in the hidden layer)\n",
        "- the **type of activation function** in the hidden layer\n",
        "- the **output activation function**\n",
        "- the **loss function** (for backpropagation)\n",
        "- the **optimizer** (for gradient descent)"
      ]
    },
    {
      "cell_type": "code",
      "metadata": {
        "id": "1ZWTGCvZbPAk"
      },
      "source": [
        "## # Configuration options\n",
        "input_shape = (features.shape[1],) ## tuple that specifies the number of features \n",
        "hidden_nodes = 8\n",
        "hidden_activation = 'relu'\n",
        "output_activation = 'sigmoid'\n",
        "loss_function = 'binary_crossentropy'\n",
        "optimizer_used = 'SGD' ##stochastic gradient descent\n",
        "num_epochs = 200"
      ],
      "execution_count": null,
      "outputs": []
    },
    {
      "cell_type": "markdown",
      "metadata": {
        "id": "3IbRkmOS-HHZ"
      },
      "source": [
        "We chose <a href='https://towardsdatascience.com/understanding-binary-cross-entropy-log-loss-a-visual-explanation-a3ac6025181a'>binary cross-entropy</a> for binary classification problems: this is the loss function we have been discussing in the slides\n",
        "As for the optimizer, we use `rmsprop`: more details on the available otimizers in Keras can be found <a href='https://keras.io/api/optimizers/'>here</a>"
      ]
    },
    {
      "cell_type": "code",
      "metadata": {
        "id": "mQDDNpS_czT6",
        "outputId": "c3c878f3-5ece-41e2-d9b8-b884365180b2",
        "colab": {
          "base_uri": "https://localhost:8080/",
          "height": 35
        }
      },
      "source": [
        "print(input_shape)"
      ],
      "execution_count": null,
      "outputs": [
        {
          "output_type": "stream",
          "text": [
            "(4,)\n"
          ],
          "name": "stdout"
        }
      ]
    },
    {
      "cell_type": "markdown",
      "metadata": {
        "id": "vjRDH3RhvcJ7"
      },
      "source": [
        "#### Training and test sets\n",
        "\n",
        "We now prepare the training and test set for correct evaulation of the neural network model performance: we make one split (one training set and one test set), and assign 80% of the data to the training set and 20% of the data to the test set"
      ]
    },
    {
      "cell_type": "code",
      "metadata": {
        "id": "ZMPW3k6_OlVd",
        "outputId": "b015b713-7db2-4f86-9daf-f33d57ad55c9",
        "colab": {
          "base_uri": "https://localhost:8080/",
          "height": 125
        }
      },
      "source": [
        "#we want to have the same proportion of classes in both train and validation sets\n",
        "from sklearn.model_selection import StratifiedShuffleSplit\n",
        "\n",
        "#building a StratifiedShuffleSplit object (sss among friends) with 20% data\n",
        "#assigned to validation set (here called \"test\")\n",
        "sss = StratifiedShuffleSplit(n_splits=1, test_size=0.2, random_state=0)\n",
        "\n",
        "#the .split() method returns (an iterable over) two lists which can be\n",
        "#used to index the samples that go into train and validation sets\n",
        "for train_index, val_index in sss.split(features, target):\n",
        "    features_train = features.iloc[train_index, :]\n",
        "    features_val   = features.iloc[val_index, :]\n",
        "    target_train   = target.iloc[train_index,:]\n",
        "    target_val     = target.iloc[val_index,:]\n",
        "    \n",
        "#let's print some shapes to get an idea of the resulting data structure\n",
        "print(\"Training features size: \", features_train.shape)\n",
        "print(\"Test features size: \", features_val.shape)\n",
        "print(\"Training targets size: \", target_train.shape)\n",
        "print(\"Test targets size: \", target_val.shape)\n",
        "\n",
        "print(\"Type of the training features object: \", type(features_train))\n",
        "print(\"Type of the training targets object: \", type(target_train))"
      ],
      "execution_count": null,
      "outputs": [
        {
          "output_type": "stream",
          "text": [
            "Training features size:  (120, 4)\n",
            "Test features size:  (30, 4)\n",
            "Training targets size:  (120, 1)\n",
            "Test targets size:  (30, 1)\n",
            "Type of the training features object:  <class 'pandas.core.frame.DataFrame'>\n",
            "Type of the training targets object:  <class 'pandas.core.frame.DataFrame'>\n"
          ],
          "name": "stdout"
        }
      ]
    },
    {
      "cell_type": "markdown",
      "metadata": {
        "id": "VwsSzWgnwgFL"
      },
      "source": [
        "#### Building the neural network model\n",
        "\n",
        "We now build the (shallow) **neural network model** using the `Keras` framework: we choose a `sequential` architecture and add `dense` (fully connected) layers (**1 hidden layer**, **1 output layer**).\n",
        "\n",
        "We chose `ReLU` activation functions for the units in the hidden layer, and `sigmoid` activation function for the output layer.\n",
        "\n"
      ]
    },
    {
      "cell_type": "code",
      "metadata": {
        "id": "lHMzMrHVOpB4"
      },
      "source": [
        "#we are building a \"sequential\" model, meaning that the data will \n",
        "#flow like INPUT -> ELABORATION -> OUTPUT.\n",
        "from keras.models import Sequential\n",
        "\n",
        "#a \"dense\" layer is a layer were all the data coming in are connected\n",
        "#to all nodes.\n",
        "from keras.layers import Dense\n",
        "\n",
        "# binary classification shallow neural network model in Keras\n",
        "model = Sequential()\n",
        "model.add(Dense(units=hidden_nodes, input_shape=input_shape, activation=hidden_activation))\n",
        "model.add(Dense(1, activation=output_activation))\n",
        "\n",
        "#the model is declared, but we still need to compile it to actually\n",
        "#build all the data structures\n",
        "model.compile(optimizer=optimizer_used, loss=loss_function)"
      ],
      "execution_count": null,
      "outputs": []
    },
    {
      "cell_type": "code",
      "metadata": {
        "id": "x4O2yFSjc-Wh",
        "outputId": "2c7e74c7-7be9-42e7-dba4-22bc6a6ff0ae",
        "colab": {
          "base_uri": "https://localhost:8080/",
          "height": 251
        }
      },
      "source": [
        "print(model.summary())"
      ],
      "execution_count": null,
      "outputs": [
        {
          "output_type": "stream",
          "text": [
            "Model: \"sequential\"\n",
            "_________________________________________________________________\n",
            "Layer (type)                 Output Shape              Param #   \n",
            "=================================================================\n",
            "dense (Dense)                (None, 8)                 40        \n",
            "_________________________________________________________________\n",
            "dense_1 (Dense)              (None, 1)                 9         \n",
            "=================================================================\n",
            "Total params: 49\n",
            "Trainable params: 49\n",
            "Non-trainable params: 0\n",
            "_________________________________________________________________\n",
            "None\n"
          ],
          "name": "stdout"
        }
      ]
    },
    {
      "cell_type": "markdown",
      "metadata": {
        "id": "TfZaLf2L0jI3"
      },
      "source": [
        "The `summary()` method of the Keras model tells us that there are 49  parameters to train:\n",
        "- w1, w2, w3, w4, b (weights for the 4 features + bias term) for each of the 8 nodes in the hidden layer ($\\rightarrow$ 40 parameters);\n",
        "- w1 - w8 + b (weights for the 8 nodes results + bias term) for the output layer ($\\rightarrow$ 9 parameters) [&#161; you may remember from the matrix dimensions we discussed in the slides !]\n",
        "\n",
        "#### Training the neural network model\n",
        "\n",
        "We have now prepared everything we need and are ready to train the model on our data. It's an iterative process that cycles many times through what are called `epochs` (~ iterations). We'll start with using the parameter set above:\n"
      ]
    },
    {
      "cell_type": "code",
      "metadata": {
        "id": "b0UlsKrDdCiK",
        "outputId": "582479d8-e7da-473e-bfa2-c61c72e72068",
        "colab": {
          "base_uri": "https://localhost:8080/",
          "height": 1000
        }
      },
      "source": [
        "history = model.fit(features_train, target_train, epochs=num_epochs, validation_data=(features_val, target_val))"
      ],
      "execution_count": null,
      "outputs": [
        {
          "output_type": "stream",
          "text": [
            "Epoch 1/200\n",
            "4/4 [==============================] - 0s 31ms/step - loss: 0.5624 - val_loss: 0.5400\n",
            "Epoch 2/200\n",
            "4/4 [==============================] - 0s 5ms/step - loss: 0.5356 - val_loss: 0.5252\n",
            "Epoch 3/200\n",
            "4/4 [==============================] - 0s 5ms/step - loss: 0.5226 - val_loss: 0.5114\n",
            "Epoch 4/200\n",
            "4/4 [==============================] - 0s 5ms/step - loss: 0.5070 - val_loss: 0.5006\n",
            "Epoch 5/200\n",
            "4/4 [==============================] - 0s 5ms/step - loss: 0.5041 - val_loss: 0.4910\n",
            "Epoch 6/200\n",
            "4/4 [==============================] - 0s 5ms/step - loss: 0.4866 - val_loss: 0.4850\n",
            "Epoch 7/200\n",
            "4/4 [==============================] - 0s 5ms/step - loss: 0.4797 - val_loss: 0.4754\n",
            "Epoch 8/200\n",
            "4/4 [==============================] - 0s 5ms/step - loss: 0.4723 - val_loss: 0.4715\n",
            "Epoch 9/200\n",
            "4/4 [==============================] - 0s 5ms/step - loss: 0.4658 - val_loss: 0.4617\n",
            "Epoch 10/200\n",
            "4/4 [==============================] - 0s 5ms/step - loss: 0.4558 - val_loss: 0.4552\n",
            "Epoch 11/200\n",
            "4/4 [==============================] - 0s 5ms/step - loss: 0.4508 - val_loss: 0.4547\n",
            "Epoch 12/200\n",
            "4/4 [==============================] - 0s 5ms/step - loss: 0.4470 - val_loss: 0.4441\n",
            "Epoch 13/200\n",
            "4/4 [==============================] - 0s 5ms/step - loss: 0.4401 - val_loss: 0.4410\n",
            "Epoch 14/200\n",
            "4/4 [==============================] - 0s 6ms/step - loss: 0.4359 - val_loss: 0.4341\n",
            "Epoch 15/200\n",
            "4/4 [==============================] - 0s 5ms/step - loss: 0.4276 - val_loss: 0.4292\n",
            "Epoch 16/200\n",
            "4/4 [==============================] - 0s 6ms/step - loss: 0.4263 - val_loss: 0.4251\n",
            "Epoch 17/200\n",
            "4/4 [==============================] - 0s 5ms/step - loss: 0.4206 - val_loss: 0.4215\n",
            "Epoch 18/200\n",
            "4/4 [==============================] - 0s 5ms/step - loss: 0.4179 - val_loss: 0.4165\n",
            "Epoch 19/200\n",
            "4/4 [==============================] - 0s 5ms/step - loss: 0.4124 - val_loss: 0.4132\n",
            "Epoch 20/200\n",
            "4/4 [==============================] - 0s 6ms/step - loss: 0.4080 - val_loss: 0.4088\n",
            "Epoch 21/200\n",
            "4/4 [==============================] - 0s 5ms/step - loss: 0.4024 - val_loss: 0.4053\n",
            "Epoch 22/200\n",
            "4/4 [==============================] - 0s 5ms/step - loss: 0.4044 - val_loss: 0.4019\n",
            "Epoch 23/200\n",
            "4/4 [==============================] - 0s 5ms/step - loss: 0.3964 - val_loss: 0.3989\n",
            "Epoch 24/200\n",
            "4/4 [==============================] - 0s 5ms/step - loss: 0.3957 - val_loss: 0.3994\n",
            "Epoch 25/200\n",
            "4/4 [==============================] - 0s 5ms/step - loss: 0.3966 - val_loss: 0.3954\n",
            "Epoch 26/200\n",
            "4/4 [==============================] - 0s 5ms/step - loss: 0.3887 - val_loss: 0.3892\n",
            "Epoch 27/200\n",
            "4/4 [==============================] - 0s 5ms/step - loss: 0.3833 - val_loss: 0.3861\n",
            "Epoch 28/200\n",
            "4/4 [==============================] - 0s 6ms/step - loss: 0.3798 - val_loss: 0.3831\n",
            "Epoch 29/200\n",
            "4/4 [==============================] - 0s 5ms/step - loss: 0.3776 - val_loss: 0.3805\n",
            "Epoch 30/200\n",
            "4/4 [==============================] - 0s 5ms/step - loss: 0.3769 - val_loss: 0.3805\n",
            "Epoch 31/200\n",
            "4/4 [==============================] - 0s 5ms/step - loss: 0.3818 - val_loss: 0.3774\n",
            "Epoch 32/200\n",
            "4/4 [==============================] - 0s 5ms/step - loss: 0.3695 - val_loss: 0.3748\n",
            "Epoch 33/200\n",
            "4/4 [==============================] - 0s 5ms/step - loss: 0.3687 - val_loss: 0.3715\n",
            "Epoch 34/200\n",
            "4/4 [==============================] - 0s 6ms/step - loss: 0.3642 - val_loss: 0.3679\n",
            "Epoch 35/200\n",
            "4/4 [==============================] - 0s 7ms/step - loss: 0.3632 - val_loss: 0.3675\n",
            "Epoch 36/200\n",
            "4/4 [==============================] - 0s 5ms/step - loss: 0.3593 - val_loss: 0.3632\n",
            "Epoch 37/200\n",
            "4/4 [==============================] - 0s 5ms/step - loss: 0.3569 - val_loss: 0.3610\n",
            "Epoch 38/200\n",
            "4/4 [==============================] - 0s 5ms/step - loss: 0.3598 - val_loss: 0.3596\n",
            "Epoch 39/200\n",
            "4/4 [==============================] - 0s 5ms/step - loss: 0.3567 - val_loss: 0.3611\n",
            "Epoch 40/200\n",
            "4/4 [==============================] - 0s 6ms/step - loss: 0.3507 - val_loss: 0.3548\n",
            "Epoch 41/200\n",
            "4/4 [==============================] - 0s 5ms/step - loss: 0.3476 - val_loss: 0.3528\n",
            "Epoch 42/200\n",
            "4/4 [==============================] - 0s 5ms/step - loss: 0.3507 - val_loss: 0.3507\n",
            "Epoch 43/200\n",
            "4/4 [==============================] - 0s 5ms/step - loss: 0.3443 - val_loss: 0.3502\n",
            "Epoch 44/200\n",
            "4/4 [==============================] - 0s 5ms/step - loss: 0.3430 - val_loss: 0.3469\n",
            "Epoch 45/200\n",
            "4/4 [==============================] - 0s 5ms/step - loss: 0.3421 - val_loss: 0.3474\n",
            "Epoch 46/200\n",
            "4/4 [==============================] - 0s 5ms/step - loss: 0.3418 - val_loss: 0.3440\n",
            "Epoch 47/200\n",
            "4/4 [==============================] - 0s 5ms/step - loss: 0.3384 - val_loss: 0.3416\n",
            "Epoch 48/200\n",
            "4/4 [==============================] - 0s 5ms/step - loss: 0.3350 - val_loss: 0.3403\n",
            "Epoch 49/200\n",
            "4/4 [==============================] - 0s 5ms/step - loss: 0.3346 - val_loss: 0.3382\n",
            "Epoch 50/200\n",
            "4/4 [==============================] - 0s 5ms/step - loss: 0.3310 - val_loss: 0.3375\n",
            "Epoch 51/200\n",
            "4/4 [==============================] - 0s 5ms/step - loss: 0.3306 - val_loss: 0.3345\n",
            "Epoch 52/200\n",
            "4/4 [==============================] - 0s 5ms/step - loss: 0.3327 - val_loss: 0.3338\n",
            "Epoch 53/200\n",
            "4/4 [==============================] - 0s 6ms/step - loss: 0.3274 - val_loss: 0.3314\n",
            "Epoch 54/200\n",
            "4/4 [==============================] - 0s 5ms/step - loss: 0.3352 - val_loss: 0.3297\n",
            "Epoch 55/200\n",
            "4/4 [==============================] - 0s 6ms/step - loss: 0.3253 - val_loss: 0.3283\n",
            "Epoch 56/200\n",
            "4/4 [==============================] - 0s 5ms/step - loss: 0.3231 - val_loss: 0.3304\n",
            "Epoch 57/200\n",
            "4/4 [==============================] - 0s 5ms/step - loss: 0.3206 - val_loss: 0.3252\n",
            "Epoch 58/200\n",
            "4/4 [==============================] - 0s 8ms/step - loss: 0.3209 - val_loss: 0.3236\n",
            "Epoch 59/200\n",
            "4/4 [==============================] - 0s 7ms/step - loss: 0.3192 - val_loss: 0.3223\n",
            "Epoch 60/200\n",
            "4/4 [==============================] - 0s 7ms/step - loss: 0.3179 - val_loss: 0.3210\n",
            "Epoch 61/200\n",
            "4/4 [==============================] - 0s 5ms/step - loss: 0.3155 - val_loss: 0.3210\n",
            "Epoch 62/200\n",
            "4/4 [==============================] - 0s 5ms/step - loss: 0.3118 - val_loss: 0.3182\n",
            "Epoch 63/200\n",
            "4/4 [==============================] - 0s 5ms/step - loss: 0.3109 - val_loss: 0.3169\n",
            "Epoch 64/200\n",
            "4/4 [==============================] - 0s 5ms/step - loss: 0.3117 - val_loss: 0.3156\n",
            "Epoch 65/200\n",
            "4/4 [==============================] - 0s 5ms/step - loss: 0.3077 - val_loss: 0.3136\n",
            "Epoch 66/200\n",
            "4/4 [==============================] - 0s 5ms/step - loss: 0.3074 - val_loss: 0.3124\n",
            "Epoch 67/200\n",
            "4/4 [==============================] - 0s 5ms/step - loss: 0.3042 - val_loss: 0.3117\n",
            "Epoch 68/200\n",
            "4/4 [==============================] - 0s 6ms/step - loss: 0.3030 - val_loss: 0.3096\n",
            "Epoch 69/200\n",
            "4/4 [==============================] - 0s 5ms/step - loss: 0.3063 - val_loss: 0.3094\n",
            "Epoch 70/200\n",
            "4/4 [==============================] - 0s 6ms/step - loss: 0.3014 - val_loss: 0.3070\n",
            "Epoch 71/200\n",
            "4/4 [==============================] - 0s 5ms/step - loss: 0.2998 - val_loss: 0.3057\n",
            "Epoch 72/200\n",
            "4/4 [==============================] - 0s 6ms/step - loss: 0.3025 - val_loss: 0.3044\n",
            "Epoch 73/200\n",
            "4/4 [==============================] - 0s 5ms/step - loss: 0.3001 - val_loss: 0.3044\n",
            "Epoch 74/200\n",
            "4/4 [==============================] - 0s 5ms/step - loss: 0.2981 - val_loss: 0.3039\n",
            "Epoch 75/200\n",
            "4/4 [==============================] - 0s 5ms/step - loss: 0.2954 - val_loss: 0.3008\n",
            "Epoch 76/200\n",
            "4/4 [==============================] - 0s 5ms/step - loss: 0.2928 - val_loss: 0.2994\n",
            "Epoch 77/200\n",
            "4/4 [==============================] - 0s 5ms/step - loss: 0.2933 - val_loss: 0.3007\n",
            "Epoch 78/200\n",
            "4/4 [==============================] - 0s 5ms/step - loss: 0.2959 - val_loss: 0.3028\n",
            "Epoch 79/200\n",
            "4/4 [==============================] - 0s 5ms/step - loss: 0.2939 - val_loss: 0.2961\n",
            "Epoch 80/200\n",
            "4/4 [==============================] - 0s 5ms/step - loss: 0.2894 - val_loss: 0.2959\n",
            "Epoch 81/200\n",
            "4/4 [==============================] - 0s 6ms/step - loss: 0.2872 - val_loss: 0.2954\n",
            "Epoch 82/200\n",
            "4/4 [==============================] - 0s 6ms/step - loss: 0.2886 - val_loss: 0.2928\n",
            "Epoch 83/200\n",
            "4/4 [==============================] - 0s 5ms/step - loss: 0.2850 - val_loss: 0.2919\n",
            "Epoch 84/200\n",
            "4/4 [==============================] - 0s 5ms/step - loss: 0.2838 - val_loss: 0.2903\n",
            "Epoch 85/200\n",
            "4/4 [==============================] - 0s 5ms/step - loss: 0.2862 - val_loss: 0.2890\n",
            "Epoch 86/200\n",
            "4/4 [==============================] - 0s 5ms/step - loss: 0.2850 - val_loss: 0.2921\n",
            "Epoch 87/200\n",
            "4/4 [==============================] - 0s 6ms/step - loss: 0.2834 - val_loss: 0.2875\n",
            "Epoch 88/200\n",
            "4/4 [==============================] - 0s 5ms/step - loss: 0.2790 - val_loss: 0.2860\n",
            "Epoch 89/200\n",
            "4/4 [==============================] - 0s 5ms/step - loss: 0.2895 - val_loss: 0.2845\n",
            "Epoch 90/200\n",
            "4/4 [==============================] - 0s 5ms/step - loss: 0.2772 - val_loss: 0.2839\n",
            "Epoch 91/200\n",
            "4/4 [==============================] - 0s 5ms/step - loss: 0.2758 - val_loss: 0.2856\n",
            "Epoch 92/200\n",
            "4/4 [==============================] - 0s 6ms/step - loss: 0.2756 - val_loss: 0.2813\n",
            "Epoch 93/200\n",
            "4/4 [==============================] - 0s 6ms/step - loss: 0.2848 - val_loss: 0.2803\n",
            "Epoch 94/200\n",
            "4/4 [==============================] - 0s 6ms/step - loss: 0.2720 - val_loss: 0.2795\n",
            "Epoch 95/200\n",
            "4/4 [==============================] - 0s 5ms/step - loss: 0.2710 - val_loss: 0.2784\n",
            "Epoch 96/200\n",
            "4/4 [==============================] - 0s 5ms/step - loss: 0.2706 - val_loss: 0.2774\n",
            "Epoch 97/200\n",
            "4/4 [==============================] - 0s 6ms/step - loss: 0.2716 - val_loss: 0.2790\n",
            "Epoch 98/200\n",
            "4/4 [==============================] - 0s 5ms/step - loss: 0.2686 - val_loss: 0.2752\n",
            "Epoch 99/200\n",
            "4/4 [==============================] - 0s 5ms/step - loss: 0.2670 - val_loss: 0.2740\n",
            "Epoch 100/200\n",
            "4/4 [==============================] - 0s 5ms/step - loss: 0.2673 - val_loss: 0.2778\n",
            "Epoch 101/200\n",
            "4/4 [==============================] - 0s 5ms/step - loss: 0.2655 - val_loss: 0.2722\n",
            "Epoch 102/200\n",
            "4/4 [==============================] - 0s 6ms/step - loss: 0.2659 - val_loss: 0.2718\n",
            "Epoch 103/200\n",
            "4/4 [==============================] - 0s 5ms/step - loss: 0.2622 - val_loss: 0.2701\n",
            "Epoch 104/200\n",
            "4/4 [==============================] - 0s 5ms/step - loss: 0.2630 - val_loss: 0.2694\n",
            "Epoch 105/200\n",
            "4/4 [==============================] - 0s 5ms/step - loss: 0.2622 - val_loss: 0.2713\n",
            "Epoch 106/200\n",
            "4/4 [==============================] - 0s 5ms/step - loss: 0.2639 - val_loss: 0.2715\n",
            "Epoch 107/200\n",
            "4/4 [==============================] - 0s 5ms/step - loss: 0.2631 - val_loss: 0.2681\n",
            "Epoch 108/200\n",
            "4/4 [==============================] - 0s 5ms/step - loss: 0.2587 - val_loss: 0.2658\n",
            "Epoch 109/200\n",
            "4/4 [==============================] - 0s 5ms/step - loss: 0.2579 - val_loss: 0.2644\n",
            "Epoch 110/200\n",
            "4/4 [==============================] - 0s 5ms/step - loss: 0.2634 - val_loss: 0.2637\n",
            "Epoch 111/200\n",
            "4/4 [==============================] - 0s 7ms/step - loss: 0.2543 - val_loss: 0.2625\n",
            "Epoch 112/200\n",
            "4/4 [==============================] - 0s 5ms/step - loss: 0.2545 - val_loss: 0.2622\n",
            "Epoch 113/200\n",
            "4/4 [==============================] - 0s 5ms/step - loss: 0.2559 - val_loss: 0.2634\n",
            "Epoch 114/200\n",
            "4/4 [==============================] - 0s 5ms/step - loss: 0.2528 - val_loss: 0.2598\n",
            "Epoch 115/200\n",
            "4/4 [==============================] - 0s 5ms/step - loss: 0.2562 - val_loss: 0.2604\n",
            "Epoch 116/200\n",
            "4/4 [==============================] - 0s 5ms/step - loss: 0.2529 - val_loss: 0.2584\n",
            "Epoch 117/200\n",
            "4/4 [==============================] - 0s 5ms/step - loss: 0.2520 - val_loss: 0.2572\n",
            "Epoch 118/200\n",
            "4/4 [==============================] - 0s 5ms/step - loss: 0.2544 - val_loss: 0.2562\n",
            "Epoch 119/200\n",
            "4/4 [==============================] - 0s 5ms/step - loss: 0.2503 - val_loss: 0.2552\n",
            "Epoch 120/200\n",
            "4/4 [==============================] - 0s 6ms/step - loss: 0.2467 - val_loss: 0.2544\n",
            "Epoch 121/200\n",
            "4/4 [==============================] - 0s 5ms/step - loss: 0.2452 - val_loss: 0.2536\n",
            "Epoch 122/200\n",
            "4/4 [==============================] - 0s 5ms/step - loss: 0.2460 - val_loss: 0.2544\n",
            "Epoch 123/200\n",
            "4/4 [==============================] - 0s 5ms/step - loss: 0.2443 - val_loss: 0.2520\n",
            "Epoch 124/200\n",
            "4/4 [==============================] - 0s 5ms/step - loss: 0.2425 - val_loss: 0.2513\n",
            "Epoch 125/200\n",
            "4/4 [==============================] - 0s 5ms/step - loss: 0.2464 - val_loss: 0.2503\n",
            "Epoch 126/200\n",
            "4/4 [==============================] - 0s 5ms/step - loss: 0.2435 - val_loss: 0.2496\n",
            "Epoch 127/200\n",
            "4/4 [==============================] - 0s 5ms/step - loss: 0.2411 - val_loss: 0.2486\n",
            "Epoch 128/200\n",
            "4/4 [==============================] - 0s 5ms/step - loss: 0.2464 - val_loss: 0.2487\n",
            "Epoch 129/200\n",
            "4/4 [==============================] - 0s 5ms/step - loss: 0.2451 - val_loss: 0.2468\n",
            "Epoch 130/200\n",
            "4/4 [==============================] - 0s 6ms/step - loss: 0.2403 - val_loss: 0.2471\n",
            "Epoch 131/200\n",
            "4/4 [==============================] - 0s 6ms/step - loss: 0.2404 - val_loss: 0.2458\n",
            "Epoch 132/200\n",
            "4/4 [==============================] - 0s 5ms/step - loss: 0.2353 - val_loss: 0.2446\n",
            "Epoch 133/200\n",
            "4/4 [==============================] - 0s 5ms/step - loss: 0.2363 - val_loss: 0.2437\n",
            "Epoch 134/200\n",
            "4/4 [==============================] - 0s 6ms/step - loss: 0.2354 - val_loss: 0.2436\n",
            "Epoch 135/200\n",
            "4/4 [==============================] - 0s 5ms/step - loss: 0.2354 - val_loss: 0.2429\n",
            "Epoch 136/200\n",
            "4/4 [==============================] - 0s 7ms/step - loss: 0.2330 - val_loss: 0.2412\n",
            "Epoch 137/200\n",
            "4/4 [==============================] - 0s 5ms/step - loss: 0.2346 - val_loss: 0.2410\n",
            "Epoch 138/200\n",
            "4/4 [==============================] - 0s 8ms/step - loss: 0.2304 - val_loss: 0.2400\n",
            "Epoch 139/200\n",
            "4/4 [==============================] - 0s 6ms/step - loss: 0.2300 - val_loss: 0.2392\n",
            "Epoch 140/200\n",
            "4/4 [==============================] - 0s 6ms/step - loss: 0.2288 - val_loss: 0.2381\n",
            "Epoch 141/200\n",
            "4/4 [==============================] - 0s 5ms/step - loss: 0.2291 - val_loss: 0.2379\n",
            "Epoch 142/200\n",
            "4/4 [==============================] - 0s 6ms/step - loss: 0.2272 - val_loss: 0.2369\n",
            "Epoch 143/200\n",
            "4/4 [==============================] - 0s 5ms/step - loss: 0.2261 - val_loss: 0.2359\n",
            "Epoch 144/200\n",
            "4/4 [==============================] - 0s 6ms/step - loss: 0.2298 - val_loss: 0.2353\n",
            "Epoch 145/200\n",
            "4/4 [==============================] - 0s 5ms/step - loss: 0.2269 - val_loss: 0.2344\n",
            "Epoch 146/200\n",
            "4/4 [==============================] - 0s 5ms/step - loss: 0.2294 - val_loss: 0.2345\n",
            "Epoch 147/200\n",
            "4/4 [==============================] - 0s 5ms/step - loss: 0.2231 - val_loss: 0.2330\n",
            "Epoch 148/200\n",
            "4/4 [==============================] - 0s 6ms/step - loss: 0.2257 - val_loss: 0.2354\n",
            "Epoch 149/200\n",
            "4/4 [==============================] - 0s 5ms/step - loss: 0.2269 - val_loss: 0.2317\n",
            "Epoch 150/200\n",
            "4/4 [==============================] - 0s 5ms/step - loss: 0.2241 - val_loss: 0.2318\n",
            "Epoch 151/200\n",
            "4/4 [==============================] - 0s 5ms/step - loss: 0.2208 - val_loss: 0.2301\n",
            "Epoch 152/200\n",
            "4/4 [==============================] - 0s 5ms/step - loss: 0.2264 - val_loss: 0.2347\n",
            "Epoch 153/200\n",
            "4/4 [==============================] - 0s 5ms/step - loss: 0.2241 - val_loss: 0.2291\n",
            "Epoch 154/200\n",
            "4/4 [==============================] - 0s 5ms/step - loss: 0.2187 - val_loss: 0.2298\n",
            "Epoch 155/200\n",
            "4/4 [==============================] - 0s 5ms/step - loss: 0.2174 - val_loss: 0.2281\n",
            "Epoch 156/200\n",
            "4/4 [==============================] - 0s 5ms/step - loss: 0.2162 - val_loss: 0.2266\n",
            "Epoch 157/200\n",
            "4/4 [==============================] - 0s 5ms/step - loss: 0.2182 - val_loss: 0.2263\n",
            "Epoch 158/200\n",
            "4/4 [==============================] - 0s 5ms/step - loss: 0.2166 - val_loss: 0.2260\n",
            "Epoch 159/200\n",
            "4/4 [==============================] - 0s 5ms/step - loss: 0.2157 - val_loss: 0.2253\n",
            "Epoch 160/200\n",
            "4/4 [==============================] - 0s 5ms/step - loss: 0.2148 - val_loss: 0.2238\n",
            "Epoch 161/200\n",
            "4/4 [==============================] - 0s 5ms/step - loss: 0.2126 - val_loss: 0.2237\n",
            "Epoch 162/200\n",
            "4/4 [==============================] - 0s 5ms/step - loss: 0.2127 - val_loss: 0.2247\n",
            "Epoch 163/200\n",
            "4/4 [==============================] - 0s 5ms/step - loss: 0.2130 - val_loss: 0.2218\n",
            "Epoch 164/200\n",
            "4/4 [==============================] - 0s 5ms/step - loss: 0.2114 - val_loss: 0.2228\n",
            "Epoch 165/200\n",
            "4/4 [==============================] - 0s 7ms/step - loss: 0.2111 - val_loss: 0.2209\n",
            "Epoch 166/200\n",
            "4/4 [==============================] - 0s 5ms/step - loss: 0.2104 - val_loss: 0.2202\n",
            "Epoch 167/200\n",
            "4/4 [==============================] - 0s 5ms/step - loss: 0.2119 - val_loss: 0.2231\n",
            "Epoch 168/200\n",
            "4/4 [==============================] - 0s 5ms/step - loss: 0.2133 - val_loss: 0.2195\n",
            "Epoch 169/200\n",
            "4/4 [==============================] - 0s 5ms/step - loss: 0.2109 - val_loss: 0.2186\n",
            "Epoch 170/200\n",
            "4/4 [==============================] - 0s 5ms/step - loss: 0.2101 - val_loss: 0.2174\n",
            "Epoch 171/200\n",
            "4/4 [==============================] - 0s 5ms/step - loss: 0.2055 - val_loss: 0.2171\n",
            "Epoch 172/200\n",
            "4/4 [==============================] - 0s 5ms/step - loss: 0.2065 - val_loss: 0.2162\n",
            "Epoch 173/200\n",
            "4/4 [==============================] - 0s 5ms/step - loss: 0.2052 - val_loss: 0.2173\n",
            "Epoch 174/200\n",
            "4/4 [==============================] - 0s 7ms/step - loss: 0.2062 - val_loss: 0.2151\n",
            "Epoch 175/200\n",
            "4/4 [==============================] - 0s 5ms/step - loss: 0.2033 - val_loss: 0.2157\n",
            "Epoch 176/200\n",
            "4/4 [==============================] - 0s 5ms/step - loss: 0.2039 - val_loss: 0.2146\n",
            "Epoch 177/200\n",
            "4/4 [==============================] - 0s 5ms/step - loss: 0.2039 - val_loss: 0.2143\n",
            "Epoch 178/200\n",
            "4/4 [==============================] - 0s 5ms/step - loss: 0.2021 - val_loss: 0.2130\n",
            "Epoch 179/200\n",
            "4/4 [==============================] - 0s 5ms/step - loss: 0.2016 - val_loss: 0.2118\n",
            "Epoch 180/200\n",
            "4/4 [==============================] - 0s 6ms/step - loss: 0.2011 - val_loss: 0.2113\n",
            "Epoch 181/200\n",
            "4/4 [==============================] - 0s 6ms/step - loss: 0.2001 - val_loss: 0.2107\n",
            "Epoch 182/200\n",
            "4/4 [==============================] - 0s 5ms/step - loss: 0.2022 - val_loss: 0.2104\n",
            "Epoch 183/200\n",
            "4/4 [==============================] - 0s 5ms/step - loss: 0.2006 - val_loss: 0.2136\n",
            "Epoch 184/200\n",
            "4/4 [==============================] - 0s 5ms/step - loss: 0.1981 - val_loss: 0.2089\n",
            "Epoch 185/200\n",
            "4/4 [==============================] - 0s 5ms/step - loss: 0.1979 - val_loss: 0.2084\n",
            "Epoch 186/200\n",
            "4/4 [==============================] - 0s 5ms/step - loss: 0.2016 - val_loss: 0.2093\n",
            "Epoch 187/200\n",
            "4/4 [==============================] - 0s 7ms/step - loss: 0.1987 - val_loss: 0.2079\n",
            "Epoch 188/200\n",
            "4/4 [==============================] - 0s 5ms/step - loss: 0.1950 - val_loss: 0.2067\n",
            "Epoch 189/200\n",
            "4/4 [==============================] - 0s 5ms/step - loss: 0.1965 - val_loss: 0.2085\n",
            "Epoch 190/200\n",
            "4/4 [==============================] - 0s 5ms/step - loss: 0.1941 - val_loss: 0.2057\n",
            "Epoch 191/200\n",
            "4/4 [==============================] - 0s 5ms/step - loss: 0.1951 - val_loss: 0.2050\n",
            "Epoch 192/200\n",
            "4/4 [==============================] - 0s 6ms/step - loss: 0.1922 - val_loss: 0.2045\n",
            "Epoch 193/200\n",
            "4/4 [==============================] - 0s 5ms/step - loss: 0.1941 - val_loss: 0.2040\n",
            "Epoch 194/200\n",
            "4/4 [==============================] - 0s 5ms/step - loss: 0.1910 - val_loss: 0.2034\n",
            "Epoch 195/200\n",
            "4/4 [==============================] - 0s 5ms/step - loss: 0.1907 - val_loss: 0.2030\n",
            "Epoch 196/200\n",
            "4/4 [==============================] - 0s 5ms/step - loss: 0.1930 - val_loss: 0.2026\n",
            "Epoch 197/200\n",
            "4/4 [==============================] - 0s 5ms/step - loss: 0.1898 - val_loss: 0.2030\n",
            "Epoch 198/200\n",
            "4/4 [==============================] - 0s 5ms/step - loss: 0.1902 - val_loss: 0.2013\n",
            "Epoch 199/200\n",
            "4/4 [==============================] - 0s 5ms/step - loss: 0.1891 - val_loss: 0.2009\n",
            "Epoch 200/200\n",
            "4/4 [==============================] - 0s 5ms/step - loss: 0.1879 - val_loss: 0.2010\n"
          ],
          "name": "stdout"
        }
      ]
    },
    {
      "cell_type": "code",
      "metadata": {
        "id": "fclNIr25eTGi",
        "outputId": "2e884af2-99b9-4382-d600-258b20f2e25e",
        "colab": {
          "base_uri": "https://localhost:8080/",
          "height": 295
        }
      },
      "source": [
        "def plot_loss_history(h, title):\n",
        "    plt.plot(h.history['loss'], label = \"Train loss\")\n",
        "    plt.plot(h.history['val_loss'], label = \"Validation loss\")\n",
        "    plt.xlabel('Epochs')\n",
        "    plt.title(title)\n",
        "    plt.legend()\n",
        "    plt.show()\n",
        "\n",
        "plot_loss_history(history, 'Logistic ({} epochs)'.format(num_epochs))"
      ],
      "execution_count": null,
      "outputs": [
        {
          "output_type": "display_data",
          "data": {
            "image/png": "[encoded data removed]",
            "text/plain": [
              "<Figure size 432x288 with 1 Axes>"
            ]
          },
          "metadata": {
            "tags": [],
            "needs_background": "light"
          }
        }
      ]
    },
    {
      "cell_type": "markdown",
      "metadata": {
        "id": "Ym491pXNlplI"
      },
      "source": [
        "#### Confusion matrix\n",
        "\n",
        "With more than two features we can't plot the decision boundary; however, we can have an idea of the performance of our classification model by looking at the <a href=\"https://en.wikipedia.org/wiki/Confusion_matrix\">confusion matrix</a>:"
      ]
    },
    {
      "cell_type": "code",
      "metadata": {
        "id": "pRZFu9myaV-A",
        "outputId": "1b6a6fba-6f50-4c0c-aabb-629f6e7ffe7e",
        "colab": {
          "base_uri": "https://localhost:8080/",
          "height": 53
        }
      },
      "source": [
        "from sklearn.metrics import confusion_matrix\n",
        "predictions = model.predict(features_val)\n",
        "predicted_labels = np.where(predictions > 0.5, \"virginica\", \"non-virginica\")\n",
        "target_labels = target_val.to_numpy().reshape((len(target_val),1))\n",
        "target_labels = np.where(target_labels > 0.5, \"virginica\", \"non-virginica\")\n",
        "\n",
        "con_mat_df = confusion_matrix(target_labels, predicted_labels, labels=[\"non-virginica\",\"virginica\"])\n",
        "print(con_mat_df)"
      ],
      "execution_count": null,
      "outputs": [
        {
          "output_type": "stream",
          "text": [
            "[[19  1]\n",
            " [ 0 10]]\n"
          ],
          "name": "stdout"
        }
      ]
    },
    {
      "cell_type": "code",
      "metadata": {
        "id": "9wWK_HCChKYk",
        "outputId": "d0819495-525d-47df-d53c-4277a19a046b",
        "colab": {
          "base_uri": "https://localhost:8080/",
          "height": 655
        }
      },
      "source": [
        "import seaborn as sn\n",
        "\n",
        "figure = plt.figure(figsize=(8, 8))\n",
        "sn.heatmap(con_mat_df, annot=True,cmap=plt.cm.Blues)\n",
        "plt.tight_layout()\n",
        "plt.ylabel('True label')\n",
        "plt.xlabel('Predicted label')\n",
        "plt.show()"
      ],
      "execution_count": null,
      "outputs": [
        {
          "output_type": "stream",
          "text": [
            "/usr/local/lib/python3.6/dist-packages/statsmodels/tools/_testing.py:19: FutureWarning: pandas.util.testing is deprecated. Use the functions in the public API at pandas.testing instead.\n",
            "  import pandas.util.testing as tm\n"
          ],
          "name": "stderr"
        },
        {
          "output_type": "display_data",
          "data": {
            "image/png": "[encoded data removed]",
            "text/plain": [
              "<Figure size 576x576 with 2 Axes>"
            ]
          },
          "metadata": {
            "tags": [],
            "needs_background": "light"
          }
        }
      ]
    },
    {
      "cell_type": "markdown",
      "metadata": {
        "id": "ijg0GxZYzBO6"
      },
      "source": [
        "We can now calculate the **overall accuracy** of the model, and the **TPR** (true positive rate) and the **TNR** (true negative rate):\n",
        "\n",
        "$$\n",
        "\\text{TPR}=\\frac{TP}{TP+FN}\\\\\n",
        "$$\n",
        "\n",
        "$$\n",
        "\\text{TNR}=\\frac{TN}{TN+FP}\\\\\n",
        "$$\n"
      ]
    },
    {
      "cell_type": "code",
      "metadata": {
        "id": "Vy_z4Jzyv3jC",
        "outputId": "cc7acf9b-59e5-41b6-938c-577537b21027",
        "colab": {
          "base_uri": "https://localhost:8080/",
          "height": 71
        }
      },
      "source": [
        "from sklearn.metrics import accuracy_score\n",
        "\n",
        "accuracy = accuracy_score(target_labels, predicted_labels)\n",
        "tn, fp, fn, tp = con_mat_df.ravel()\n",
        "tpr = tp/(tp+fn)\n",
        "tnr = tn/(tn+fp)\n",
        "\n",
        "print(\"Overall accuracy is: \", accuracy)\n",
        "print(\"TPR is: \", tpr)\n",
        "print(\"TNR is: \", tnr)"
      ],
      "execution_count": null,
      "outputs": [
        {
          "output_type": "stream",
          "text": [
            "Overall accuracy is:  0.9666666666666667\n",
            "TPR is:  1.0\n",
            "TNR is:  0.95\n"
          ],
          "name": "stdout"
        }
      ]
    },
    {
      "cell_type": "markdown",
      "metadata": {
        "id": "VHsYTUKOJlPT"
      },
      "source": [
        "- going deeper\n",
        "- dl for logistic regression is a bit of an overkill (Ng's slide below)"
      ]
    },
    {
      "cell_type": "markdown",
      "metadata": {
        "id": "ZvbdISzP4cZd"
      },
      "source": [
        "## A deeper neural networks model\n",
        "\n"
      ]
    },
    {
      "cell_type": "code",
      "metadata": {
        "id": "9GS_S3ADGezR"
      },
      "source": [
        "input_shape = (features_train.shape[1],) ## tuple that specifies the number of features \n",
        "hidden_nodes_1 = 8\n",
        "hidden_nodes_2 = 5\n",
        "hidden_activation_1 = 'relu'\n",
        "hidden_activation_2 = 'tanh'\n",
        "output_activation = 'sigmoid'\n",
        "loss_function = 'binary_crossentropy'\n",
        "optimizer_used = 'rmsprop' ## Root Mean Square Propagation\n",
        "num_epochs = 200"
      ],
      "execution_count": null,
      "outputs": []
    },
    {
      "cell_type": "code",
      "metadata": {
        "id": "i5LeIcq8GUzO"
      },
      "source": [
        "# binary classification shallow neural network model in Keras\n",
        "model = Sequential()\n",
        "model.add(Dense(units=hidden_nodes_1, input_shape=input_shape, activation=hidden_activation))\n",
        "model.add(Dense(units=hidden_nodes_2, activation=hidden_activation))\n",
        "model.add(Dense(1, activation=output_activation))\n",
        "\n",
        "#the model is declared, but we still need to compile it to actually\n",
        "#build all the data structures\n",
        "model.compile(optimizer=optimizer_used, loss=loss_function)"
      ],
      "execution_count": null,
      "outputs": []
    },
    {
      "cell_type": "code",
      "metadata": {
        "id": "OsNG5urlOOPm",
        "outputId": "a6579f66-ecdd-42b5-df97-9e94507c3b2e",
        "colab": {
          "base_uri": "https://localhost:8080/",
          "height": 287
        }
      },
      "source": [
        "print(model.summary())"
      ],
      "execution_count": null,
      "outputs": [
        {
          "output_type": "stream",
          "text": [
            "Model: \"sequential_4\"\n",
            "_________________________________________________________________\n",
            "Layer (type)                 Output Shape              Param #   \n",
            "=================================================================\n",
            "dense_8 (Dense)              (None, 8)                 40        \n",
            "_________________________________________________________________\n",
            "dense_9 (Dense)              (None, 5)                 45        \n",
            "_________________________________________________________________\n",
            "dense_10 (Dense)             (None, 1)                 6         \n",
            "=================================================================\n",
            "Total params: 91\n",
            "Trainable params: 91\n",
            "Non-trainable params: 0\n",
            "_________________________________________________________________\n",
            "None\n"
          ],
          "name": "stdout"
        }
      ]
    },
    {
      "cell_type": "code",
      "metadata": {
        "id": "x6KZ6yFNGvpQ"
      },
      "source": [
        "history = model.fit(features_train, target_train, epochs=num_epochs, validation_data=(features_val, target_val), verbose=0)"
      ],
      "execution_count": null,
      "outputs": []
    },
    {
      "cell_type": "code",
      "metadata": {
        "id": "ImvhF0tfOaqh",
        "outputId": "c86ecb12-c999-49e4-f0df-9ecbdcd21847",
        "colab": {
          "base_uri": "https://localhost:8080/",
          "height": 295
        }
      },
      "source": [
        "plot_loss_history(history, 'Logistic ({} epochs)'.format(num_epochs))"
      ],
      "execution_count": null,
      "outputs": [
        {
          "output_type": "display_data",
          "data": {
            "image/png": "[encoded data removed]",
            "text/plain": [
              "<Figure size 432x288 with 1 Axes>"
            ]
          },
          "metadata": {
            "tags": [],
            "needs_background": "light"
          }
        }
      ]
    },
    {
      "cell_type": "code",
      "metadata": {
        "id": "sqRn6lZUOiE1",
        "outputId": "94e17c4e-6042-416d-cd05-e6bfbab1df7d",
        "colab": {
          "base_uri": "https://localhost:8080/",
          "height": 53
        }
      },
      "source": [
        "predictions = model.predict(features_val)\n",
        "predicted_labels = np.where(predictions > 0.5, \"virginica\", \"non-virginica\")\n",
        "target_labels = target_val.to_numpy().reshape((len(target_val),1))\n",
        "target_labels = np.where(target_labels > 0.5, \"virginica\", \"non-virginica\")\n",
        "\n",
        "con_mat_df = confusion_matrix(target_labels, predicted_labels, labels=[\"non-virginica\",\"virginica\"])\n",
        "print(con_mat_df)"
      ],
      "execution_count": null,
      "outputs": [
        {
          "output_type": "stream",
          "text": [
            "[[18  2]\n",
            " [ 0 10]]\n"
          ],
          "name": "stdout"
        }
      ]
    },
    {
      "cell_type": "code",
      "metadata": {
        "id": "BbhLwnMoOl6K",
        "outputId": "5c42f8f4-b647-467b-e4fe-f5021c7f7970",
        "colab": {
          "base_uri": "https://localhost:8080/",
          "height": 599
        }
      },
      "source": [
        "figure = plt.figure(figsize=(8, 8))\n",
        "sn.heatmap(con_mat_df, annot=True,cmap=plt.cm.Blues)\n",
        "plt.tight_layout()\n",
        "plt.ylabel('True label')\n",
        "plt.xlabel('Predicted label')\n",
        "plt.show()"
      ],
      "execution_count": null,
      "outputs": [
        {
          "output_type": "display_data",
          "data": {
            "image/png": "[encoded data removed]",
            "text/plain": [
              "<Figure size 576x576 with 2 Axes>"
            ]
          },
          "metadata": {
            "tags": [],
            "needs_background": "light"
          }
        }
      ]
    },
    {
      "cell_type": "code",
      "metadata": {
        "id": "bzQwUbZqOq4s",
        "outputId": "1ffc4d11-3717-42b8-c01c-7f76c5a721ed",
        "colab": {
          "base_uri": "https://localhost:8080/",
          "height": 71
        }
      },
      "source": [
        "accuracy = accuracy_score(target_labels, predicted_labels)\n",
        "tn, fp, fn, tp = con_mat_df.ravel()\n",
        "tpr = tp/(tp+fn)\n",
        "tnr = tn/(tn+fp)\n",
        "\n",
        "print(\"Overall accuracy is: \", accuracy)\n",
        "print(\"TPR is: \", tpr)\n",
        "print(\"TNR is: \", tnr)"
      ],
      "execution_count": null,
      "outputs": [
        {
          "output_type": "stream",
          "text": [
            "Overall accuracy is:  0.9333333333333333\n",
            "TPR is:  1.0\n",
            "TNR is:  0.9\n"
          ],
          "name": "stdout"
        }
      ]
    },
    {
      "cell_type": "markdown",
      "metadata": {
        "id": "qRmVTlUySgOR"
      },
      "source": [
        "## A side note\n",
        "\n",
        "Neural networks models and deep learning models may be an overkill when applied to a classification problem on 150 samples and 4 features: it is not even guaranteed that they will perform better than simpler machine learning methods like logistic regression. Indeed at times deep learning may perform worse than simpler approaches. \n",
        "As a matter of fact, deep learning is known to work best when the size of the problem is very large (both in terms of amount of data and order of computations needed), and the advent of *Big Data* is exactly one of the drivers behind the rise of deep learning.\n",
        "\n",
        "The Figure below comes from slides by <a href='https://en.wikipedia.org/wiki/Andrew_Ng'>Andrew Ng</a> and illustrates this point: when the amount of data is limited, traditional machine learning methods and small and large neural networks have similar performance. It is only when the size of the problem increases that deep learning shows its potential and consistently outperforms other methods/algorithms.\n",
        "\n"
      ]
    },
    {
      "cell_type": "markdown",
      "metadata": {
        "id": "VXL0otE9IyX2"
      },
      "source": [
        "<img src=\"https://drive.google.com/uc?export=view&id=1_Nom99R963AhM30UbbDLg4-u-mPSiX_L\">"
      ]
    },
    {
      "cell_type": "markdown",
      "metadata": {
        "id": "JSS4Mt2NcNeZ"
      },
      "source": [
        "As a matter of fact, a reliable way to get better predictive performance is often to either **train a bigger network** or feed **more data** to it.\n",
        "Eventually you'll hit the limit: i) run out of training examples; or ii) network so big that it is too slow to train "
      ]
    }
  ]
}