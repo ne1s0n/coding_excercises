{
  "nbformat": 4,
  "nbformat_minor": 0,
  "metadata": {
    "colab": {
      "provenance": []
    },
    "kernelspec": {
      "name": "python3",
      "display_name": "Python 3"
    }
  },
  "cells": [
    {
      "cell_type": "markdown",
      "metadata": {
        "id": "Yt_A6nW4nnWl"
      },
      "source": [
        "## Neural networks models: practicals\n",
        "\n",
        "In this notebook you will practice simple neural networks models for classification.\n",
        "We will be using the `breast cancer` dataset:\n",
        "\n",
        "- binary classification problem: breast cancer diagnosis, `0`: `malignant`, `1`: `benign`\n",
        "- EDA: look at the data\n",
        "- split between the training and the test sets\n",
        "- number of hidden layers\n",
        "- number of nodes within layers\n",
        "- type of activation functions in the hidden layers\n",
        "- number of epochs\n",
        "- number of features to include in the model\n",
        "- etc.\n",
        "\n",
        "Let's start by importing some basic libraries and the data:"
      ]
    },
    {
      "cell_type": "code",
      "metadata": {
        "id": "zec9A2Dzm6QO"
      },
      "source": [
        "## import libraries\n",
        "import numpy as np\n",
        "import tensorflow as tf\n",
        "import pandas as pd\n",
        "import sklearn.datasets\n",
        "import matplotlib.pyplot as plt"
      ],
      "execution_count": null,
      "outputs": []
    },
    {
      "cell_type": "code",
      "metadata": {
        "id": "xBOQi0uFoTbO"
      },
      "source": [
        "from sklearn.datasets import load_breast_cancer\n",
        "bcancer = load_breast_cancer()\n",
        "y = bcancer.target\n",
        "X = bcancer.data\n",
        "y.shape"
      ],
      "execution_count": null,
      "outputs": []
    },
    {
      "cell_type": "code",
      "metadata": {
        "id": "7J4XGVk7r2JX"
      },
      "source": [
        "from collections import Counter\n",
        "print(Counter(y))"
      ],
      "execution_count": null,
      "outputs": []
    },
    {
      "cell_type": "code",
      "metadata": {
        "id": "S9AU65sTF9Pn"
      },
      "source": [
        "print(bcancer.DESCR)"
      ],
      "execution_count": null,
      "outputs": []
    },
    {
      "cell_type": "markdown",
      "metadata": {
        "id": "8NqJqw5OGIgc"
      },
      "source": [
        "It's now your turn to go on with the exercise:\n",
        "\n",
        "1. explore the data\n",
        "2. prepare the data (e.g. is any transformation needed?)\n",
        "3. split the data into training and validation sets\n",
        "4. define the neural network model\n",
        "5. train the model\n",
        "6. evaluate model performance"
      ]
    },
    {
      "cell_type": "markdown",
      "source": [
        "We propose to structure the exercise in blocks: we will evaulate together your progress after each block.\n",
        "\n",
        "It's a good idea to reset the session (`Runtime` $\\rightarrow$ `Restart runtime`) and reload the libraries: this way, you'll get a better feel of which are the necessary `Python` libraries to import.\n",
        "\n",
        "### 1. EDA"
      ],
      "metadata": {
        "id": "QOwAqL1cqv9n"
      }
    },
    {
      "cell_type": "code",
      "metadata": {
        "id": "9pkijw8ksdF5"
      },
      "source": [
        "## write your own code here"
      ],
      "execution_count": null,
      "outputs": []
    },
    {
      "cell_type": "markdown",
      "source": [
        "### 2.Data preprocessing\n",
        "\n",
        "Should we transform the data in any way?"
      ],
      "metadata": {
        "id": "DewcrqtyrYac"
      }
    },
    {
      "cell_type": "code",
      "source": [
        "### your code here"
      ],
      "metadata": {
        "id": "oEopcksM5WUW"
      },
      "execution_count": null,
      "outputs": []
    },
    {
      "cell_type": "markdown",
      "source": [
        "### 3. Train-validation split"
      ],
      "metadata": {
        "id": "SVy4ciBtrt2-"
      }
    },
    {
      "cell_type": "code",
      "source": [
        "## write your code here"
      ],
      "metadata": {
        "id": "pks95oBz5J4k"
      },
      "execution_count": null,
      "outputs": []
    },
    {
      "cell_type": "markdown",
      "source": [
        "### 4. Define your DL model\n",
        "\n",
        "Choose your neural network architecture: build and compile the model"
      ],
      "metadata": {
        "id": "mddkvaT2xt-t"
      }
    },
    {
      "cell_type": "code",
      "source": [
        "## your code here"
      ],
      "metadata": {
        "id": "J6Bd8O3JxxGZ"
      },
      "execution_count": null,
      "outputs": []
    },
    {
      "cell_type": "markdown",
      "source": [
        "### 5. Train the model"
      ],
      "metadata": {
        "id": "JmerFtUUx76z"
      }
    },
    {
      "cell_type": "code",
      "source": [
        "## your code here"
      ],
      "metadata": {
        "id": "Q0yi7u6vx-9H"
      },
      "execution_count": null,
      "outputs": []
    },
    {
      "cell_type": "markdown",
      "source": [
        "### 6. Evaluate model performance\n",
        "\n",
        "How accurate is your model?"
      ],
      "metadata": {
        "id": "nQaDufm3yCVW"
      }
    },
    {
      "cell_type": "code",
      "source": [
        "## your code here"
      ],
      "metadata": {
        "id": "cqOUhNHiyHEg"
      },
      "execution_count": null,
      "outputs": []
    }
  ]
}