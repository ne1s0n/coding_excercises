{
  "nbformat": 4,
  "nbformat_minor": 0,
  "metadata": {
    "colab": {
      "name": "code_04c_keras_multiclass_classification.ipynb",
      "provenance": [],
      "collapsed_sections": []
    },
    "kernelspec": {
      "name": "python3",
      "display_name": "Python 3"
    }
  },
  "cells": [
    {
      "cell_type": "markdown",
      "metadata": {
        "id": "oYvC99Qgqt6L"
      },
      "source": [
        "# Multiclass classification using Softmax\n",
        "\n",
        "We now extend logistic regression to multiclas classification using [softmax](https://en.wikipedia.org/wiki/Softmax_function).\n",
        "\n",
        "The problem requires us to do three-classes classification using a Softmax function, which can be easily considered as an extension of logistic regression over three (or more) classes. We use the neural network-like implementation as with binary classification.\n",
        "\n",
        "Luckily, Keras provides a [softmax activation function](https://keras.io/api/layers/activations/#softmax-function), which we will use instead of the logistic we previously used.\n",
        "\n",
        "The structure of our network will be similar, but the output goes from a single number to **three** numbers, one per class, and we thus need three nodes:\n",
        "\n",
        "<img src=\"https://raw.githubusercontent.com/ne1s0n/coding_excercises/master/data/softmax_neuron.png\">\n",
        "\n",
        "As a result, the loss function will need to change. Remember, loss represents a measure of how good the predictions are. Previously we used binary_crossentropy, but since now predictions are multiclass we need to change function. Luckily Keras provides a natural extension for the multiclass case with [CategoricalCrossentropy](https://keras.io/api/losses/probabilistic_losses/#categoricalcrossentropy-class)\n"
      ]
    },
    {
      "cell_type": "markdown",
      "metadata": {
        "id": "mV7d3uTErn8z"
      },
      "source": [
        "## Categorical data\n",
        "\n",
        "As usual, we first import some necessary libraries and load the data: as we did with binary classification, we first take only two features from the dataset."
      ]
    },
    {
      "cell_type": "code",
      "metadata": {
        "id": "IPv0zhcYsMgV"
      },
      "source": [
        "## import libraries\n",
        "import numpy as np\n",
        "import tensorflow\n",
        "import pandas as pd\n",
        "import sklearn.datasets\n",
        "import matplotlib.pyplot as plt"
      ],
      "execution_count": 1,
      "outputs": []
    },
    {
      "cell_type": "code",
      "metadata": {
        "id": "YROzh8LRrxpk"
      },
      "source": [
        "iris = sklearn.datasets.load_iris()\n",
        "iris.data = pd.DataFrame(iris.data, columns=iris.feature_names) #converting numpy array -> pandas DataFrame\n",
        "iris.target = pd.Series(iris.target) #converting numpy array -> pandas Series\n",
        "iris.target = iris.target.to_frame() #converting Pandas series to dataframe\n",
        "\n",
        "features = iris.data.iloc[:,0:2]\n",
        "target = iris.target\n",
        "\n",
        "feature_x = 0\n",
        "feature_y = 1"
      ],
      "execution_count": 2,
      "outputs": []
    },
    {
      "cell_type": "markdown",
      "metadata": {
        "id": "VxsFtmDp8yC3"
      },
      "source": [
        "We can re-plot the data to check their distribution in the two-feature space:"
      ]
    },
    {
      "cell_type": "code",
      "metadata": {
        "id": "bHepzfwF8oTx",
        "outputId": "03eb684a-3377-40bb-d4f8-9b2b5c71801e",
        "colab": {
          "base_uri": "https://localhost:8080/",
          "height": 282
        }
      },
      "source": [
        "#starting a new plot\n",
        "fig, ax = plt.subplots()\n",
        "\n",
        "#adding data in three bunches of 50, once per class\n",
        "ax.scatter(x=iris.data.iloc[0:50,feature_x],    y=iris.data.iloc[0:50,feature_y],    c='red',   label=iris.target_names[0])\n",
        "ax.scatter(x=iris.data.iloc[50:100,feature_x],  y=iris.data.iloc[50:100,feature_y],  c='green', label=iris.target_names[1])\n",
        "ax.scatter(x=iris.data.iloc[100:150,feature_x], y=iris.data.iloc[100:150,feature_y], c='blue',  label=iris.target_names[2])\n",
        "\n",
        "#the axis names are taken from feature names\n",
        "ax.set_xlabel(iris.feature_names[feature_x])\n",
        "ax.set_ylabel(iris.feature_names[feature_y])\n",
        "\n",
        "#adding the legend and printing the plot\n",
        "ax.legend()\n",
        "plt.show()"
      ],
      "execution_count": 3,
      "outputs": [
        {
          "output_type": "display_data",
          "data": {
            "image/png": "[encoded data removed]",
            "text/plain": [
              "<Figure size 432x288 with 1 Axes>"
            ]
          },
          "metadata": {
            "tags": [],
            "needs_background": "light"
          }
        }
      ]
    },
    {
      "cell_type": "markdown",
      "metadata": {
        "id": "UrkgfuYx9CwZ"
      },
      "source": [
        "We now check the dimensions of our input arrays (a sanity check which is important with neural networks and deep learning):"
      ]
    },
    {
      "cell_type": "code",
      "metadata": {
        "id": "KOCu4sUD8wRM",
        "outputId": "3447abce-53db-4d6f-aee3-aef8294ddf5b",
        "colab": {
          "base_uri": "https://localhost:8080/",
          "height": 53
        }
      },
      "source": [
        "print('Shape of the feature table: ' + str(features.shape))\n",
        "print('Shape of the target array: ' + str(target.shape))"
      ],
      "execution_count": 4,
      "outputs": [
        {
          "output_type": "stream",
          "text": [
            "Shape of the feature table: (150, 2)\n",
            "Shape of the target array: (150, 1)\n"
          ],
          "name": "stdout"
        }
      ]
    },
    {
      "cell_type": "markdown",
      "metadata": {
        "id": "1VX1jVMWsmwq"
      },
      "source": [
        "The problem is that our target array `iris.target` is a numeric array. But those numbers we used (0, 1, and 2) do not represent real values. In other words, \"virginica\" is not twice \"versicolor\". Numbers here are used as labels, not as quantities.\n",
        "\n",
        "In fact, to properly train a model the structure of the target array must change to [one-hot encoding](https://en.wikipedia.org/wiki/One-hot). In simple terms, it needs to become a table with one row per sample (150 in total) and one column per class (three in total). Something like:\n",
        "\n",
        "| Setosa | Versicolor | Virginica |\n",
        "|------|------|------|\n",
        "|   0  |   1  |   0  |\n",
        "|   1  |   0  |   0  |\n",
        "|   1  |   0  |   0  |\n",
        "|   0  |   0  |   1  |\n",
        "\n",
        "As you can see the first sample is Versicolor, the second and third are Setosa, the last one is Virginica. Note that there is only a single \"one\" per row.\n",
        "\n",
        "Luckily, it's easy to pass to one-hot encoding using keras function [to_categorical](https://keras.io/api/utils/python_utils/#to_categorical-function):\n"
      ]
    },
    {
      "cell_type": "code",
      "metadata": {
        "id": "fnoxh-5vs7_F",
        "outputId": "30876beb-01c1-47b5-f126-1a2821da4662",
        "colab": {
          "base_uri": "https://localhost:8080/",
          "height": 269
        }
      },
      "source": [
        "#the \"utils\" subpackage is very useful, take a look to it when you have time\n",
        "from keras.utils import to_categorical\n",
        "\n",
        "#converting to categorical\n",
        "target_multi_cat = to_categorical(target)\n",
        "\n",
        "#since everything else is a Pandas dataframe, let's stick to the format\n",
        "#for consistency\n",
        "target_multi_cat = pd.DataFrame(target_multi_cat)\n",
        "\n",
        "#let's take a look\n",
        "print(target_multi_cat)"
      ],
      "execution_count": 5,
      "outputs": [
        {
          "output_type": "stream",
          "text": [
            "       0    1    2\n",
            "0    1.0  0.0  0.0\n",
            "1    1.0  0.0  0.0\n",
            "2    1.0  0.0  0.0\n",
            "3    1.0  0.0  0.0\n",
            "4    1.0  0.0  0.0\n",
            "..   ...  ...  ...\n",
            "145  0.0  0.0  1.0\n",
            "146  0.0  0.0  1.0\n",
            "147  0.0  0.0  1.0\n",
            "148  0.0  0.0  1.0\n",
            "149  0.0  0.0  1.0\n",
            "\n",
            "[150 rows x 3 columns]\n"
          ],
          "name": "stdout"
        }
      ]
    },
    {
      "cell_type": "markdown",
      "metadata": {
        "id": "ITSVqAr7tQyF"
      },
      "source": [
        "## Training and validation sets\n",
        "\n",
        "We are now ready to create our training and validation sets, as done above:"
      ]
    },
    {
      "cell_type": "code",
      "metadata": {
        "id": "9u_Io-6ftVUc"
      },
      "source": [
        "#we want to have the same proportion of classes in both train and validation sets\n",
        "from sklearn.model_selection import StratifiedShuffleSplit\n",
        "\n",
        "test_pct = 0.2\n",
        "\n",
        "#building a StratifiedShuffleSplit object (sss among friends) with 20% data\n",
        "#assigned to validation set (here called \"test\")\n",
        "#random_state is used to control class balance between training and test sets (None to switch to random behavior)\n",
        "sss = StratifiedShuffleSplit(n_splits=1, test_size= test_pct, random_state=0)\n",
        "\n",
        "for train_index, val_index in sss.split(features, target_multi_cat):\n",
        "    features_train = features.iloc[train_index, :]\n",
        "    features_val   = features.iloc[val_index, :]\n",
        "    target_train   = target_multi_cat.iloc[train_index, :]\n",
        "    target_val     = target_multi_cat.iloc[val_index, :]"
      ],
      "execution_count": 6,
      "outputs": []
    },
    {
      "cell_type": "markdown",
      "metadata": {
        "id": "a7FWwIxGt1a1"
      },
      "source": [
        "Just a little check:"
      ]
    },
    {
      "cell_type": "code",
      "metadata": {
        "id": "tWYIPsoDt3cv",
        "outputId": "90bd20c2-54d4-466b-81c2-0128377bc466",
        "colab": {
          "base_uri": "https://localhost:8080/",
          "height": 305
        }
      },
      "source": [
        "#shapes\n",
        "print(features_train.shape)\n",
        "print(features_val.shape)\n",
        "print(target_train.shape)\n",
        "print(target_val.shape)\n",
        "\n",
        "#number of classes per split\n",
        "print('\\nClasses in train set:')\n",
        "print(target_train.sum())\n",
        "print('\\nClasses in validation set:')\n",
        "print(target_val.sum())"
      ],
      "execution_count": 7,
      "outputs": [
        {
          "output_type": "stream",
          "text": [
            "(120, 2)\n",
            "(30, 2)\n",
            "(120, 3)\n",
            "(30, 3)\n",
            "\n",
            "Classes in train set:\n",
            "0    40.0\n",
            "1    40.0\n",
            "2    40.0\n",
            "dtype: float32\n",
            "\n",
            "Classes in validation set:\n",
            "0    10.0\n",
            "1    10.0\n",
            "2    10.0\n",
            "dtype: float32\n"
          ],
          "name": "stdout"
        }
      ]
    },
    {
      "cell_type": "markdown",
      "metadata": {
        "id": "5EQXmDHjuJ_C"
      },
      "source": [
        "We have now a balanced dataset, with 40 instances for each class in the training set and 10 in the validation set."
      ]
    },
    {
      "cell_type": "markdown",
      "metadata": {
        "id": "MMYSgINdNGHI"
      },
      "source": [
        "## Set up\n",
        "\n",
        "We define here the hyperparameters of the model"
      ]
    },
    {
      "cell_type": "code",
      "metadata": {
        "id": "B88ql-inMRxE"
      },
      "source": [
        "num_classes = 3\n",
        "input_shape = features_train.shape[1]\n",
        "activation_function = 'softmax'\n",
        "optimising_method = 'rmsprop'\n",
        "loss_function = 'categorical_crossentropy'\n",
        "num_epochs = 500"
      ],
      "execution_count": 22,
      "outputs": []
    },
    {
      "cell_type": "markdown",
      "metadata": {
        "id": "kVZZ1dFarX10"
      },
      "source": [
        "## A multiclass model\n",
        "\n",
        "We are now ready to declare our multiclass classification model: we use `Keras`, but this is equivalent to multiclass logistic regression (only with neural networks-like representation). The output layer has three units, corresponding to the three classes:"
      ]
    },
    {
      "cell_type": "code",
      "metadata": {
        "id": "fic85viHqtVB"
      },
      "source": [
        "from keras.models import Sequential\n",
        "from keras.layers import Dense\n",
        "\n",
        "# 3-class softmax regression in Keras\n",
        "model_multi = Sequential()\n",
        "model_multi.add(Dense(units = num_classes, activation=activation_function, input_dim=input_shape))\n",
        "\n",
        "#compile the model specifying the new multiclass loss\n",
        "model_multi.compile(optimizer=optimising_method, loss=loss_function)"
      ],
      "execution_count": 23,
      "outputs": []
    },
    {
      "cell_type": "markdown",
      "metadata": {
        "id": "qVDzz9Hnrh8W"
      },
      "source": [
        "Let's take a look under the hood:"
      ]
    },
    {
      "cell_type": "code",
      "metadata": {
        "id": "VcP7R4JrrbKr",
        "outputId": "41e7c58e-5a52-495d-8e80-f5dfabf0fd9a",
        "colab": {
          "base_uri": "https://localhost:8080/",
          "height": 215
        }
      },
      "source": [
        "print(model_multi.summary())"
      ],
      "execution_count": 14,
      "outputs": [
        {
          "output_type": "stream",
          "text": [
            "Model: \"sequential_1\"\n",
            "_________________________________________________________________\n",
            "Layer (type)                 Output Shape              Param #   \n",
            "=================================================================\n",
            "dense_1 (Dense)              (None, 3)                 9         \n",
            "=================================================================\n",
            "Total params: 9\n",
            "Trainable params: 9\n",
            "Non-trainable params: 0\n",
            "_________________________________________________________________\n",
            "None\n"
          ],
          "name": "stdout"
        }
      ]
    },
    {
      "cell_type": "markdown",
      "metadata": {
        "id": "GX2raO_-rl3F"
      },
      "source": [
        "We now have to train 9 parameters: 3 coefficients (W1, W2 B) times tree nodes."
      ]
    },
    {
      "cell_type": "markdown",
      "metadata": {
        "id": "XT912ksQuUxf"
      },
      "source": [
        "## Fitting the model \n",
        "\n",
        "We are ready to fit the model. This time we go directly to 500 epochs, trained in silent mode. We then plot the loss function evolution."
      ]
    },
    {
      "cell_type": "code",
      "metadata": {
        "id": "DvtbANHaulJl"
      },
      "source": [
        "history_multi = model_multi.fit(features_train, target_train, epochs=num_epochs, validation_data=(features_val, target_val), verbose=0)"
      ],
      "execution_count": 24,
      "outputs": []
    },
    {
      "cell_type": "code",
      "metadata": {
        "id": "OUiWK0hxvX3V",
        "outputId": "c532899f-636c-4f17-8af4-b4622ccd07df",
        "colab": {
          "base_uri": "https://localhost:8080/",
          "height": 295
        }
      },
      "source": [
        "#function to take a look at losses evolution\n",
        "def plot_loss_history(h, title):\n",
        "    plt.plot(h.history['loss'], label = \"Train loss\")\n",
        "    plt.plot(h.history['val_loss'], label = \"Validation loss\")\n",
        "    plt.xlabel('Epochs')\n",
        "    plt.title(title)\n",
        "    plt.legend()\n",
        "    plt.show()\n",
        "\n",
        "plot_loss_history(history_multi, 'Softmax multiclass ({} epochs)'.format(num_epochs))"
      ],
      "execution_count": 25,
      "outputs": [
        {
          "output_type": "display_data",
          "data": {
            "image/png": "[encoded data removed]",
            "text/plain": [
              "<Figure size 432x288 with 1 Axes>"
            ]
          },
          "metadata": {
            "tags": [],
            "needs_background": "light"
          }
        }
      ]
    },
    {
      "cell_type": "markdown",
      "metadata": {
        "id": "hH_hiUKttHqo"
      },
      "source": [
        "This looks promising. There's the clear same pattern we saw with logistic regression, with a strong improvement in the first hundred epochs (and then things become slow...)"
      ]
    },
    {
      "cell_type": "markdown",
      "metadata": {
        "id": "WwJcq2WytQcH"
      },
      "source": [
        "## Decision boundary\n",
        "\n",
        "We want now to plot again the decision boundary. Unfortunately `plot_decision_regions` function from [mlxtend](http://rasbt.github.io/mlxtend/) module does not support one-hot encoded multiclasses natively. Luckily [there's a quick workaround](https://www.machinecurve.com/index.php/2019/10/17/how-to-use-categorical-multiclass-hinge-with-keras/#visualizing-the-decision-boundary), but if you get lost in the code don't worry and just look at the plot :) "
      ]
    },
    {
      "cell_type": "code",
      "metadata": {
        "id": "ySRsRvoktXdc",
        "outputId": "b5ab04e4-a0cf-4a01-ff4f-3c5760359317",
        "colab": {
          "base_uri": "https://localhost:8080/",
          "height": 351
        }
      },
      "source": [
        "#we define a class to take the Keras model and convert its predictions\n",
        "#from \"one probability per iris type\" to \"just the iris type with the highest probability\"\n",
        "class Onehot2Int(object):\n",
        "    def __init__(self, model):\n",
        "        self.model = model\n",
        "\n",
        "    def predict(self, X):\n",
        "        y_pred = self.model.predict(X)\n",
        "        return np.argmax(y_pred, axis=1)\n",
        "\n",
        "#we wrap our trained model, instantiating a new object\n",
        "keras_model_no_ohe = Onehot2Int(model_multi)\n",
        "\n",
        "#and we can now plot the decision boundary safely (we still need to convert\n",
        "#the target one-hot-encoded matrix to int, though)\n",
        "from mlxtend.plotting import plot_decision_regions\n",
        "\n",
        "plot_decision_regions(features_train.to_numpy(), np.argmax(target_train.to_numpy(), axis=1), \n",
        "                      clf=keras_model_no_ohe)\n",
        "plt.title('Decision boundary for 0 (setosa) vs 1 (versicolor) vs 2 (virginica)')\n",
        "plt.xlabel(iris.feature_names[feature_x])\n",
        "plt.ylabel(iris.feature_names[feature_y])\n",
        "plt.show()"
      ],
      "execution_count": 26,
      "outputs": [
        {
          "output_type": "stream",
          "text": [
            "/usr/local/lib/python3.6/dist-packages/mlxtend/plotting/decision_regions.py:244: MatplotlibDeprecationWarning: Passing unsupported keyword arguments to axis() will raise a TypeError in 3.3.\n",
            "  ax.axis(xmin=xx.min(), xmax=xx.max(), y_min=yy.min(), y_max=yy.max())\n"
          ],
          "name": "stderr"
        },
        {
          "output_type": "display_data",
          "data": {
            "image/png": "[encoded data removed]",
            "text/plain": [
              "<Figure size 432x288 with 1 Axes>"
            ]
          },
          "metadata": {
            "tags": [],
            "needs_background": "light"
          }
        }
      ]
    },
    {
      "cell_type": "markdown",
      "metadata": {
        "id": "BOZHtkJ3vid2"
      },
      "source": [
        "### Predictions\n",
        "\n",
        "We now look at predictions in the **test set**: each test sample is assigned to the class with the highest probability.\n",
        "\n",
        "Predicted classes are then compared to true classes in a confusion matrix"
      ]
    },
    {
      "cell_type": "code",
      "metadata": {
        "id": "Eh5rmApBvkxQ",
        "outputId": "f687830f-1358-4874-84c5-b3ae04819464",
        "colab": {
          "base_uri": "https://localhost:8080/",
          "height": 721
        }
      },
      "source": [
        "from sklearn.metrics import confusion_matrix\n",
        "\n",
        "predictions = model_multi.predict(features_val)\n",
        "print(predictions)\n",
        "\n",
        "predicted_classes = model_multi.predict_classes(features_val)\n",
        "predicted_classes = predicted_classes.reshape(len(predicted_classes),1)\n",
        "\n",
        "target_classes = target.iloc[val_index].to_numpy()\n",
        "\n",
        "con_mat_df = confusion_matrix(target_classes, predicted_classes, labels = [0,1,2])\n",
        "print(\"\\nConfusion matrix:\")\n",
        "print(con_mat_df)"
      ],
      "execution_count": 27,
      "outputs": [
        {
          "output_type": "stream",
          "text": [
            "[[0.31410113 0.3288501  0.35704878]\n",
            " [0.30870637 0.33135006 0.35994354]\n",
            " [0.2767595  0.31631058 0.4069299 ]\n",
            " [0.39342147 0.347037   0.2595415 ]\n",
            " [0.24705233 0.30438897 0.44855872]\n",
            " [0.30691954 0.33217755 0.3609029 ]\n",
            " [0.42405888 0.3484314  0.2275097 ]\n",
            " [0.26715314 0.3143649  0.41848192]\n",
            " [0.27341208 0.31771487 0.40887305]\n",
            " [0.29064444 0.32796255 0.38139307]\n",
            " [0.38243946 0.34307104 0.2744895 ]\n",
            " [0.3327022  0.33684057 0.33045727]\n",
            " [0.25157684 0.30864626 0.43977684]\n",
            " [0.40388083 0.3460257  0.25009355]\n",
            " [0.29324558 0.32680395 0.3799505 ]\n",
            " [0.43869197 0.34860903 0.21269903]\n",
            " [0.42934352 0.3498197  0.22083686]\n",
            " [0.26093194 0.31092453 0.42814356]\n",
            " [0.2478344  0.30408803 0.44807753]\n",
            " [0.24239531 0.3061802  0.45142454]\n",
            " [0.24008924 0.30706623 0.45284453]\n",
            " [0.4291745  0.3453935  0.22543195]\n",
            " [0.41567388 0.34874028 0.23558582]\n",
            " [0.4166903  0.3481454  0.23516428]\n",
            " [0.31605694 0.3336189  0.35032415]\n",
            " [0.26093194 0.31092453 0.42814356]\n",
            " [0.30870637 0.33135006 0.35994354]\n",
            " [0.41233006 0.34597275 0.24169719]\n",
            " [0.30582446 0.3269331  0.36724246]\n",
            " [0.26500013 0.30928797 0.42571196]]\n",
            "WARNING:tensorflow:From <ipython-input-27-23f9702159d3>:6: Sequential.predict_classes (from tensorflow.python.keras.engine.sequential) is deprecated and will be removed after 2021-01-01.\n",
            "Instructions for updating:\n",
            "Please use instead:* `np.argmax(model.predict(x), axis=-1)`,   if your model does multi-class classification   (e.g. if it uses a `softmax` last-layer activation).* `(model.predict(x) > 0.5).astype(\"int32\")`,   if your model does binary classification   (e.g. if it uses a `sigmoid` last-layer activation).\n",
            "\n",
            "Confusion matrix:\n",
            "[[10  0  0]\n",
            " [ 0  1  9]\n",
            " [ 0  0 10]]\n"
          ],
          "name": "stdout"
        }
      ]
    },
    {
      "cell_type": "code",
      "metadata": {
        "id": "2O6Qmf3L7y6a",
        "outputId": "e7e9f1eb-baae-46ce-d585-104efeeb54cc",
        "colab": {
          "base_uri": "https://localhost:8080/",
          "height": 655
        }
      },
      "source": [
        "import seaborn as sn\n",
        "\n",
        "figure = plt.figure(figsize=(8, 8))\n",
        "sn.heatmap(con_mat_df, annot=True,cmap=plt.cm.Blues)\n",
        "plt.tight_layout()\n",
        "plt.ylabel('True label')\n",
        "plt.xlabel('Predicted label')\n",
        "plt.show()"
      ],
      "execution_count": 28,
      "outputs": [
        {
          "output_type": "stream",
          "text": [
            "/usr/local/lib/python3.6/dist-packages/statsmodels/tools/_testing.py:19: FutureWarning: pandas.util.testing is deprecated. Use the functions in the public API at pandas.testing instead.\n",
            "  import pandas.util.testing as tm\n"
          ],
          "name": "stderr"
        },
        {
          "output_type": "display_data",
          "data": {
            "image/png": "[encoded data removed]",
            "text/plain": [
              "<Figure size 576x576 with 2 Axes>"
            ]
          },
          "metadata": {
            "tags": [],
            "needs_background": "light"
          }
        }
      ]
    },
    {
      "cell_type": "code",
      "metadata": {
        "id": "_yn965L876q-",
        "outputId": "951c689d-bbb3-4557-9d5f-6da9ac846fa1",
        "colab": {
          "base_uri": "https://localhost:8080/",
          "height": 89
        }
      },
      "source": [
        "from sklearn.metrics import accuracy_score\n",
        "accuracy = accuracy_score(target_classes, predicted_classes)\n",
        "print(\"Overall accuracy is: \", accuracy)\n",
        "\n",
        "confusion_matrix(target_classes, predicted_classes, normalize='true')"
      ],
      "execution_count": 29,
      "outputs": [
        {
          "output_type": "stream",
          "text": [
            "Overall accuracy is:  0.7\n"
          ],
          "name": "stdout"
        },
        {
          "output_type": "execute_result",
          "data": {
            "text/plain": [
              "array([[1. , 0. , 0. ],\n",
              "       [0. , 0.1, 0.9],\n",
              "       [0. , 0. , 1. ]])"
            ]
          },
          "metadata": {
            "tags": []
          },
          "execution_count": 29
        }
      ]
    },
    {
      "cell_type": "markdown",
      "metadata": {
        "id": "wwnbc-0ndJs0"
      },
      "source": [
        "## Exercise: do it yourself!\n",
        "\n",
        "In the above illustration we three keras units with softmax activation function to perform logistic regression the `Iris` dataset. Only two features were used.\n",
        "\n",
        "It is again time for you to try write your own code!\n",
        "\n",
        "You can:\n",
        "\n",
        "* try out the effect of including the other two features, which we excluded above. Does performance improve? \n",
        "* what happens if you increase the n. of epochs?\n",
        "* what happens if you change the training/test data split?\n",
        "* what is the error rate in the training set?"
      ]
    },
    {
      "cell_type": "markdown",
      "metadata": {
        "id": "95rhqPISbszq"
      },
      "source": [
        "# Shallow neural networks for softmax regression\n",
        "\n",
        "We now move on from multinomial logistic regression to softmax regression with neural networks: again, we start by implementing a shallow neural netowrk model.\n",
        "\n",
        "First, we select all four features from the dataset and configure some basic parameters:"
      ]
    },
    {
      "cell_type": "code",
      "metadata": {
        "id": "dTXwA5oBflKf"
      },
      "source": [
        "## select all 4 features\n",
        "features = iris.data.iloc[:,:]"
      ],
      "execution_count": 30,
      "outputs": []
    },
    {
      "cell_type": "code",
      "metadata": {
        "id": "3dKMvwggcGe0"
      },
      "source": [
        "## # Configuration options\n",
        "num_classes = 3\n",
        "input_shape = (features.shape[1],)\n",
        "hidden_nodes = 8\n",
        "hidden_activation = 'relu'\n",
        "output_activation = 'softmax'\n",
        "loss_function = 'categorical_crossentropy'\n",
        "optimizer_used = 'rmsprop' ## or keras.optimizers.adam(lr=0.001)? maybe for softmax regression?"
      ],
      "execution_count": 33,
      "outputs": []
    },
    {
      "cell_type": "code",
      "metadata": {
        "id": "mSPBwa-FfdmB"
      },
      "source": [
        "# 3-class softmax regression in Keras\n",
        "model_multi = Sequential()\n",
        "model_multi.add(Dense(units=hidden_nodes, input_shape=input_shape, activation=hidden_activation))\n",
        "model_multi.add(Dense(num_classes, activation='softmax'))\n",
        "\n",
        "#compile the model specifying the new multiclass loss\n",
        "model_multi.compile(optimizer='rmsprop', loss=loss_function)"
      ],
      "execution_count": 34,
      "outputs": []
    },
    {
      "cell_type": "code",
      "metadata": {
        "id": "5ARQwD-DfgHj",
        "outputId": "d537b24d-5379-4e20-bf5f-05f5a11516e2",
        "colab": {
          "base_uri": "https://localhost:8080/",
          "height": 251
        }
      },
      "source": [
        "print(model_multi.summary())"
      ],
      "execution_count": 35,
      "outputs": [
        {
          "output_type": "stream",
          "text": [
            "Model: \"sequential_4\"\n",
            "_________________________________________________________________\n",
            "Layer (type)                 Output Shape              Param #   \n",
            "=================================================================\n",
            "dense_5 (Dense)              (None, 8)                 40        \n",
            "_________________________________________________________________\n",
            "dense_6 (Dense)              (None, 3)                 27        \n",
            "=================================================================\n",
            "Total params: 67\n",
            "Trainable params: 67\n",
            "Non-trainable params: 0\n",
            "_________________________________________________________________\n",
            "None\n"
          ],
          "name": "stdout"
        }
      ]
    },
    {
      "cell_type": "markdown",
      "metadata": {
        "id": "FJRXmm9YglNd"
      },
      "source": [
        "We see that we have 67 parameters to train: 5 parameters (w1 ... w4, b) times 8 nodes in the hidden layer; 9 parameters (8 units + b) times three nodes in the output layer.\n",
        "\n",
        "## Training and test sets\n",
        "\n",
        "We split the data in the training and test sets:"
      ]
    },
    {
      "cell_type": "code",
      "metadata": {
        "id": "u8yMNyp3gkNJ",
        "outputId": "0d9b2dd7-f4f5-4a71-ca91-c643da38f2d6",
        "colab": {
          "base_uri": "https://localhost:8080/",
          "height": 125
        }
      },
      "source": [
        "#building a StratifiedShuffleSplit object (sss among friends) with 20% data\n",
        "#assigned to validation set (here called \"test\")\n",
        "sss = StratifiedShuffleSplit(n_splits=1, test_size=0.2, random_state=0)\n",
        "\n",
        "#the .split() method returns (an iterable over) two lists which can be\n",
        "#used to index the samples that go into train and validation sets\n",
        "for train_index, val_index in sss.split(features, target_multi_cat):\n",
        "    features_train = features.iloc[train_index, :]\n",
        "    features_val   = features.iloc[val_index, :]\n",
        "    target_train   = target_multi_cat.iloc[train_index,:]\n",
        "    target_val     = target_multi_cat.iloc[val_index,:]\n",
        "    \n",
        "#let's print some shapes to get an idea of the resulting data structure\n",
        "print(\"Training features size: \", features_train.shape)\n",
        "print(\"Test features size: \", features_val.shape)\n",
        "print(\"Training targets size: \", target_train.shape)\n",
        "print(\"Test targets size: \", target_val.shape)\n",
        "\n",
        "print(\"Type of the training features object: \", type(features_train))\n",
        "print(\"Type of the training targets object: \", type(target_train))"
      ],
      "execution_count": 36,
      "outputs": [
        {
          "output_type": "stream",
          "text": [
            "Training features size:  (120, 4)\n",
            "Test features size:  (30, 4)\n",
            "Training targets size:  (120, 3)\n",
            "Test targets size:  (30, 3)\n",
            "Type of the training features object:  <class 'pandas.core.frame.DataFrame'>\n",
            "Type of the training targets object:  <class 'pandas.core.frame.DataFrame'>\n"
          ],
          "name": "stdout"
        }
      ]
    },
    {
      "cell_type": "code",
      "metadata": {
        "id": "rRG3rxbnhFPm",
        "outputId": "6e638f01-37eb-4a2e-ebb3-a694f3e2b114",
        "colab": {
          "base_uri": "https://localhost:8080/",
          "height": 233
        }
      },
      "source": [
        "#number of classes per split\n",
        "print('\\nClasses in train set:')\n",
        "print(target_train.sum())\n",
        "print('\\nClasses in validation set:')\n",
        "print(target_val.sum())"
      ],
      "execution_count": 37,
      "outputs": [
        {
          "output_type": "stream",
          "text": [
            "\n",
            "Classes in train set:\n",
            "0    40.0\n",
            "1    40.0\n",
            "2    40.0\n",
            "dtype: float32\n",
            "\n",
            "Classes in validation set:\n",
            "0    10.0\n",
            "1    10.0\n",
            "2    10.0\n",
            "dtype: float32\n"
          ],
          "name": "stdout"
        }
      ]
    },
    {
      "cell_type": "code",
      "metadata": {
        "id": "Vp4EALtwhfUL",
        "outputId": "0d3e8e04-c76b-4b11-d481-a193477a8cef",
        "colab": {
          "base_uri": "https://localhost:8080/",
          "height": 295
        }
      },
      "source": [
        "history_multi = model_multi.fit(features_train, target_train, epochs=100, \n",
        "                     validation_data=(features_val, target_val), verbose=0)\n",
        "\n",
        "plot_loss_history(history_multi, 'Softmax multiclass (10 epochs)')"
      ],
      "execution_count": 38,
      "outputs": [
        {
          "output_type": "display_data",
          "data": {
            "image/png": "[encoded data removed]",
            "text/plain": [
              "<Figure size 432x288 with 1 Axes>"
            ]
          },
          "metadata": {
            "tags": [],
            "needs_background": "light"
          }
        }
      ]
    },
    {
      "cell_type": "code",
      "metadata": {
        "id": "GZJG_vlRhlwa",
        "outputId": "8e5eda57-3f7a-4bde-ebcf-6bbc9948a14a",
        "colab": {
          "base_uri": "https://localhost:8080/",
          "height": 611
        }
      },
      "source": [
        "from sklearn.metrics import confusion_matrix\n",
        "\n",
        "predictions = model_multi.predict(features_val)\n",
        "print(predictions)\n",
        "\n",
        "predicted_classes = model_multi.predict_classes(features_val)\n",
        "target_classes = target.iloc[val_index,:].to_numpy()\n",
        "con_mat_df = confusion_matrix(target_classes, predicted_classes)\n",
        "print(con_mat_df)"
      ],
      "execution_count": 39,
      "outputs": [
        {
          "output_type": "stream",
          "text": [
            "[[0.09798066 0.19749956 0.70451975]\n",
            " [0.12986708 0.39093408 0.47919887]\n",
            " [0.10094113 0.21612138 0.68293756]\n",
            " [0.7733041  0.17651041 0.05018554]\n",
            " [0.12051649 0.34655407 0.5329295 ]\n",
            " [0.13026792 0.39836758 0.4713645 ]\n",
            " [0.783623   0.1597431  0.05663399]\n",
            " [0.12039737 0.327155   0.5524476 ]\n",
            " [0.09987248 0.25324827 0.6468792 ]\n",
            " [0.16831237 0.5336295  0.29805818]\n",
            " [0.8788872  0.1001339  0.02097888]\n",
            " [0.15130515 0.41697314 0.4317217 ]\n",
            " [0.13578601 0.5040137  0.36020023]\n",
            " [0.81942785 0.13968225 0.04088996]\n",
            " [0.14393756 0.51569235 0.34037   ]\n",
            " [0.7893121  0.15174778 0.05894003]\n",
            " [0.799078   0.15217811 0.04874391]\n",
            " [0.19278918 0.50169015 0.30552074]\n",
            " [0.167371   0.5176209  0.31500816]\n",
            " [0.12627071 0.3761552  0.49757412]\n",
            " [0.12038147 0.3857593  0.49385923]\n",
            " [0.85020816 0.10851213 0.04127968]\n",
            " [0.7499058  0.18488659 0.06520762]\n",
            " [0.7472353  0.18498375 0.06778093]\n",
            " [0.11196113 0.24122366 0.64681524]\n",
            " [0.13958736 0.49303332 0.3673793 ]\n",
            " [0.14575449 0.45958233 0.39466316]\n",
            " [0.8457239  0.11919979 0.03507623]\n",
            " [0.08952828 0.18138474 0.729087  ]\n",
            " [0.09469515 0.21266507 0.69263977]]\n",
            "[[10  0  0]\n",
            " [ 0  7  3]\n",
            " [ 0  0 10]]\n"
          ],
          "name": "stdout"
        }
      ]
    },
    {
      "cell_type": "code",
      "metadata": {
        "id": "Nl1XGbfHh4jS",
        "outputId": "6371ab5f-1938-43e2-8bf6-e08e9d820c46",
        "colab": {
          "base_uri": "https://localhost:8080/",
          "height": 599
        }
      },
      "source": [
        "import seaborn as sn\n",
        "\n",
        "figure = plt.figure(figsize=(8, 8))\n",
        "sn.heatmap(con_mat_df, annot=True,cmap=plt.cm.Blues)\n",
        "plt.tight_layout()\n",
        "plt.ylabel('True label')\n",
        "plt.xlabel('Predicted label')\n",
        "plt.show()"
      ],
      "execution_count": 40,
      "outputs": [
        {
          "output_type": "display_data",
          "data": {
            "image/png": "[encoded data removed]",
            "text/plain": [
              "<Figure size 576x576 with 2 Axes>"
            ]
          },
          "metadata": {
            "tags": [],
            "needs_background": "light"
          }
        }
      ]
    },
    {
      "cell_type": "code",
      "metadata": {
        "id": "5af7Zgdch8ED",
        "outputId": "d5606815-0dce-4de8-c2b2-e2e6cb9ae218",
        "colab": {
          "base_uri": "https://localhost:8080/",
          "height": 89
        }
      },
      "source": [
        "accuracy = accuracy_score(target_classes, predicted_classes)\n",
        "print(\"Overall accuracy is: \", accuracy)\n",
        "\n",
        "confusion_matrix(target_classes, predicted_classes, normalize='true')"
      ],
      "execution_count": 41,
      "outputs": [
        {
          "output_type": "stream",
          "text": [
            "Overall accuracy is:  0.9\n"
          ],
          "name": "stdout"
        },
        {
          "output_type": "execute_result",
          "data": {
            "text/plain": [
              "array([[1. , 0. , 0. ],\n",
              "       [0. , 0.7, 0.3],\n",
              "       [0. , 0. , 1. ]])"
            ]
          },
          "metadata": {
            "tags": []
          },
          "execution_count": 41
        }
      ]
    }
  ]
}