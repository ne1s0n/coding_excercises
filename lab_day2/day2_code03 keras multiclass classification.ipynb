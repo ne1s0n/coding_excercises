{
  "nbformat": 4,
  "nbformat_minor": 0,
  "metadata": {
    "colab": {
      "provenance": [],
      "collapsed_sections": []
    },
    "kernelspec": {
      "name": "python3",
      "display_name": "Python 3"
    }
  },
  "cells": [
    {
      "cell_type": "markdown",
      "metadata": {
        "id": "oYvC99Qgqt6L"
      },
      "source": [
        "\n",
        "\n",
        "# Multiclass classification using Softmax\n",
        "\n",
        "We now extend logistic regression to multiclas classification using [softmax](https://en.wikipedia.org/wiki/Softmax_function).\n",
        "\n",
        "The problem requires us to do three-classes classification using a Softmax function, which can be easily considered as an extension of logistic regression over three (or more) classes. We use the neural network-like implementation as with binary classification.\n",
        "\n",
        "Luckily, Keras provides a [softmax activation function](https://keras.io/api/layers/activations/#softmax-function), which we will use instead of the logistic we previously used.\n",
        "\n",
        "The structure of our network will be similar, but the output goes from a single number to **three** numbers, one per class, and we thus need three nodes:\n",
        "\n",
        "<img src=\"https://raw.githubusercontent.com/ne1s0n/coding_excercises/master/data/softmax_neuron.png\">\n",
        "\n",
        "As a result, the loss function will need to change. Remember, loss represents a measure of how good the predictions are. Previously we used binary_crossentropy, but since now predictions are multiclass we need to change function. Luckily Keras provides a natural extension for the multiclass case with [CategoricalCrossentropy](https://keras.io/api/losses/probabilistic_losses/#categoricalcrossentropy-class)\n"
      ]
    },
    {
      "cell_type": "markdown",
      "metadata": {
        "id": "mV7d3uTErn8z"
      },
      "source": [
        "## Categorical data\n",
        "\n",
        "As usual, we first import some necessary libraries and load the data: as we did with binary classification, we first take only two features from the dataset."
      ]
    },
    {
      "cell_type": "code",
      "metadata": {
        "id": "IPv0zhcYsMgV"
      },
      "source": [
        "## import libraries\n",
        "import numpy as np\n",
        "import tensorflow as tf\n",
        "import pandas as pd\n",
        "import sklearn.datasets\n",
        "import matplotlib.pyplot as plt"
      ],
      "execution_count": 1,
      "outputs": []
    },
    {
      "cell_type": "code",
      "metadata": {
        "id": "YROzh8LRrxpk"
      },
      "source": [
        "iris = sklearn.datasets.load_iris()\n",
        "iris.data = pd.DataFrame(iris.data, columns=iris.feature_names) #converting numpy array -> pandas DataFrame\n",
        "iris.target = pd.Series(iris.target) #converting numpy array -> pandas Series\n",
        "iris.target = iris.target.to_frame() #converting Pandas series to dataframe\n",
        "\n",
        "features = iris.data.iloc[:,0:2]\n",
        "target = iris.target\n",
        "\n",
        "feature_x = 0\n",
        "feature_y = 1"
      ],
      "execution_count": 2,
      "outputs": []
    },
    {
      "cell_type": "markdown",
      "metadata": {
        "id": "VxsFtmDp8yC3"
      },
      "source": [
        "We can re-plot the data to check their distribution in the two-feature space:"
      ]
    },
    {
      "cell_type": "code",
      "metadata": {
        "id": "bHepzfwF8oTx",
        "colab": {
          "base_uri": "https://localhost:8080/",
          "height": 282
        },
        "outputId": "8c3f244d-7d53-4f5d-ddc9-6f6826b04a69"
      },
      "source": [
        "#starting a new plot\n",
        "fig, ax = plt.subplots()\n",
        "\n",
        "#adding data in three bunches of 50, once per class\n",
        "ax.scatter(x=iris.data.iloc[0:50,feature_x],    y=iris.data.iloc[0:50,feature_y],    c='red',   label=iris.target_names[0])\n",
        "ax.scatter(x=iris.data.iloc[50:100,feature_x],  y=iris.data.iloc[50:100,feature_y],  c='green', label=iris.target_names[1])\n",
        "ax.scatter(x=iris.data.iloc[100:150,feature_x], y=iris.data.iloc[100:150,feature_y], c='blue',  label=iris.target_names[2])\n",
        "\n",
        "#the axis names are taken from feature names\n",
        "ax.set_xlabel(iris.feature_names[feature_x])\n",
        "ax.set_ylabel(iris.feature_names[feature_y])\n",
        "\n",
        "#adding the legend and printing the plot\n",
        "ax.legend()\n",
        "plt.show()"
      ],
      "execution_count": 3,
      "outputs": [
        {
          "output_type": "display_data",
          "data": {
            "text/plain": [
              "<Figure size 432x288 with 1 Axes>"
            ],
            "image/png": "[encoded data removed]"
          },
          "metadata": {
            "needs_background": "light"
          }
        }
      ]
    },
    {
      "cell_type": "markdown",
      "metadata": {
        "id": "UrkgfuYx9CwZ"
      },
      "source": [
        "We now check the dimensions of our input arrays (a sanity check which is important with neural networks and deep learning):"
      ]
    },
    {
      "cell_type": "code",
      "metadata": {
        "id": "KOCu4sUD8wRM",
        "colab": {
          "base_uri": "https://localhost:8080/"
        },
        "outputId": "af824e0c-64b1-4476-a510-18fca831f94c"
      },
      "source": [
        "print('Shape of the feature table: ' + str(features.shape))\n",
        "print('Shape of the target array: ' + str(target.shape))"
      ],
      "execution_count": 4,
      "outputs": [
        {
          "output_type": "stream",
          "name": "stdout",
          "text": [
            "Shape of the feature table: (150, 2)\n",
            "Shape of the target array: (150, 1)\n"
          ]
        }
      ]
    },
    {
      "cell_type": "markdown",
      "metadata": {
        "id": "1VX1jVMWsmwq"
      },
      "source": [
        "The problem is that our target array `iris.target` is a numeric array. But those numbers we used (0, 1, and 2) do not represent real values. In other words, \"virginica\" is not twice \"versicolor\". Numbers here are used as labels, not as quantities.\n",
        "\n",
        "In fact, to properly train a model the structure of the target array must change to [one-hot encoding](https://en.wikipedia.org/wiki/One-hot). In simple terms, it needs to become a table with one row per sample (150 in total) and one column per class (three in total). Something like:\n",
        "\n",
        "| Setosa | Versicolor | Virginica |\n",
        "|------|------|------|\n",
        "|   0  |   1  |   0  |\n",
        "|   1  |   0  |   0  |\n",
        "|   1  |   0  |   0  |\n",
        "|   0  |   0  |   1  |\n",
        "\n",
        "As you can see the first sample is Versicolor, the second and third are Setosa, the last one is Virginica. Note that there is only a single \"one\" per row.\n",
        "\n",
        "Luckily, it's easy to pass to one-hot encoding using keras function [to_categorical](https://keras.io/api/utils/python_utils/#to_categorical-function):\n"
      ]
    },
    {
      "cell_type": "code",
      "metadata": {
        "id": "fnoxh-5vs7_F",
        "colab": {
          "base_uri": "https://localhost:8080/"
        },
        "outputId": "df0254d9-2c5f-443a-c99d-72a2de335b39"
      },
      "source": [
        "#the \"utils\" subpackage is very useful, take a look to it when you have time\n",
        "from tensorflow.keras.utils import to_categorical\n",
        "\n",
        "#converting to categorical\n",
        "target_multi_cat = tf.keras.utils.to_categorical(target)\n",
        "\n",
        "#since everything else is a Pandas dataframe, let's stick to the format\n",
        "#for consistency\n",
        "target_multi_cat = pd.DataFrame(target_multi_cat)\n",
        "\n",
        "#let's take a look\n",
        "print(target_multi_cat)"
      ],
      "execution_count": 5,
      "outputs": [
        {
          "output_type": "stream",
          "name": "stdout",
          "text": [
            "       0    1    2\n",
            "0    1.0  0.0  0.0\n",
            "1    1.0  0.0  0.0\n",
            "2    1.0  0.0  0.0\n",
            "3    1.0  0.0  0.0\n",
            "4    1.0  0.0  0.0\n",
            "..   ...  ...  ...\n",
            "145  0.0  0.0  1.0\n",
            "146  0.0  0.0  1.0\n",
            "147  0.0  0.0  1.0\n",
            "148  0.0  0.0  1.0\n",
            "149  0.0  0.0  1.0\n",
            "\n",
            "[150 rows x 3 columns]\n"
          ]
        }
      ]
    },
    {
      "cell_type": "markdown",
      "metadata": {
        "id": "ITSVqAr7tQyF"
      },
      "source": [
        "## Training and validation sets\n",
        "\n",
        "We are now ready to create our training and validation sets, as done above:"
      ]
    },
    {
      "cell_type": "code",
      "metadata": {
        "id": "9u_Io-6ftVUc"
      },
      "source": [
        "#we want to have the same proportion of classes in both train and validation sets\n",
        "from sklearn.model_selection import StratifiedShuffleSplit\n",
        "\n",
        "test_pct = 0.2\n",
        "\n",
        "#building a StratifiedShuffleSplit object (sss among friends) with 20% data\n",
        "#assigned to validation set (here called \"test\")\n",
        "#random_state is used to control class balance between training and test sets (None to switch to random behavior)\n",
        "sss = StratifiedShuffleSplit(n_splits=1, test_size= test_pct, random_state=0)\n",
        "\n",
        "for train_index, val_index in sss.split(features, target_multi_cat):\n",
        "    features_train = features.iloc[train_index, :]\n",
        "    features_val   = features.iloc[val_index, :]\n",
        "    target_train   = target_multi_cat.iloc[train_index, :]\n",
        "    target_val     = target_multi_cat.iloc[val_index, :]"
      ],
      "execution_count": 6,
      "outputs": []
    },
    {
      "cell_type": "markdown",
      "metadata": {
        "id": "a7FWwIxGt1a1"
      },
      "source": [
        "Just a little check:"
      ]
    },
    {
      "cell_type": "code",
      "metadata": {
        "id": "tWYIPsoDt3cv",
        "colab": {
          "base_uri": "https://localhost:8080/"
        },
        "outputId": "f7a2e0cd-3d51-4deb-d983-45ab590c7395"
      },
      "source": [
        "#shapes\n",
        "print(features_train.shape)\n",
        "print(features_val.shape)\n",
        "print(target_train.shape)\n",
        "print(target_val.shape)\n",
        "\n",
        "#number of classes per split\n",
        "print('\\nClasses in train set:')\n",
        "print(target_train.sum())\n",
        "print('\\nClasses in validation set:')\n",
        "print(target_val.sum())"
      ],
      "execution_count": 7,
      "outputs": [
        {
          "output_type": "stream",
          "name": "stdout",
          "text": [
            "(120, 2)\n",
            "(30, 2)\n",
            "(120, 3)\n",
            "(30, 3)\n",
            "\n",
            "Classes in train set:\n",
            "0    40.0\n",
            "1    40.0\n",
            "2    40.0\n",
            "dtype: float32\n",
            "\n",
            "Classes in validation set:\n",
            "0    10.0\n",
            "1    10.0\n",
            "2    10.0\n",
            "dtype: float32\n"
          ]
        }
      ]
    },
    {
      "cell_type": "markdown",
      "metadata": {
        "id": "5EQXmDHjuJ_C"
      },
      "source": [
        "We have now a balanced dataset, with 40 instances for each class in the training set and 10 in the validation set."
      ]
    },
    {
      "cell_type": "markdown",
      "metadata": {
        "id": "MMYSgINdNGHI"
      },
      "source": [
        "## Set up\n",
        "\n",
        "We define here the hyperparameters of the model"
      ]
    },
    {
      "cell_type": "code",
      "metadata": {
        "id": "B88ql-inMRxE"
      },
      "source": [
        "num_classes = 3\n",
        "input_shape = features_train.shape[1]\n",
        "activation_function = 'softmax'\n",
        "optimising_method = 'rmsprop'\n",
        "loss_function = 'categorical_crossentropy'\n",
        "num_epochs = 200"
      ],
      "execution_count": 8,
      "outputs": []
    },
    {
      "cell_type": "markdown",
      "metadata": {
        "id": "kVZZ1dFarX10"
      },
      "source": [
        "## A multiclass model\n",
        "\n",
        "We are now ready to declare our multiclass classification model: we use `Keras`, but this is equivalent to multiclass logistic regression (only with neural networks-like representation). The output layer has three units, corresponding to the three classes:"
      ]
    },
    {
      "cell_type": "code",
      "metadata": {
        "id": "fic85viHqtVB"
      },
      "source": [
        "from keras.models import Sequential\n",
        "from keras.layers import Dense\n",
        "\n",
        "# 3-class softmax regression in Keras\n",
        "model_multi = Sequential()\n",
        "model_multi.add(Dense(units = num_classes, activation=activation_function, input_dim=input_shape))\n",
        "\n",
        "#compile the model specifying the new multiclass loss\n",
        "model_multi.compile(optimizer=optimising_method, loss=loss_function)"
      ],
      "execution_count": 9,
      "outputs": []
    },
    {
      "cell_type": "markdown",
      "metadata": {
        "id": "qVDzz9Hnrh8W"
      },
      "source": [
        "Let's take a look under the hood:"
      ]
    },
    {
      "cell_type": "code",
      "metadata": {
        "id": "VcP7R4JrrbKr",
        "colab": {
          "base_uri": "https://localhost:8080/"
        },
        "outputId": "a2a9dd2d-baee-40e2-f74b-fd23f63fee0a"
      },
      "source": [
        "print(model_multi.summary())"
      ],
      "execution_count": null,
      "outputs": [
        {
          "output_type": "stream",
          "name": "stdout",
          "text": [
            "Model: \"sequential\"\n",
            "_________________________________________________________________\n",
            "Layer (type)                 Output Shape              Param #   \n",
            "=================================================================\n",
            "dense (Dense)                (None, 3)                 9         \n",
            "=================================================================\n",
            "Total params: 9\n",
            "Trainable params: 9\n",
            "Non-trainable params: 0\n",
            "_________________________________________________________________\n",
            "None\n"
          ]
        }
      ]
    },
    {
      "cell_type": "markdown",
      "metadata": {
        "id": "GX2raO_-rl3F"
      },
      "source": [
        "We now have to train 9 parameters: 3 coefficients (W1, W2 B) times three nodes."
      ]
    },
    {
      "cell_type": "markdown",
      "metadata": {
        "id": "XT912ksQuUxf"
      },
      "source": [
        "## Fitting the model \n",
        "\n",
        "We are ready to fit the model. This time we go directly to 500 epochs, trained in silent mode. We then plot the loss function evolution."
      ]
    },
    {
      "cell_type": "code",
      "metadata": {
        "id": "DvtbANHaulJl"
      },
      "source": [
        "history_multi = model_multi.fit(features_train, target_train, epochs=num_epochs, validation_data=(features_val, target_val), verbose=0)"
      ],
      "execution_count": 10,
      "outputs": []
    },
    {
      "cell_type": "code",
      "metadata": {
        "id": "OUiWK0hxvX3V",
        "colab": {
          "base_uri": "https://localhost:8080/",
          "height": 295
        },
        "outputId": "34db667e-fb47-402b-d18e-1708782a5ed5"
      },
      "source": [
        "#function to take a look at losses evolution\n",
        "def plot_loss_history(h, title):\n",
        "    plt.plot(h.history['loss'], label = \"Train loss\")\n",
        "    plt.plot(h.history['val_loss'], label = \"Validation loss\")\n",
        "    plt.xlabel('Epochs')\n",
        "    plt.title(title)\n",
        "    plt.legend()\n",
        "    plt.show()\n",
        "\n",
        "plot_loss_history(history_multi, 'Softmax multiclass ({} epochs)'.format(num_epochs))"
      ],
      "execution_count": 11,
      "outputs": [
        {
          "output_type": "display_data",
          "data": {
            "text/plain": [
              "<Figure size 432x288 with 1 Axes>"
            ],
            "image/png": "[encoded data removed]"
          },
          "metadata": {
            "needs_background": "light"
          }
        }
      ]
    },
    {
      "cell_type": "markdown",
      "metadata": {
        "id": "hH_hiUKttHqo"
      },
      "source": [
        "This looks promising. There's the clear same pattern we saw with logistic regression, with a strong improvement in the first hundred epochs (and then things become slow...)"
      ]
    },
    {
      "cell_type": "markdown",
      "metadata": {
        "id": "WwJcq2WytQcH"
      },
      "source": [
        "## Decision boundary\n",
        "\n",
        "We want now to plot again the decision boundary. Unfortunately `plot_decision_regions` function from [mlxtend](http://rasbt.github.io/mlxtend/) module does not support one-hot encoded multiclasses natively. Luckily [there's a quick workaround](https://www.machinecurve.com/index.php/2019/10/17/how-to-use-categorical-multiclass-hinge-with-keras/#visualizing-the-decision-boundary), but if you get lost in the code don't worry and just look at the plot :) "
      ]
    },
    {
      "cell_type": "code",
      "metadata": {
        "id": "ySRsRvoktXdc",
        "colab": {
          "base_uri": "https://localhost:8080/",
          "height": 330
        },
        "outputId": "8641cceb-a0e1-4c00-9f3c-931bb1ac27e1"
      },
      "source": [
        "#we define a class to take the Keras model and convert its predictions\n",
        "#from \"one probability per iris type\" to \"just the iris type with the highest probability\"\n",
        "class Onehot2Int(object):\n",
        "    def __init__(self, model):\n",
        "        self.model = model\n",
        "\n",
        "    def predict(self, X):\n",
        "        y_pred = self.model.predict(X)\n",
        "        return np.argmax(y_pred, axis=1)\n",
        "\n",
        "#we wrap our trained model, instantiating a new object\n",
        "keras_model_no_ohe = Onehot2Int(model_multi)\n",
        "\n",
        "#and we can now plot the decision boundary safely (we still need to convert\n",
        "#the target one-hot-encoded matrix to int, though)\n",
        "from mlxtend.plotting import plot_decision_regions\n",
        "\n",
        "plot_decision_regions(features_train.to_numpy(), np.argmax(target_train.to_numpy(), axis=1), \n",
        "                      clf=keras_model_no_ohe)\n",
        "plt.title('Decision boundary for 0 (setosa) vs 1 (versicolor) vs 2 (virginica)')\n",
        "plt.xlabel(iris.feature_names[feature_x])\n",
        "plt.ylabel(iris.feature_names[feature_y])\n",
        "plt.show()"
      ],
      "execution_count": 12,
      "outputs": [
        {
          "output_type": "stream",
          "name": "stderr",
          "text": [
            "/usr/local/lib/python3.7/dist-packages/mlxtend/plotting/decision_regions.py:244: MatplotlibDeprecationWarning: Passing unsupported keyword arguments to axis() will raise a TypeError in 3.3.\n",
            "  ax.axis(xmin=xx.min(), xmax=xx.max(), y_min=yy.min(), y_max=yy.max())\n"
          ]
        },
        {
          "output_type": "display_data",
          "data": {
            "text/plain": [
              "<Figure size 432x288 with 1 Axes>"
            ],
            "image/png": "[encoded data removed]"
          },
          "metadata": {
            "needs_background": "light"
          }
        }
      ]
    },
    {
      "cell_type": "markdown",
      "metadata": {
        "id": "BOZHtkJ3vid2"
      },
      "source": [
        "### Predictions\n",
        "\n",
        "We now look at predictions in the **test set**: each test sample is assigned to the class with the highest probability.\n",
        "\n",
        "Predicted classes are then compared to true classes in a confusion matrix"
      ]
    },
    {
      "cell_type": "code",
      "metadata": {
        "id": "Eh5rmApBvkxQ",
        "colab": {
          "base_uri": "https://localhost:8080/"
        },
        "outputId": "f977a854-25c8-4201-f2d1-3b4802fd63d4"
      },
      "source": [
        "from sklearn.metrics import confusion_matrix\n",
        "\n",
        "predictions = model_multi.predict(features_val)\n",
        "print(predictions)\n",
        "\n",
        "predicted_classes = np.argmax(predictions,axis=1)\n",
        "predicted_classes = predicted_classes.reshape(len(predicted_classes),1)\n",
        "\n",
        "target_classes = target.iloc[val_index].to_numpy()\n",
        "\n",
        "con_mat_df = confusion_matrix(target_classes, predicted_classes, labels = [0,1,2])\n",
        "print(\"\\nConfusion matrix:\")\n",
        "print(con_mat_df)"
      ],
      "execution_count": 13,
      "outputs": [
        {
          "output_type": "stream",
          "name": "stdout",
          "text": [
            "[[0.3324735  0.3219246  0.34560192]\n",
            " [0.3051299  0.3298627  0.3650074 ]\n",
            " [0.3238527  0.35030138 0.32584584]\n",
            " [0.32297096 0.26966068 0.40736833]\n",
            " [0.31090692 0.37564102 0.313452  ]\n",
            " [0.29629    0.33228898 0.37142104]\n",
            " [0.32787612 0.24962668 0.4224972 ]\n",
            " [0.30944642 0.3602716  0.33028197]\n",
            " [0.30590105 0.35610354 0.3379954 ]\n",
            " [0.28638434 0.3457383  0.3678774 ]\n",
            " [0.34151345 0.27492225 0.38356426]\n",
            " [0.31581497 0.31135616 0.37282884]\n",
            " [0.29877666 0.37444717 0.32677618]\n",
            " [0.33729795 0.2616482  0.40105388]\n",
            " [0.29940248 0.34208015 0.35851744]\n",
            " [0.3277075  0.24044666 0.43184587]\n",
            " [0.31837735 0.24685927 0.43476343]\n",
            " [0.3129497  0.3643915  0.32265878]\n",
            " [0.31534946 0.37407568 0.31057495]\n",
            " [0.28496858 0.38440666 0.33062476]\n",
            " [0.27248213 0.3883807  0.33913714]\n",
            " [0.35201216 0.24449089 0.40349695]\n",
            " [0.3231715  0.25527832 0.42155015]\n",
            " [0.32789266 0.2542947  0.41781268]\n",
            " [0.30571923 0.32444927 0.36983144]\n",
            " [0.3129497  0.3643915  0.32265878]\n",
            " [0.3051299  0.3298627  0.3650074 ]\n",
            " [0.34220186 0.25585076 0.40194747]\n",
            " [0.32713267 0.32864013 0.34422716]\n",
            " [0.33564126 0.35652745 0.30783135]]\n",
            "\n",
            "Confusion matrix:\n",
            "[[ 0  0 10]\n",
            " [ 0  4  6]\n",
            " [ 0  7  3]]\n"
          ]
        }
      ]
    },
    {
      "cell_type": "code",
      "metadata": {
        "id": "2O6Qmf3L7y6a",
        "colab": {
          "base_uri": "https://localhost:8080/",
          "height": 599
        },
        "outputId": "bc1b90c6-05c2-4a6c-c7a5-057730a3c744"
      },
      "source": [
        "import seaborn as sn\n",
        "\n",
        "figure = plt.figure(figsize=(8, 8))\n",
        "sn.heatmap(con_mat_df, annot=True,cmap=plt.cm.Blues)\n",
        "plt.tight_layout()\n",
        "plt.ylabel('True label')\n",
        "plt.xlabel('Predicted label')\n",
        "plt.show()"
      ],
      "execution_count": 14,
      "outputs": [
        {
          "output_type": "display_data",
          "data": {
            "text/plain": [
              "<Figure size 576x576 with 2 Axes>"
            ],
            "image/png": "[encoded data removed]"
          },
          "metadata": {
            "needs_background": "light"
          }
        }
      ]
    },
    {
      "cell_type": "code",
      "metadata": {
        "id": "_yn965L876q-",
        "colab": {
          "base_uri": "https://localhost:8080/"
        },
        "outputId": "89d51bb0-872b-4723-f2a2-0944cf225362"
      },
      "source": [
        "from sklearn.metrics import accuracy_score\n",
        "accuracy = accuracy_score(target_classes, predicted_classes)\n",
        "print(\"Overall accuracy is: \", accuracy)\n",
        "\n",
        "confusion_matrix(target_classes, predicted_classes, normalize='true', labels=[0,1,2])"
      ],
      "execution_count": 15,
      "outputs": [
        {
          "output_type": "stream",
          "name": "stdout",
          "text": [
            "Overall accuracy is:  0.23333333333333334\n"
          ]
        },
        {
          "output_type": "execute_result",
          "data": {
            "text/plain": [
              "array([[0. , 0. , 1. ],\n",
              "       [0. , 0.4, 0.6],\n",
              "       [0. , 0.7, 0.3]])"
            ]
          },
          "metadata": {},
          "execution_count": 15
        }
      ]
    },
    {
      "cell_type": "markdown",
      "metadata": {
        "id": "95rhqPISbszq"
      },
      "source": [
        "# Shallow neural networks for softmax regression\n",
        "\n",
        "We now move on from multinomial logistic regression to softmax regression with neural networks: again, we start by implementing a shallow neural netowrk model.\n",
        "\n",
        "First, we select all four features from the dataset and configure some basic parameters:"
      ]
    },
    {
      "cell_type": "code",
      "metadata": {
        "id": "dTXwA5oBflKf"
      },
      "source": [
        "## select all 4 features\n",
        "features = iris.data.iloc[:,:]"
      ],
      "execution_count": 16,
      "outputs": []
    },
    {
      "cell_type": "code",
      "metadata": {
        "id": "3dKMvwggcGe0"
      },
      "source": [
        "## # Configuration options\n",
        "num_classes = 3\n",
        "input_shape = (features.shape[1],)\n",
        "hidden_nodes = 8\n",
        "hidden_activation = 'relu'\n",
        "output_activation = 'softmax'\n",
        "loss_function = 'categorical_crossentropy'\n",
        "optimizer_used = 'rmsprop' ## or keras.optimizers.adam(lr=0.001)? maybe for softmax regression?"
      ],
      "execution_count": 17,
      "outputs": []
    },
    {
      "cell_type": "code",
      "metadata": {
        "id": "mSPBwa-FfdmB"
      },
      "source": [
        "# 3-class softmax regression in Keras\n",
        "model_multi = Sequential()\n",
        "model_multi.add(Dense(units=hidden_nodes, input_shape=input_shape, activation=hidden_activation))\n",
        "model_multi.add(Dense(num_classes, activation='softmax'))\n",
        "\n",
        "#compile the model specifying the new multiclass loss\n",
        "model_multi.compile(optimizer='rmsprop', loss=loss_function)"
      ],
      "execution_count": 18,
      "outputs": []
    },
    {
      "cell_type": "code",
      "metadata": {
        "id": "5ARQwD-DfgHj",
        "colab": {
          "base_uri": "https://localhost:8080/"
        },
        "outputId": "0b458e05-1961-4025-e5e9-2ebaf9192b7d"
      },
      "source": [
        "print(model_multi.summary())"
      ],
      "execution_count": 19,
      "outputs": [
        {
          "output_type": "stream",
          "name": "stdout",
          "text": [
            "Model: \"sequential_1\"\n",
            "_________________________________________________________________\n",
            " Layer (type)                Output Shape              Param #   \n",
            "=================================================================\n",
            " dense_1 (Dense)             (None, 8)                 40        \n",
            "                                                                 \n",
            " dense_2 (Dense)             (None, 3)                 27        \n",
            "                                                                 \n",
            "=================================================================\n",
            "Total params: 67\n",
            "Trainable params: 67\n",
            "Non-trainable params: 0\n",
            "_________________________________________________________________\n",
            "None\n"
          ]
        }
      ]
    },
    {
      "cell_type": "markdown",
      "metadata": {
        "id": "FJRXmm9YglNd"
      },
      "source": [
        "We see that we have 67 parameters to train: 5 parameters (w1 ... w4, b) times 8 nodes in the hidden layer; 9 parameters (8 units + b) times three nodes in the output layer.\n",
        "\n",
        "## Training and test sets\n",
        "\n",
        "We split the data in the training and test sets:"
      ]
    },
    {
      "cell_type": "code",
      "metadata": {
        "id": "u8yMNyp3gkNJ",
        "colab": {
          "base_uri": "https://localhost:8080/"
        },
        "outputId": "799811ae-fe11-437c-8636-8d48bfdaf3d4"
      },
      "source": [
        "#building a StratifiedShuffleSplit object (sss among friends) with 20% data\n",
        "#assigned to validation set (here called \"test\")\n",
        "sss = StratifiedShuffleSplit(n_splits=1, test_size=0.2, random_state=0)\n",
        "\n",
        "#the .split() method returns (an iterable over) two lists which can be\n",
        "#used to index the samples that go into train and validation sets\n",
        "for train_index, val_index in sss.split(features, target_multi_cat):\n",
        "    features_train = features.iloc[train_index, :]\n",
        "    features_val   = features.iloc[val_index, :]\n",
        "    target_train   = target_multi_cat.iloc[train_index,:]\n",
        "    target_val     = target_multi_cat.iloc[val_index,:]\n",
        "    \n",
        "#let's print some shapes to get an idea of the resulting data structure\n",
        "print(\"Training features size: \", features_train.shape)\n",
        "print(\"Test features size: \", features_val.shape)\n",
        "print(\"Training targets size: \", target_train.shape)\n",
        "print(\"Test targets size: \", target_val.shape)\n",
        "\n",
        "print(\"Type of the training features object: \", type(features_train))\n",
        "print(\"Type of the training targets object: \", type(target_train))"
      ],
      "execution_count": 20,
      "outputs": [
        {
          "output_type": "stream",
          "name": "stdout",
          "text": [
            "Training features size:  (120, 4)\n",
            "Test features size:  (30, 4)\n",
            "Training targets size:  (120, 3)\n",
            "Test targets size:  (30, 3)\n",
            "Type of the training features object:  <class 'pandas.core.frame.DataFrame'>\n",
            "Type of the training targets object:  <class 'pandas.core.frame.DataFrame'>\n"
          ]
        }
      ]
    },
    {
      "cell_type": "code",
      "metadata": {
        "id": "rRG3rxbnhFPm",
        "colab": {
          "base_uri": "https://localhost:8080/"
        },
        "outputId": "dc83881b-5571-41ba-a1f8-8e60b6ae9eab"
      },
      "source": [
        "#number of classes per split\n",
        "print('\\nClasses in train set:')\n",
        "print(target_train.sum())\n",
        "print('\\nClasses in validation set:')\n",
        "print(target_val.sum())"
      ],
      "execution_count": 21,
      "outputs": [
        {
          "output_type": "stream",
          "name": "stdout",
          "text": [
            "\n",
            "Classes in train set:\n",
            "0    40.0\n",
            "1    40.0\n",
            "2    40.0\n",
            "dtype: float32\n",
            "\n",
            "Classes in validation set:\n",
            "0    10.0\n",
            "1    10.0\n",
            "2    10.0\n",
            "dtype: float32\n"
          ]
        }
      ]
    },
    {
      "cell_type": "code",
      "metadata": {
        "id": "Vp4EALtwhfUL",
        "colab": {
          "base_uri": "https://localhost:8080/",
          "height": 295
        },
        "outputId": "1fc71442-b959-41d8-8adb-42276559e7f8"
      },
      "source": [
        "history_multi = model_multi.fit(features_train, target_train, epochs=100, \n",
        "                     validation_data=(features_val, target_val), verbose=0)\n",
        "\n",
        "plot_loss_history(history_multi, 'Softmax multiclass (100 epochs)')"
      ],
      "execution_count": 22,
      "outputs": [
        {
          "output_type": "display_data",
          "data": {
            "text/plain": [
              "<Figure size 432x288 with 1 Axes>"
            ],
            "image/png": "[encoded data removed]"
          },
          "metadata": {
            "needs_background": "light"
          }
        }
      ]
    },
    {
      "cell_type": "code",
      "metadata": {
        "id": "GZJG_vlRhlwa",
        "colab": {
          "base_uri": "https://localhost:8080/"
        },
        "outputId": "6d4cfb2a-b5b6-4fa8-d543-0a6064737153"
      },
      "source": [
        "from sklearn.metrics import confusion_matrix\n",
        "\n",
        "predictions = model_multi.predict(features_val)\n",
        "print(predictions)\n",
        "\n",
        "predicted_classes = np.argmax(predictions,axis=1)\n",
        "target_classes = target.iloc[val_index,:].to_numpy()\n",
        "con_mat_df = confusion_matrix(target_classes, predicted_classes, labels=[0,1,2])\n",
        "print(con_mat_df)"
      ],
      "execution_count": 23,
      "outputs": [
        {
          "output_type": "stream",
          "name": "stdout",
          "text": [
            "[[0.00206749 0.28310928 0.71482325]\n",
            " [0.01914194 0.4782181  0.50264   ]\n",
            " [0.00173091 0.30022436 0.6980447 ]\n",
            " [0.9386885  0.05091564 0.01039579]\n",
            " [0.00359534 0.39817044 0.5982342 ]\n",
            " [0.01979247 0.48400503 0.4962025 ]\n",
            " [0.9404035  0.04936932 0.01022723]\n",
            " [0.00433744 0.3941555  0.601507  ]\n",
            " [0.00275479 0.3488831  0.64836216]\n",
            " [0.0840643  0.57019055 0.34574515]\n",
            " [0.9774613  0.01962254 0.00291619]\n",
            " [0.04377421 0.50743806 0.44878778]\n",
            " [0.02335361 0.53308755 0.4435588 ]\n",
            " [0.9556084  0.03747245 0.00691913]\n",
            " [0.06113082 0.55941814 0.37945104]\n",
            " [0.94116145 0.04859554 0.010243  ]\n",
            " [0.95517296 0.03732152 0.0075056 ]\n",
            " [0.05473539 0.5717633  0.37350124]\n",
            " [0.04184435 0.5707572  0.38739842]\n",
            " [0.00442823 0.41905254 0.5765192 ]\n",
            " [0.0049948  0.43674833 0.55825686]\n",
            " [0.9518584  0.04077796 0.00736367]\n",
            " [0.925725   0.06089296 0.01338197]\n",
            " [0.9225243  0.06341112 0.01406457]\n",
            " [0.00462101 0.344912   0.650467  ]\n",
            " [0.02740752 0.5347949  0.43779758]\n",
            " [0.04172192 0.5236485  0.43462956]\n",
            " [0.9645403  0.03020122 0.00525843]\n",
            " [0.0010156  0.23646735 0.762517  ]\n",
            " [0.00136122 0.29630566 0.70233315]]\n",
            "[[10  0  0]\n",
            " [ 0  8  2]\n",
            " [ 0  0 10]]\n"
          ]
        }
      ]
    },
    {
      "cell_type": "code",
      "metadata": {
        "id": "Nl1XGbfHh4jS",
        "colab": {
          "base_uri": "https://localhost:8080/",
          "height": 599
        },
        "outputId": "c555a13f-e201-46cd-ccff-6a9dd29c50c6"
      },
      "source": [
        "import seaborn as sn\n",
        "\n",
        "figure = plt.figure(figsize=(8, 8))\n",
        "sn.heatmap(con_mat_df, annot=True,cmap=plt.cm.Blues)\n",
        "plt.tight_layout()\n",
        "plt.ylabel('True label')\n",
        "plt.xlabel('Predicted label')\n",
        "plt.show()"
      ],
      "execution_count": 24,
      "outputs": [
        {
          "output_type": "display_data",
          "data": {
            "text/plain": [
              "<Figure size 576x576 with 2 Axes>"
            ],
            "image/png": "[encoded data removed]"
          },
          "metadata": {
            "needs_background": "light"
          }
        }
      ]
    },
    {
      "cell_type": "code",
      "metadata": {
        "id": "5af7Zgdch8ED",
        "colab": {
          "base_uri": "https://localhost:8080/"
        },
        "outputId": "21a90df5-4866-4a8d-df42-94b2aa84b5ed"
      },
      "source": [
        "accuracy = accuracy_score(target_classes, predicted_classes)\n",
        "print(\"Overall accuracy is: \", accuracy)\n",
        "\n",
        "confusion_matrix(target_classes, predicted_classes, normalize='true', labels=[0,1,2])"
      ],
      "execution_count": 25,
      "outputs": [
        {
          "output_type": "stream",
          "name": "stdout",
          "text": [
            "Overall accuracy is:  0.9333333333333333\n"
          ]
        },
        {
          "output_type": "execute_result",
          "data": {
            "text/plain": [
              "array([[1. , 0. , 0. ],\n",
              "       [0. , 0.8, 0.2],\n",
              "       [0. , 0. , 1. ]])"
            ]
          },
          "metadata": {},
          "execution_count": 25
        }
      ]
    },
    {
      "cell_type": "markdown",
      "source": [
        "## Cohen's k (snippet)\n",
        "\n",
        "We briefly introduce one additional metric to evaluate multiclass classification models\n",
        "\n",
        "For multiclass classification problems we can also use other metrics to measure performance, like for instance `Cohen's kappa` (or `k`) (more info <a href='https://en.wikipedia.org/wiki/Cohen%27s_kappa'>here</a>)"
      ],
      "metadata": {
        "id": "4XpoVUv341RN"
      }
    },
    {
      "cell_type": "code",
      "source": [
        "from sklearn.metrics import cohen_kappa_score\n",
        "\n",
        "## training set\n",
        "y_hat_training = model.predict(X_train)\n",
        "y_class_training = y_hat_training.argmax(axis=1)\n",
        "y_true_training = y_train.argmax(axis=1)\n",
        "print(len(y_class_training))\n",
        "k_train = cohen_kappa_score(y_class_training,y_true_training)\n",
        "print(\"Cohen kappa in the training set is: \", k_train)\n",
        "\n",
        "## test set\n",
        "k_test = cohen_kappa_score(predicted_classes,true_classes)\n",
        "print(\"Cohen kappa in the test set is: \", k_test)"
      ],
      "metadata": {
        "id": "xNBseyzX4-PL"
      },
      "execution_count": null,
      "outputs": []
    }
  ]
}